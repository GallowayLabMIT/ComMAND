{
 "cells": [
  {
   "cell_type": "code",
   "execution_count": null,
   "metadata": {},
   "outputs": [],
   "source": [
    "using Catalyst, DifferentialEquations, Distributions, CairoMakie\n",
    "using DataFrames\n",
    "using DelimitedFiles"
   ]
  },
  {
   "cell_type": "code",
   "execution_count": null,
   "metadata": {},
   "outputs": [],
   "source": [
    "CN_distribution_low = truncated(Poisson(0.3), lower=1.0)\n",
    "\n",
    "support = range(0,5)\n",
    "plot(support, pdf.(CN_distribution_low, support); axis=(; title=\"Copy number distribution, MOI=0.3\", xlabel=\"CN\", ylabel=\"P[CN]\"))"
   ]
  },
  {
   "cell_type": "code",
   "execution_count": null,
   "metadata": {},
   "outputs": [],
   "source": [
    "CN_distribution_med = truncated(Poisson(3), lower=1.0)\n",
    "\n",
    "support = range(0,10)\n",
    "plot(support, pdf.(CN_distribution_med, support); axis=(; title=\"Copy number distribution, MOI=3\", xlabel=\"CN\", ylabel=\"P[CN]\"))"
   ]
  },
  {
   "cell_type": "code",
   "execution_count": null,
   "metadata": {},
   "outputs": [],
   "source": [
    "CN_distribution_high = truncated(Poisson(10), lower=1.0)\n",
    "\n",
    "support = range(0,20)\n",
    "plot(support, pdf.(CN_distribution_high, support); axis=(; title=\"Copy number distribution, MOI=10\", xlabel=\"CN\", ylabel=\"P[CN]\"))"
   ]
  },
  {
   "cell_type": "markdown",
   "metadata": {},
   "source": [
    "## Single transcript"
   ]
  },
  {
   "cell_type": "code",
   "execution_count": null,
   "metadata": {},
   "outputs": [],
   "source": [
    "single_iFFL_rn = @reaction_network single_transcript_iFFL begin\n",
    "    @parameters begin\n",
    "        α_im=4.67e-2 #Transcription rate constant [1/s]\n",
    "        δ_im=2.88e-4 #Immature mRNA degradation rate constant [1/s]\n",
    "        δ_m=2.88e-4 #Mature mRNA degradation rate constant [1/s]\n",
    "        δ_mi=2.88e-4 #miRNA degradation rate constant [1/s]\n",
    "        δ_p=9.67e-5 #Protein degradation rate constant [1/s] \n",
    "        α_p=3.33e-4 #Translation rate constant [1/s]\n",
    "        ζ=0.0 #Translation efficiency for RISC complex [unitless], Range: 0 to 1\n",
    "        r_splicing=2.0e-3 #Splicing rate constant [1/s]\n",
    "        r_drosha=1e-2 #pri-miRNA processing rate constant [1/s] \n",
    "        r_dicer=1e-3 #pre-miRNA processing rate constant [1/s]\n",
    "        k_miRNA_bind=1e-5 #miRNA-RISC binding rate constant [1/mol*s]\n",
    "        k_miRNA_deg=2.16e-5 #miRNA-RISC unbinding rate constant [1/s]\n",
    "        k_mRNA_bind=1.84e-6 #RISC complex formation rate constant[1/mol*s]\n",
    "        k_mRNA_unbind=0.303 #RISC complex deformation rate constant [1/s]\n",
    "        k_deg=7e-3 #RISC-mediated mRNA degradation rate constant [1/s]\n",
    "    end\n",
    "    \n",
    "    # Transcription\n",
    "    α_im, gene --> immature_mRNA + gene #Set copy number as the initial number of \"gene\"\n",
    "    α_im, gene --> ctl_mRNA + gene\n",
    "    # Degradation of products\n",
    "    δ_im, immature_mRNA --> ∅\n",
    "    δ_m, mRNA --> ∅\n",
    "    δ_m, ctl_mRNA --> ∅\n",
    "    δ_mi, miRNA --> ∅\n",
    "    δ_p, protein --> ∅\n",
    "    δ_p, ctl_protein --> ∅\n",
    "    # Production of protein\n",
    "    α_p, mRNA --> protein + mRNA\n",
    "    α_p, ctl_mRNA --> ctl_protein + ctl_mRNA\n",
    "    α_p * ζ, risc_miRNA_mRNA --> protein + risc_miRNA_mRNA\n",
    "    # Splicing\n",
    "    r_splicing, immature_mRNA --> mRNA + pri_miRNA\n",
    "    # miRNA processing\n",
    "    r_drosha, pri_miRNA --> pre_miRNA # drosha\n",
    "    r_dicer, pre_miRNA --> miRNA # dicer\n",
    "    # Knockdown\n",
    "    k_miRNA_bind, risc + miRNA --> risc_miRNA\n",
    "    k_miRNA_deg, risc_miRNA --> risc\n",
    "    (k_mRNA_bind, k_mRNA_unbind), risc_miRNA + mRNA <--> risc_miRNA_mRNA\n",
    "    k_deg, risc_miRNA_mRNA --> risc_miRNA\n",
    "end"
   ]
  },
  {
   "cell_type": "code",
   "execution_count": null,
   "metadata": {},
   "outputs": [],
   "source": [
    "species(single_iFFL_rn)"
   ]
  },
  {
   "cell_type": "code",
   "execution_count": null,
   "metadata": {},
   "outputs": [],
   "source": [
    "function prob_func_low(prob,i,repeat)\n",
    "    remake(prob, u0 = [:gene => rand(CN_distribution_low), :risc => 10000, :immature_mRNA => 0, :ctl_mRNA => 0, :miRNA => 0, :mRNA => 0, :protein => 0, :ctl_protein => 0, :pri_miRNA => 0, :pre_miRNA => 0, :risc_miRNA => 0, :risc_miRNA_mRNA => 0])\n",
    "end\n",
    "\n",
    "function prob_func_med(prob,i,repeat)\n",
    "    remake(prob, u0 = [:gene => rand(CN_distribution_med), :risc => 10000, :immature_mRNA => 0, :ctl_mRNA => 0, :miRNA => 0, :mRNA => 0, :protein => 0, :ctl_protein => 0, :pri_miRNA => 0, :pre_miRNA => 0, :risc_miRNA => 0, :risc_miRNA_mRNA => 0])\n",
    "end\n",
    "\n",
    "function prob_func_high(prob,i,repeat)\n",
    "    remake(prob, u0 = [:gene => rand(CN_distribution_high), :risc => 10000, :immature_mRNA => 0, :ctl_mRNA => 0, :miRNA => 0, :mRNA => 0, :protein => 0, :ctl_protein => 0, :pri_miRNA => 0, :pre_miRNA => 0, :risc_miRNA => 0, :risc_miRNA_mRNA => 0])\n",
    "end\n",
    "\n",
    "function output_func(sol, i)\n",
    "    [sol.u[end,:]], false\n",
    "end"
   ]
  },
  {
   "cell_type": "markdown",
   "metadata": {},
   "source": [
    "### Low moi simulations"
   ]
  },
  {
   "cell_type": "code",
   "execution_count": null,
   "metadata": {},
   "outputs": [],
   "source": [
    "u0 = [:gene => rand(CN_distribution_low), :risc => 10000, :immature_mRNA => 0, :ctl_mRNA => 0, :miRNA => 0, :mRNA => 0, :protein => 0, :ctl_protein => 0, :pri_miRNA => 0, :pre_miRNA => 0, :risc_miRNA => 0, :risc_miRNA_mRNA => 0]\n",
    "tspan = (0., 100000.)\n",
    "jprob = JumpProblem(single_iFFL_rn, DiscreteProblem(single_iFFL_rn, u0, tspan), SortingDirect(), save_positions=(false,false))\n",
    "eprob = EnsembleProblem(jprob, prob_func=prob_func_low, output_func=output_func, safetycopy=false)\n",
    "solns = solve(eprob, SSAStepper(), EnsembleThreads(); trajectories=10000)"
   ]
  },
  {
   "cell_type": "code",
   "execution_count": null,
   "metadata": {},
   "outputs": [],
   "source": [
    "reg_vec = zeros(10000)\n",
    "unreg_vec = zeros(10000)\n",
    "cn_vec = zeros(10000)\n",
    "for j = 1:lastindex(solns)\n",
    "    reg_vec[j] = solns[j][1][1][6]\n",
    "    unreg_vec[j] = solns[j][1][1][7]\n",
    "    cn_vec[j] = solns[j][1][1][1]\n",
    "end\n",
    "display(cn_vec)\n",
    "risc_10k_low_moi_st = DataFrame(regulated=reg_vec, unregulated=unreg_vec, copynum = cn_vec)\n",
    "writedlm(\"jl_output/2024.05.09_modeling/single_transcript_10k_risc_low_moi.csv\",eachrow(risc_10k_low_moi_st),\",\")"
   ]
  },
  {
   "cell_type": "code",
   "execution_count": null,
   "metadata": {},
   "outputs": [],
   "source": [
    "f = Figure()\n",
    "ax1 = Axis(f[1,1],title=\"Single transcript iFFL: 10,000 RISC, 0.3 MOI\", xlabel = \"Copy Number\", ylabel = \"Protein Expression\",limits = (nothing, nothing, 0, 5000)\n",
    "    )\n",
    "s1 = scatter!(ax1, risc_10k_low_moi_st.copynum, risc_10k_low_moi_st.unregulated, color=(:gray, 0.5), label=\"unregulated gene\")\n",
    "s2 = scatter!(ax1, risc_10k_low_moi_st.copynum, risc_10k_low_moi_st.regulated, color=(:blue, 0.5), label=\"regulated gene\")\n",
    "axislegend(position=:lt)\n",
    "ax2 = Axis(f[1,2],limits = (nothing, nothing, 0, 5000))\n",
    "linkyaxes!(ax1,ax2)\n",
    "d1 = density!(risc_10k_low_moi_st.unregulated, color=(:gray, 0.5), direction = :y)\n",
    "d2 = density!(risc_10k_low_moi_st.regulatedc, color=(:blue, 0.5), direction = :y)\n",
    "xlims!(ax2, low = 0)\n",
    "hidedecorations!(ax2, grid = false)\n",
    "colsize!(f.layout, 1, Auto(3))\n",
    "save(\"jl_output/2024.05.09_modeling/single_transcript_10000_risc_low_moi.svg\",f)\n",
    "current_figure()"
   ]
  },
  {
   "cell_type": "markdown",
   "metadata": {},
   "source": [
    "### Medium moi simulations"
   ]
  },
  {
   "cell_type": "code",
   "execution_count": null,
   "metadata": {},
   "outputs": [],
   "source": [
    "u0 = [:gene => rand(CN_distribution_med), :risc => 10000, :immature_mRNA => 0, :ctl_mRNA => 0, :miRNA => 0, :mRNA => 0, :protein => 0, :ctl_protein => 0, :pri_miRNA => 0, :pre_miRNA => 0, :risc_miRNA => 0, :risc_miRNA_mRNA => 0]\n",
    "tspan = (0., 100000.)\n",
    "jprob = JumpProblem(single_iFFL_rn, DiscreteProblem(single_iFFL_rn, u0, tspan), SortingDirect(), save_positions=(false,false))\n",
    "eprob = EnsembleProblem(jprob, prob_func=prob_func_med, output_func=output_func, safetycopy=false)\n",
    "solns = solve(eprob, SSAStepper(), EnsembleThreads(); trajectories=10000)"
   ]
  },
  {
   "cell_type": "code",
   "execution_count": null,
   "metadata": {},
   "outputs": [],
   "source": [
    "reg_vec = zeros(10000)\n",
    "unreg_vec = zeros(10000)\n",
    "cn_vec = zeros(10000)\n",
    "for j = 1:lastindex(solns)\n",
    "    reg_vec[j] = solns[j][1][1][6]\n",
    "    unreg_vec[j] = solns[j][1][1][7]\n",
    "    cn_vec[j] = solns[j][1][1][1]\n",
    "end\n",
    "display(cn_vec)\n",
    "risc_10k_med_moi_st = DataFrame(regulated=reg_vec, unregulated=unreg_vec, copynum = cn_vec)\n",
    "writedlm(\"jl_output/2024.05.09_modeling/single_transcript_10k_risc_med_moi.csv\",eachrow(risc_10k_med_moi_st),\",\")"
   ]
  },
  {
   "cell_type": "code",
   "execution_count": null,
   "metadata": {},
   "outputs": [],
   "source": [
    "f = Figure()\n",
    "ax1 = Axis(f[1,1],title=\"Single transcript iFFL: 10,000 RISC, 3 MOI\", xlabel = \"Copy Number\", ylabel = \"Protein Expression\",limits = (nothing, nothing, 0, 7000)\n",
    "    )\n",
    "s1 = scatter!(ax1, risc_10k_med_moi_st.copynum, risc_10k_med_moi_st.unregulated, color=(:gray, 0.5), label=\"unregulated gene\")\n",
    "s2 = scatter!(ax1, risc_10k_med_moi_st.copynum, risc_10k_med_moi_st.regulated, color=(:blue, 0.5), label=\"regulated gene\")\n",
    "axislegend(position=:lt)\n",
    "ax2 = Axis(f[1,2],limits = (nothing, nothing, 0, 7000))\n",
    "linkyaxes!(ax1,ax2)\n",
    "d1 = density!(risc_10k_med_moi_st.unregulated, color=(:gray, 0.5), direction = :y)\n",
    "d2 = density!(risc_10k_med_moi_st.regulated, color=(:blue, 0.5), direction = :y)\n",
    "xlims!(ax2, low = 0)\n",
    "hidedecorations!(ax2, grid = false)\n",
    "colsize!(f.layout, 1, Auto(3))\n",
    "save(\"jl_output/2024.05.09_modeling/single_transcript_10000_risc_med_moi.svg\",f)\n",
    "current_figure()"
   ]
  },
  {
   "cell_type": "markdown",
   "metadata": {},
   "source": [
    "### High moi simulations"
   ]
  },
  {
   "cell_type": "code",
   "execution_count": null,
   "metadata": {},
   "outputs": [],
   "source": [
    "u0 = [:gene => rand(CN_distribution_high), :risc => 10000, :immature_mRNA => 0, :ctl_mRNA => 0, :miRNA => 0, :mRNA => 0, :protein => 0, :ctl_protein => 0, :pri_miRNA => 0, :pre_miRNA => 0, :risc_miRNA => 0, :risc_miRNA_mRNA => 0]\n",
    "tspan = (0., 100000.)\n",
    "jprob = JumpProblem(single_iFFL_rn, DiscreteProblem(single_iFFL_rn, u0, tspan), SortingDirect(), save_positions=(false,false))\n",
    "eprob = EnsembleProblem(jprob, prob_func=prob_func_high, output_func=output_func, safetycopy=false)\n",
    "solns = solve(eprob, SSAStepper(), EnsembleThreads(); trajectories=10000)"
   ]
  },
  {
   "cell_type": "code",
   "execution_count": null,
   "metadata": {},
   "outputs": [],
   "source": [
    "reg_vec = zeros(10000)\n",
    "unreg_vec = zeros(10000)\n",
    "cn_vec = zeros(10000)\n",
    "for j = 1:lastindex(solns)\n",
    "    reg_vec[j] = solns[j][1][1][6]\n",
    "    unreg_vec[j] = solns[j][1][1][7]\n",
    "    cn_vec[j] = solns[j][1][1][1]\n",
    "end\n",
    "display(cn_vec)\n",
    "risc_10k_high_moi_st = DataFrame(regulated=reg_vec, unregulated=unreg_vec, copynum = cn_vec)\n",
    "writedlm(\"jl_output/2024.05.09_modeling/single_transcript_10k_risc_high_moi.csv\",eachrow(risc_10k_high_moi_st),\",\")"
   ]
  },
  {
   "cell_type": "code",
   "execution_count": null,
   "metadata": {},
   "outputs": [],
   "source": [
    "f = Figure()\n",
    "ax1 = Axis(f[1,1],title=\"Single transcript iFFL: 10,000 RISC, 10 MOI\", xlabel = \"Copy Number\", ylabel = \"Protein Expression\",limits = (nothing, nothing, 0, 10000)\n",
    "    )\n",
    "s1 = scatter!(ax1, risc_10k_high_moi_st.copynum, risc_10k_high_moi_st.unregulated, color=(:gray, 0.5), label=\"unregulated gene\")\n",
    "s2 = scatter!(ax1, risc_10k_high_moi_st.copynum, risc_10k_high_moi_st.regulated, color=(:blue, 0.5), label=\"regulated gene\")\n",
    "axislegend(position=:lt)\n",
    "ax2 = Axis(f[1,2],limits = (nothing, nothing, 0, 10000))\n",
    "linkyaxes!(ax1,ax2)\n",
    "d1 = density!(risc_10k_high_moi_st.unregulated, color=(:gray, 0.5), direction = :y)\n",
    "d2 = density!(risc_10k_high_moi_st.regulated, color=(:blue, 0.5), direction = :y)\n",
    "xlims!(ax2, low = 0)\n",
    "hidedecorations!(ax2, grid = false)\n",
    "colsize!(f.layout, 1, Auto(3))\n",
    "save(\"jl_output/2024.05.09_modeling/single_transcript_10000_risc_high_moi.svg\",f)\n",
    "current_figure()"
   ]
  },
  {
   "cell_type": "markdown",
   "metadata": {},
   "source": [
    "## Dual transcript design"
   ]
  },
  {
   "cell_type": "code",
   "execution_count": null,
   "metadata": {},
   "outputs": [],
   "source": [
    "double_iFFL_rn = @reaction_network double_transcript_iFFL begin\n",
    "    # gene 1 is regulated gene w miRNA binding single_transcript_iFFL\n",
    "    # gene 2 is gene containing miRNA intron\n",
    "    @parameters begin\n",
    "        α_im=4.67e-2 #Transcription rate constant gene 1 [1/s]\n",
    "        δ_im=2.88e-4 #Immature mRNA degradation rate constant gene 2 [1/s]\n",
    "        δ_m=2.88e-4 #Mature mRNA degradation rate constant gene 1 [1/s]\n",
    "        δ_mi=2.88e-4 #miRNA degradation rate constant [1/s]\n",
    "        δ_p=9.67e-5 #Protein degradation rate constant gene 1 [1/s] \n",
    "        α_p=3.33e-4 #Translation rate constant gene 1 [1/s]\n",
    "        ζ=0.0 #Translation efficiency for RISC complex [unitless], Range: 0 to 1\n",
    "        r_splicing=2.0e-3 #Splicing rate constant [1/s]\n",
    "        r_drosha=1e-2 #pri-miRNA processing rate constant [1/s] \n",
    "        r_dicer=1e-3 #pre-miRNA processing rate constant [1/s]\n",
    "        k_miRNA_bind=1e-5 #miRNA-RISC binding rate constant [1/mol*s]\n",
    "        k_miRNA_deg=2.16e-5 #miRNA-RISC unbinding rate constant [1/s]\n",
    "        k_mRNA_bind=1.84e-6 #RISC complex formation rate constant[1/mol*s]\n",
    "        k_mRNA_unbind=0.303 #RISC complex deformation rate constant [1/s]\n",
    "        k_deg=7e-3 #RISC-mediated mRNA degradation rate constant [1/s]\n",
    "    end\n",
    "    # Transcription\n",
    "    α_im, gene --> mRNA + gene #Set copy number as the initial number of \"gene1\"\n",
    "    α_im, gene --> ctl_mRNA + gene\n",
    "    α_im, gene --> immature_mRNA + gene #Set copy number as the initial number of \"gene2\"\n",
    "    # Degradation of products\n",
    "    δ_im, immature_mRNA --> ∅\n",
    "    δ_m, mRNA --> ∅\n",
    "    δ_m, ctl_mRNA --> ∅\n",
    "    δ_mi, miRNA --> ∅\n",
    "    δ_p, protein --> ∅\n",
    "    δ_p, ctl_protein --> ∅\n",
    "    # Production of protein\n",
    "    α_p, mRNA --> mRNA + protein\n",
    "    α_p, ctl_mRNA --> ctl_protein + ctl_mRNA\n",
    "    α_p * ζ, risc_miRNA_mRNA --> risc_miRNA_mRNA + protein\n",
    "    # Splicing\n",
    "    r_splicing, immature_mRNA --> pri_miRNA\n",
    "    # miRNA processing\n",
    "    r_drosha, pri_miRNA --> pre_miRNA # drosha\n",
    "    r_dicer, pre_miRNA --> miRNA # dicer\n",
    "    # Knockdown\n",
    "    k_miRNA_bind, risc + miRNA --> risc_miRNA\n",
    "    k_miRNA_deg, risc_miRNA --> risc\n",
    "    (k_mRNA_bind, k_mRNA_unbind), risc_miRNA + mRNA <--> risc_miRNA_mRNA\n",
    "    k_deg, risc_miRNA_mRNA --> risc_miRNA\n",
    "end"
   ]
  },
  {
   "cell_type": "code",
   "execution_count": null,
   "metadata": {},
   "outputs": [],
   "source": [
    "species(double_iFFL_rn)"
   ]
  },
  {
   "cell_type": "code",
   "execution_count": null,
   "metadata": {},
   "outputs": [],
   "source": [
    "function prob_func_low(prob,i,repeat)\n",
    "    remake(prob, u0 = [:gene => rand(CN_distribution_low), :risc => 10000, :immature_mRNA => 0, :ctl_mRNA => 0, :miRNA => 0, :mRNA => 0, :protein => 0, :ctl_protein => 0, :pri_miRNA => 0, :pre_miRNA => 0, :risc_miRNA => 0, :risc_miRNA_mRNA => 0])\n",
    "end\n",
    "\n",
    "function prob_func_med(prob,i,repeat)\n",
    "    remake(prob, u0 = [:gene => rand(CN_distribution_med), :risc => 10000, :immature_mRNA => 0, :ctl_mRNA => 0, :miRNA => 0, :mRNA => 0, :protein => 0, :ctl_protein => 0, :pri_miRNA => 0, :pre_miRNA => 0, :risc_miRNA => 0, :risc_miRNA_mRNA => 0])\n",
    "end\n",
    "\n",
    "function prob_func_high(prob,i,repeat)\n",
    "    remake(prob, u0 = [:gene => rand(CN_distribution_high), :risc => 10000, :immature_mRNA => 0, :ctl_mRNA => 0, :miRNA => 0, :mRNA => 0, :protein => 0, :ctl_protein => 0, :pri_miRNA => 0, :pre_miRNA => 0, :risc_miRNA => 0, :risc_miRNA_mRNA => 0])\n",
    "end\n",
    "\n",
    "function output_func(sol, i)\n",
    "    [sol.u[end,:]], false\n",
    "end"
   ]
  },
  {
   "cell_type": "markdown",
   "metadata": {},
   "source": [
    "### Low moi simulations"
   ]
  },
  {
   "cell_type": "code",
   "execution_count": null,
   "metadata": {},
   "outputs": [],
   "source": [
    "u0 = [:gene => rand(CN_distribution_low), :risc => 10000, :immature_mRNA => 0, :ctl_mRNA => 0, :miRNA => 0, :mRNA => 0, :protein => 0, :ctl_protein => 0, :pri_miRNA => 0, :pre_miRNA => 0, :risc_miRNA => 0, :risc_miRNA_mRNA => 0]\n",
    "tspan = (0., 100000.)\n",
    "jprob = JumpProblem(double_iFFL_rn, DiscreteProblem(double_iFFL_rn, u0, tspan), SortingDirect(), save_positions=(false,false))\n",
    "eprob = EnsembleProblem(jprob, prob_func=prob_func_low, output_func=output_func, safetycopy=false)\n",
    "solns = solve(eprob, SSAStepper(), EnsembleThreads(); trajectories=10000)"
   ]
  },
  {
   "cell_type": "code",
   "execution_count": null,
   "metadata": {},
   "outputs": [],
   "source": [
    "reg_vec = zeros(10000)\n",
    "unreg_vec = zeros(10000)\n",
    "cn_vec = zeros(10000)\n",
    "for j = 1:lastindex(solns)\n",
    "    reg_vec[j] = solns[j][1][1][6]\n",
    "    unreg_vec[j] = solns[j][1][1][7]\n",
    "    cn_vec[j] = solns[j][1][1][1]\n",
    "end\n",
    "display(cn_vec)\n",
    "risc_10k_low_moi_dt = DataFrame(regulated=reg_vec, unregulated=unreg_vec, copynum = cn_vec)\n",
    "writedlm(\"jl_output/2024.05.09_modeling/double_transcript_10k_risc_low_moi.csv\",eachrow(risc_10k_low_moi_dt),\",\")"
   ]
  },
  {
   "cell_type": "code",
   "execution_count": null,
   "metadata": {},
   "outputs": [],
   "source": [
    "f = Figure()\n",
    "ax1 = Axis(f[1,1],title=\"Double transcript iFFL: 10,000 RISC, 0.3 MOI\", xlabel = \"Copy Number\", ylabel = \"Protein Expression\",limits = (nothing, nothing, 0, 5000)\n",
    "    )\n",
    "s1 = scatter!(ax1, risc_10k_low_moi_dt.copynum, risc_10k_low_moi_dt.unregulated, color=(:gray, 0.5), label=\"unregulated gene\")\n",
    "s2 = scatter!(ax1, risc_10k_low_moi_dt.copynum, risc_10k_low_moi_dt.regulated, color=(:blue, 0.5), label=\"regulated gene\")\n",
    "axislegend(position=:lt)\n",
    "ax2 = Axis(f[1,2],limits = (nothing, nothing, 0, 5000))\n",
    "linkyaxes!(ax1,ax2)\n",
    "d1 = density!(risc_10k_low_moi_dt.unregulated, color=(:gray, 0.5), direction = :y)\n",
    "d2 = density!(risc_10k_low_moi_dt.regulatec, color=(:blue, 0.5), direction = :y)\n",
    "xlims!(ax2, low = 0)\n",
    "hidedecorations!(ax2, grid = false)\n",
    "colsize!(f.layout, 1, Auto(3))\n",
    "save(\"jl_output/2024.05.09_modeling/double_transcript_10000_risc_low_moi.svg\",f)\n",
    "current_figure()"
   ]
  },
  {
   "cell_type": "markdown",
   "metadata": {},
   "source": [
    "### Medium moi simulations"
   ]
  },
  {
   "cell_type": "code",
   "execution_count": null,
   "metadata": {},
   "outputs": [],
   "source": [
    "u0 = [:gene => rand(CN_distribution_med), :risc => 10000, :immature_mRNA => 0, :ctl_mRNA => 0, :miRNA => 0, :mRNA => 0, :protein => 0, :ctl_protein => 0, :pri_miRNA => 0, :pre_miRNA => 0, :risc_miRNA => 0, :risc_miRNA_mRNA => 0]\n",
    "tspan = (0., 100000.)\n",
    "jprob = JumpProblem(double_iFFL_rn, DiscreteProblem(double_iFFL_rn, u0, tspan), SortingDirect(), save_positions=(false,false))\n",
    "eprob = EnsembleProblem(jprob, prob_func=prob_func_med, output_func=output_func, safetycopy=false)\n",
    "solns = solve(eprob, SSAStepper(), EnsembleThreads(); trajectories=10000)"
   ]
  },
  {
   "cell_type": "code",
   "execution_count": null,
   "metadata": {},
   "outputs": [],
   "source": [
    "reg_vec = zeros(10000)\n",
    "unreg_vec = zeros(10000)\n",
    "cn_vec = zeros(10000)\n",
    "for j = 1:lastindex(solns)\n",
    "    reg_vec[j] = solns[j][1][1][6]\n",
    "    unreg_vec[j] = solns[j][1][1][7]\n",
    "    cn_vec[j] = solns[j][1][1][1]\n",
    "end\n",
    "display(cn_vec)\n",
    "risc_10k_med_moi_dt = DataFrame(regulated=reg_vec, unregulated=unreg_vec, copynum = cn_vec)\n",
    "writedlm(\"jl_output/2024.05.09_modeling/double_transcript_10k_risc_med_moi.csv\",eachrow(risc_10k_med_moi_dt),\",\")"
   ]
  },
  {
   "cell_type": "code",
   "execution_count": null,
   "metadata": {},
   "outputs": [],
   "source": [
    "f = Figure()\n",
    "ax1 = Axis(f[1,1],title=\"Double transcript iFFL: 10,000 RISC, 3 MOI\", xlabel = \"Copy Number\", ylabel = \"Protein Expression\",limits = (nothing, nothing, 0, 7000)\n",
    "    )\n",
    "s1 = scatter!(ax1, risc_10k_med_moi_dt.copynum, risc_10k_med_moi_dt.unregulated, color=(:gray, 0.5), label=\"unregulated gene\")\n",
    "s2 = scatter!(ax1, risc_10k_med_moi_dt.copynum, risc_10k_med_moi_dt.regulated, color=(:blue, 0.5), label=\"regulated gene\")\n",
    "axislegend(position=:lt)\n",
    "ax2 = Axis(f[1,2],limits = (nothing, nothing, 0, 7000))\n",
    "linkyaxes!(ax1,ax2)\n",
    "d1 = density!(risc_10k_med_moi_dt.unregulated, color=(:gray, 0.5), direction = :y)\n",
    "d2 = density!(risc_10k_med_moi_dt.regulatedc, color=(:blue, 0.5), direction = :y)\n",
    "xlims!(ax2, low = 0)\n",
    "hidedecorations!(ax2, grid = false)\n",
    "colsize!(f.layout, 1, Auto(3))\n",
    "save(\"jl_output/2024.05.09_modeling/double_transcript_10000_risc_med_moi.svg\",f)\n",
    "current_figure()"
   ]
  },
  {
   "cell_type": "markdown",
   "metadata": {},
   "source": [
    "### High moi simulations"
   ]
  },
  {
   "cell_type": "code",
   "execution_count": null,
   "metadata": {},
   "outputs": [],
   "source": [
    "u0 = [:gene => rand(CN_distribution_high), :risc => 10000, :immature_mRNA => 0, :ctl_mRNA => 0, :miRNA => 0, :mRNA => 0, :protein => 0, :ctl_protein => 0, :pri_miRNA => 0, :pre_miRNA => 0, :risc_miRNA => 0, :risc_miRNA_mRNA => 0]\n",
    "tspan = (0., 100000.)\n",
    "jprob = JumpProblem(double_iFFL_rn, DiscreteProblem(double_iFFL_rn, u0, tspan), SortingDirect(), save_positions=(false,false))\n",
    "eprob = EnsembleProblem(jprob, prob_func=prob_func_high, output_func=output_func, safetycopy=false)\n",
    "solns = solve(eprob, SSAStepper(), EnsembleThreads(); trajectories=1000)"
   ]
  },
  {
   "cell_type": "code",
   "execution_count": null,
   "metadata": {},
   "outputs": [],
   "source": [
    "reg_vec = zeros(1000)\n",
    "unreg_vec = zeros(1000)\n",
    "cn_vec = zeros(1000)\n",
    "for j = 1:lastindex(solns)\n",
    "    reg_vec[j] = solns[j][1][1][6]\n",
    "    unreg_vec[j] = solns[j][1][1][7]\n",
    "    cn_vec[j] = solns[j][1][1][1]\n",
    "end\n",
    "display(cn_vec)\n",
    "risc_10k_high_moi_dt = DataFrame(regulated=reg_vec, unregulated=unreg_vec, copynum = cn_vec)\n",
    "writedlm(\"jl_output/2024.05.09_modeling/double_transcript_10k_risc_high_moi.csv\",eachrow(risc_10k_high_moi_dt),\",\")"
   ]
  },
  {
   "cell_type": "code",
   "execution_count": null,
   "metadata": {},
   "outputs": [],
   "source": [
    "f = Figure()\n",
    "ax1 = Axis(f[1,1],title=\"Double transcript iFFL: 10,000 RISC, 10 MOI\", xlabel = \"Copy Number\", ylabel = \"Protein Expression\",limits = (nothing, nothing, 0, 10000)\n",
    "    )\n",
    "s1 = scatter!(ax1, risc_10k_high_moi_dt.copynum, risc_10k_high_moi_dt.unregulated, color=(:gray, 0.5), label=\"unregulated gene\")\n",
    "s2 = scatter!(ax1, risc_10k_high_moi_dt.copynum, risc_10k_high_moi_dt.regulated, color=(:blue, 0.5), label=\"regulated gene\")\n",
    "axislegend(position=:lt)\n",
    "ax2 = Axis(f[1,2],limits = (nothing, nothing, 0, 10000))\n",
    "linkyaxes!(ax1,ax2)\n",
    "d1 = density!(risc_10k_high_moi_dt.unregulated, color=(:gray, 0.5), direction = :y)\n",
    "d2 = density!(risc_10k_high_moi_dt.regulated, color=(:blue, 0.5), direction = :y)\n",
    "xlims!(ax2, low = 0)\n",
    "hidedecorations!(ax2, grid = false)\n",
    "colsize!(f.layout, 1, Auto(3))\n",
    "save(\"jl_output/2024.05.09_modeling/double_transcript_10000_risc_high_moi.svg\",f)\n",
    "current_figure()"
   ]
  },
  {
   "cell_type": "markdown",
   "metadata": {},
   "source": [
    "## Dual vector design"
   ]
  },
  {
   "cell_type": "code",
   "execution_count": null,
   "metadata": {},
   "outputs": [],
   "source": [
    "double_vector_rn = @reaction_network double_transcript_iFFL begin\n",
    "    # gene 1 is regulated gene w miRNA binding single_transcript_iFFL\n",
    "    # gene 2 is gene containing miRNA intron\n",
    "    @parameters begin\n",
    "        α_im=4.67e-2 #Transcription rate constant gene 1 [1/s]\n",
    "        δ_im=2.88e-4 #Immature mRNA degradation rate constant gene 2 [1/s]\n",
    "        δ_m=2.88e-4 #Mature mRNA degradation rate constant gene 1 [1/s]\n",
    "        δ_mi=2.88e-4 #miRNA degradation rate constant [1/s]\n",
    "        δ_p=9.67e-5 #Protein degradation rate constant gene 1 [1/s] \n",
    "        α_p=3.33e-4 #Translation rate constant gene 1 [1/s]\n",
    "        ζ=0.0 #Translation efficiency for RISC complex [unitless], Range: 0 to 1\n",
    "        r_splicing=2.0e-3 #Splicing rate constant [1/s]\n",
    "        r_drosha=1e-2 #pri-miRNA processing rate constant [1/s] \n",
    "        r_dicer=1e-3 #pre-miRNA processing rate constant [1/s]\n",
    "        k_miRNA_bind=1e-5 #miRNA-RISC binding rate constant [1/mol*s]\n",
    "        k_miRNA_deg=2.16e-5 #miRNA-RISC unbinding rate constant [1/s]\n",
    "        k_mRNA_bind=1.84e-6 #RISC complex formation rate constant[1/mol*s]\n",
    "        k_mRNA_unbind=0.303 #RISC complex deformation rate constant [1/s]\n",
    "        k_deg=7e-3 #RISC-mediated mRNA degradation rate constant [1/s]\n",
    "    end\n",
    "    # Transcription\n",
    "    α_im, gene --> mRNA + gene #Set copy number as the initial number of \"gene1\"\n",
    "    α_im, gene --> ctl_mRNA + gene\n",
    "    α_im, gene_miR --> immature_mRNA + gene_miR #Set copy number as the initial number of \"gene2\"\n",
    "    # Degradation of products\n",
    "    δ_im, immature_mRNA --> ∅\n",
    "    δ_m, mRNA --> ∅\n",
    "    δ_m, ctl_mRNA --> ∅\n",
    "    δ_mi, miRNA --> ∅\n",
    "    δ_p, protein --> ∅\n",
    "    δ_p, ctl_protein --> ∅\n",
    "    # Production of protein\n",
    "    α_p, mRNA --> mRNA + protein\n",
    "    α_p, ctl_mRNA --> ctl_protein + ctl_mRNA\n",
    "    α_p * ζ, risc_miRNA_mRNA --> risc_miRNA_mRNA + protein\n",
    "    # Splicing\n",
    "    r_splicing, immature_mRNA --> pri_miRNA\n",
    "    # miRNA processing\n",
    "    r_drosha, pri_miRNA --> pre_miRNA # drosha\n",
    "    r_dicer, pre_miRNA --> miRNA # dicer\n",
    "    # Knockdown\n",
    "    k_miRNA_bind, risc + miRNA --> risc_miRNA\n",
    "    k_miRNA_deg, risc_miRNA --> risc\n",
    "    (k_mRNA_bind, k_mRNA_unbind), risc_miRNA + mRNA <--> risc_miRNA_mRNA\n",
    "    k_deg, risc_miRNA_mRNA --> risc_miRNA\n",
    "end"
   ]
  },
  {
   "cell_type": "code",
   "execution_count": null,
   "metadata": {},
   "outputs": [],
   "source": [
    "species(double_vector_rn)"
   ]
  },
  {
   "cell_type": "code",
   "execution_count": null,
   "metadata": {},
   "outputs": [],
   "source": [
    "function prob_func_low(prob,i,repeat)\n",
    "    remake(prob, u0 = [:gene => rand(CN_distribution_low), :gene_miR => rand(CN_distribution_low), :risc => 10000, :immature_mRNA => 0, :ctl_mRNA => 0, :miRNA => 0, :mRNA => 0, :protein => 0, :ctl_protein => 0, :pri_miRNA => 0, :pre_miRNA => 0, :risc_miRNA => 0, :risc_miRNA_mRNA => 0])\n",
    "end\n",
    "\n",
    "function prob_func_med(prob,i,repeat)\n",
    "    remake(prob, u0 = [:gene => rand(CN_distribution_med), :gene_miR => rand(CN_distribution_med), :risc => 10000, :immature_mRNA => 0, :ctl_mRNA => 0, :miRNA => 0, :mRNA => 0, :protein => 0, :ctl_protein => 0, :pri_miRNA => 0, :pre_miRNA => 0, :risc_miRNA => 0, :risc_miRNA_mRNA => 0])\n",
    "end\n",
    "\n",
    "function prob_func_high(prob,i,repeat)\n",
    "    remake(prob, u0 = [:gene => rand(CN_distribution_high), :gene_miR => rand(CN_distribution_high), :risc => 10000, :immature_mRNA => 0, :ctl_mRNA => 0, :miRNA => 0, :mRNA => 0, :protein => 0, :ctl_protein => 0, :pri_miRNA => 0, :pre_miRNA => 0, :risc_miRNA => 0, :risc_miRNA_mRNA => 0])\n",
    "end\n",
    "\n",
    "function output_func(sol, i)\n",
    "    [sol.u[end,:]], false\n",
    "end"
   ]
  },
  {
   "cell_type": "markdown",
   "metadata": {},
   "source": [
    "### Low moi simulations"
   ]
  },
  {
   "cell_type": "code",
   "execution_count": null,
   "metadata": {},
   "outputs": [],
   "source": [
    "u0 = [:gene => rand(CN_distribution_low), :gene_miR => rand(CN_distribution_low), :risc => 10000, :immature_mRNA => 0, :ctl_mRNA => 0, :miRNA => 0, :mRNA => 0, :protein => 0, :ctl_protein => 0, :pri_miRNA => 0, :pre_miRNA => 0, :risc_miRNA => 0, :risc_miRNA_mRNA => 0]\n",
    "tspan = (0., 100000.)\n",
    "jprob = JumpProblem(double_vector_rn, DiscreteProblem(double_vector_rn, u0, tspan), SortingDirect(), save_positions=(false,false))\n",
    "eprob = EnsembleProblem(jprob, prob_func=prob_func_low, output_func=output_func, safetycopy=false)\n",
    "solns = solve(eprob, SSAStepper(), EnsembleThreads(); trajectories=10000)"
   ]
  },
  {
   "cell_type": "code",
   "execution_count": null,
   "metadata": {},
   "outputs": [],
   "source": [
    "reg_vec = zeros(10000)\n",
    "unreg_vec = zeros(10000)\n",
    "cn_vec = zeros(10000)\n",
    "for j = 1:lastindex(solns)\n",
    "    reg_vec[j] = solns[j][1][1][7]\n",
    "    unreg_vec[j] = solns[j][1][1][8]\n",
    "    cn_vec[j] = solns[j][1][1][1]\n",
    "end\n",
    "display(cn_vec)\n",
    "risc_10k_low_moi_dv = DataFrame(regulated=reg_vec, unregulated=unreg_vec, copynum = cn_vec)\n",
    "writedlm(\"jl_output/2024.05.09_modeling/double_vector_10k_risc_low_moi.csv\",eachrow(risc_10k_low_moi_dv),\",\")"
   ]
  },
  {
   "cell_type": "code",
   "execution_count": null,
   "metadata": {},
   "outputs": [],
   "source": [
    "f = Figure()\n",
    "ax1 = Axis(f[1,1],title=\"Double vector iFFL: 10,000 RISC, 0.3 MOI\", xlabel = \"Copy Number\", ylabel = \"Protein Expression\",limits = (nothing, nothing, 0, 5000)\n",
    "    )\n",
    "s1 = scatter!(ax1, risc_10k_low_moi_dv.copynum, risc_10k_low_moi_dv.unregulated, color=(:gray, 0.5), label=\"unregulated gene\")\n",
    "s2 = scatter!(ax1, risc_10k_low_moi_dv.copynum, risc_10k_low_moi_dv.regulated, color=(:blue, 0.5), label=\"regulated gene\")\n",
    "axislegend(position=:lt)\n",
    "ax2 = Axis(f[1,2],limits = (nothing, nothing, 0, 5000))\n",
    "linkyaxes!(ax1,ax2)\n",
    "d1 = density!(risc_10k_low_moi_dv.unregulated, color=(:gray, 0.5), direction = :y)\n",
    "d2 = density!(risc_10k_low_moi_dv.regulated, color=(:blue, 0.5), direction = :y)\n",
    "xlims!(ax2, low = 0)\n",
    "hidedecorations!(ax2, grid = false)\n",
    "colsize!(f.layout, 1, Auto(3))\n",
    "save(\"jl_output/2024.05.09_modeling/double_vector_10000_risc_low_moi.svg\",f)\n",
    "current_figure()"
   ]
  },
  {
   "cell_type": "markdown",
   "metadata": {},
   "source": [
    "### Medium moi simulations"
   ]
  },
  {
   "cell_type": "code",
   "execution_count": null,
   "metadata": {},
   "outputs": [],
   "source": [
    "u0 = [:gene => rand(CN_distribution_med), :gene_miR => rand(CN_distribution_med), :risc => 10000, :immature_mRNA => 0, :ctl_mRNA => 0, :miRNA => 0, :mRNA => 0, :protein => 0, :ctl_protein => 0, :pri_miRNA => 0, :pre_miRNA => 0, :risc_miRNA => 0, :risc_miRNA_mRNA => 0]\n",
    "tspan = (0., 100000.)\n",
    "jprob = JumpProblem(double_vector_rn, DiscreteProblem(double_vector_rn, u0, tspan), SortingDirect(), save_positions=(false,false))\n",
    "eprob = EnsembleProblem(jprob, prob_func=prob_func_med, output_func=output_func, safetycopy=false)\n",
    "solns = solve(eprob, SSAStepper(), EnsembleThreads(); trajectories=10000)"
   ]
  },
  {
   "cell_type": "code",
   "execution_count": null,
   "metadata": {},
   "outputs": [],
   "source": [
    "reg_vec = zeros(10000)\n",
    "unreg_vec = zeros(10000)\n",
    "cn_vec = zeros(10000)\n",
    "for j = 1:lastindex(solns)\n",
    "    reg_vec[j] = solns[j][1][1][7]\n",
    "    unreg_vec[j] = solns[j][1][1][8]\n",
    "    cn_vec[j] = solns[j][1][1][1]\n",
    "end\n",
    "display(cn_vec)\n",
    "risc_10k_med_moi_dv = DataFrame(regulated=reg_vec, unregulated=unreg_vec, copynum = cn_vec)\n",
    "writedlm(\"jl_output/2024.05.09_modeling/double_vector_10k_risc_med_moi.csv\",eachrow(risc_10k_med_moi_dv),\",\")"
   ]
  },
  {
   "cell_type": "code",
   "execution_count": null,
   "metadata": {},
   "outputs": [],
   "source": [
    "f = Figure()\n",
    "ax1 = Axis(f[1,1],title=\"Double vector iFFL: 10,000 RISC, 3 MOI\", xlabel = \"Copy Number\", ylabel = \"Protein Expression\",limits = (nothing, nothing, 0, 7000)\n",
    "    )\n",
    "s1 = scatter!(ax1, risc_10k_med_moi_dv.copynum, risc_10k_med_moi_dv.unregulated, color=(:gray, 0.5), label=\"unregulated gene\")\n",
    "s2 = scatter!(ax1, risc_10k_med_moi_dv.copynum, risc_10k_med_moi_dv.regulated, color=(:blue, 0.5), label=\"regulated gene\")\n",
    "axislegend(position=:lt)\n",
    "ax2 = Axis(f[1,2],limits = (nothing, nothing, 0, 7000))\n",
    "linkyaxes!(ax1,ax2)\n",
    "d1 = density!(risc_10k_med_moi_dv.unregulated, color=(:gray, 0.5), direction = :y)\n",
    "d2 = density!(risc_10k_med_moi_dv.regulated, color=(:blue, 0.5), direction = :y)\n",
    "xlims!(ax2, low = 0)\n",
    "hidedecorations!(ax2, grid = false)\n",
    "colsize!(f.layout, 1, Auto(3))\n",
    "save(\"jl_output/2024.05.09_modeling/double_vector_10000_risc_med_moi.svg\",f)\n",
    "current_figure()"
   ]
  },
  {
   "cell_type": "markdown",
   "metadata": {},
   "source": [
    "### High moi simulations"
   ]
  },
  {
   "cell_type": "code",
   "execution_count": null,
   "metadata": {},
   "outputs": [],
   "source": [
    "u0 = [:gene => rand(CN_distribution_high), :gene_miR => rand(CN_distribution_high), :risc => 10000, :immature_mRNA => 0, :ctl_mRNA => 0, :miRNA => 0, :mRNA => 0, :protein => 0, :ctl_protein => 0, :pri_miRNA => 0, :pre_miRNA => 0, :risc_miRNA => 0, :risc_miRNA_mRNA => 0]\n",
    "tspan = (0., 100000.)\n",
    "jprob = JumpProblem(double_vector_rn, DiscreteProblem(double_vector_rn, u0, tspan), SortingDirect(), save_positions=(false,false))\n",
    "eprob = EnsembleProblem(jprob, prob_func=prob_func_high, output_func=output_func, safetycopy=false)\n",
    "solns = solve(eprob, SSAStepper(), EnsembleThreads(); trajectories=1000)"
   ]
  },
  {
   "cell_type": "code",
   "execution_count": null,
   "metadata": {},
   "outputs": [],
   "source": [
    "reg_vec = zeros(1000)\n",
    "unreg_vec = zeros(1000)\n",
    "cn_vec = zeros(1000)\n",
    "for j = 1:lastindex(solns)\n",
    "    reg_vec[j] = solns[j][1][1][7]\n",
    "    unreg_vec[j] = solns[j][1][1][8]\n",
    "    cn_vec[j] = solns[j][1][1][1]\n",
    "end\n",
    "display(cn_vec)\n",
    "risc_10k_high_moi_dv = DataFrame(regulated=reg_vec, unregulated=unreg_vec, copynum = cn_vec)\n",
    "writedlm(\"jl_output/2024.05.09_modeling/double_vector_10k_risc_high_moi.csv\",eachrow(risc_10k_high_moi_dv),\",\")"
   ]
  },
  {
   "cell_type": "code",
   "execution_count": null,
   "metadata": {},
   "outputs": [],
   "source": [
    "f = Figure()\n",
    "ax1 = Axis(f[1,1],title=\"Double vector iFFL: 10,000 RISC, 10 MOI\", xlabel = \"Copy Number\", ylabel = \"Protein Expression\",limits = (nothing, nothing, 0, 10000)\n",
    "    )\n",
    "s1 = scatter!(ax1, risc_10k_high_moi_dv.copynum, risc_10k_high_moi_dv.unregulated, color=(:gray, 0.5), label=\"unregulated gene\")\n",
    "s2 = scatter!(ax1, risc_10k_high_moi_dv.copynum, risc_10k_high_moi_dv.regulated, color=(:blue, 0.5), label=\"regulated gene\")\n",
    "axislegend(position=:lt)\n",
    "ax2 = Axis(f[1,2],limits = (nothing, nothing, 0, 10000))\n",
    "linkyaxes!(ax1,ax2)\n",
    "d1 = density!(risc_10k_high_moi_dv.unregulated, color=(:gray, 0.5), direction = :y)\n",
    "d2 = density!(risc_10k_high_moi_dv.regulated, color=(:blue, 0.5), direction = :y)\n",
    "xlims!(ax2, low = 0)\n",
    "hidedecorations!(ax2, grid = false)\n",
    "colsize!(f.layout, 1, Auto(3))\n",
    "save(\"jl_output/2024.05.09_modeling/double_vector_10000_risc_high_moi.svg\",f)\n",
    "current_figure()"
   ]
  }
 ],
 "metadata": {
  "kernelspec": {
   "display_name": "Julia 1.10.0",
   "language": "julia",
   "name": "julia-1.10"
  },
  "language_info": {
   "file_extension": ".jl",
   "mimetype": "application/julia",
   "name": "julia"
  }
 },
 "nbformat": 4,
 "nbformat_minor": 2
}
