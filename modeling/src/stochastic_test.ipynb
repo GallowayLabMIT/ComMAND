{
 "cells": [
  {
   "cell_type": "code",
   "execution_count": null,
   "metadata": {},
   "outputs": [],
   "source": [
    "using Catalyst, DifferentialEquations, Distributions, CairoMakie"
   ]
  },
  {
   "cell_type": "code",
   "execution_count": null,
   "metadata": {},
   "outputs": [],
   "source": [
    "CN_distribution = truncated(Gamma(0.57, 120))\n",
    "\n",
    "support = range(-5,300, length=300)\n",
    "lines(support, pdf.(CN_distribution, support); axis=(; title=\"Copy number distribution\", xlabel=\"CN\", ylabel=\"P[CN]\"))"
   ]
  },
  {
   "cell_type": "code",
   "execution_count": null,
   "metadata": {},
   "outputs": [],
   "source": [
    "single_iFFL_rn = @reaction_network single_transcript_iFFL begin\n",
    "    @parameters begin\n",
    "        α_im=4.67e-2 #Transcription rate constant [1/s]\n",
    "        δ_im=2.88e-4 #Immature mRNA degradation rate constant [1/s]\n",
    "        δ_m=2.88e-4 #Mature mRNA degradation rate constant [1/s]\n",
    "        δ_mi=2.88e-4 #miRNA degradation rate constant [1/s]\n",
    "        δ_p=9.67e-5 #Protein degradation rate constant [1/s] \n",
    "        α_p=3.33e-4 #Translation rate constant [1/s]\n",
    "        ζ=0.0 #Translation efficiency for RISC complex [unitless], Range: 0 to 1\n",
    "        r_splicing=2.0e-3 #Splicing rate constant [1/s]\n",
    "        r_drosha=1e-2 #pri-miRNA processing rate constant [1/s] \n",
    "        r_dicer=1e-3 #pre-miRNA processing rate constant [1/s]\n",
    "        k_miRNA_bind=1e-5 #miRNA-RISC binding rate constant [1/mol*s]\n",
    "        k_miRNA_deg=2.16e-5 #miRNA-RISC unbinding rate constant [1/s]\n",
    "        k_mRNA_bind=1.84e-6 #RISC complex formation rate constant[1/mol*s]\n",
    "        k_mRNA_unbind=0.303 #RISC complex deformation rate constant [1/s]\n",
    "        k_deg=7e-3 #RISC-mediated mRNA degradation rate constant [1/s]\n",
    "    end\n",
    "    \n",
    "    # Transcription\n",
    "    α_im, gene --> immature_mRNA + gene #Set copy number as the initial number of \"gene\"\n",
    "    α_im, gene --> ctl_mRNA + gene\n",
    "    # Degradation of products\n",
    "    δ_im, immature_mRNA --> ∅\n",
    "    δ_m, mRNA --> ∅\n",
    "    δ_m, ctl_mRNA --> ∅\n",
    "    δ_mi, miRNA --> ∅\n",
    "    δ_p, protein --> ∅\n",
    "    δ_p, ctl_protein --> ∅\n",
    "    # Production of protein\n",
    "    α_p, mRNA --> protein + mRNA\n",
    "    α_p, ctl_mRNA --> ctl_protein + ctl_mRNA\n",
    "    α_p * ζ, risc_miRNA_mRNA --> protein + risc_miRNA_mRNA\n",
    "    # Splicing\n",
    "    r_splicing, immature_mRNA --> mRNA + pri_miRNA\n",
    "    # miRNA processing\n",
    "    r_drosha, pri_miRNA --> pre_miRNA # drosha\n",
    "    r_dicer, pre_miRNA --> miRNA # dicer\n",
    "    # Knockdown\n",
    "    k_miRNA_bind, risc + miRNA --> risc_miRNA\n",
    "    k_miRNA_deg, risc_miRNA --> risc\n",
    "    (k_mRNA_bind, k_mRNA_unbind), risc_miRNA + mRNA <--> risc_miRNA_mRNA\n",
    "    k_deg, risc_miRNA_mRNA --> risc_miRNA\n",
    "end"
   ]
  },
  {
   "cell_type": "code",
   "execution_count": null,
   "metadata": {},
   "outputs": [],
   "source": [
    "species(single_iFFL_rn)"
   ]
  },
  {
   "cell_type": "code",
   "execution_count": null,
   "metadata": {},
   "outputs": [],
   "source": [
    "u0 = [:gene => 100, :risc => 10000, :immature_mRNA => 0, :ctl_mRNA => 0, :miRNA => 0, :mRNA => 0, :protein => 0, :ctl_protein => 0, :pri_miRNA => 0, :pre_miRNA => 0, :risc_miRNA => 0, :risc_miRNA_mRNA => 0]\n",
    "tspan = (0., 100000.)\n",
    "dprob = DiscreteProblem(single_iFFL_rn, u0, tspan)\n",
    "jprob = JumpProblem(single_iFFL_rn, dprob, Direct(), save_positions=(false,false))\n",
    "sol = solve(jprob, SSAStepper(), saveat=1000.)"
   ]
  },
  {
   "cell_type": "code",
   "execution_count": null,
   "metadata": {},
   "outputs": [],
   "source": [
    "plot(sol[6,:], label=\"regulated gene\";    \n",
    "    figure = (; size = (400, 400)),\n",
    "    axis = (; title = \"stochastic simulation\", xlabel = \"time\", ylabel = \"protein expression\"))\n",
    "plot!(sol[7,:], label=\"unregulated gene\")\n",
    "axislegend(position=:lt)\n",
    "current_figure()"
   ]
  },
  {
   "cell_type": "code",
   "execution_count": null,
   "metadata": {},
   "outputs": [],
   "source": [
    "CN = floor(rand(CN_distribution))\n",
    "u0 = [:gene => CN, :risc => 10000, :immature_mRNA => 0, :ctl_mRNA => 0, :miRNA => 0, :mRNA => 0, :protein => 0, :ctl_protein => 0, :pri_miRNA => 0, :pre_miRNA => 0, :risc_miRNA => 0, :risc_miRNA_mRNA => 0]\n",
    "tspan = (0., 100000.)\n",
    "dprob = DiscreteProblem(single_iFFL_rn, u0, tspan)\n",
    "jprob = JumpProblem(single_iFFL_rn, dprob, Direct(), save_positions=(false,false))\n",
    "sol = solve(jprob, SSAStepper(), saveat=1000.)"
   ]
  },
  {
   "cell_type": "code",
   "execution_count": null,
   "metadata": {},
   "outputs": [],
   "source": [
    "plot(sol[6,:], label=\"regulated gene\";    \n",
    "    figure = (; size = (400, 400)),\n",
    "    axis = (; title = \"stochastic simulation CN=\"*string(CN), xlabel = \"time\", ylabel = \"protein expression\"))\n",
    "plot!(sol[7,:], label=\"unregulated gene\")\n",
    "axislegend(position=:lt)\n",
    "current_figure()"
   ]
  },
  {
   "cell_type": "code",
   "execution_count": null,
   "metadata": {},
   "outputs": [],
   "source": [
    "function prob_func(prob,i,repeat)\n",
    "    remake(prob, u0 = [:gene => floor(rand(CN_distribution)), :risc => 10000, :immature_mRNA => 0, :ctl_mRNA => 0, :miRNA => 0, :mRNA => 0, :protein => 0, :ctl_protein => 0, :pri_miRNA => 0, :pre_miRNA => 0, :risc_miRNA => 0, :risc_miRNA_mRNA => 0])\n",
    "end\n",
    "\n",
    "function output_func(sol, i)\n",
    "    [sol[:,6:7]], false\n",
    "end\n",
    "\n",
    "u0 = [:gene => floor(rand(CN_distribution)), :risc => 10000, :immature_mRNA => 0, :ctl_mRNA => 0, :miRNA => 0, :mRNA => 0, :protein => 0, :ctl_protein => 0, :pri_miRNA => 0, :pre_miRNA => 0, :risc_miRNA => 0, :risc_miRNA_mRNA => 0]\n",
    "tspan = (0., 100000.)\n",
    "jprob = JumpProblem(single_iFFL_rn, DiscreteProblem(single_iFFL_rn, u0, tspan), Direct(), save_positions=(false,false))\n",
    "eprob = EnsembleProblem(jprob, prob_func=prob_func)\n",
    "solns = solve(eprob, SSAStepper(); trajectories=50, saveat=1000.)"
   ]
  },
  {
   "cell_type": "code",
   "execution_count": null,
   "metadata": {},
   "outputs": [],
   "source": [
    "figure = Figure(size = (600, 400))\n",
    "axis = Axis(figure[1, 1], title = \"stochastic simulations\", xlabel = \"time\", ylabel = \"protein expression\")\n",
    "for sol in solns\n",
    "    lines!(axis, sol[6,:], color=(:blue, 0.5), label=\"regulated gene\")\n",
    "    lines!(axis, sol[7,:], color=(:gray, 0.5), label=\"unregulated gene\")\n",
    "end\n",
    "current_figure()"
   ]
  },
  {
   "cell_type": "code",
   "execution_count": null,
   "metadata": {},
   "outputs": [],
   "source": [
    "function prob_func(prob,i,repeat)\n",
    "    remake(prob, u0 = [:gene => floor(rand(CN_distribution)), :risc => 10000, :immature_mRNA => 0, :ctl_mRNA => 0, :miRNA => 0, :mRNA => 0, :protein => 0, :ctl_protein => 0, :pri_miRNA => 0, :pre_miRNA => 0, :risc_miRNA => 0, :risc_miRNA_mRNA => 0])\n",
    "end\n",
    "\n",
    "function output_func(sol, i)\n",
    "    [sol.u[end,:]], false\n",
    "end\n",
    "\n",
    "u0 = [:gene => floor(rand(CN_distribution)), :risc => 10000, :immature_mRNA => 0, :ctl_mRNA => 0, :miRNA => 0, :mRNA => 0, :protein => 0, :ctl_protein => 0, :pri_miRNA => 0, :pre_miRNA => 0, :risc_miRNA => 0, :risc_miRNA_mRNA => 0]\n",
    "tspan = (0., 10000.)\n",
    "jprob = JumpProblem(single_iFFL_rn, DiscreteProblem(single_iFFL_rn, u0, tspan), Direct(), save_positions=(false,false))\n",
    "eprob = EnsembleProblem(jprob, prob_func=prob_func, output_func=output_func, safetycopy=false)\n",
    "solns = solve(eprob, SSAStepper(), EnsembleThreads(); trajectories=1000)"
   ]
  },
  {
   "cell_type": "code",
   "execution_count": null,
   "metadata": {},
   "outputs": [],
   "source": [
    "reg_vec = zeros(1000)\n",
    "unreg_vec = zeros(1000)\n",
    "cn_vec = zeros(1000)\n",
    "for j = 1:lastindex(solns)\n",
    "    reg_vec[j] = solns[j][1][1][6]\n",
    "    unreg_vec[j] = solns[j][1][1][7]\n",
    "    cn_vec[j] = solns[j][1][1][1]\n",
    "end\n",
    "display(cn_vec)"
   ]
  },
  {
   "cell_type": "code",
   "execution_count": null,
   "metadata": {},
   "outputs": [],
   "source": [
    "f = Figure()\n",
    "ax1 = Axis(f[1,1],title=\"Single transcript iFFL: 10,000 RISC\", xlabel = \"Copy Number\", ylabel = \"Protein Expression\",limits = (nothing, nothing, -10, 150000))\n",
    "s1 = scatter!(ax1, cn_vec,unreg_vec, color=(:gray, 0.5), label=\"unregulated gene\")\n",
    "s2 = scatter!(ax1, cn_vec,reg_vec, color=(:blue, 0.5), label=\"regulated gene\")\n",
    "axislegend(position=:lt)\n",
    "ax2 = Axis(f[1,2],limits = (nothing, nothing, -10, 150000))\n",
    "linkyaxes!(ax1,ax2)\n",
    "d1 = density!(unreg_vec, color=(:gray, 0.5), direction = :y)\n",
    "d2 = density!(reg_vec, color=(:blue, 0.5), direction = :y)\n",
    "xlims!(ax2, low = 0)\n",
    "hidedecorations!(ax2, grid = false)\n",
    "colsize!(f.layout, 1, Auto(3))\n",
    "save(\"jl_output/2024.05.08_modeling/single_transcript_10000_risc.svg\",f)\n",
    "current_figure()"
   ]
  }
 ],
 "metadata": {
  "kernelspec": {
   "display_name": "Julia 1.10.0",
   "language": "julia",
   "name": "julia-1.10"
  },
  "language_info": {
   "file_extension": ".jl",
   "mimetype": "application/julia",
   "name": "julia"
  }
 },
 "nbformat": 4,
 "nbformat_minor": 2
}
