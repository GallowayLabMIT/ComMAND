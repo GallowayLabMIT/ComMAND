{
 "cells": [
  {
   "cell_type": "code",
   "execution_count": null,
   "metadata": {},
   "outputs": [],
   "source": [
    "import base\n",
    "import matplotlib.pyplot as plt\n",
    "import numpy as np\n",
    "import pandas as pd\n",
    "import rushd as rd\n",
    "import scipy as sp\n",
    "import seaborn as sns\n",
    "\n",
    "# enables concurrent editing of base.py\n",
    "from importlib import reload\n",
    "reload(base)\n",
    "\n",
    "sns.set_style('ticks')\n",
    "sns.set_context('talk',rc={'font.family': 'sans-serif', 'font.sans-serif':['Helvetica Neue']})"
   ]
  },
  {
   "cell_type": "markdown",
   "metadata": {},
   "source": [
    "## Setup\n",
    "\n",
    "- Load data\n",
    "- Add metadata\n",
    "- Draw gates\n",
    "- Gate transfected cells\n",
    "\n",
    "Result from this section: DataFrame `df` representing transfected cells."
   ]
  },
  {
   "cell_type": "code",
   "execution_count": null,
   "metadata": {},
   "outputs": [],
   "source": [
    "base_path = rd.datadir/'instruments'/'data'/'attune'/'Emma'\n",
    "\n",
    "exp11_path = base_path/'2022.10.11_EXP11'/'Data'\n",
    "exp11_controls_path = base_path/'2022.10.11_EXP10'/'data_controls'\n",
    "exp49_path = base_path/'2024.04.06_EXP11_replicates'/'Plate_1_EXP49'/'data_singlets'\n",
    "exp50_path = base_path/'2024.04.06_EXP11_replicates'/'Plate_2_EXP50'/'data_singlets'\n",
    "exp49_50_controls_path = base_path/'2024.04.06_EXP11_replicates'/'Plate_3_Controls'/'data_singlets'\n",
    "\n",
    "plates = pd.DataFrame({\n",
    "    'data_path': [exp11_path, exp11_controls_path, exp49_path, exp50_path, exp49_50_controls_path],\n",
    "    'yaml_path': [exp11_path/'wells-metadata.yaml', exp11_controls_path/'wells_metadata.yaml', exp49_path/'wells-metadata.yaml', exp50_path/'wells-metadata.yaml', exp49_50_controls_path/'wells_metadata.yaml']\n",
    "})\n",
    "\n",
    "output_path = rd.rootdir/'output'/'miRNA-TS-characterization'\n",
    "cache_path = rd.rootdir/'output'/'miRNA-TS-characterization'/'data.gzip'\n",
    "\n",
    "metadata_keys = set()\n",
    "for p in plates['yaml_path'].unique():\n",
    "    print(p)\n",
    "    rd.plot.plot_well_metadata(p)\n",
    "    metadata_keys.update(rd.flow.load_well_metadata(p).keys())\n",
    "display(metadata_keys)"
   ]
  },
  {
   "cell_type": "code",
   "execution_count": null,
   "metadata": {},
   "outputs": [],
   "source": [
    "# Load data\n",
    "data = pd.DataFrame()\n",
    "if cache_path.is_file(): data = pd.read_parquet(cache_path)\n",
    "else: \n",
    "    channel_list = ['mRuby2-A','FSC-A','SSC-A','mGL-A']\n",
    "    data = rd.flow.load_groups_with_metadata(plates, columns=channel_list)\n",
    "\n",
    "    # Remove negative channel values\n",
    "    for c in channel_list: data = data[data[c]>0]\n",
    "    \n",
    "    data.dropna(inplace=True)\n",
    "    data.to_parquet(rd.outfile(cache_path))\n",
    "#display(data)"
   ]
  },
  {
   "cell_type": "code",
   "execution_count": null,
   "metadata": {},
   "outputs": [],
   "source": [
    "def get_light_color(color):\n",
    "    return sns.light_palette(color, 4)[1]\n",
    "\n",
    "def get_medium_color(color):\n",
    "    return sns.light_palette(color, 4)[2]\n",
    "\n",
    "def get_metadata(miR_path, TS_path):\n",
    "    miR_metadata = pd.read_excel(miR_path)\n",
    "    TS_metadata = pd.read_excel(TS_path)\n",
    "\n",
    "    metadata = miR_metadata.merge(TS_metadata, how=\"cross\")\n",
    "\n",
    "    miR_palette = {\n",
    "    'FF3': base.colors['red'],     # FF3 intron\n",
    "    'FF4': base.colors['pink'],     # FF4 intron\n",
    "    'FF5': base.colors['purple'],     # FF5 intron\n",
    "    'FF6': base.colors['teal'],      # FF6 intron\n",
    "    'na':base.colors['black']\n",
    "    }\n",
    "\n",
    "    # Apply colors\n",
    "    metadata['color'] = metadata['miR'].replace(miR_palette)\n",
    "    metadata.loc[(metadata['rep-construct']=='pEP033') | (metadata['rep-construct']=='pEP038'), 'color'] = base.colors['red']\n",
    "    metadata.loc[(metadata['rep-construct']=='NT'), 'color'] = base.colors['black']\n",
    "    metadata.loc[(metadata['rep-construct']=='pEP043') & (metadata['miR-construct']=='na'), 'color'] = base.colors['green']\n",
    "    metadata.loc[((metadata['ts-num']==0) & (metadata['miR']!='na')), 'color'] = base.colors['gray']\n",
    "\n",
    "    # Change shades\n",
    "    metadata.loc[(metadata['ts-num']==4), 'color'] = metadata.loc[(metadata['ts-num']==4), 'color'].apply(get_light_color)\n",
    "    metadata.loc[(metadata['ts-num']==2), 'color'] = metadata.loc[(metadata['ts-num']==2), 'color'].apply(get_medium_color)\n",
    "\n",
    "    return metadata\n",
    "\n",
    "metadata = get_metadata(rd.datadir/'projects'/'miR-iFFL'/'plasmids'/'miRNA-metadata.xlsx',rd.datadir/'projects'/'miR-iFFL'/'plasmids'/'reporter-metadata.xlsx')\n",
    "#display(metadata)\n",
    "data = data.merge(metadata, how='left', on=['rep-construct','miR-construct'])\n",
    "display(data)\n",
    "\n",
    "# Create dicts to specify colors/markers\n",
    "metadata_dict = metadata.set_index(['miR','ts-num']).to_dict('dict')\n",
    "construct_palette = metadata_dict['color']"
   ]
  },
  {
   "cell_type": "markdown",
   "metadata": {},
   "source": [
    "Draw mRuby2 gate on untransfected population and gate for transfected cells"
   ]
  },
  {
   "cell_type": "code",
   "execution_count": null,
   "metadata": {},
   "outputs": [],
   "source": [
    "gates = pd.DataFrame()\n",
    "for channel in ['mGL-A', 'mRuby2-A']:\n",
    "    gates[channel] = data[data['rep-construct']=='NT'].groupby(['Biorep'])[channel].apply(lambda x: x.quantile(0.999))\n",
    "gates.reset_index(inplace=True)\n",
    "\n",
    "gates.sort_values(['Biorep'], inplace=True)\n",
    "gates['marker'] = ['mRuby2-A']*3\n",
    "gates['output'] = ['mGL-A']*3\n",
    "\n",
    "display(gates)"
   ]
  },
  {
   "cell_type": "code",
   "execution_count": null,
   "metadata": {},
   "outputs": [],
   "source": [
    "def gate_data(df, gates):\n",
    "    df = df.copy()\n",
    "    exp = df['Biorep'].values[0] # the same for entire df, assuming df = data.groupby('exp')\n",
    "    gates_dict = gates.set_index('Biorep').to_dict('dict') # format: column -> {index: value}\n",
    "    marker = gates_dict['marker'][exp]\n",
    "    df['expressing'] = df[marker] > gates_dict[marker][exp]\n",
    "    df['marker'] = df[marker]\n",
    "    df['output'] = df[gates_dict['output'][exp]]\n",
    "    return df\n",
    "\n",
    "data = data.groupby('Biorep')[data.columns].apply(lambda x: gate_data(x,gates))\n",
    "data.reset_index(inplace=True, drop=True)\n",
    "max = 1e6\n",
    "promoter_order = {k:v for k,v in enumerate(['hPGK.d','CMV'])}\n",
    "df = data[(data['expressing']) & (data['output']<max)].sort_values(by='miR-promoter', key=lambda x: x.map(promoter_order))\n",
    "display(df)"
   ]
  },
  {
   "cell_type": "markdown",
   "metadata": {},
   "source": [
    "### Transfection marker binning"
   ]
  },
  {
   "cell_type": "code",
   "execution_count": null,
   "metadata": {},
   "outputs": [],
   "source": [
    "df = df.loc[(df['miR-construct']!='na')]\n",
    "\n",
    "# Bin by transfection marker\n",
    "min_count = 100\n",
    "df['bin_marker'] = df.groupby(['rep-construct','miR-construct','Biorep'])['marker'].transform(lambda x: pd.cut(x, np.logspace(2,6,15)))\n",
    "df['remove_bin'] = df.groupby(['rep-construct','miR-construct','Biorep','bin_marker'])['bin_marker'].transform(lambda x: x.count() < min_count)\n",
    "df_binned = df.loc[df['remove_bin']==False]\n",
    "df_binned['marker'] = df_binned['marker'].astype(float)\n",
    "df_binned['output'] = df_binned['output'].astype(float)\n",
    "\n",
    "# Group and compute stats\n",
    "stat_list = [np.mean, np.std, sp.stats.gmean, sp.stats.gstd, sp.stats.variation]\n",
    "grouped = df_binned.groupby(by=['rep-construct','miR-construct','Biorep','bin_marker'])\n",
    "stats_bin = grouped[['marker','output']].agg(stat_list).reset_index().dropna()\n",
    "\n",
    "# Rename columns as 'col_stat'\n",
    "stats_bin.columns = stats_bin.columns.map(lambda i: base.rename_multilevel_cols(i))\n",
    "stats_bin['count'] = grouped['marker'].count().reset_index()['marker']\n",
    "stats_bin = stats_bin.merge(metadata, how='left', on=['rep-construct','miR-construct'])\n",
    "\n",
    "# Compute mean/median on bin span\n",
    "df_binned['bin_marker_mean'] = df_binned['bin_marker'].map(lambda x: np.mean([x.left, x.right]))\n",
    "df_binned['bin_marker_median'] = df_binned['bin_marker'].map(lambda x: np.median([x.left, x.right]))\n",
    "stats_bin['bin_marker_mean'] = stats_bin['bin_marker'].map(lambda x: np.mean([x.left, x.right]))\n",
    "stats_bin['bin_marker_median'] = stats_bin['bin_marker'].map(lambda x: np.median([x.left, x.right]))\n",
    "\n",
    "display(stats_bin)"
   ]
  },
  {
   "cell_type": "code",
   "execution_count": null,
   "metadata": {},
   "outputs": [],
   "source": [
    "# Normalize output to gmean of output in smallest bin, and normalize marker bin by smallest bin\n",
    "def normalize_output(df):\n",
    "    df = df.copy()\n",
    "    normalizer = sp.stats.gmean(df.loc[(df['bin_marker_median']==df['bin_marker_median'].min()), 'output'])\n",
    "    df['output_norm'] = df['output'].astype(float) / normalizer\n",
    "    df['bin_marker_median_norm'] = df['bin_marker_median'].astype(float) / df['bin_marker_median'].min()\n",
    "    return df\n",
    "\n",
    "by = ['rep-construct','miR-construct','Biorep']\n",
    "df_binned = df_binned.groupby(by)[df_binned.columns].apply(normalize_output).reset_index(drop=True)\n",
    "display(df_binned)"
   ]
  },
  {
   "cell_type": "code",
   "execution_count": null,
   "metadata": {},
   "outputs": [],
   "source": [
    "# Cache data\n",
    "df_binned.loc[:, ~df_binned.columns.isin(['color','bin_marker'])].to_parquet(rd.outfile(output_path/'df_binned.gzip'))"
   ]
  },
  {
   "cell_type": "code",
   "execution_count": null,
   "metadata": {},
   "outputs": [],
   "source": [
    "ts_num_palette = {\n",
    "    0: base.colors['gray'],\n",
    "    1: base.colors['red'],\n",
    "    2: get_medium_color(base.colors['red']),#base.colors['blue'],\n",
    "    4: get_light_color(base.colors['red'])#base.colors['purple']\n",
    "}\n",
    "\n",
    "g = sns.relplot(data=df_binned, row = 'miR-promoter', col='miR', facet_kws=dict(sharex=True, sharey=True, margin_titles=True,), kind='line',\n",
    "                height=4, aspect=0.75, x='bin_marker_median', y='output_norm', hue='ts-num', #row_order=[0,1,2,3], \n",
    "                legend=True, dashes=False, palette=ts_num_palette,\n",
    "                estimator=sp.stats.gmean, errorbar=lambda x: (sp.stats.gmean(x) / sp.stats.gstd(x), sp.stats.gmean(x) * sp.stats.gstd(x)))\n",
    "g.set(xscale='log', yscale='log', ylim=(2e-1,2e3),xlabel='mRuby2 (MFI)',ylabel='mGL (MFI)')\n",
    "g.set_titles(col_template=\"miR-{col_name}\", row_template=\"miR promoter = {row_name}\")\n",
    "g.legend.set_title(\"TS#\")\n",
    "sns.despine()\n",
    "for name, ax in g.axes_dict.items(): ax.grid()\n",
    "g.figure.savefig(rd.outfile(output_path/(f'line_gmean.svg')), bbox_inches='tight')\n",
    "g.figure.savefig(rd.outfile(output_path/(f'line_gmean.png')), bbox_inches='tight')"
   ]
  },
  {
   "cell_type": "markdown",
   "metadata": {},
   "source": [
    "### Histograms"
   ]
  },
  {
   "cell_type": "code",
   "execution_count": null,
   "metadata": {},
   "outputs": [],
   "source": [
    "g = sns.displot(data=df.loc[df['miR-construct']!='na'], x='output', hue='ts-num', palette=ts_num_palette, row = 'miR-promoter', col='miR', kind='kde',\n",
    "                facet_kws=dict(margin_titles=True, sharex=True, sharey=True), log_scale=True, legend=True, common_norm=False,height=4, aspect=0.75,\n",
    "                col_order = ['FF3','FF4','FF5','FF6'])\n",
    "g.set(xlabel='mGL (MFI)')\n",
    "g.set_titles(col_template=\"miR-{col_name}\", row_template=\"miR promoter = {row_name}\")\n",
    "g.legend.set_title(\"TS#\")\n",
    "g.figure.savefig(rd.outfile(output_path/(f'hist.svg')), bbox_inches='tight')\n",
    "g.figure.savefig(rd.outfile(output_path/(f'hist.png')), bbox_inches='tight')"
   ]
  }
 ],
 "metadata": {
  "kernelspec": {
   "display_name": "env",
   "language": "python",
   "name": "python3"
  },
  "language_info": {
   "codemirror_mode": {
    "name": "ipython",
    "version": 3
   },
   "file_extension": ".py",
   "mimetype": "text/x-python",
   "name": "python",
   "nbconvert_exporter": "python",
   "pygments_lexer": "ipython3"
  }
 },
 "nbformat": 4,
 "nbformat_minor": 2
}
