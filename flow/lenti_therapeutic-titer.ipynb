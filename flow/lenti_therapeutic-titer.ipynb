{
 "cells": [
  {
   "cell_type": "code",
   "execution_count": null,
   "metadata": {},
   "outputs": [],
   "source": [
    "import base\n",
    "import matplotlib\n",
    "import matplotlib.pyplot as plt\n",
    "import numpy as np\n",
    "import pandas as pd\n",
    "from pathlib import Path\n",
    "import rushd as rd\n",
    "import scipy as sp\n",
    "import seaborn as sns\n",
    "\n",
    "from importlib import reload\n",
    "reload(base)\n",
    "\n",
    "sns.set_style('ticks')\n",
    "sns.set_context('talk',rc={'font.family': 'sans-serif', 'font.sans-serif':['Helvetica Neue']})"
   ]
  },
  {
   "cell_type": "code",
   "execution_count": null,
   "metadata": {},
   "outputs": [],
   "source": [
    "# Setup data loading\n",
    "base_path = rd.datadir/'instruments'/'data'/'attune'/'kasey'\n",
    "plates = pd.DataFrame({\n",
    "    'data_path': [base_path/'2024.11.07_exp117.4'/'export'/f'plate{n}' for n in range(1,4)],\n",
    "    'yaml_path': [base_path/'2024.11.07_exp117.4'/'export'/'wells.yaml']*3,\n",
    "    'biorep': range(1,4)\n",
    "})\n",
    "output_path = rd.rootdir/'output'/'lenti_therapeutic-titer'\n",
    "cache_path = output_path/'lenti_therapeutic-titer.gzip'\n",
    "\n",
    "for p in plates['yaml_path'].unique():\n",
    "    rd.plot.plot_well_metadata(p)"
   ]
  },
  {
   "cell_type": "code",
   "execution_count": null,
   "metadata": {},
   "outputs": [],
   "source": [
    "# Load data\n",
    "data = pd.DataFrame()\n",
    "channel_list = ['mRuby2-A','mGL-A']\n",
    "\n",
    "if cache_path.exists(): data = pd.read_parquet(cache_path)\n",
    "else: \n",
    "    data = rd.flow.load_groups_with_metadata(plates, columns=channel_list)\n",
    "    for c in channel_list: data = data[data[c]>0]\n",
    "    data.to_parquet(rd.outfile(cache_path))\n",
    "display(data)"
   ]
  },
  {
   "cell_type": "markdown",
   "metadata": {},
   "source": [
    "### Calculate titer\n",
    "`rd.flow.moi` takes:\n",
    "\n",
    "1. A DataFrame with the following columns:\n",
    "\n",
    "    - condition\n",
    "    - replicate\n",
    "    - starting_cell_count\n",
    "    - scaling (dilution factor relative to max_virus)\n",
    "    - max_virus\n",
    "\n",
    "2. Information to gate infected cells\n",
    "\n",
    "    - color_column_name (channel to gate on)\n",
    "    - color_column_cutoff (gate)\n",
    "\n",
    "3. Optional parameters\n",
    "\n",
    "    - output_path (where to save the plots)\n",
    "    - summary_method (mean/median of replicates)"
   ]
  },
  {
   "cell_type": "code",
   "execution_count": null,
   "metadata": {},
   "outputs": [],
   "source": [
    "# Create columns for rd.flow.moi\n",
    "data['condition'] = data['construct']\n",
    "data['starting_cell_count'] = 2e4\n",
    "data['max_virus'] = 4"
   ]
  },
  {
   "cell_type": "code",
   "execution_count": null,
   "metadata": {},
   "outputs": [],
   "source": [
    "# Draw gates on uninfected population\n",
    "gates = pd.DataFrame()\n",
    "channel_list = ['mGL-A', 'mRuby2-A']\n",
    "for channel in channel_list:\n",
    "    gates[channel] = data[data['condition']=='UI'].groupby(['biorep'])[channel].apply(lambda x: x.quantile(0.995))\n",
    "gates.reset_index(inplace=True)"
   ]
  },
  {
   "cell_type": "code",
   "execution_count": null,
   "metadata": {},
   "outputs": [],
   "source": [
    "display(gates)"
   ]
  },
  {
   "cell_type": "code",
   "execution_count": null,
   "metadata": {},
   "outputs": [],
   "source": [
    "plot_df = data[(data['condition']=='UI')]\n",
    "x = 'mGL-A'\n",
    "y = 'mRuby2-A'\n",
    "g = sns.displot(data=plot_df, x=x, y=y, kind='kde', col='biorep',\n",
    "                log_scale=True, hue='construct', legend=False, color=base.colors['gray'],\n",
    "                common_norm=False, fill=False, levels=7, facet_kws=dict(margin_titles=True))\n",
    "\n",
    "for biorep, ax in g.axes_dict.items():\n",
    "    gate = gates[(gates['biorep']==biorep)]\n",
    "    if gate.empty: continue\n",
    "    ax.axvline(gate[x].values[0], color='black', zorder=0)\n",
    "    ax.axhline(gate[y].values[0], color='black', zorder=0)\n",
    "\n",
    "g.figure.savefig(rd.outfile(output_path/'kde_mGL-mRuby2_UI-gates.png'))"
   ]
  },
  {
   "cell_type": "code",
   "execution_count": null,
   "metadata": {},
   "outputs": [],
   "source": [
    "for biorep, group in data.groupby('biorep'):\n",
    "\n",
    "    plot_df = group[(group['scaling']==1)].groupby('condition').sample(1000)\n",
    "\n",
    "    g = sns.displot(data=plot_df, x='mGL-A', y='mRuby2-A', col='condition', col_wrap=4, kind='kde',\n",
    "                    log_scale=True, common_norm=False, fill=False, levels=7,\n",
    "                    hue='construct')\n",
    "    \n",
    "    gate = gates[(gates['biorep']==biorep)]\n",
    "    if gate.empty: continue\n",
    "\n",
    "    for _, ax in g.axes_dict.items():\n",
    "        ax.axvline(gate[x].values[0], color='black', zorder=0)\n",
    "        ax.axhline(gate[y].values[0], color='black', zorder=0)\n",
    "\n",
    "    g.figure.savefig(rd.outfile(output_path/f'kde_mGL-mRuby2_by-construct-with-gates_biorep{biorep}.png'))"
   ]
  },
  {
   "cell_type": "code",
   "execution_count": null,
   "metadata": {},
   "outputs": [],
   "source": [
    "# Add marker/output metadata\n",
    "data['marker'] = data['mGL-A']\n",
    "data.loc[data['construct'].isin(['RC809','RC810','RC811']), 'marker'] = data.loc[data['construct'].isin(['RC809','RC810','RC811']), 'mRuby2-A']\n",
    "\n",
    "data['output'] = data['mRuby2-A']\n",
    "data.loc[data['construct'].isin(['RC809','RC810','RC811']), 'output'] = data.loc[data['construct'].isin(['RC809','RC810','RC811']), 'mGL-A']"
   ]
  },
  {
   "cell_type": "code",
   "execution_count": null,
   "metadata": {},
   "outputs": [],
   "source": [
    "# Categorize cells into quadrants based on two gates\n",
    "# Possible values:\n",
    "#   0 = double negative\n",
    "#   1 = x-positive\n",
    "#   2 = y-positive\n",
    "#   3 = double positive\n",
    "def get_quadrant(df, x, y, gates):\n",
    "    gate_x = gates.loc[(gates['biorep']==df['biorep'].values[0]), x]\n",
    "    gate_y = gates.loc[(gates['biorep']==df['biorep'].values[0]), y]\n",
    "    df['x'] = data[x] > gate_x.values[0]\n",
    "    df['y'] = data[y] > gate_y.values[0]\n",
    "    df['quadrant'] = df['x'].astype(int) + df['y'].astype(int)*2\n",
    "    return df\n",
    "\n",
    "x = 'mGL-A'\n",
    "y = 'mRuby2-A'\n",
    "data = data.groupby(['biorep'])[data.columns].apply(lambda df: get_quadrant(df, x, y, gates))\n",
    "data.reset_index(drop=True, inplace=True)\n",
    "display(data)"
   ]
  },
  {
   "cell_type": "code",
   "execution_count": null,
   "metadata": {},
   "outputs": [],
   "source": [
    "# Gate on marker-positive cells to calculate titer\n",
    "#   RC806-8 on mGL: x-positive (1) or double-positive (3)\n",
    "#   RC809-11 on mRuby2: y-positive (2) or double-positive (3)\n",
    "\n",
    "data['gated'] = data['quadrant'] > 1.5\n",
    "data.loc[data['construct'].isin(['RC806','RC807','RC808']), 'gated'] = data.loc[data['construct'].isin(['RC806','RC807','RC808']), 'quadrant'].isin([1,3])\n",
    "display(data)"
   ]
  },
  {
   "cell_type": "code",
   "execution_count": null,
   "metadata": {},
   "outputs": [],
   "source": [
    "# Calculate titer\n",
    "df_titer = data.groupby(['biorep'])[data.columns].apply(lambda df: rd.flow.moi(df, 'gated', 0.5))\n",
    "df_titer.reset_index(inplace=True)\n",
    "display(df_titer)"
   ]
  }
 ],
 "metadata": {
  "kernelspec": {
   "display_name": "env",
   "language": "python",
   "name": "python3"
  },
  "language_info": {
   "codemirror_mode": {
    "name": "ipython",
    "version": 3
   },
   "file_extension": ".py",
   "mimetype": "text/x-python",
   "name": "python",
   "nbconvert_exporter": "python",
   "pygments_lexer": "ipython3"
  }
 },
 "nbformat": 4,
 "nbformat_minor": 2
}
