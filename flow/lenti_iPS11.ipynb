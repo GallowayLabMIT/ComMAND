{
 "cells": [
  {
   "cell_type": "code",
   "execution_count": null,
   "metadata": {},
   "outputs": [],
   "source": [
    "import base\n",
    "import matplotlib\n",
    "import matplotlib.pyplot as plt\n",
    "import numpy as np\n",
    "import pandas as pd\n",
    "from pathlib import Path\n",
    "import rushd as rd\n",
    "import scipy as sp\n",
    "import seaborn as sns\n",
    "\n",
    "from importlib import reload\n",
    "reload(base)\n",
    "\n",
    "sns.set_style('ticks')\n",
    "sns.set_context('talk',rc={'font.family': 'sans-serif', 'font.sans-serif':['Helvetica Neue']})"
   ]
  },
  {
   "cell_type": "code",
   "execution_count": null,
   "metadata": {},
   "outputs": [],
   "source": [
    "# Setup data loading\n",
    "base_path = rd.datadir/'instruments'/'data'/'attune'/'kasey'\n",
    "plates = pd.DataFrame({\n",
    "    'data_path': [base_path/'2024.10.03_exp116'/'export'/'plate2', base_path/'2024.10.21_exp116.2'/'export'],\n",
    "    'yaml_path': [base_path/'2024.10.03_exp116'/'export'/'plate2'/'exp116_wells.yaml', base_path/'2024.10.21_exp116.2'/'export'/'wells.yaml'],\n",
    "})\n",
    "output_path = rd.rootdir/'output'/'lenti_iPS11'\n",
    "cache_path = output_path/'lenti_iPS11.gzip'\n",
    "\n",
    "for p in plates['yaml_path'].unique():\n",
    "    rd.plot.plot_well_metadata(p)"
   ]
  },
  {
   "cell_type": "code",
   "execution_count": null,
   "metadata": {},
   "outputs": [],
   "source": [
    "# Load data\n",
    "data = pd.DataFrame()\n",
    "channel_list = ['mRuby2-A','mGL-A']\n",
    "\n",
    "if cache_path.exists(): data = pd.read_parquet(cache_path)\n",
    "else: \n",
    "    data = rd.flow.load_groups_with_metadata(plates, columns=channel_list)\n",
    "    for c in channel_list: data = data[data[c]>0]\n",
    "    data.to_parquet(rd.outfile(cache_path))\n",
    "display(data)"
   ]
  },
  {
   "cell_type": "code",
   "execution_count": null,
   "metadata": {},
   "outputs": [],
   "source": [
    "# Add metadata for constructs\n",
    "metadata = base.get_metadata(rd.datadir/'projects'/'miR-iFFL'/'plasmids'/'construct-metadata.xlsx')\n",
    "data = data.merge(metadata, how='left', on='construct')\n",
    "display(data)"
   ]
  },
  {
   "cell_type": "code",
   "execution_count": null,
   "metadata": {},
   "outputs": [],
   "source": [
    "# Create dicts to specify colors/markers\n",
    "metadata_dict = metadata.set_index('construct').to_dict('dict')\n",
    "main_palette = metadata_dict['color']\n",
    "main_markers = metadata_dict['markers']"
   ]
  },
  {
   "cell_type": "code",
   "execution_count": null,
   "metadata": {},
   "outputs": [],
   "source": [
    "gates = pd.DataFrame()\n",
    "channel_list = ['mGL-A', 'mRuby2-A',]\n",
    "for channel in channel_list:\n",
    "    gates[channel] = data[data['construct']=='UI'].groupby(['biorep'])[channel].apply(lambda x: x.quantile(0.9999))\n",
    "gates.reset_index(inplace=True)\n",
    "\n",
    "# Indicate which channels are relevant for each experiment\n",
    "gates['marker'] = 'mGL-A'\n",
    "gates['output'] = 'mRuby2-A'\n",
    "gates['marker'] = gates['mGL-A']\n",
    "gates['output'] = gates['mRuby2-A']\n",
    "gates['exp'] = gates['biorep']\n",
    "\n",
    "display(gates)"
   ]
  },
  {
   "cell_type": "code",
   "execution_count": null,
   "metadata": {},
   "outputs": [],
   "source": [
    "data['marker'] = data['mGL-A']\n",
    "data['output'] = data['mRuby2-A']\n",
    "data['exp'] = data['biorep']"
   ]
  },
  {
   "cell_type": "code",
   "execution_count": null,
   "metadata": {},
   "outputs": [],
   "source": [
    "plot_df = data[(data['dox']==1000) & (data['construct']!='UI')].groupby(['biorep','construct']).sample(1000)\n",
    "g = sns.displot(data=plot_df, x='marker', y='output', hue='construct', palette=main_palette, kind='kde',\n",
    "                row='biorep', col='group', facet_kws=dict(margin_titles=True),\n",
    "                log_scale=True, common_norm=False, levels=8)\n",
    "\n",
    "for (biorep, construct), ax in g.axes_dict.items():\n",
    "    ax.axvline(gates.loc[gates['biorep']==biorep, 'marker'].values[0], c='black', ls=':', zorder=0)\n",
    "    ax.axvline(2e3, c='black', ls=':', zorder=0)\n",
    "    ax.axhline(gates.loc[gates['biorep']==biorep, 'output'].values[0], c='black', ls=':', zorder=0)"
   ]
  },
  {
   "cell_type": "code",
   "execution_count": null,
   "metadata": {},
   "outputs": [],
   "source": [
    "gates['marker'] = [2e3]*3"
   ]
  },
  {
   "cell_type": "code",
   "execution_count": null,
   "metadata": {},
   "outputs": [],
   "source": [
    "# Gate data by marker expression\n",
    "def gate_data(df, gates):\n",
    "    df = df.copy()\n",
    "    exp = df['exp'].values[0] # the same for entire df, assuming df = data.groupby('exp')\n",
    "    gates_dict = gates.set_index('exp').to_dict('dict') # format: column -> {index: value}\n",
    "    df['expressing'] = df['marker'] > gates_dict['marker'][exp]\n",
    "    return df\n",
    "\n",
    "data = data.groupby('exp')[data.columns].apply(lambda x: gate_data(x,gates))\n",
    "data.reset_index(inplace=True, drop=True)\n",
    "df = data[(data['expressing']) & (data['construct']!='UI') & (data['marker']>0) & (data['output']>0)]"
   ]
  },
  {
   "cell_type": "code",
   "execution_count": null,
   "metadata": {},
   "outputs": [],
   "source": [
    "display(df[df['biorep']==3])"
   ]
  },
  {
   "cell_type": "code",
   "execution_count": null,
   "metadata": {},
   "outputs": [],
   "source": [
    "# Bin data and calculate statistics\n",
    "df_quantiles, stats, _, fits = base.calculate_bins_stats(df)\n",
    "stats = stats.merge(metadata, how='left', on='construct')\n",
    "fits = fits.merge(metadata, how='left', on='construct')"
   ]
  },
  {
   "cell_type": "code",
   "execution_count": null,
   "metadata": {},
   "outputs": [],
   "source": [
    "biorep = 2\n",
    "plot_df = df_quantiles[(df_quantiles['biorep']==biorep)]\n",
    "fig, axes = plt.subplots(1,2, gridspec_kw=dict(width_ratios=(1,0.3)))\n",
    "\n",
    "# line plot\n",
    "ax = axes[0]\n",
    "sns.lineplot(data=plot_df, x='bin_marker_quantiles_median', y='output', hue='construct', palette=main_palette, \n",
    "             legend=False, dashes=False, style='construct', markers=main_markers, ax=ax, markersize=9, markeredgewidth=1,\n",
    "             estimator=sp.stats.gmean, errorbar=lambda x: (sp.stats.gmean(x) / sp.stats.gstd(x), sp.stats.gmean(x) * sp.stats.gstd(x)))\n",
    "ax.set(xscale='log', yscale='log', xlabel='marker', ylim=(2e2,1e6), )#xlim=(2e3,3e4))\n",
    "sns.despine(ax=ax)\n",
    "marker_baseline = sp.stats.gmean(df_quantiles.loc[(df_quantiles['group']=='marker') & (df_quantiles['biorep']==biorep), 'output'])\n",
    "ax.axhline(marker_baseline, color='black', ls=':')\n",
    "ax.annotate('marker only', (ax.get_xlim()[1], marker_baseline), ha='right', va='bottom')\n",
    "\n",
    "# histogram\n",
    "ax = axes[1]\n",
    "sns.kdeplot(data=plot_df, y='output', hue='construct', palette=main_palette, \n",
    "             legend=False, log_scale=True, common_norm=False, ax=ax)\n",
    "sns.despine(ax=ax, bottom=True)\n",
    "ax.set(xlabel='', ylim=axes[0].get_ylim(), ylabel='', yticklabels=[])\n",
    "ax.get_xaxis().set_visible(False)"
   ]
  },
  {
   "cell_type": "code",
   "execution_count": null,
   "metadata": {},
   "outputs": [],
   "source": [
    "biorep = 1\n",
    "plot_df = df_quantiles[(df_quantiles['biorep']==biorep)]\n",
    "fig, axes = plt.subplots(1,2, gridspec_kw=dict(width_ratios=(1,0.3)))\n",
    "\n",
    "# line plot\n",
    "ax = axes[0]\n",
    "sns.lineplot(data=plot_df, x='bin_marker_quantiles_median', y='output', hue='construct', palette=main_palette, \n",
    "             legend=False, dashes=False, style='construct', markers=main_markers, ax=ax, markersize=9, markeredgewidth=1,\n",
    "             estimator=sp.stats.gmean, errorbar=lambda x: (sp.stats.gmean(x) / sp.stats.gstd(x), sp.stats.gmean(x) * sp.stats.gstd(x)))\n",
    "ax.set(xscale='log', yscale='log', xlabel='marker', ylim=(2e2,1e6))\n",
    "sns.despine(ax=ax)\n",
    "marker_baseline = sp.stats.gmean(df_quantiles.loc[(df_quantiles['group']=='marker') & (df_quantiles['biorep']==biorep), 'output'])\n",
    "ax.axhline(marker_baseline, color='black', ls=':')\n",
    "ax.annotate('marker only', (ax.get_xlim()[1], marker_baseline), ha='right', va='bottom')\n",
    "\n",
    "# histogram\n",
    "ax = axes[1]\n",
    "sns.kdeplot(data=plot_df, y='output', hue='construct', palette=main_palette, \n",
    "             legend=False, log_scale=True, common_norm=False, ax=ax)\n",
    "sns.despine(ax=ax, bottom=True)\n",
    "ax.set(xlabel='', ylim=axes[0].get_ylim(), ylabel='', yticklabels=[])\n",
    "ax.get_xaxis().set_visible(False)"
   ]
  },
  {
   "cell_type": "code",
   "execution_count": null,
   "metadata": {},
   "outputs": [],
   "source": [
    "biorep = 3\n",
    "plot_df = df_quantiles[(df_quantiles['biorep']==biorep)]\n",
    "fig, axes = plt.subplots(1,2, gridspec_kw=dict(width_ratios=(1,0.3)))\n",
    "\n",
    "# line plot\n",
    "ax = axes[0]\n",
    "sns.lineplot(data=plot_df, x='bin_marker_quantiles_median', y='output', hue='construct', palette=main_palette, \n",
    "             legend=False, dashes=False, style='construct', markers=main_markers, ax=ax, markersize=9, markeredgewidth=1,\n",
    "             estimator=sp.stats.gmean, errorbar=lambda x: (sp.stats.gmean(x) / sp.stats.gstd(x), sp.stats.gmean(x) * sp.stats.gstd(x)))\n",
    "ax.set(xscale='log', yscale='log', xlabel='marker', ylim=(2e2,1e6))\n",
    "sns.despine(ax=ax)\n",
    "marker_baseline = sp.stats.gmean(df_quantiles.loc[(df_quantiles['group']=='marker') & (df_quantiles['biorep']==biorep), 'output'])\n",
    "ax.axhline(marker_baseline, color='black', ls=':')\n",
    "ax.annotate('marker only', (ax.get_xlim()[1], marker_baseline), ha='right', va='bottom')\n",
    "\n",
    "# histogram\n",
    "ax = axes[1]\n",
    "sns.kdeplot(data=plot_df, y='output', hue='construct', palette=main_palette, \n",
    "             legend=False, log_scale=True, common_norm=False, ax=ax)\n",
    "sns.despine(ax=ax, bottom=True)\n",
    "ax.set(xlabel='', ylim=axes[0].get_ylim(), ylabel='', yticklabels=[])\n",
    "ax.get_xaxis().set_visible(False)"
   ]
  },
  {
   "cell_type": "code",
   "execution_count": null,
   "metadata": {},
   "outputs": [],
   "source": []
  }
 ],
 "metadata": {
  "kernelspec": {
   "display_name": "env",
   "language": "python",
   "name": "python3"
  },
  "language_info": {
   "codemirror_mode": {
    "name": "ipython",
    "version": 3
   },
   "file_extension": ".py",
   "mimetype": "text/x-python",
   "name": "python",
   "nbconvert_exporter": "python",
   "pygments_lexer": "ipython3"
  }
 },
 "nbformat": 4,
 "nbformat_minor": 2
}
