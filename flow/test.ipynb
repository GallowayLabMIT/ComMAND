{
 "cells": [
  {
   "cell_type": "code",
   "execution_count": null,
   "metadata": {},
   "outputs": [],
   "source": [
    "import itertools\n",
    "import pathlib\n",
    "from typing import Any, Dict, List, Optional, Tuple, Union\n",
    "\n",
    "# Support Python 3.7 by importing Literal from typing_extensions\n",
    "try:\n",
    "    from typing import Literal  # type: ignore\n",
    "except ImportError:\n",
    "    from typing_extensions import Literal\n",
    "\n",
    "import matplotlib\n",
    "import matplotlib.figure\n",
    "import matplotlib.pyplot as plt\n",
    "import numpy as np\n",
    "import pandas as pd\n",
    "import rushd as rd"
   ]
  },
  {
   "cell_type": "code",
   "execution_count": null,
   "metadata": {},
   "outputs": [],
   "source": [
    "df_labels = pd.DataFrame(\n",
    "    {\"category\": [\"cat_A\", \"cat_B\"], \"metadata1\": [\"foo\", \"bar\"], \"metadata2\": [\"-\", \"+\"]}\n",
    ")\n",
    "plt.plot([\"cat_A\", \"cat_B\"], [0, 1])\n",
    "rd.plot.generate_xticklabels(\n",
    "    df_labels, \"category\", [\"metadata1\", \"metadata2\"], linespacing=1\n",
    "    \n",
    ")\n",
    "plt.show()\n",
    "plt.close()"
   ]
  },
  {
   "cell_type": "code",
   "execution_count": null,
   "metadata": {},
   "outputs": [],
   "source": []
  }
 ],
 "metadata": {
  "kernelspec": {
   "display_name": "env",
   "language": "python",
   "name": "python3"
  },
  "language_info": {
   "codemirror_mode": {
    "name": "ipython",
    "version": 3
   },
   "file_extension": ".py",
   "mimetype": "text/x-python",
   "name": "python",
   "nbconvert_exporter": "python",
   "pygments_lexer": "ipython3"
  }
 },
 "nbformat": 4,
 "nbformat_minor": 2
}
