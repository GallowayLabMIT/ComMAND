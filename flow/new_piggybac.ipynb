{
 "cells": [
  {
   "cell_type": "code",
   "execution_count": null,
   "metadata": {},
   "outputs": [],
   "source": [
    "import base\n",
    "import matplotlib\n",
    "import matplotlib.pyplot as plt\n",
    "import numpy as np\n",
    "import pandas as pd\n",
    "from pathlib import Path\n",
    "import rushd as rd\n",
    "import scipy as sp\n",
    "import seaborn as sns\n",
    "\n",
    "from importlib import reload\n",
    "reload(base)\n",
    "\n",
    "sns.set_style('ticks')\n",
    "sns.set_context('talk',rc={'font.family': 'sans-serif', 'font.sans-serif':['Helvetica Neue']})"
   ]
  },
  {
   "cell_type": "code",
   "execution_count": null,
   "metadata": {},
   "outputs": [],
   "source": [
    "# Setup data loading\n",
    "base_path = rd.datadir/'instruments'/'data'/'attune'/'kasey'\n",
    "data_paths = [base_path/'2024.11.07_exp119'/'export', base_path/'2024.11.10_exp119_2'/'export', base_path/'2024.11.12_exp119.2'/'export', base_path/'2024.11.14_exp119.3'/'export']\n",
    "plates1 = pd.DataFrame({\n",
    "    'data_path': data_paths[:2],\n",
    "    'yaml_path': [p/'wells.yaml' for p in data_paths[:2]],\n",
    "    'exp': ['exp119', 'exp119_2']\n",
    "})\n",
    "plates2 = pd.DataFrame({\n",
    "    'data_path': data_paths[2:],\n",
    "    'yaml_path': [p/'wells.yaml' for p in data_paths[2:]],\n",
    "    'exp': ['exp119.2', 'exp119.3']\n",
    "})\n",
    "\n",
    "output_path = rd.rootdir/'output'/'new_piggybac'\n",
    "cache_path = output_path/'new_piggybac.gzip'\n",
    "\n",
    "for p in plates1['yaml_path'].unique():\n",
    "    rd.plot.plot_well_metadata(p)\n",
    "for p in plates2['yaml_path'].unique():\n",
    "    rd.plot.plot_well_metadata(p)"
   ]
  },
  {
   "cell_type": "code",
   "execution_count": null,
   "metadata": {},
   "outputs": [],
   "source": [
    "# Load data\n",
    "data = pd.DataFrame()\n",
    "channel_list = ['mRuby2-A','mGL-A']\n",
    "\n",
    "if cache_path.exists(): data = pd.read_parquet(cache_path)\n",
    "else: \n",
    "    data1 = rd.flow.load_groups_with_metadata(plates1, columns=channel_list)\n",
    "    data2 = rd.flow.load_groups_with_metadata(plates2, columns=channel_list+['mCherry-A'])\n",
    "    data2.rename(columns={'mRuby2-A': 'YL1-A', 'mCherry-A': 'mRuby2-A'}, inplace=True)\n",
    "\n",
    "    data = pd.concat([data1,data2], ignore_index=True)\n",
    "\n",
    "    for c in channel_list: data = data[data[c]>0]\n",
    "    data.to_parquet(rd.outfile(cache_path))\n",
    "display(data)"
   ]
  },
  {
   "cell_type": "code",
   "execution_count": null,
   "metadata": {},
   "outputs": [],
   "source": [
    "# Add metadata for constructs\n",
    "metadata = base.get_metadata(rd.datadir/'projects'/'miR-iFFL'/'plasmids'/'construct-metadata.xlsx')\n",
    "data = data.merge(metadata, how='left', on='construct')\n",
    "\n",
    "# Create dicts to specify colors/markers\n",
    "metadata_dict = metadata.set_index('construct').to_dict('dict')\n",
    "main_palette = metadata_dict['color']\n",
    "main_markers = metadata_dict['markers']"
   ]
  },
  {
   "cell_type": "code",
   "execution_count": null,
   "metadata": {},
   "outputs": [],
   "source": [
    "data['marker'] = data['mGL-A']\n",
    "data['output'] = data['mRuby2-A']"
   ]
  },
  {
   "cell_type": "code",
   "execution_count": null,
   "metadata": {},
   "outputs": [],
   "source": [
    "plot_df = data.groupby(['sort','biorep','construct']).sample(1000)\n",
    "g = sns.displot(data=plot_df, x='marker', y='output', hue='biorep', kind='kde',\n",
    "                row='sort', col='construct', facet_kws=dict(margin_titles=True),\n",
    "                log_scale=True, common_norm=False, levels=8)\n",
    "\n",
    "for (biorep, construct), ax in g.axes_dict.items():\n",
    "    ax.axvline(2e2, c='black', ls=':', zorder=0)"
   ]
  },
  {
   "cell_type": "code",
   "execution_count": null,
   "metadata": {},
   "outputs": [],
   "source": [
    "gates = pd.DataFrame({\n",
    "    'mRuby2-A': [2e2]*4,\n",
    "    'mGL-A': [2e2]*4,\n",
    "    'exp': ['exp119', 'exp119_2', 'exp119.2', 'exp119.3']\n",
    "})\n",
    "\n",
    "gates['marker'] = 'mGL-A'\n",
    "gates['output'] = 'mRuby2-A'\n",
    "display(gates)"
   ]
  },
  {
   "cell_type": "code",
   "execution_count": null,
   "metadata": {},
   "outputs": [],
   "source": [
    "data = data.groupby('exp')[data.columns].apply(lambda x: base.gate_data(x,gates))\n",
    "data.reset_index(inplace=True, drop=True)\n",
    "df = data[(data['expressing'])]\n",
    "display(df)"
   ]
  },
  {
   "cell_type": "code",
   "execution_count": null,
   "metadata": {},
   "outputs": [],
   "source": [
    "plot_df = df.groupby(['sort','biorep','construct']).sample(1000)\n",
    "g = sns.displot(data=plot_df, x='marker', y='output', hue='biorep', kind='kde',\n",
    "                row='sort', col='construct', facet_kws=dict(margin_titles=True),\n",
    "                log_scale=True, common_norm=False, levels=8)\n",
    "\n",
    "for (biorep, construct), ax in g.axes_dict.items():\n",
    "    ax.axvline(2e2, c='black', ls=':', zorder=0)"
   ]
  },
  {
   "cell_type": "code",
   "execution_count": null,
   "metadata": {},
   "outputs": [],
   "source": [
    "# Bin data and calculate statistics\n",
    "df_quantiles, stats, _, fits = base.calculate_bins_stats(df, stat_list=[sp.stats.gmean, np.std, sp.stats.variation], by=['construct','exp','sort','biorep'])\n",
    "stats = stats.merge(metadata, how='left', on='construct')\n",
    "fits = fits.merge(metadata, how='left', on='construct')"
   ]
  },
  {
   "cell_type": "code",
   "execution_count": null,
   "metadata": {},
   "outputs": [],
   "source": [
    "sort_num = 2\n",
    "biorep = 1\n",
    "plot_df = df_quantiles[(df_quantiles['sort']==sort_num) & (df_quantiles['biorep']==biorep)]\n",
    "fig, axes = plt.subplots(1,2, gridspec_kw=dict(width_ratios=(1,0.3)))\n",
    "\n",
    "# line plot\n",
    "ax = axes[0]\n",
    "sns.lineplot(data=plot_df, x='bin_marker_quantiles_median', y='output', hue='construct', palette=main_palette, \n",
    "             legend=False, dashes=False, style='construct', markers=main_markers, ax=ax, markersize=9, markeredgewidth=1,\n",
    "             estimator=sp.stats.gmean, errorbar=lambda x: (sp.stats.gmean(x) / sp.stats.gstd(x), sp.stats.gmean(x) * sp.stats.gstd(x)))\n",
    "ax.set(xscale='log', yscale='log', xlabel='marker',)\n",
    "sns.despine(ax=ax)\n",
    "marker_baseline = sp.stats.gmean(df_quantiles.loc[(df_quantiles['group']=='marker') & (df_quantiles['biorep']==biorep), 'output'])\n",
    "ax.axhline(marker_baseline, color='black', ls=':')\n",
    "ax.annotate('marker only', (ax.get_xlim()[1], marker_baseline), ha='right', va='bottom')\n",
    "\n",
    "# histogram\n",
    "ax = axes[1]\n",
    "sns.kdeplot(data=plot_df, y='output', hue='construct', palette=main_palette, \n",
    "             legend=False, log_scale=True, common_norm=False, ax=ax)\n",
    "sns.despine(ax=ax, bottom=True)\n",
    "ax.set(xlabel='', ylim=axes[0].get_ylim(), ylabel='', yticklabels=[])\n",
    "ax.get_xaxis().set_visible(False)"
   ]
  },
  {
   "cell_type": "code",
   "execution_count": null,
   "metadata": {},
   "outputs": [],
   "source": [
    "ts_label = {'na': 'base', 'NT': 'OL', 'T': 'CL', 'none': '–'}\n",
    "marker_list = ['o', 'v', 'D']"
   ]
  },
  {
   "cell_type": "code",
   "execution_count": null,
   "metadata": {},
   "outputs": [],
   "source": [
    "fig, axes = plt.subplots(1,3, figsize=(10,4), gridspec_kw=dict(wspace=0.5,))\n",
    "\n",
    "plot_df = stats\n",
    "plot_df2 = fits\n",
    "\n",
    "ax = axes[0]\n",
    "for num, group in plot_df.groupby('sort'):\n",
    "    sns.stripplot(data=group, x='ts_kind', y='output_gmean', hue='construct', palette=main_palette,\n",
    "                  legend=False, ax=ax, marker=marker_list[num-1], s=8, edgecolor='white', linewidth=1)\n",
    "ax.set(title='Mean', xlabel='', ylabel='', yscale='log', )#ylim=(1e3,2e4),)\n",
    "\n",
    "ax = axes[1]\n",
    "for num, group in plot_df.groupby('sort'):\n",
    "    sns.stripplot(data=group, x='ts_kind', y='output_std', hue='construct', palette=main_palette,\n",
    "                  legend=False, ax=ax, marker=marker_list[num-1], s=8, edgecolor='white', linewidth=1)\n",
    "ax.set(title='Std.', xlabel='', ylabel='', yscale='log', )#ylim=(1e3,2e4),)\n",
    "\n",
    "ax = axes[2]\n",
    "for num, group in plot_df2.groupby('sort'):\n",
    "    sns.stripplot(data=group, x='ts_kind', y='slope', hue='construct', palette=main_palette,\n",
    "                  legend=False, ax=ax, marker=marker_list[num-1], s=8, edgecolor='white', linewidth=1)\n",
    "ax.set(title='Slope', xlabel='', ylabel='',)\n",
    "\n",
    "# ax = axes[3]\n",
    "# for num, group in plot_df.groupby('sort'):\n",
    "#     sns.stripplot(data=group, x='ts_kind', y='output_variation', hue='construct', palette=main_palette,\n",
    "#                   legend=False, ax=ax, marker=marker_list[num-1], s=8, edgecolor='white', linewidth=1)\n",
    "# ax.set(title='CV', xlabel='', ylabel='',)\n",
    "\n",
    "for ax in axes:\n",
    "    ax.set_xticklabels([ts_label[x.get_text()] for x in ax.get_xticklabels()], rotation=45, ha='right',)\n",
    "    sns.despine(ax=ax)\n",
    "\n",
    "fig.savefig(rd.outfile(output_path/'stats.png'))"
   ]
  },
  {
   "cell_type": "code",
   "execution_count": null,
   "metadata": {},
   "outputs": [],
   "source": []
  },
  {
   "cell_type": "code",
   "execution_count": null,
   "metadata": {},
   "outputs": [],
   "source": []
  }
 ],
 "metadata": {
  "kernelspec": {
   "display_name": "env",
   "language": "python",
   "name": "python3"
  },
  "language_info": {
   "codemirror_mode": {
    "name": "ipython",
    "version": 3
   },
   "file_extension": ".py",
   "mimetype": "text/x-python",
   "name": "python",
   "nbconvert_exporter": "python",
   "pygments_lexer": "ipython3"
  }
 },
 "nbformat": 4,
 "nbformat_minor": 2
}
