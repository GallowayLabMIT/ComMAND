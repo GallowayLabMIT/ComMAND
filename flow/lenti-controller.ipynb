{
 "cells": [
  {
   "cell_type": "code",
   "execution_count": null,
   "metadata": {},
   "outputs": [],
   "source": [
    "import base\n",
    "import matplotlib.pyplot as plt\n",
    "import numpy as np\n",
    "import pandas as pd\n",
    "import rushd as rd\n",
    "import scipy.stats\n",
    "import seaborn as sns\n",
    "\n",
    "# enables concurrent editing of base.py\n",
    "from importlib import reload\n",
    "reload(base)\n",
    "\n",
    "sns.set_style('ticks')\n",
    "sns.set_context('talk',rc={'font.family': 'sans-serif', 'font.sans-serif':['Helvetica Neue']})"
   ]
  },
  {
   "cell_type": "markdown",
   "metadata": {},
   "source": [
    "## Setup\n",
    "\n",
    "- Load data\n",
    "- Add metadata\n",
    "- Draw gates\n",
    "- Gate transfected cells\n",
    "\n",
    "Result from this section: DataFrame `df` representing transfected cells."
   ]
  },
  {
   "cell_type": "markdown",
   "metadata": {},
   "source": [
    "Load all lenti collection data collected as of 2024.03.27"
   ]
  },
  {
   "cell_type": "code",
   "execution_count": null,
   "metadata": {},
   "outputs": [],
   "source": [
    "base_path = rd.datadir/'instruments'/'data'/'attune'/'kasey'/'2024.04.05_exp89'/'export'\n",
    "\n",
    "plates = pd.DataFrame({\n",
    "    'data_path': [base_path/'293T_control', base_path/'293T_plate1', base_path/'293T_plate2', base_path/'293T_plate3',\n",
    "                  base_path/'MEF_3_plate1', base_path/'MEF_4-1_plate1', base_path/'MEF_4-1_plate2', base_path/'MEF_4-1_plate3'],\n",
    "    'yaml_path': [base_path/'plate_control.yaml', base_path/'plate01.yaml', base_path/'plate02.yaml', base_path/'plate03.yaml',\n",
    "                  base_path/'mef_3_plate01.yaml', base_path/'mef_4-1_plate01.yaml', base_path/'mef_4-1_plate02.yaml', base_path/'mef_4-1_plate03.yaml'\n",
    "\n",
    "    ],\n",
    "})\n",
    "\n",
    "output_path = rd.rootdir/'output'/'lenti-exp89'\n",
    "cache_path = output_path/'data.gzip'\n",
    "\n",
    "metadata_keys = set()\n",
    "for p in plates['yaml_path'].unique():\n",
    "    print(p)\n",
    "    rd.plot.plot_well_metadata(p)\n",
    "    metadata_keys.update(rd.flow.load_well_metadata(p).keys())\n",
    "display(metadata_keys)"
   ]
  },
  {
   "cell_type": "code",
   "execution_count": null,
   "metadata": {},
   "outputs": [],
   "source": [
    "# Load data\n",
    "data = pd.DataFrame()\n",
    "if cache_path.is_file(): data = pd.read_parquet(cache_path)\n",
    "else: \n",
    "    channel_list = ['mCherry-A','mRuby2-A','FSC-A','SSC-A','tagBFP-A','mGL-A']\n",
    "    data = rd.flow.load_groups_with_metadata(plates, columns=channel_list)\n",
    "\n",
    "    # Remove negative channel values\n",
    "    for c in channel_list: data = data[data[c]>0]\n",
    "    \n",
    "    data.to_parquet(rd.outfile(cache_path))\n",
    "# Create dicts to specify colors/markers\n",
    "metadata = base.get_metadata(rd.datadir/'projects'/'miR-iFFL'/'plasmids'/'construct-metadata.xlsx')\n",
    "metadata['TS'] = metadata['ts_kind']\n",
    "metadata_dict = metadata.set_index('construct').to_dict('dict')\n",
    "construct_palette = metadata_dict['color']\n",
    "construct_markers = metadata_dict['markers']\n",
    "display(data)"
   ]
  },
  {
   "cell_type": "code",
   "execution_count": null,
   "metadata": {},
   "outputs": [],
   "source": [
    "gates = pd.DataFrame()\n",
    "for channel in ['mGL-A', 'mRuby2-A']:\n",
    "    gates[channel] = data[data['construct']=='untransfected'].groupby(['cell'])[channel].apply(lambda x: x.quantile(0.9998))\n",
    "gates.reset_index(inplace=True)\n",
    "\n",
    "# Indicate which channels are relevant for each experiment\n",
    "#gates.sort_values(['exp'], inplace=True)\n",
    "#gates['marker'] = ['tagBFP-A']*6 + ['mGL-A']*3\n",
    "#gates['output'] = ['mCherry-A']*6 + ['mRuby2-A']*3\n",
    "\n",
    "display(gates)"
   ]
  },
  {
   "cell_type": "markdown",
   "metadata": {},
   "source": [
    "Gate data based on the transfection marker\n",
    "\n",
    "n.b. we have to reuse the 293T gate for the MEFs because we didn't have untransfected MEFs :("
   ]
  },
  {
   "cell_type": "code",
   "execution_count": null,
   "metadata": {},
   "outputs": [],
   "source": [
    "g = sns.FacetGrid(data=data, hue='dox', row='construct', col='cell')\n",
    "g.map(sns.kdeplot, 'mGL-A', log_scale=True, common_norm=False)\n",
    "for ax in g.axes.flatten():\n",
    "    ax.axvline(gates.iloc[0]['mGL-A'], ls=':', color='k')"
   ]
  },
  {
   "cell_type": "code",
   "execution_count": null,
   "metadata": {},
   "outputs": [],
   "source": [
    "gated = data[(data['mGL-A'] > gates.iloc[0]['mGL-A']) & (data.construct != 'untransfected')].copy()\n",
    "display(gated)"
   ]
  },
  {
   "cell_type": "code",
   "execution_count": null,
   "metadata": {},
   "outputs": [],
   "source": [
    "g = sns.FacetGrid(data=gated, hue='dox', row='construct', col='cell')\n",
    "g.map(sns.kdeplot, 'mRuby2-A', log_scale=True, common_norm=False)"
   ]
  },
  {
   "cell_type": "markdown",
   "metadata": {},
   "source": [
    "### Binning\n",
    "For each cell type and dox condition, pick 30 quantiles to discretize into, and assign cells to corresponding bins.\n",
    "Then, groupby per condition on bins and compute gmeans"
   ]
  },
  {
   "cell_type": "code",
   "execution_count": null,
   "metadata": {},
   "outputs": [],
   "source": [
    "transfection_bin = gated.groupby(['cell', 'dox', 'construct']).apply(lambda df: pd.qcut(df['mGL-A'], 20, labels=range(20)), include_groups=False).reset_index().set_index('level_3')['mGL-A']\n",
    "gated['transfection_bin'] = transfection_bin"
   ]
  },
  {
   "cell_type": "code",
   "execution_count": null,
   "metadata": {},
   "outputs": [],
   "source": [
    "def compute_bin_gmeans(df):\n",
    "    # Calculate the gmean by bin\n",
    "    return df.loc[:, ('mGL-A', 'mRuby2-A')].apply(scipy.stats.gmean)\n",
    "bin_gmeans = (gated.groupby(['cell', 'dox', 'construct', 'lenti_293T_passage', 'transfection_bin'])\n",
    "      .apply(compute_bin_gmeans, include_groups=False)\n",
    "      .rename(columns={\"mGL-A\": \"mGL-bin-gmean\", \"mRuby2-A\": \"mRuby2-bin-gmean\"}).reset_index())\n",
    "gated = pd.merge(gated, bin_gmeans, on=['cell', 'dox', 'construct', 'lenti_293T_passage', 'transfection_bin'], validate=\"many_to_one\")"
   ]
  },
  {
   "cell_type": "code",
   "execution_count": null,
   "metadata": {},
   "outputs": [],
   "source": [
    "bin_gmeans"
   ]
  },
  {
   "cell_type": "code",
   "execution_count": null,
   "metadata": {},
   "outputs": [],
   "source": [
    "bin_gmeans"
   ]
  },
  {
   "cell_type": "code",
   "execution_count": null,
   "metadata": {},
   "outputs": [],
   "source": [
    "def compute_aspect_ratio_aoc(df):\n",
    "    \"\"\"Calculates both the \"aspect ratio\" and (normed) area under curve given summary gmean data\n",
    "\n",
    "    The aspect ratio is the fold change of mRuby2 divided by the fold change of mGL (infection reporter).\n",
    "    \n",
    "    The area under curve is a normalized area under curve which tells us something about\n",
    "    the concavity / convexity.\n",
    "\n",
    "    We drop the lower and upper 5% bins to make this more robust.\n",
    "    \"\"\"\n",
    "\n",
    "    indexed_gmeans = df.set_index('transfection_bin')\n",
    "    aspect_ratio = (indexed_gmeans.loc[18, \"mRuby2-bin-gmean\"] / indexed_gmeans.loc[1, \"mRuby2-bin-gmean\"]) / (indexed_gmeans.loc[18, \"mGL-bin-gmean\"] / indexed_gmeans.loc[1, \"mGL-bin-gmean\"])\n",
    "\n",
    "    # x axis\n",
    "    log_mGL = np.log(indexed_gmeans.loc[1:18, \"mGL-bin-gmean\"].values)\n",
    "    norm_log_mGL = (log_mGL - log_mGL[0]) / (log_mGL[-1] - log_mGL[0])\n",
    "    # y axis\n",
    "    log_mRuby2 = np.log(indexed_gmeans.loc[1:18, \"mRuby2-bin-gmean\"].values)\n",
    "    norm_log_mRuby2 = (log_mRuby2 - log_mRuby2[0]) / (log_mRuby2[-1] - log_mRuby2[0])\n",
    "    aoc = np.trapz(norm_log_mRuby2, norm_log_mGL)\n",
    "    return pd.DataFrame({\"aspect\": [aspect_ratio], \"aoc\": [aoc]})\n",
    "aspect_aoc = bin_gmeans[bin_gmeans.dox == 1000].groupby(['cell', 'dox', 'construct', 'lenti_293T_passage']).apply(compute_aspect_ratio_aoc).reset_index().drop(columns=[\"level_4\"])\n",
    "display(aspect_aoc)"
   ]
  },
  {
   "cell_type": "code",
   "execution_count": null,
   "metadata": {},
   "outputs": [],
   "source": [
    "sns.heatmap(aspect_aoc[aspect_aoc.lenti_293T_passage == 10].pivot(index=\"cell\", columns=\"construct\", values=\"aspect\"), cmap='viridis_r', vmin=0, vmax=1, square=True)\n",
    "plt.title('Aspect ratio (lower is better)')\n",
    "plt.show()\n",
    "sns.heatmap(aspect_aoc[aspect_aoc.lenti_293T_passage == 10].pivot(index=\"cell\", columns=\"construct\", values=\"aoc\"), cmap='RdYlGn', vmin=0, vmax=1, square=True)\n",
    "plt.title('AOC (greater than 0.5 is better)')\n",
    "plt.show()"
   ]
  },
  {
   "cell_type": "code",
   "execution_count": null,
   "metadata": {},
   "outputs": [],
   "source": [
    "g = sns.FacetGrid(data=gated[gated.dox == 1000], row='cell', col='construct', hue='lenti_293T_passage', margin_titles=True)\n",
    "g.map(sns.lineplot, 'mGL-bin-gmean', 'mRuby2-A')\n",
    "for ax in g.axes.flatten():\n",
    "    ax.set_xscale('log')\n",
    "    ax.set_yscale('log')"
   ]
  },
  {
   "cell_type": "code",
   "execution_count": null,
   "metadata": {},
   "outputs": [],
   "source": [
    "# Compute bin gmeans"
   ]
  },
  {
   "cell_type": "code",
   "execution_count": null,
   "metadata": {},
   "outputs": [],
   "source": [
    "summary_gmeans = gated.groupby(['cell', 'construct', 'dox', 'lenti_293T_passage', 'transfection_bin']).apply(lambda df: df.loc[:, ('mGL-A', 'mRuby2-A')].apply(scipy.stats.gmean), include_groups=False).reset_index()"
   ]
  },
  {
   "cell_type": "code",
   "execution_count": null,
   "metadata": {},
   "outputs": [],
   "source": [
    "summary_gmeans"
   ]
  },
  {
   "cell_type": "code",
   "execution_count": null,
   "metadata": {},
   "outputs": [],
   "source": [
    "metadata"
   ]
  },
  {
   "cell_type": "code",
   "execution_count": null,
   "metadata": {},
   "outputs": [],
   "source": [
    "g = sns.FacetGrid(data=summary_gmeans[summary_gmeans.dox == 1000], row='cell', col='construct', hue='lenti_293T_passage', margin_titles=True)\n",
    "g.map(sns.scatterplot, 'mGL-A', 'mRuby2-A')\n",
    "plt.show()\n",
    "g = sns.FacetGrid(data=summary_gmeans[summary_gmeans.dox == 1000], row='cell', col='construct', hue='lenti_293T_passage', margin_titles=True)\n",
    "g.map(sns.scatterplot, 'mGL-A', 'mRuby2-A')\n",
    "for ax in g.axes.flatten():\n",
    "    ax.set_xscale('log')\n",
    "    ax.set_yscale('log')\n",
    "plt.show()"
   ]
  },
  {
   "cell_type": "code",
   "execution_count": null,
   "metadata": {},
   "outputs": [],
   "source": [
    "metadata[(metadata.construct>='RC124') & (metadata.construct<='RC135')]"
   ]
  }
 ],
 "metadata": {
  "kernelspec": {
   "display_name": "env",
   "language": "python",
   "name": "python3"
  },
  "language_info": {
   "codemirror_mode": {
    "name": "ipython",
    "version": 3
   },
   "file_extension": ".py",
   "mimetype": "text/x-python",
   "name": "python",
   "nbconvert_exporter": "python",
   "pygments_lexer": "ipython3"
  }
 },
 "nbformat": 4,
 "nbformat_minor": 2
}
