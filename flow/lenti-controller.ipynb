{
 "cells": [
  {
   "cell_type": "code",
   "execution_count": null,
   "metadata": {},
   "outputs": [],
   "source": [
    "import base\n",
    "import matplotlib\n",
    "import matplotlib.pyplot as plt\n",
    "import numpy as np\n",
    "import pandas as pd\n",
    "import rushd as rd\n",
    "import scipy.stats\n",
    "import seaborn as sns\n",
    "\n",
    "# enables concurrent editing of base.py\n",
    "from importlib import reload\n",
    "reload(base)\n",
    "\n",
    "sns.set_style('ticks')\n",
    "sns.set_context('talk',rc={'font.family': 'sans-serif', 'font.sans-serif':['Helvetica Neue']})"
   ]
  },
  {
   "cell_type": "markdown",
   "metadata": {},
   "source": [
    "## Setup\n",
    "\n",
    "- Load data\n",
    "- Add metadata\n",
    "- Draw gates\n",
    "- Gate transfected cells\n",
    "\n",
    "Result from this section: DataFrame `df` representing transfected cells."
   ]
  },
  {
   "cell_type": "markdown",
   "metadata": {},
   "source": [
    "Load all lenti collection data collected as of 2024.03.27"
   ]
  },
  {
   "cell_type": "code",
   "execution_count": null,
   "metadata": {},
   "outputs": [],
   "source": [
    "base_path = rd.datadir/'instruments'/'data'/'attune'/'kasey'/'2024.04.05_exp89'/'export'\n",
    "\n",
    "plates = pd.DataFrame({\n",
    "    'data_path': [base_path/'293T_control', base_path/'293T_plate1', base_path/'293T_plate2', base_path/'293T_plate3',\n",
    "                  base_path/'MEF_3_plate1', base_path/'MEF_4-1_plate1', base_path/'MEF_4-1_plate2', base_path/'MEF_4-1_plate3'],\n",
    "    'yaml_path': [base_path/'plate_control.yaml', base_path/'plate01.yaml', base_path/'plate02.yaml', base_path/'plate03.yaml',\n",
    "                  base_path/'mef_3_plate01.yaml', base_path/'mef_4-1_plate01.yaml', base_path/'mef_4-1_plate02.yaml', base_path/'mef_4-1_plate03.yaml'\n",
    "\n",
    "    ],\n",
    "})\n",
    "\n",
    "output_path = rd.rootdir/'output'/'lenti-exp89'\n",
    "cache_path = output_path/'data.gzip'\n",
    "\n",
    "metadata_keys = set()\n",
    "for p in plates['yaml_path'].unique():\n",
    "    print(p)\n",
    "    rd.plot.plot_well_metadata(p)\n",
    "    metadata_keys.update(rd.flow.load_well_metadata(p).keys())\n",
    "display(metadata_keys)"
   ]
  },
  {
   "cell_type": "code",
   "execution_count": null,
   "metadata": {},
   "outputs": [],
   "source": [
    "# Load data\n",
    "data = pd.DataFrame()\n",
    "if cache_path.is_file(): data = pd.read_parquet(cache_path)\n",
    "else: \n",
    "    channel_list = ['mCherry-A','mRuby2-A','FSC-A','SSC-A','tagBFP-A','mGL-A']\n",
    "    data = rd.flow.load_groups_with_metadata(plates, columns=channel_list)\n",
    "\n",
    "    # Remove negative channel values\n",
    "    for c in channel_list: data = data[data[c]>0]\n",
    "    \n",
    "    data.to_parquet(rd.outfile(cache_path))\n",
    "# Create dicts to specify colors/markers\n",
    "metadata = base.get_metadata(rd.datadir/'projects'/'miR-iFFL'/'plasmids'/'construct-metadata.xlsx')\n",
    "metadata['TS'] = metadata['ts_kind']\n",
    "metadata_dict = metadata.set_index('construct').to_dict('dict')\n",
    "construct_palette = metadata_dict['color']\n",
    "construct_markers = metadata_dict['markers']\n",
    "display(data)"
   ]
  },
  {
   "cell_type": "code",
   "execution_count": null,
   "metadata": {},
   "outputs": [],
   "source": [
    "gates = pd.DataFrame()\n",
    "for channel in ['mGL-A', 'mRuby2-A']:\n",
    "    gates[channel] = data[data['construct']=='untransfected'].groupby(['cell'])[channel].apply(lambda x: x.quantile(0.9998))\n",
    "gates.reset_index(inplace=True)\n",
    "untransfected_mR2_gmean = scipy.stats.gmean(data[data.construct == 'untransfected']['mRuby2-A'])\n",
    "\n",
    "# Indicate which channels are relevant for each experiment\n",
    "#gates.sort_values(['exp'], inplace=True)\n",
    "#gates['marker'] = ['tagBFP-A']*6 + ['mGL-A']*3\n",
    "#gates['output'] = ['mCherry-A']*6 + ['mRuby2-A']*3\n",
    "\n",
    "display(gates)"
   ]
  },
  {
   "cell_type": "markdown",
   "metadata": {},
   "source": [
    "Gate data based on the transfection marker\n",
    "\n",
    "n.b. we have to reuse the 293T gate for the MEFs because we didn't have untransfected MEFs :("
   ]
  },
  {
   "cell_type": "code",
   "execution_count": null,
   "metadata": {},
   "outputs": [],
   "source": [
    "g = sns.FacetGrid(data=data, hue='dox', row='construct', col='cell')\n",
    "g.map(sns.kdeplot, 'mGL-A', log_scale=True, common_norm=False)\n",
    "for ax in g.axes.flatten():\n",
    "    ax.axvline(gates.iloc[0]['mGL-A'], ls=':', color='k')"
   ]
  },
  {
   "cell_type": "code",
   "execution_count": null,
   "metadata": {},
   "outputs": [],
   "source": [
    "gated = data[(data['mGL-A'] > gates.iloc[0]['mGL-A']) & (data.construct != 'untransfected')].copy()\n",
    "display(gated)"
   ]
  },
  {
   "cell_type": "code",
   "execution_count": null,
   "metadata": {},
   "outputs": [],
   "source": [
    "g = sns.FacetGrid(data=gated, hue='dox', row='construct', col='cell')\n",
    "g.map(sns.kdeplot, 'mRuby2-A', log_scale=True, common_norm=False)"
   ]
  },
  {
   "cell_type": "markdown",
   "metadata": {},
   "source": [
    "### Binning\n",
    "For each cell type and dox condition, pick 30 quantiles to discretize into, and assign cells to corresponding bins.\n",
    "Then, groupby per condition on bins and compute gmeans"
   ]
  },
  {
   "cell_type": "code",
   "execution_count": null,
   "metadata": {},
   "outputs": [],
   "source": [
    "n_quantiles = 20\n",
    "transfection_bin = gated.groupby(['cell', 'dox', 'construct']).apply(lambda df: pd.qcut(df['mGL-A'], n_quantiles, labels=np.linspace(0,1,n_quantiles, endpoint=False)), include_groups=False).reset_index().set_index('level_3')['mGL-A']\n",
    "gated['transfection_bin'] = transfection_bin"
   ]
  },
  {
   "cell_type": "code",
   "execution_count": null,
   "metadata": {},
   "outputs": [],
   "source": [
    "def compute_bin_gmeans(df):\n",
    "    # Calculate the gmean by bin\n",
    "    return df.loc[:, ('mGL-A', 'mRuby2-A')].apply(scipy.stats.gmean)\n",
    "bin_gmeans = (gated.groupby(['cell', 'dox', 'construct', 'lenti_293T_passage', 'transfection_bin'], observed=True)\n",
    "      .apply(compute_bin_gmeans, include_groups=False)\n",
    "      .rename(columns={\"mGL-A\": \"mGL-bin-gmean\", \"mRuby2-A\": \"mRuby2-bin-gmean\"}).reset_index())\n",
    "gated_with_bins = pd.merge(gated, bin_gmeans, on=['cell', 'dox', 'construct', 'lenti_293T_passage', 'transfection_bin'], validate=\"many_to_one\")"
   ]
  },
  {
   "cell_type": "code",
   "execution_count": null,
   "metadata": {},
   "outputs": [],
   "source": [
    "bin_gmeans.transfection_bin"
   ]
  },
  {
   "cell_type": "markdown",
   "metadata": {},
   "source": [
    "### Example of the aspect ratio and area under the curve\n",
    "1. Select a quantile range to select. Here, we use the 5% quantile to the 95% quantile range.\n",
    "2. Compute the fold change between these to get the aspect ratio"
   ]
  },
  {
   "cell_type": "code",
   "execution_count": null,
   "metadata": {},
   "outputs": [],
   "source": [
    "for construct, color in zip(['RC130', 'RC131'], ['gray', 'teal']):\n",
    "    palette={0: 'k', 1: color}\n",
    "    example_df = bin_gmeans[(bin_gmeans.cell == '293T') & (bin_gmeans.construct == construct) & (bin_gmeans.lenti_293T_passage == 10) & (bin_gmeans.dox == 1000)].copy()\n",
    "    example_df['in_range'] = (example_df.transfection_bin.astype(float) >= 0.05) & (example_df.transfection_bin.astype(float) <= 0.95)\n",
    "    indexed_df = example_df.set_index('transfection_bin')\n",
    "    ax = sns.scatterplot(data=example_df, x='mGL-bin-gmean', y='mRuby2-bin-gmean', hue='in_range', palette=palette, legend=None)\n",
    "\n",
    "    mGL_vals = indexed_df.iloc[1:19]['mGL-bin-gmean'].values\n",
    "    mRuby2_vals = indexed_df.iloc[1:19]['mRuby2-bin-gmean'].values\n",
    "    example_df['lognorm-mGL'] = (np.log(example_df['mGL-bin-gmean']) - np.log(np.min(mGL_vals))) / (np.log(np.max(mGL_vals)) - np.log(np.min(mGL_vals)))\n",
    "    example_df['lognorm-mRuby2'] = (np.log(example_df['mRuby2-bin-gmean']) - np.log(np.min(mRuby2_vals))) / (np.log(np.max(mRuby2_vals)) - np.log(np.min(mRuby2_vals)))\n",
    "    ax.add_patch(matplotlib.patches.Rectangle(\n",
    "        (np.min(mGL_vals), np.min(mRuby2_vals)),\n",
    "        np.max(mGL_vals) - np.min(mGL_vals),\n",
    "        np.max(mRuby2_vals) - np.min(mRuby2_vals),\n",
    "        facecolor='0.7',\n",
    "        edgecolor=None,\n",
    "        zorder=-10\n",
    "    ))\n",
    "    aspect_ratio =  (\n",
    "        (np.log(np.max(mRuby2_vals)) - np.log(np.min(mRuby2_vals))) /\n",
    "        (np.log(np.max(mGL_vals)) - np.log(np.min(mGL_vals)))\n",
    "    )\n",
    "    ax.text(0.02, 0.93, f'aspect ratio = {aspect_ratio:0.2f}', transform=ax.transAxes)\n",
    "    ax.set_xscale('log')\n",
    "    ax.set_yscale('log')\n",
    "    ax.set_xlim(3e2, 6e4)\n",
    "    ax.set_ylim(2e1, 3e3)\n",
    "    ax.set_aspect('equal')\n",
    "    plt.savefig(rd.outfile(rd.rootdir/'output'/'lenti-exp89'/f'aspect_explanation_{construct}.svg'), bbox_inches='tight')\n",
    "    plt.show()\n",
    "\n",
    "    # calculate the normalized plots\n",
    "    ax = sns.scatterplot(data=example_df, x='lognorm-mGL', y='lognorm-mRuby2', hue='in_range', palette=palette, legend=None)\n",
    "    sns.lineplot(data=example_df, x='lognorm-mGL', y='lognorm-mRuby2', color=color, ax=ax, legend=None)\n",
    "    ax.fill_between(example_df['lognorm-mGL'], example_df['lognorm-mRuby2'], color=color, alpha=0.2)\n",
    "    aoc = np.trapz(example_df['lognorm-mRuby2'].values, example_df['lognorm-mGL'].values)\n",
    "    ax.text(0.02, 0.93, f'AOC = {aoc:0.2f}', transform=ax.transAxes)\n",
    "    ax.set_xlim(0,1)\n",
    "    ax.set_ylim(0,1)\n",
    "    ax.set_aspect('equal')\n",
    "    plt.savefig(rd.outfile(rd.rootdir/'output'/'lenti-exp89'/f'aoc_explanation_{construct}.svg'), bbox_inches='tight')\n",
    "    plt.show()\n",
    "    "
   ]
  },
  {
   "cell_type": "code",
   "execution_count": null,
   "metadata": {},
   "outputs": [],
   "source": [
    "np.ones((2,2)) * np.ma.masked"
   ]
  },
  {
   "cell_type": "code",
   "execution_count": null,
   "metadata": {},
   "outputs": [],
   "source": [
    "def compute_aspect_ratio_aoc(df):\n",
    "    \"\"\"Calculates both the \"aspect ratio\" and (normed) area under curve given summary gmean data\n",
    "\n",
    "    The aspect ratio is the fold change of mRuby2 divided by the fold change of mGL (infection reporter).\n",
    "    \n",
    "    The area under curve is a normalized area under curve which tells us something about\n",
    "    the concavity / convexity.\n",
    "\n",
    "    We drop the lower and upper 5% bins to make this more robust.\n",
    "    \"\"\"\n",
    "\n",
    "    indexed_gmeans = df.set_index('transfection_bin')\n",
    "\n",
    "    mGL_vals = indexed_gmeans.iloc[1:19]['mGL-bin-gmean'].values\n",
    "    mRuby2_vals = indexed_gmeans.iloc[1:19]['mRuby2-bin-gmean'].values\n",
    "    lognorm_mGL = (np.log(mGL_vals) - np.log(np.min(mGL_vals))) / (np.log(np.max(mGL_vals)) - np.log(np.min(mGL_vals)))\n",
    "    lognorm_mRuby2 = (np.log(mRuby2_vals) - np.log(np.min(mRuby2_vals))) / (np.log(np.max(mRuby2_vals)) - np.log(np.min(mRuby2_vals)))\n",
    "\n",
    "    aspect_ratio =  (\n",
    "        (np.log(np.max(mRuby2_vals)) - np.log(np.min(mRuby2_vals))) /\n",
    "        (np.log(np.max(mGL_vals)) - np.log(np.min(mGL_vals)))\n",
    "    )\n",
    "\n",
    "    # x axis\n",
    "    aoc = np.trapz(lognorm_mRuby2, lognorm_mGL)\n",
    "    return pd.DataFrame({\"aspect\": [aspect_ratio], \"aoc\": [aoc]})\n",
    "aspect_aoc = bin_gmeans[bin_gmeans.dox == 1000].groupby(['cell', 'dox', 'construct', 'lenti_293T_passage']).apply(compute_aspect_ratio_aoc, include_groups=False).reset_index().drop(columns=[\"level_4\"])\n",
    "display(aspect_aoc)"
   ]
  },
  {
   "cell_type": "code",
   "execution_count": null,
   "metadata": {},
   "outputs": [],
   "source": [
    "def adjust_heatmap(ax, xspaces, yspaces, spacewidth=0.25):\n",
    "    \"\"\"\n",
    "    Adjust a generated heatmap, to add blank row/column spaces at specific locations.\n",
    "\n",
    "    First, to add spaces, we adjust the coordinate / plotted array to insert blank empty rows/columns.\n",
    "    Then, we mark those blank rectangles as masked, so they aren't drawn.\n",
    "    Finally, we update the axis limits and tick locations to match\n",
    "    \"\"\"\n",
    "    quadmesh = ax.get_children()[0]\n",
    "    coords = quadmesh._coordinates.astype('float64')\n",
    "    array = quadmesh.get_array()\n",
    "    for idx, loc in enumerate(xspaces):\n",
    "        coords = np.concatenate((coords[:,:(loc + idx),:], coords[:,[loc+idx],:], coords[:,(loc+idx):,:] + np.array([spacewidth,0.0]).reshape((1,1,2))), axis=1)\n",
    "        array = np.concatenate((array[:,:(loc + idx)], np.zeros(array[:,[loc+idx]].shape), array[:,(loc+idx):]), axis=1)\n",
    "    for idx, loc in enumerate(yspaces):\n",
    "        coords = np.concatenate((coords[:(loc + idx),:,:], coords[[loc+idx],:,:], coords[(loc+idx):,:,:] + np.array([0.0, spacewidth]).reshape((1,1,2))), axis=0)\n",
    "        array = np.concatenate((array[:(loc + idx),:], np.zeros(array[[loc+idx],:].shape), array[(loc+idx):,:]), axis=0)\n",
    "\n",
    "    for idx, loc in enumerate(xspaces):\n",
    "        array[:,loc+idx] = np.ma.masked\n",
    "    for idx, loc in enumerate(yspaces):\n",
    "        array[loc+idx,:] = np.ma.masked\n",
    "    \n",
    "    quadmesh._coordinates = coords\n",
    "    quadmesh.set_array(array)\n",
    "\n",
    "    ax.set_xlim(np.min(coords[:,:,0]), np.max(coords[:,:,0])+0.5)\n",
    "    ax.set_ylim(np.min(coords[:,:,1]), np.max(coords[:,:,1])+0.5)\n",
    "    xtick_locations = coords[0,:-1,0][~array.mask[0,:]] + 0.5\n",
    "    ax.set_xticks(xtick_locations, labels=ax.get_xticklabels())\n",
    "    ytick_locations = coords[:-1,0,1][~array.mask[:,0]] + 0.5\n",
    "    ax.set_yticks(ytick_locations, labels=ax.get_yticklabels())\n",
    "\n",
    "plot_df = aspect_aoc.copy()\n",
    "plot_df['condition'] = plot_df.cell + '_' + plot_df.lenti_293T_passage.map(str)\n",
    "ax = sns.heatmap(plot_df.pivot(index=\"condition\", columns=\"construct\", values=\"aspect\"), cmap='viridis_r', vmin=0, vmax=1, square=True)\n",
    "adjust_heatmap(ax, [6,8,10], [3,4])\n",
    "ax.set_title('Aspect ratio (lower is better)')\n",
    "rd.plot.generate_xticklabels(metadata, 'construct', ['ts_kind', 'design'], linespacing=1.4)\n",
    "ax.tick_params(axis='x', labelrotation=0)\n",
    "plt.savefig(rd.outfile(rd.rootdir/'output'/'lenti-exp89'/'aspect_ratio.svg'), bbox_inches='tight')\n",
    "plt.show()\n",
    "ax = sns.heatmap(plot_df.pivot(index=\"condition\", columns=\"construct\", values=\"aoc\"), cmap='RdYlGn', vmin=0, vmax=1, square=True)\n",
    "adjust_heatmap(ax, [6,8,10], [3,4])\n",
    "ax.set_title('AOC (greater than 0.5 is better)')\n",
    "rd.plot.generate_xticklabels(metadata, 'construct', ['ts_kind', 'design'], linespacing=1.4)\n",
    "ax.tick_params(axis='x', labelrotation=0)\n",
    "plt.savefig(rd.outfile(rd.rootdir/'output'/'lenti-exp89'/'aoc.svg'), bbox_inches='tight')\n",
    "plt.show()"
   ]
  },
  {
   "cell_type": "code",
   "execution_count": null,
   "metadata": {},
   "outputs": [],
   "source": [
    "g = sns.FacetGrid(data=bin_gmeans[bin_gmeans.dox == 1000], row='cell', col='construct', hue='lenti_293T_passage', margin_titles=True)\n",
    "g.map(sns.scatterplot, 'mGL-bin-gmean', 'mRuby2-bin-gmean')\n",
    "plt.savefig(rd.outfile(rd.rootdir/'output'/'lenti-exp89'/'raw_gmeans_linear.svg'), bbox_inches='tight')\n",
    "plt.show()\n",
    "g = sns.FacetGrid(data=bin_gmeans[bin_gmeans.dox == 1000], row='cell', col='construct', hue='lenti_293T_passage', margin_titles=True)\n",
    "g.map(sns.scatterplot, 'mGL-bin-gmean', 'mRuby2-bin-gmean')\n",
    "metadata_indexed = metadata.set_index('construct')\n",
    "for ax, construct in zip(g.axes.flatten(), [f'RC{i}' for i in range(124,136)] * 3):\n",
    "    ax.set_xscale('log')\n",
    "    ax.set_yscale('log')\n",
    "    ax.axhline(untransfected_mR2_gmean, color='k', ls=':', zorder=5)\n",
    "    ax.set_facecolor((metadata_indexed.loc[construct, 'color'], 0.2))\n",
    "plt.savefig(rd.outfile(rd.rootdir/'output'/'lenti-exp89'/'raw_gmeans_log.svg'), bbox_inches='tight')\n",
    "plt.show()"
   ]
  },
  {
   "cell_type": "code",
   "execution_count": null,
   "metadata": {},
   "outputs": [],
   "source": [
    "g = sns.FacetGrid(data=gated_with_bins[gated_with_bins.dox == 1000], row='cell', col='construct', hue='lenti_293T_passage', margin_titles=True, col_order=[f'RC{i}' for i in range(124,136)])\n",
    "g.map(sns.lineplot, 'mGL-bin-gmean', 'mRuby2-A', estimator=scipy.stats.gmean)\n",
    "for ax in g.axes.flatten():\n",
    "    ax.set_xscale('log')\n",
    "    ax.set_yscale('log')\n",
    "    ax.axhline(untransfected_mR2_gmean, color='k', ls=':', zorder=5)"
   ]
  },
  {
   "cell_type": "code",
   "execution_count": null,
   "metadata": {},
   "outputs": [],
   "source": [
    "metadata[(metadata.construct>='RC124') & (metadata.construct<='RC135')]"
   ]
  }
 ],
 "metadata": {
  "kernelspec": {
   "display_name": "env",
   "language": "python",
   "name": "python3"
  },
  "language_info": {
   "codemirror_mode": {
    "name": "ipython",
    "version": 3
   },
   "file_extension": ".py",
   "mimetype": "text/x-python",
   "name": "python",
   "nbconvert_exporter": "python",
   "pygments_lexer": "ipython3"
  }
 },
 "nbformat": 4,
 "nbformat_minor": 2
}
