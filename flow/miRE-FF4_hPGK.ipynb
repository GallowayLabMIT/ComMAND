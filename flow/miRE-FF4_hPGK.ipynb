{
 "cells": [
  {
   "cell_type": "code",
   "execution_count": null,
   "metadata": {},
   "outputs": [],
   "source": [
    "import base\n",
    "import matplotlib.pyplot as plt\n",
    "import numpy as np\n",
    "import pandas as pd\n",
    "import rushd as rd\n",
    "import scipy as sp\n",
    "import seaborn as sns\n",
    "\n",
    "# enables concurrent editing of base.py\n",
    "from importlib import reload\n",
    "reload(base)\n",
    "\n",
    "sns.set_style('ticks')\n",
    "sns.set_context('talk',rc={'font.family': 'sans-serif', 'font.sans-serif':['Helvetica Neue']})"
   ]
  },
  {
   "cell_type": "markdown",
   "metadata": {},
   "source": [
    "### Setup\n",
    "\n",
    "- Load data\n",
    "- Add metadata\n",
    "- Draw gates\n",
    "- Gate transfected cells\n",
    "\n",
    "Result from this section: DataFrame `df` representing transfected cells."
   ]
  },
  {
   "cell_type": "markdown",
   "metadata": {},
   "source": [
    "Load all transfection data related to circuit tuning (miR, num target sites, promoter)"
   ]
  },
  {
   "cell_type": "code",
   "execution_count": null,
   "metadata": {},
   "outputs": [],
   "source": [
    "base_path = rd.datadir/'instruments'/'data'/'attune'/'kasey'\n",
    "\n",
    "exp90_path = base_path/'2024.03.31_exp90'/'export'\n",
    "exp90_2_path = base_path/'2024.04.02_exp90.2'/'export'\n",
    "exp90_3_path = base_path/'2024.04.02_exp90.3'/'export'\n",
    "exp90_4_path = base_path/'2024.04.05_exp90.4'/'export'\n",
    "exp91_path = base_path/'2024.04.08_exp91'/'export'\n",
    "exp92_path = base_path/'2024.04.12_exp92'/'export'\n",
    "\n",
    "plates = pd.DataFrame({\n",
    "    'data_path': [exp90_path/'plate1', exp90_path/'plate2', \n",
    "                  exp90_2_path, exp90_4_path,\n",
    "                  exp90_3_path/'plate1', exp90_3_path/'plate2', \n",
    "                  exp91_path/'plate1.1', exp91_path/'plate1.2', exp91_path/'plate1.3', \n",
    "                  exp91_path/'plate2.1', exp91_path/'plate2.2', exp91_path/'plate2.3',\n",
    "                  exp92_path/'plate1.1', exp92_path/'plate1.2', exp92_path/'plate1.3', \n",
    "                  exp92_path/'plate2.1', exp92_path/'plate2.2', exp92_path/'plate2.3',],\n",
    "    \n",
    "    'yaml_path': ([exp90_path/'exp90_plate1_wells.yaml', exp90_path/'exp90_plate2_wells.yaml', \n",
    "                   exp90_path/'exp90_plate2_wells.yaml', exp90_path/'exp90_plate1_wells.yaml',\n",
    "                   exp90_path/'exp90_plate1_wells.yaml', exp90_path/'exp90_plate2_wells.yaml', ] +\n",
    "                  [exp91_path/'exp91_plate1_wells.yaml']*3 + \n",
    "                  [exp91_path/'exp91_plate2.1_wells.yaml', exp91_path/'exp91_plate2.2_wells.yaml', exp91_path/'exp91_plate2.3_wells.yaml'] +\n",
    "                  [exp92_path/'exp92_plate1_wells.yaml', exp92_path/'exp92_plate1.2_wells.yaml', exp92_path/'exp92_plate1_wells.yaml',\n",
    "                   exp92_path/'exp92_plate2_wells.yaml', exp92_path/'exp92_plate2.2_wells.yaml', exp92_path/'exp92_plate2_wells.yaml',]\n",
    "                  ),\n",
    "    \n",
    "    'biorep': ([1, 1, \n",
    "                2, 2, \n",
    "                3, 3,] + \n",
    "                [1, 2, 3,]*4),\n",
    "    \n",
    "    'exp': (['exp90', 'exp90', \n",
    "             'exp90.2', 'exp90.4', \n",
    "             'exp90.3', 'exp90.3',] + \n",
    "            ['exp91']*6 + \n",
    "            ['exp92']*6)\n",
    "})\n",
    "\n",
    "output_path = rd.rootdir/'output'/'tuning'\n",
    "cache_path = rd.rootdir/'output'/'tuning'/'data.gzip'\n",
    "\n",
    "metadata_keys = set()\n",
    "for p in plates['yaml_path'].unique():\n",
    "    rd.plot.plot_well_metadata(p)\n",
    "    metadata_keys.update(rd.flow.load_well_metadata(p).keys())\n",
    "display(metadata_keys)"
   ]
  },
  {
   "cell_type": "code",
   "execution_count": null,
   "metadata": {},
   "outputs": [],
   "source": [
    "# Load data\n",
    "data = pd.DataFrame()\n",
    "if cache_path.is_file(): data = pd.read_parquet(cache_path)\n",
    "else: \n",
    "    channel_list = ['mCherry-A','mRuby2-A','FSC-A','SSC-A','tagBFP-A','mGL-A']\n",
    "    data = rd.flow.load_groups_with_metadata(plates, columns=channel_list)\n",
    "\n",
    "    # Remove negative channel values\n",
    "    for c in channel_list: data = data[data[c]>0]\n",
    "    \n",
    "    data.dropna(inplace=True)\n",
    "    data.to_parquet(rd.outfile(cache_path))\n",
    "display(data)"
   ]
  },
  {
   "cell_type": "code",
   "execution_count": null,
   "metadata": {},
   "outputs": [],
   "source": [
    "# Add metadata for constructs\n",
    "metadata = base.get_metadata(rd.datadir/'projects'/'miR-iFFL'/'plasmids'/'construct-metadata.xlsx')\n",
    "data = data.merge(metadata, how='left', on='construct')\n",
    "display(data)\n",
    "\n",
    "# Create dicts to specify colors/markers\n",
    "metadata_dict = metadata.set_index('construct').to_dict('dict')\n",
    "construct_palette = metadata_dict['color']\n",
    "construct_markers = metadata_dict['markers']"
   ]
  },
  {
   "cell_type": "markdown",
   "metadata": {},
   "source": [
    "Draw gates based on untransfected population, then gate transfected cells"
   ]
  },
  {
   "cell_type": "code",
   "execution_count": null,
   "metadata": {},
   "outputs": [],
   "source": [
    "gates = pd.DataFrame()\n",
    "channel_list = ['tagBFP-A', 'mGL-A', 'mCherry-A', 'mRuby2-A']\n",
    "for channel in channel_list:\n",
    "    gates[channel] = data[data['construct']=='UT'].groupby(['exp'])[channel].apply(lambda x: x.quantile(0.999))\n",
    "gates.reset_index(inplace=True)\n",
    "\n",
    "# Add missing gates\n",
    "gates.loc[len(gates.index)] = ['exp90.4',0,0,0,0,]  \n",
    "gates.loc[gates['exp']=='exp90.4', channel_list] = gates.loc[gates['exp']=='exp90.2', channel_list].values\n",
    "\n",
    "# Indicate which channels are relevant for each experiment\n",
    "gates.sort_values(['exp'], inplace=True)\n",
    "gates['marker'] = 'mGL-A'\n",
    "gates['output'] = 'mRuby2-A'\n",
    "\n",
    "display(gates)"
   ]
  },
  {
   "cell_type": "markdown",
   "metadata": {},
   "source": [
    "Gate data per experiment based on transfection marker expression"
   ]
  },
  {
   "cell_type": "code",
   "execution_count": null,
   "metadata": {},
   "outputs": [],
   "source": [
    "data = data.groupby('exp')[data.columns].apply(lambda x: base.gate_data(x,gates))\n",
    "data.reset_index(inplace=True, drop=True)\n",
    "max = 1e6\n",
    "df = data[(data['expressing']) & (data['output']<max)]\n",
    "display(df)"
   ]
  },
  {
   "cell_type": "markdown",
   "metadata": {},
   "source": [
    "### Explore miRE-FF4 data"
   ]
  },
  {
   "cell_type": "code",
   "execution_count": null,
   "metadata": {},
   "outputs": [],
   "source": [
    "mir = 'miRE-FF4-hPGK'\n",
    "output_path = output_path/mir\n",
    "mir_df = df[(df['promoter']=='hPGK') & \n",
    "            ((df['group']=='base') | # no miR + no TS\n",
    "             ((df['group'].isin(['ts3', 'ts5'])) & (df['ts'].isin(['FF6x1', 'FF4x1']))) | # TS only\n",
    "             ((df['group']=='miR') & (df['miR']=='miRE.FF4')) | # miR only, controller\n",
    "             ((df['group']=='controller') & (df['miR']=='miRE.FF4') & (df['ts'].isin(['FF6x1', 'FF4x1'])))\n",
    "            )].copy()\n",
    "mir_df.sort_values('design', inplace=True)\n",
    "group_order = {'base': 1, 'miR': 2, 'ts3': 3, 'ts5': 4, 'controller': 5}\n",
    "mir_df.sort_values('group', key=lambda x: x.map(group_order), inplace=True)\n",
    "mir_df.sort_values('ts_kind', inplace=True)\n",
    "display(mir_df)\n",
    "\n",
    "group_order = {'base': 1, 'miR': 2, 'ts3': 3, 'ts5': 4, 'controller': 5}"
   ]
  },
  {
   "cell_type": "markdown",
   "metadata": {},
   "source": [
    "##### Calculate statistics on bulk & binned data"
   ]
  },
  {
   "cell_type": "code",
   "execution_count": null,
   "metadata": {},
   "outputs": [],
   "source": [
    "mir_df['marker'] = mir_df['marker'].astype(float)\n",
    "mir_df['output'] = mir_df['output'].astype(float)\n",
    "\n",
    "# Group and compute stats\n",
    "stat_list = [np.mean, np.std, sp.stats.gmean, sp.stats.gstd, sp.stats.variation]\n",
    "grouped = mir_df.groupby(by=['construct','biorep','exp'])\n",
    "stats = grouped[['marker','output']].agg(stat_list).reset_index().dropna()\n",
    "\n",
    "# Rename columns as 'col_stat'\n",
    "stats.columns = stats.columns.map(lambda i: base.rename_multilevel_cols(i))\n",
    "stats['count'] = grouped['marker'].count().reset_index()['marker']\n",
    "stats = stats.merge(metadata, how='left', on='construct')\n",
    "stats.sort_values(['design','ts_kind','ts_num'], inplace=True)\n",
    "\n",
    "display(stats)\n",
    "\n",
    "metadata['TS'] = metadata['ts_kind']\n",
    "stat_name = {'output_gmean': 'Geometric\\nmean', 'output_std': 'Standard\\ndeviation', 'output_variation': 'Coefficient\\nof variation'}"
   ]
  },
  {
   "cell_type": "code",
   "execution_count": null,
   "metadata": {},
   "outputs": [],
   "source": [
    "# Bin by transfection marker\n",
    "min_count = 100\n",
    "mir_df['bin_marker'] = mir_df.groupby(['construct','exp'])['marker'].transform(lambda x: pd.cut(x, np.logspace(2,6,15)))\n",
    "mir_df['remove_bin'] = mir_df.groupby(['construct','exp','bin_marker'])['bin_marker'].transform(lambda x: x.count() < min_count)\n",
    "df_binned = mir_df[~mir_df['remove_bin']].copy()\n",
    "df_binned['marker'] = df_binned['marker'].astype(float)\n",
    "df_binned['output'] = df_binned['output'].astype(float)\n",
    "\n",
    "# Group and compute stats\n",
    "stat_list = [np.mean, np.std, sp.stats.gmean, sp.stats.gstd, sp.stats.variation]\n",
    "grouped = df_binned.groupby(by=['construct','biorep','exp','bin_marker'])\n",
    "stats_bin = grouped[['marker','output']].agg(stat_list).reset_index().dropna()\n",
    "\n",
    "# Rename columns as 'col_stat'\n",
    "stats_bin.columns = stats_bin.columns.map(lambda i: base.rename_multilevel_cols(i))\n",
    "stats_bin['count'] = grouped['marker'].count().reset_index()['marker']\n",
    "stats_bin = stats_bin.merge(metadata, how='left', on='construct')\n",
    "\n",
    "# Compute mean/median on bin span\n",
    "df_binned['bin_marker_mean'] = df_binned['bin_marker'].map(lambda x: np.mean([x.left, x.right]))\n",
    "df_binned['bin_marker_median'] = df_binned['bin_marker'].map(lambda x: np.median([x.left, x.right]))\n",
    "stats_bin['bin_marker_mean'] = stats_bin['bin_marker'].map(lambda x: np.mean([x.left, x.right]))\n",
    "stats_bin['bin_marker_median'] = stats_bin['bin_marker'].map(lambda x: np.median([x.left, x.right]))\n",
    "\n",
    "display(stats_bin)"
   ]
  },
  {
   "cell_type": "code",
   "execution_count": null,
   "metadata": {},
   "outputs": [],
   "source": [
    "# Combine bioreps\n",
    "mir_df['remove_bin_combined'] = mir_df.groupby(['construct','bin_marker'])['bin_marker'].transform(lambda x: x.count() < min_count)\n",
    "df_binned_combined = mir_df[~mir_df['remove_bin_combined']].copy()\n",
    "\n",
    "stat_list = [np.mean, np.std, sp.stats.gmean, sp.stats.gstd, sp.stats.variation]\n",
    "grouped = df_binned_combined.groupby(by=['construct','bin_marker'])\n",
    "stats_bin_combined = grouped[['marker','output']].agg(stat_list).reset_index().dropna()\n",
    "\n",
    "stats_bin_combined.columns = stats_bin_combined.columns.map(lambda i: base.rename_multilevel_cols(i))\n",
    "stats_bin_combined['count'] = grouped['marker'].count().reset_index()['marker']\n",
    "stats_bin_combined = stats_bin_combined.merge(metadata, how='left', on='construct')\n",
    "\n",
    "df_binned_combined['bin_marker_mean'] = df_binned_combined['bin_marker'].map(lambda x: np.mean([x.left, x.right]))\n",
    "df_binned_combined['bin_marker_median'] = df_binned_combined['bin_marker'].map(lambda x: np.median([x.left, x.right]))\n",
    "stats_bin_combined['bin_marker_mean'] = stats_bin_combined['bin_marker'].map(lambda x: np.mean([x.left, x.right]))\n",
    "stats_bin_combined['bin_marker_median'] = stats_bin_combined['bin_marker'].map(lambda x: np.median([x.left, x.right]))"
   ]
  },
  {
   "cell_type": "code",
   "execution_count": null,
   "metadata": {},
   "outputs": [],
   "source": [
    "# Normalize output to gmean of output in smallest bin, and normalize marker bin by smallest bin\n",
    "def normalize_output(df):\n",
    "    df = df.copy()\n",
    "    normalizer = sp.stats.gmean(df.loc[(df['bin_marker_median']==df['bin_marker_median'].min()), 'output'])\n",
    "    df['output_norm'] = df['output'].astype(float) / normalizer\n",
    "    df['bin_marker_median_norm'] = df['bin_marker_median'].astype(float) / df['bin_marker_median'].min()\n",
    "    return df\n",
    "\n",
    "by = ['construct','biorep','exp']\n",
    "df_binned = df_binned.groupby(by)[df_binned.columns].apply(normalize_output).reset_index(drop=True)\n",
    "display(df_binned)\n",
    "\n",
    "# Cache data\n",
    "df_binned.loc[:, ~df_binned.columns.isin(['color','bin_marker'])].to_parquet(rd.outfile(output_path/('df_binned_'+mir+'.gzip')))"
   ]
  },
  {
   "cell_type": "markdown",
   "metadata": {},
   "source": [
    "##### Begin by looking just at controls"
   ]
  },
  {
   "cell_type": "code",
   "execution_count": null,
   "metadata": {},
   "outputs": [],
   "source": [
    "# Remove targeting controller\n",
    "mir_controls_df = mir_df[~((mir_df['group']=='controller') & (mir_df['ts_kind']=='T'))].copy()\n",
    "\n",
    "# Create color palette where NT controller is colored by design (instead of gray)\n",
    "metadata['color_controls'] = metadata['color']\n",
    "metadata.loc[(metadata['group']=='controller') & (metadata['design']==1), 'color_controls'] = base.colors['teal']\n",
    "metadata.loc[(metadata['group']=='controller') & (metadata['design']==2), 'color_controls'] = base.colors['orange']\n",
    "metadata.loc[(metadata['group']=='controller') & (metadata['design']==3), 'color_controls'] = base.colors['red']\n",
    "metadata_dict = metadata.set_index('construct').to_dict('dict')\n",
    "controls_palette = metadata_dict['color_controls']"
   ]
  },
  {
   "cell_type": "code",
   "execution_count": null,
   "metadata": {},
   "outputs": [],
   "source": [
    "plot_df = mir_controls_df\n",
    "plot_df.sort_values('group', key=lambda x: x.map(group_order), inplace=True)\n",
    "g = sns.displot(data=plot_df[plot_df['group']!='base'], x='output', hue='construct', \n",
    "                palette=controls_palette, row='biorep', col='group', kind='kde', log_scale=True, legend=False, \n",
    "                common_norm=False, facet_kws=dict(margin_titles=True, sharex=True, sharey=True),)\n",
    "for (biorep, group), ax in g.axes_dict.items():\n",
    "    sns.kdeplot(data=plot_df[(plot_df['group']=='base') & (plot_df['biorep']==biorep)], x='output', \n",
    "                log_scale=True, legend=False, common_norm=False, ax=ax, color='black', ls=':')\n",
    "g.figure.savefig(rd.outfile(output_path/(f'hist_'+mir+'_controls.svg')), bbox_inches='tight')"
   ]
  },
  {
   "cell_type": "code",
   "execution_count": null,
   "metadata": {},
   "outputs": [],
   "source": [
    "plot_df = df_binned[~((df_binned['group']=='controller') & (df_binned['ts_kind']=='T'))]\n",
    "plot_df.sort_values('group', key=lambda x: x.map(group_order), inplace=True)\n",
    "g = sns.relplot(data=plot_df, row='biorep', col='group', facet_kws=dict(sharex=True, sharey=True, margin_titles=True,), kind='line',\n",
    "                    height=3, aspect=1.3, x='bin_marker_median', y='output', hue='construct',\n",
    "                    palette=controls_palette, legend=False, dashes=False, style='construct', markers=construct_markers,\n",
    "                    estimator=sp.stats.gmean, errorbar=lambda x: (sp.stats.gmean(x) / sp.stats.gstd(x), sp.stats.gmean(x) * sp.stats.gstd(x)))\n",
    "g.set(xscale='log', yscale='log',)\n",
    "sns.despine()\n",
    "for name, ax in g.axes_dict.items(): ax.grid()\n",
    "g.figure.savefig(rd.outfile(output_path/(f'line_'+mir+'_controls.svg')), bbox_inches='tight')"
   ]
  },
  {
   "cell_type": "code",
   "execution_count": null,
   "metadata": {},
   "outputs": [],
   "source": [
    "# Normalize output to gmean of output in smallest bin, and normalize marker bin by smallest bin\n",
    "def normalize_output_to_base(df):\n",
    "    df = df.copy()\n",
    "    normalizer = sp.stats.gmean(df.loc[(df['group']=='base'), 'output'])\n",
    "    df['output_norm_to_base'] = df['output'].astype(float) / normalizer\n",
    "    return df\n",
    "\n",
    "by = ['bin_marker_median','biorep','exp']\n",
    "df_norm_base = df_binned.groupby(by)[df_binned.columns].apply(normalize_output_to_base).reset_index(drop=True).dropna()\n",
    "display(df_norm_base)"
   ]
  },
  {
   "cell_type": "code",
   "execution_count": null,
   "metadata": {},
   "outputs": [],
   "source": [
    "# Group and compute stats\n",
    "stat_list = [np.mean, np.std, sp.stats.gmean, sp.stats.gstd, sp.stats.variation]\n",
    "grouped = df_norm_base.groupby(by=['construct','biorep','exp'])\n",
    "stats_norm_base = grouped[['output_norm_to_base']].agg(stat_list).reset_index().dropna()\n",
    "\n",
    "# Rename columns as 'col_stat'\n",
    "stats_norm_base.columns = stats_norm_base.columns.map(lambda i: base.rename_multilevel_cols(i))\n",
    "stats_norm_base['count'] = grouped['marker'].count().reset_index()['marker']\n",
    "stats_norm_base = stats_norm_base.merge(metadata, how='left', on='construct')\n",
    "stats_norm_base.sort_values(['design','ts_kind','ts_num'], inplace=True)\n",
    "\n",
    "display(stats_norm_base)"
   ]
  },
  {
   "cell_type": "code",
   "execution_count": null,
   "metadata": {},
   "outputs": [],
   "source": [
    "plot_df = df_norm_base[(df_norm_base['group']!='base') & ~((df_norm_base['group']=='controller') & (df_norm_base['ts_kind']=='T'))]\n",
    "plot_df.sort_values('group', key=lambda x: x.map(group_order), inplace=True)\n",
    "g = sns.relplot(data=plot_df, row='biorep', col='group', facet_kws=dict(sharex=True, sharey=True, margin_titles=True,), kind='line',\n",
    "                    height=3, aspect=1.3, x='bin_marker_median', y='output_norm_to_base', hue='construct',\n",
    "                    palette=controls_palette, legend=False, dashes=False, style='construct', markers=construct_markers,\n",
    "                    estimator=sp.stats.gmean, errorbar=lambda x: (sp.stats.gmean(x) / sp.stats.gstd(x), sp.stats.gmean(x) * sp.stats.gstd(x)))\n",
    "g.set(xscale='log', yscale='log', )#ylim=(2e-1,2e3))\n",
    "sns.despine()\n",
    "for name, ax in g.axes_dict.items(): \n",
    "    ax.grid()\n",
    "    ax.axhline(1, color='black', zorder=1)\n",
    "g.figure.savefig(rd.outfile(output_path/(f'line_'+mir+'_controls_norm-to-base.svg')), bbox_inches='tight')"
   ]
  },
  {
   "cell_type": "code",
   "execution_count": null,
   "metadata": {},
   "outputs": [],
   "source": [
    "plot_df = stats[~((stats['group']=='controller') & (stats['ts_kind']=='T'))]\n",
    "plot_df.sort_values('group', key=lambda x: x.map(group_order), inplace=True)\n",
    "g = sns.catplot(data=plot_df, x='group', y='output_gmean', hue='construct', palette=controls_palette, kind='swarm',\n",
    "                legend=False, log_scale=True, size=8,)\n",
    "g.figure.savefig(rd.outfile(output_path/(f'scatter_'+mir+'_controls.svg')), bbox_inches='tight')"
   ]
  },
  {
   "cell_type": "code",
   "execution_count": null,
   "metadata": {},
   "outputs": [],
   "source": [
    "plot_df = stats[~((stats['group']=='controller') & (stats['ts_kind']=='T'))]\n",
    "plot_df.sort_values('group', key=lambda x: x.map(group_order), inplace=True)\n",
    "g = sns.catplot(data=plot_df, x='group', y='output_gmean', hue='construct', palette=controls_palette,\n",
    "                legend=False, log_scale=True, kind='point', estimator='mean', errorbar='se', dodge=0.5, \n",
    "                markeredgecolor='white', markeredgewidth=1, markersize=12)\n",
    "g.ax.axhline(plot_df.loc[plot_df['group']=='base', 'output_gmean'].mean(), color='black', zorder=0)\n",
    "g.ax.set(xlabel='')\n",
    "labels = stats.drop_duplicates('group').copy()\n",
    "labels['microRNA'] = labels['miR_loc'].replace({'na': '–', 'CDS': '+', 'UTR': '+'})\n",
    "labels['target site'] = labels['group'].replace({'base': '–', 'miR': '–', 'ts3': '3\\'', 'ts5': '5\\'', 'controller': 'NT'})\n",
    "rd.plot.generate_xticklabels(labels, 'group', ['microRNA', 'target site'])\n",
    "g.figure.savefig(rd.outfile(output_path/(f'stat_'+mir+'_controls.svg')), bbox_inches='tight')"
   ]
  },
  {
   "cell_type": "code",
   "execution_count": null,
   "metadata": {},
   "outputs": [],
   "source": [
    "plot_df = stats_norm_base[(stats_norm_base['group']!='base') & ~((stats_norm_base['group']=='controller') & (stats_norm_base['ts_kind']=='T'))]\n",
    "plot_df.sort_values('group', key=lambda x: x.map(group_order), inplace=True)\n",
    "g = sns.catplot(data=plot_df, x='group', y='output_norm_to_base_gmean', hue='construct', palette=controls_palette,\n",
    "                legend=False, log_scale=True, kind='point', estimator='mean', errorbar='se', dodge=True, \n",
    "                markeredgecolor='white', markeredgewidth=1, markersize=12)\n",
    "g.ax.axhline(1, color='black', zorder=0)\n",
    "g.set(xlabel='')\n",
    "rd.plot.generate_xticklabels(labels, 'group', ['microRNA', 'target site'])\n",
    "g.figure.savefig(rd.outfile(output_path/(f'stat_'+mir+'_controls_norm-to-base.svg')), bbox_inches='tight')"
   ]
  },
  {
   "cell_type": "markdown",
   "metadata": {},
   "source": [
    "So it looks like 3'UTR miR and 5'UTR target sites overall reduce expression, while other placements do not. This suggests that any changes from baseline (no miR & no TS) seen in design 1 (CDS miR, 3'UTR target sites) are due to microRNA knockdown alone."
   ]
  },
  {
   "cell_type": "markdown",
   "metadata": {},
   "source": [
    "##### Now let's look at the targeting controller"
   ]
  },
  {
   "cell_type": "code",
   "execution_count": null,
   "metadata": {},
   "outputs": [],
   "source": [
    "plot_df = mir_df\n",
    "g = sns.displot(data=plot_df[plot_df['group']=='controller'], x='output', hue='construct', \n",
    "                palette=construct_palette, row='biorep', col='design', kind='kde', log_scale=True, legend=False, \n",
    "                common_norm=False, facet_kws=dict(margin_titles=True, sharex=True, sharey=True), )\n",
    "for (biorep, design), ax in g.axes_dict.items():\n",
    "    sns.kdeplot(data=plot_df[(plot_df['group']=='base') & (plot_df['biorep']==biorep)], x='output', \n",
    "                log_scale=True, legend=False, common_norm=False, ax=ax, color='black', ls=':')\n",
    "g.figure.savefig(rd.outfile(output_path/(f'hist_'+mir+'_controller.svg')), bbox_inches='tight')"
   ]
  },
  {
   "cell_type": "code",
   "execution_count": null,
   "metadata": {},
   "outputs": [],
   "source": [
    "plot_df = df_binned[(df_binned['group']=='controller')]\n",
    "plot_df.sort_values('group', key=lambda x: x.map(group_order), inplace=True)\n",
    "g = sns.relplot(data=plot_df, row='biorep', col='design', facet_kws=dict(sharex=True, sharey=True, margin_titles=True,), kind='line',\n",
    "                    height=3, aspect=1.1, x='bin_marker_median', y='output', hue='construct',\n",
    "                    palette=construct_palette, legend=False, dashes=False, style='construct', markers=construct_markers,\n",
    "                    estimator=sp.stats.gmean, errorbar=lambda x: (sp.stats.gmean(x) / sp.stats.gstd(x), sp.stats.gmean(x) * sp.stats.gstd(x)))\n",
    "g.set(xscale='log', yscale='log',)\n",
    "sns.despine()\n",
    "for name, ax in g.axes_dict.items(): ax.grid()\n",
    "g.figure.savefig(rd.outfile(output_path/(f'line_'+mir+'_controller.svg')), bbox_inches='tight')"
   ]
  },
  {
   "cell_type": "code",
   "execution_count": null,
   "metadata": {},
   "outputs": [],
   "source": [
    "plot_df = df_binned_combined[(df_binned_combined['group']=='controller')]\n",
    "plot_df.sort_values('group', key=lambda x: x.map(group_order), inplace=True)\n",
    "g = sns.relplot(data=plot_df, col='design', facet_kws=dict(sharex=True, sharey=True, margin_titles=True,), kind='line',\n",
    "                    height=4, aspect=0.8, x='bin_marker_median', y='output', hue='construct',\n",
    "                    palette=construct_palette, legend=False, dashes=False, style='construct', markers=construct_markers,\n",
    "                    estimator=sp.stats.gmean, errorbar=lambda x: (sp.stats.gmean(x) / sp.stats.gstd(x), sp.stats.gmean(x) * sp.stats.gstd(x)))\n",
    "g.set(xscale='log', yscale='log',)\n",
    "sns.despine()\n",
    "for name, ax in g.axes_dict.items(): ax.grid()\n",
    "g.figure.savefig(rd.outfile(output_path/(f'line_'+mir+'_controller-combined-bioreps.svg')), bbox_inches='tight')"
   ]
  },
  {
   "cell_type": "code",
   "execution_count": null,
   "metadata": {},
   "outputs": [],
   "source": [
    "# Normalize output to gmean of output for corresponding NT controller for each design\n",
    "def normalize_output_to_NT(df):\n",
    "    df = df.copy()\n",
    "    normalizer = sp.stats.gmean(df.loc[(df['group']=='controller') & (df['ts_kind']=='NT'), 'output'])\n",
    "    df['output_norm_to_NT'] = df['output'].astype(float) / normalizer\n",
    "    return df\n",
    "\n",
    "by = ['design','bin_marker_median','biorep','exp']\n",
    "df_norm_NT = df_binned.groupby(by)[df_binned.columns].apply(normalize_output_to_NT).reset_index(drop=True).dropna()\n",
    "display(df_norm_NT)"
   ]
  },
  {
   "cell_type": "code",
   "execution_count": null,
   "metadata": {},
   "outputs": [],
   "source": [
    "# Group and compute stats\n",
    "stat_list = [np.mean, np.std, sp.stats.gmean, sp.stats.gstd, sp.stats.variation]\n",
    "grouped = df_norm_NT.groupby(by=['construct','biorep','exp'])\n",
    "stats_norm_NT = grouped[['output_norm_to_NT']].agg(stat_list).reset_index().dropna()\n",
    "\n",
    "# Rename columns as 'col_stat'\n",
    "stats_norm_NT.columns = stats_norm_NT.columns.map(lambda i: base.rename_multilevel_cols(i))\n",
    "stats_norm_NT['count'] = grouped['marker'].count().reset_index()['marker']\n",
    "stats_norm_NT = stats_norm_NT.merge(metadata, how='left', on='construct')\n",
    "stats_norm_NT.sort_values(['design','ts_kind','ts_num'], inplace=True)\n",
    "\n",
    "display(stats_norm_NT)"
   ]
  },
  {
   "cell_type": "code",
   "execution_count": null,
   "metadata": {},
   "outputs": [],
   "source": [
    "def normalize_stat_to_NT(df):\n",
    "    df = df.copy()\n",
    "    normalizer = df.loc[(df['group']=='controller') & (df['ts_kind']=='NT'), 'output']\n",
    "    df['output_norm_to_NT'] = df['output'].astype(float) / normalizer\n",
    "    return df\n",
    "\n",
    "by = ['design','bin_marker_median','biorep','exp']\n",
    "df_norm_NT = df_binned.groupby(by)[df_binned.columns].apply(normalize_output_to_NT).reset_index(drop=True).dropna()\n",
    "display(df_norm_NT)"
   ]
  },
  {
   "cell_type": "code",
   "execution_count": null,
   "metadata": {},
   "outputs": [],
   "source": [
    "plot_df = df_norm_NT[(df_norm_NT['group']=='controller')]\n",
    "plot_df.sort_values('group', key=lambda x: x.map(group_order), inplace=True)\n",
    "g = sns.relplot(data=plot_df, row='biorep', col='design', facet_kws=dict(sharex=True, sharey=True, margin_titles=True,), kind='line',\n",
    "                    height=3, aspect=1.3, x='bin_marker_median', y='output_norm_to_NT', hue='construct',\n",
    "                    palette=construct_palette, legend=False, dashes=False, style='construct', markers=construct_markers,\n",
    "                    estimator=sp.stats.gmean, errorbar=lambda x: (sp.stats.gmean(x) / sp.stats.gstd(x), sp.stats.gmean(x) * sp.stats.gstd(x)))\n",
    "g.set(xscale='log', yscale='log',)\n",
    "sns.despine()\n",
    "for name, ax in g.axes_dict.items(): \n",
    "    ax.grid()\n",
    "    ax.axhline(1, color='black', zorder=1)\n",
    "g.figure.savefig(rd.outfile(output_path/(f'line_'+mir+'_controller_norm-to-NT.svg')), bbox_inches='tight')"
   ]
  },
  {
   "cell_type": "code",
   "execution_count": null,
   "metadata": {},
   "outputs": [],
   "source": [
    "plot_df = stats[(stats['group']=='controller')]\n",
    "plot_df.sort_values(['design', 'ts_kind'], inplace=True)\n",
    "stat_list = ['output_gmean', 'output_std', 'output_variation']\n",
    "fig, axes = plt.subplots(1,3, figsize=(12,4), gridspec_kw=dict(wspace=0.5))\n",
    "for i,stat in enumerate(stat_list):\n",
    "    ax = axes[i]\n",
    "    sns.scatterplot(data=plot_df, x='construct', y=stat, hue='construct', palette=construct_palette,\n",
    "                legend=False, s=100, ax=ax, style='construct', markers=construct_markers)\n",
    "    ax.set(xlim=(-0.5,5.5))\n",
    "    if stat != 'output_variation': ax.set(yscale='log')\n",
    "    else: ax.set(ylim=(0,ax.get_ylim()[1]))\n",
    "    rd.plot.generate_xticklabels(plot_df.drop_duplicates('construct'), 'construct', ['design', 'ts_kind'], ax=ax)\n",
    "    sns.despine(ax=ax)\n",
    "\n",
    "fig.savefig(rd.outfile(output_path/(f'stat_'+mir+'_controller.svg')), bbox_inches='tight')"
   ]
  },
  {
   "cell_type": "code",
   "execution_count": null,
   "metadata": {},
   "outputs": [],
   "source": [
    "plot_df = stats[(stats['group']=='controller')]\n",
    "plot_df.sort_values(['design','ts_kind'], inplace=True)\n",
    "stat_list = ['output_gmean', 'output_std', 'output_variation']\n",
    "fig, axes = plt.subplots(1,3, figsize=(12,4), gridspec_kw=dict(wspace=0.5))\n",
    "for i,stat in enumerate(stat_list):\n",
    "    ax = axes[i]\n",
    "    sns.pointplot(data=plot_df, x='construct', y=stat, hue='construct', palette=construct_palette,\n",
    "                legend=False, estimator='mean', errorbar='se', dodge=0.5, \n",
    "                markeredgecolor='white', markeredgewidth=1, markersize=12, ax=ax)\n",
    "    ax.set(xlabel='', xlim=(-0.5,5.5))\n",
    "    rd.plot.generate_xticklabels(plot_df.drop_duplicates('construct'), 'construct', ['design', 'ts_kind'], ax=ax)\n",
    "    sns.despine(ax=ax)\n",
    "    if stat != 'output_variation': ax.set(yscale='log')\n",
    "    else: ax.set(ylim=(0,ax.get_ylim()[1]))\n",
    "fig.savefig(rd.outfile(output_path/(f'stat_'+mir+'_controller_summary.svg')), bbox_inches='tight')"
   ]
  },
  {
   "cell_type": "code",
   "execution_count": null,
   "metadata": {},
   "outputs": [],
   "source": []
  }
 ],
 "metadata": {
  "kernelspec": {
   "display_name": "env",
   "language": "python",
   "name": "python3"
  },
  "language_info": {
   "codemirror_mode": {
    "name": "ipython",
    "version": 3
   },
   "file_extension": ".py",
   "mimetype": "text/x-python",
   "name": "python",
   "nbconvert_exporter": "python",
   "pygments_lexer": "ipython3"
  }
 },
 "nbformat": 4,
 "nbformat_minor": 2
}
