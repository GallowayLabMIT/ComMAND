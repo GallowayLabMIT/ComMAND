{
 "cells": [
  {
   "cell_type": "code",
   "execution_count": null,
   "metadata": {},
   "outputs": [],
   "source": [
    "import base\n",
    "import matplotlib\n",
    "import matplotlib.pyplot as plt\n",
    "import numpy as np\n",
    "import pandas as pd\n",
    "from pathlib import Path\n",
    "import rushd as rd\n",
    "import scipy as sp\n",
    "import seaborn as sns\n",
    "\n",
    "from importlib import reload\n",
    "reload(base)\n",
    "\n",
    "sns.set_style('ticks')\n",
    "sns.set_context('talk',rc={'font.family': 'sans-serif', 'font.sans-serif':['Helvetica Neue']})"
   ]
  },
  {
   "cell_type": "code",
   "execution_count": null,
   "metadata": {},
   "outputs": [],
   "source": [
    "# Setup data loading\n",
    "base_path = rd.datadir/'instruments'/'data'/'attune'/'kasey'\n",
    "data_list = [base_path/'2024.11.18_exp117.5'/'export'/'plate1', base_path/'2024.11.18_exp117.5'/'export'/'plate2',]\n",
    "plates = pd.DataFrame({\n",
    "    'data_path': data_list,\n",
    "    'yaml_path': [p/'wells.yaml' for p in data_list],\n",
    "    'exp': ['exp117.5']*2\n",
    "})\n",
    "output_path = rd.rootdir/'output'/'lenti_therapeutic'\n",
    "cache_path = output_path/'lenti_therapeutic.gzip'\n",
    "\n",
    "for p in plates['yaml_path'].unique():\n",
    "    rd.plot.plot_well_metadata(p)"
   ]
  },
  {
   "cell_type": "code",
   "execution_count": null,
   "metadata": {},
   "outputs": [],
   "source": [
    "# Load data\n",
    "data = pd.DataFrame()\n",
    "channel_list = ['mRuby2-A','mGL-A']\n",
    "\n",
    "if cache_path.exists(): data = pd.read_parquet(cache_path)\n",
    "else: \n",
    "    data = rd.flow.load_groups_with_metadata(plates, columns=channel_list)\n",
    "    for c in channel_list: data = data[data[c]>0]\n",
    "    data.to_parquet(rd.outfile(cache_path))\n",
    "display(data)"
   ]
  },
  {
   "cell_type": "code",
   "execution_count": null,
   "metadata": {},
   "outputs": [],
   "source": [
    "# Add metadata for constructs\n",
    "metadata = base.get_metadata(rd.datadir/'projects'/'miR-iFFL'/'plasmids'/'construct-metadata.xlsx')\n",
    "data = data.merge(metadata, how='left', on='construct')\n",
    "display(data)"
   ]
  },
  {
   "cell_type": "code",
   "execution_count": null,
   "metadata": {},
   "outputs": [],
   "source": [
    "# Create dicts to specify colors/markers\n",
    "metadata_dict = metadata.set_index('construct').to_dict('dict')\n",
    "main_palette = metadata_dict['color']\n",
    "main_markers = metadata_dict['markers']"
   ]
  },
  {
   "cell_type": "code",
   "execution_count": null,
   "metadata": {},
   "outputs": [],
   "source": [
    "gates = pd.DataFrame()\n",
    "channel_list = ['mGL-A', 'mRuby2-A',]\n",
    "for channel in channel_list:\n",
    "    gates[channel] = data[data['construct']=='UI'].groupby(['exp'])[channel].apply(lambda x: x.quantile(0.999))\n",
    "gates.reset_index(inplace=True)\n",
    "\n",
    "display(gates)"
   ]
  },
  {
   "cell_type": "code",
   "execution_count": null,
   "metadata": {},
   "outputs": [],
   "source": [
    "data['marker'] = data['mGL-A']\n",
    "data.loc[data['name'].str.contains('FMRP'), 'marker'] = data.loc[data['name'].str.contains('FMRP'), 'mRuby2-A']\n",
    "data['output'] = data['mRuby2-A']\n",
    "data.loc[data['name'].str.contains('FMRP'), 'output'] = data.loc[data['name'].str.contains('FMRP'), 'mGL-A']"
   ]
  },
  {
   "cell_type": "code",
   "execution_count": null,
   "metadata": {},
   "outputs": [],
   "source": [
    "x = 'mGL-A'\n",
    "y = 'mRuby2-A'\n",
    "plot_df = data[(data['dox']==1000) & (data['construct']!='UI')].groupby(['biorep','construct']).sample(1000)\n",
    "g = sns.displot(data=plot_df, x=x, y=y, hue='construct', palette=main_palette, kind='kde',\n",
    "                row='biorep', col='construct', facet_kws=dict(margin_titles=True),\n",
    "                log_scale=True, common_norm=False, levels=8)\n",
    "\n",
    "for (biorep, construct), ax in g.axes_dict.items():\n",
    "    ax.axvline(gates[x].values[0], c='black', ls=':', zorder=0)\n",
    "    ax.axvline(2e3, c='black', ls=':', zorder=0)\n",
    "    ax.axhline(gates[y].values[0], c='black', ls=':', zorder=0)"
   ]
  },
  {
   "cell_type": "code",
   "execution_count": null,
   "metadata": {},
   "outputs": [],
   "source": [
    "# Manually adjust mGL gate\n",
    "gates['mGL-A'] = [2e3]\n",
    "\n",
    "# Gate data by marker expression\n",
    "def gate_data(df, gates):\n",
    "    df = df.copy()\n",
    "    exp = df['exp'].values[0] # the same for entire df, assuming df = data.groupby('exp')\n",
    "    gates_dict = gates.set_index('exp').to_dict('dict') # format: column -> {index: value}\n",
    "    df['expressing'] = df['marker'] > gates_dict['mGL-A'][exp]\n",
    "    df.loc[df['name'].str.contains('FMRP'), 'expressing'] = df.loc[df['name'].str.contains('FMRP'), 'marker'] > gates_dict['mRuby2-A'][exp]\n",
    "    return df\n",
    "\n",
    "data = data.groupby('exp')[data.columns].apply(lambda x: gate_data(x,gates))\n",
    "data.reset_index(inplace=True, drop=True)\n",
    "df = data[(data['expressing']) & (data['construct']!='UI')]"
   ]
  },
  {
   "cell_type": "code",
   "execution_count": null,
   "metadata": {},
   "outputs": [],
   "source": [
    "x = 'mGL-A'\n",
    "y = 'mRuby2-A'\n",
    "plot_df = df[(df['dox']==1000)].groupby(['biorep','construct']).sample(1000)\n",
    "g = sns.displot(data=plot_df, x=x, y=y, hue='construct', palette=main_palette, kind='kde',\n",
    "                row='biorep', col='construct', facet_kws=dict(margin_titles=True),\n",
    "                log_scale=True, common_norm=False, levels=8)\n",
    "\n",
    "for (biorep, construct), ax in g.axes_dict.items():\n",
    "    ax.axvline(gates[x].values[0], c='black', ls=':', zorder=0)\n",
    "    ax.axhline(gates[y].values[0], c='black', ls=':', zorder=0)"
   ]
  },
  {
   "cell_type": "code",
   "execution_count": null,
   "metadata": {},
   "outputs": [],
   "source": [
    "# Bin data and calculate statistics\n",
    "df_quantiles, stats, _, fits = base.calculate_bins_stats(df, stat_list=[sp.stats.gmean, np.std, sp.stats.variation], by=['construct','dox','biorep'])\n",
    "stats = stats.merge(metadata, how='left', on='construct')\n",
    "fits = fits.merge(metadata, how='left', on='construct')"
   ]
  },
  {
   "cell_type": "code",
   "execution_count": null,
   "metadata": {},
   "outputs": [],
   "source": [
    "ts_label = {'na': 'base', 'NT': 'OL', 'T': 'CL', 'none': '–'}\n",
    "marker_list = ['o', 'v', 'D', 'X']"
   ]
  },
  {
   "cell_type": "code",
   "execution_count": null,
   "metadata": {},
   "outputs": [],
   "source": [
    "display(axes.flatten())"
   ]
  },
  {
   "cell_type": "code",
   "execution_count": null,
   "metadata": {},
   "outputs": [],
   "source": [
    "fig, axes = plt.subplots(2,4, figsize=(12,8), gridspec_kw=dict(wspace=0.5, hspace=0.5))\n",
    "\n",
    "for i in range(2):\n",
    "    if i: \n",
    "        plot_df = stats[(stats['dox']==1000) & (stats['name'].str.contains('FMRP'))]\n",
    "        plot_df2 = fits[(fits['dox']==1000) & (fits['name'].str.contains('FMRP'))]\n",
    "    else:\n",
    "        plot_df = stats[(stats['dox']==1000) & (stats['name'].str.contains('FXN'))]\n",
    "        plot_df2 = fits[(fits['dox']==1000) & (fits['name'].str.contains('FXN'))]\n",
    "\n",
    "    ax = axes[i,0]\n",
    "    for construct, group in plot_df.groupby('construct'):\n",
    "        sns.stripplot(data=group, x='ts_kind', y='output_gmean', hue='construct', palette=main_palette,\n",
    "                    legend=False, ax=ax, marker=main_markers[construct], s=8, edgecolor='white', linewidth=1)\n",
    "    ax.set(title='Mean', xlabel='', ylabel='', yscale='log', )#ylim=(1e3,2e4),)\n",
    "\n",
    "    ax = axes[i,1]\n",
    "    for construct, group in plot_df.groupby('construct'):\n",
    "        sns.stripplot(data=group, x='ts_kind', y='output_std', hue='construct', palette=main_palette,\n",
    "                    legend=False, ax=ax, marker=main_markers[construct], s=8, edgecolor='white', linewidth=1)\n",
    "    ax.set(title='Std.', xlabel='', ylabel='', yscale='log', )#ylim=(1e3,2e4),)\n",
    "\n",
    "    ax = axes[i,2]\n",
    "    for construct, group in plot_df2.groupby('construct'):\n",
    "        sns.stripplot(data=group, x='ts_kind', y='slope', hue='construct', palette=main_palette,\n",
    "                    legend=False, ax=ax, marker=main_markers[construct], s=8, edgecolor='white', linewidth=1)\n",
    "    ax.set(title='Slope', xlabel='', ylabel='',)\n",
    "\n",
    "    ax = axes[i,3]\n",
    "    for construct, group in plot_df.groupby('construct'):\n",
    "        sns.stripplot(data=group, x='ts_kind', y='output_variation', hue='construct', palette=main_palette,\n",
    "                    legend=False, ax=ax, marker=main_markers[construct], s=8, edgecolor='white', linewidth=1)\n",
    "    ax.set(title='CV', xlabel='', ylabel='',)\n",
    "\n",
    "for ax in axes.flatten():\n",
    "    ax.set_xticklabels([ts_label[x.get_text()] for x in ax.get_xticklabels()], rotation=45, ha='right',)\n",
    "    sns.despine(ax=ax)\n",
    "\n",
    "fig.savefig(rd.outfile(output_path/'stats.png'))"
   ]
  },
  {
   "cell_type": "code",
   "execution_count": null,
   "metadata": {},
   "outputs": [],
   "source": []
  },
  {
   "cell_type": "code",
   "execution_count": null,
   "metadata": {},
   "outputs": [],
   "source": []
  }
 ],
 "metadata": {
  "kernelspec": {
   "display_name": "env",
   "language": "python",
   "name": "python3"
  },
  "language_info": {
   "codemirror_mode": {
    "name": "ipython",
    "version": 3
   },
   "file_extension": ".py",
   "mimetype": "text/x-python",
   "name": "python",
   "nbconvert_exporter": "python",
   "pygments_lexer": "ipython3"
  }
 },
 "nbformat": 4,
 "nbformat_minor": 2
}
