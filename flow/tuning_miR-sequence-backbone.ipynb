{
 "cells": [
  {
   "cell_type": "code",
   "execution_count": null,
   "metadata": {},
   "outputs": [],
   "source": [
    "import base\n",
    "import matplotlib.pyplot as plt\n",
    "import numpy as np\n",
    "import pandas as pd\n",
    "import rushd as rd\n",
    "import scipy as sp\n",
    "import seaborn as sns\n",
    "\n",
    "# enables concurrent editing of base.py\n",
    "from importlib import reload\n",
    "reload(base)\n",
    "\n",
    "sns.set_style('ticks')\n",
    "sns.set_context('talk',rc={'font.family': 'sans-serif', 'font.sans-serif':['Helvetica Neue']})"
   ]
  },
  {
   "cell_type": "markdown",
   "metadata": {},
   "source": [
    "## Setup\n",
    "\n",
    "- Load data\n",
    "- Add metadata\n",
    "- Draw gates\n",
    "- Gate transfected cells\n",
    "\n",
    "Result from this section: DataFrame `df` representing transfected cells."
   ]
  },
  {
   "cell_type": "markdown",
   "metadata": {},
   "source": [
    "Load all transfection data collected as of 2024.04.11"
   ]
  },
  {
   "cell_type": "code",
   "execution_count": null,
   "metadata": {},
   "outputs": [],
   "source": [
    "base_path = rd.datadir/'instruments'/'data'/'attune'/'kasey'\n",
    "\n",
    "exp90_path = base_path/'2024.03.31_exp90'/'export'\n",
    "exp90_2_path = base_path/'2024.04.02_exp90.2'/'export'\n",
    "exp90_3_path = base_path/'2024.04.02_exp90.3'/'export'\n",
    "exp90_4_path = base_path/'2024.04.05_exp90.4'/'export'\n",
    "\n",
    "exp91_path = base_path/'2024.04.08_exp91'/'export'\n",
    "\n",
    "plates = pd.DataFrame({\n",
    "    'data_path': [exp90_path/'plate1', exp90_path/'plate2', exp90_2_path, exp90_3_path/'plate1', exp90_3_path/'plate2', exp90_4_path,\n",
    "                  exp91_path/'plate1.1', exp91_path/'plate1.2', exp91_path/'plate1.3', exp91_path/'plate2.1', exp91_path/'plate2.2', exp91_path/'plate2.3',],\n",
    "    'yaml_path': ([exp90_path/'exp90_plate1_wells.yaml', exp90_path/'exp90_plate2_wells.yaml', exp90_path/'exp90_plate2_wells.yaml', exp90_path/'exp90_plate1_wells.yaml', exp90_path/'exp90_plate2_wells.yaml', exp90_path/'exp90_plate2_wells.yaml',] +\n",
    "                  [exp91_path/'exp91_plate1_wells.yaml']*3 + [exp91_path/'exp91_plate2.1_wells.yaml', exp91_path/'exp91_plate2.2_wells.yaml', exp91_path/'exp91_plate2.3_wells.yaml']\n",
    "                  ),\n",
    "    'biorep': [1, 1, 2, 3, 3, 2,\n",
    "               1, 2, 3, 1, 2, 3,\n",
    "               ],\n",
    "    'exp': ['exp90', 'exp90', 'exp90.2', 'exp90.3', 'exp90.3', 'exp90.4',\n",
    "            'exp91', 'exp91', 'exp91', 'exp91', 'exp91', 'exp91',\n",
    "            ]\n",
    "})\n",
    "\n",
    "output_path = rd.rootdir/'output'/'circuit-tuning'\n",
    "cache_path = rd.rootdir/'output'/'circuit-tuning'/'data.gzip'\n",
    "\n",
    "metadata_keys = set()\n",
    "for p in plates['yaml_path'].unique():\n",
    "    rd.plot.plot_well_metadata(p)\n",
    "    metadata_keys.update(rd.flow.load_well_metadata(p).keys())\n",
    "display(metadata_keys)"
   ]
  },
  {
   "cell_type": "code",
   "execution_count": null,
   "metadata": {},
   "outputs": [],
   "source": [
    "# Load data\n",
    "data = pd.DataFrame()\n",
    "if cache_path.is_file(): data = pd.read_parquet(cache_path)\n",
    "else: \n",
    "    data = rd.flow.load_groups_with_metadata(plates)\n",
    "\n",
    "    # Remove unneeded columns and negative channel values\n",
    "    channel_list = ['mCherry-A','mRuby2-A','FSC-A','SSC-A','tagBFP-A','mGL-A']\n",
    "    for c in data.columns:\n",
    "        if not(c in (list(plates.columns) + channel_list + list(metadata_keys))):\n",
    "            data.drop(columns=c, inplace=True)\n",
    "    for c in channel_list: data = data[data[c]>0]\n",
    "    \n",
    "    data.dropna(inplace=True)\n",
    "    data.to_parquet(rd.outfile(cache_path))\n",
    "display(data)"
   ]
  },
  {
   "cell_type": "code",
   "execution_count": null,
   "metadata": {},
   "outputs": [],
   "source": [
    "# Add metadata for constructs\n",
    "metadata = base.get_metadata(rd.datadir/'projects'/'miR-iFFL'/'plasmids'/'construct-metadata.xlsx')\n",
    "data = data.merge(metadata, how='left', on='construct')\n",
    "display(data)\n",
    "\n",
    "# Create dicts to specify colors/markers\n",
    "metadata_dict = metadata.set_index('construct').to_dict('dict')\n",
    "construct_palette = metadata_dict['color']\n",
    "construct_markers = metadata_dict['markers']"
   ]
  },
  {
   "cell_type": "markdown",
   "metadata": {},
   "source": [
    "Draw gates based on untransfected population, then gate transfected cells"
   ]
  },
  {
   "cell_type": "code",
   "execution_count": null,
   "metadata": {},
   "outputs": [],
   "source": [
    "gates = pd.DataFrame()\n",
    "channel_list = ['tagBFP-A', 'mGL-A', 'mCherry-A', 'mRuby2-A']\n",
    "for channel in channel_list:\n",
    "    gates[channel] = data[data['construct']=='UT'].groupby(['exp'])[channel].apply(lambda x: x.quantile(0.999))\n",
    "gates.reset_index(inplace=True)\n",
    "\n",
    "# Add missing gates\n",
    "gates.loc[gates['exp']=='exp90.4', channel_list] = gates.loc[gates['exp']=='exp90.2', channel_list].values\n",
    "\n",
    "# Indicate which channels are relevant for each experiment\n",
    "gates.sort_values(['exp'], inplace=True)\n",
    "gates['marker'] = 'mGL-A'\n",
    "gates['output'] = 'mRuby2-A'\n",
    "\n",
    "display(gates)"
   ]
  },
  {
   "cell_type": "markdown",
   "metadata": {},
   "source": [
    "Gate data per experiment based on transfection marker expression"
   ]
  },
  {
   "cell_type": "code",
   "execution_count": null,
   "metadata": {},
   "outputs": [],
   "source": [
    "data = data.groupby('exp')[data.columns].apply(lambda x: base.gate_data(x,gates))\n",
    "data.reset_index(inplace=True, drop=True)\n",
    "max = 1e6\n",
    "df = data[(data['expressing']) & (data['output']<max)]\n",
    "display(df)"
   ]
  },
  {
   "cell_type": "markdown",
   "metadata": {},
   "source": [
    "### Explore miR-FF5 data"
   ]
  },
  {
   "cell_type": "code",
   "execution_count": null,
   "metadata": {},
   "outputs": [],
   "source": [
    "ff5_df = df[(df['promoter']=='EF1a') & \n",
    "            ((df['group']=='base') | # no miR + no TS\n",
    "             ((df['group'].isin(['ts3', 'ts5'])) & (df['ts'].isin(['FF5x1', 'FF6x1']))) | # TS only\n",
    "             ((df['group'].isin(['miR','controller'])) & (df['miR']=='miR.FF5')) # miR only, controller\n",
    "            )]\n",
    "ff5_df.sort_values('design', inplace=True)\n",
    "group_order = {'base': 1, 'miR': 2, 'ts3': 3, 'ts5': 4, 'controller': 5}\n",
    "ff5_df.sort_values('group', key=lambda x: x.map(group_order), inplace=True)\n",
    "ff5_df.sort_values('ts_kind', inplace=True)\n",
    "display(ff5_df)"
   ]
  },
  {
   "cell_type": "code",
   "execution_count": null,
   "metadata": {},
   "outputs": [],
   "source": [
    "plot_df = ff5_df[(ff5_df['biorep']==3)]\n",
    "g = sns.displot(data=plot_df, x='output', hue='construct', palette=construct_palette, col='group', kind='kde', col_wrap=4,\n",
    "                facet_kws=dict(margin_titles=True, sharex=True, sharey=True), log_scale=True, legend=False, common_norm=False,)\n",
    "g.figure.savefig(rd.outfile(output_path/(f'hist_constructs.svg')), bbox_inches='tight')"
   ]
  },
  {
   "cell_type": "code",
   "execution_count": null,
   "metadata": {},
   "outputs": [],
   "source": [
    "plot_df = ff5_df\n",
    "g = sns.displot(data=plot_df[~plot_df['group'].isin(['base','controller'])], x='output', hue='construct', \n",
    "                palette=construct_palette, row='biorep', col='group', kind='kde', log_scale=True, legend=False, \n",
    "                common_norm=False, facet_kws=dict(margin_titles=True, sharex=True, sharey=True), )\n",
    "for (biorep, group), ax in g.axes_dict.items():\n",
    "    sns.kdeplot(data=plot_df[(plot_df['group']=='base') & (plot_df['biorep']==biorep)], x='output', \n",
    "                log_scale=True, legend=False, common_norm=False, ax=ax, color='black', ls=':')\n",
    "g.figure.savefig(rd.outfile(output_path/(f'hist_FF5_controls.svg')), bbox_inches='tight')"
   ]
  },
  {
   "cell_type": "code",
   "execution_count": null,
   "metadata": {},
   "outputs": [],
   "source": []
  }
 ],
 "metadata": {
  "kernelspec": {
   "display_name": "env",
   "language": "python",
   "name": "python3"
  },
  "language_info": {
   "codemirror_mode": {
    "name": "ipython",
    "version": 3
   },
   "file_extension": ".py",
   "mimetype": "text/x-python",
   "name": "python",
   "nbconvert_exporter": "python",
   "pygments_lexer": "ipython3"
  }
 },
 "nbformat": 4,
 "nbformat_minor": 2
}
