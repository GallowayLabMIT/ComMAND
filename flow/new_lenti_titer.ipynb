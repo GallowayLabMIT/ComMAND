{
 "cells": [
  {
   "cell_type": "code",
   "execution_count": null,
   "metadata": {},
   "outputs": [],
   "source": [
    "import matplotlib\n",
    "import matplotlib.pyplot as plt\n",
    "import numpy as np\n",
    "import pandas as pd\n",
    "from pathlib import Path\n",
    "import re\n",
    "import rushd as rd\n",
    "import scipy as sp\n",
    "import seaborn as sns\n",
    "\n",
    "sns.set_style('ticks')\n",
    "sns.set_context('talk',rc={'font.family': 'sans-serif', 'font.sans-serif':['Helvetica Neue']})"
   ]
  },
  {
   "cell_type": "code",
   "execution_count": null,
   "metadata": {},
   "outputs": [],
   "source": [
    "# Setup data loading\n",
    "base_path = rd.datadir/'instruments'/'data'/'attune'/'kasey'/'2024.09.28_exp089.2'/'export'\n",
    "base_path2 = rd.datadir/'instruments'/'data'/'attune'/'kasey'/'2024.10.17_exp089.3'/'export'\n",
    "plates = pd.DataFrame({\n",
    "    'data_path': [base_path/'293T', base_path/'iPS11', base_path2],\n",
    "    'yaml_path': [base_path/'wells.yaml']*2 + [base_path2/'wells.yaml'],\n",
    "    'cell': ['293T', 'iPS11', '293T'],\n",
    "})\n",
    "output_path = rd.rootdir/'output'/'KL_exp089.2_viral-titer-calculation'\n",
    "cache_path = output_path/'exp089.2_viral-titer.gzip'\n",
    "\n",
    "for p in plates['yaml_path'].unique():\n",
    "    rd.plot.plot_well_metadata(p)"
   ]
  },
  {
   "cell_type": "code",
   "execution_count": null,
   "metadata": {},
   "outputs": [],
   "source": [
    "# Load data\n",
    "data = pd.DataFrame()\n",
    "channel_list = ['mRuby2-A','mGL-A']\n",
    "\n",
    "if cache_path.exists(): data = pd.read_parquet(cache_path)\n",
    "else: \n",
    "    data = rd.flow.load_groups_with_metadata(plates, columns=channel_list)\n",
    "    for c in channel_list: data = data[data[c]>0]\n",
    "    data.to_parquet(rd.outfile(cache_path))\n",
    "display(data)"
   ]
  },
  {
   "cell_type": "markdown",
   "metadata": {},
   "source": [
    "### Calculate titer\n",
    "`rd.flow.moi` takes:\n",
    "\n",
    "1. A DataFrame with the following columns:\n",
    "\n",
    "    - condition\n",
    "    - replicate\n",
    "    - starting_cell_count\n",
    "    - scaling (dilution factor relative to max_virus)\n",
    "    - max_virus\n",
    "\n",
    "2. Information to gate infected cells\n",
    "\n",
    "    - color_column_name (channel to gate on)\n",
    "    - color_column_cutoff (gate)\n",
    "\n",
    "3. Optional parameters\n",
    "\n",
    "    - output_path (where to save the plots)\n",
    "    - summary_method (mean/median of replicates)"
   ]
  },
  {
   "cell_type": "code",
   "execution_count": null,
   "metadata": {},
   "outputs": [],
   "source": [
    "# Create columns for rd.flow.moi\n",
    "data.loc[data['cell']=='293T', 'starting_cell_count'] = 2e4\n",
    "data.loc[data['cell']=='iPS11', 'starting_cell_count'] = 3e4\n",
    "\n",
    "data['condition'] = data['construct']"
   ]
  },
  {
   "cell_type": "code",
   "execution_count": null,
   "metadata": {},
   "outputs": [],
   "source": [
    "# Draw gates on uninfected population\n",
    "gates = pd.DataFrame()\n",
    "channel_list = ['mGL-A', 'mRuby2-A']\n",
    "for channel in channel_list:\n",
    "    gates[channel] = data[data['condition']=='UI'].groupby(['biorep','cell'])[channel].apply(lambda x: x.quantile(0.999))\n",
    "gates.reset_index(inplace=True)"
   ]
  },
  {
   "cell_type": "code",
   "execution_count": null,
   "metadata": {},
   "outputs": [],
   "source": [
    "plot_df = data[(data['condition']=='UI')]\n",
    "x = 'mGL-A'\n",
    "y = 'mRuby2-A'\n",
    "g = sns.displot(data=plot_df, x=x, y=y, col='cell', kind='kde', row='biorep',\n",
    "                log_scale=True, hue='construct', legend=False,\n",
    "                common_norm=False, fill=False, levels=7, facet_kws=dict(margin_titles=True))\n",
    "\n",
    "for (biorep,cell), ax in g.axes_dict.items():\n",
    "    gate = gates[(gates['cell']==cell) & (gates['biorep']==biorep)]\n",
    "    if gate.empty: continue\n",
    "    ax.axvline(gate[x].values[0], color='black', zorder=0)\n",
    "    ax.axhline(gate[y].values[0], color='black', zorder=0)\n",
    "\n",
    "g.figure.savefig(rd.outfile(output_path/'kde_mGL-mRuby2_UI-gates.png'))"
   ]
  },
  {
   "cell_type": "code",
   "execution_count": null,
   "metadata": {},
   "outputs": [],
   "source": [
    "for (biorep, cell), group in data.groupby(['biorep','cell']):\n",
    "\n",
    "    plot_df = group[(group['scaling']==1)].groupby('condition').sample(1000)\n",
    "\n",
    "    g = sns.displot(data=plot_df, x='mGL-A', y='mRuby2-A', col='condition', col_wrap=4, kind='kde',\n",
    "                    log_scale=True, common_norm=False, fill=False, levels=7,\n",
    "                    hue='construct')\n",
    "    \n",
    "    gate = gates[(gates['cell']==cell) & (gates['biorep']==biorep)]\n",
    "    if gate.empty: continue\n",
    "\n",
    "    for _, ax in g.axes_dict.items():\n",
    "        ax.axvline(gate[x].values[0], color='black', zorder=0)\n",
    "        ax.axhline(gate[y].values[0], color='black', zorder=0)\n",
    "\n",
    "    g.figure.savefig(rd.outfile(output_path/f'kde_mGL-mRuby2_by-construct-with-gates_{cell}_biorep{biorep}.png'))"
   ]
  },
  {
   "cell_type": "code",
   "execution_count": null,
   "metadata": {},
   "outputs": [],
   "source": [
    "# Categorize cells into quadrants based on two gates\n",
    "# Possible values:\n",
    "#   0 = double negative\n",
    "#   1 = x-positive\n",
    "#   2 = y-positive\n",
    "#   3 = double positive\n",
    "def get_quadrant(df, x, y, gates):\n",
    "    gate_x = gates.loc[(gates['biorep']==df['biorep'].values[0]) & (gates['cell']==df['cell'].values[0]), x]\n",
    "    gate_y = gates.loc[(gates['biorep']==df['biorep'].values[0]) & (gates['cell']==df['cell'].values[0]), y]\n",
    "    df['x'] = data[x] > gate_x.values[0]\n",
    "    df['y'] = data[y] > gate_y.values[0]\n",
    "    df['quadrant'] = df['x'].astype(int) + df['y'].astype(int)*2\n",
    "    return df\n",
    "\n",
    "y = 'mGL-A'\n",
    "x = 'mRuby2-A'\n",
    "data = data.groupby(['biorep','cell'])[data.columns].apply(lambda df: get_quadrant(df, x, y, gates))\n",
    "data.reset_index(drop=True, inplace=True)\n",
    "display(data)"
   ]
  },
  {
   "cell_type": "code",
   "execution_count": null,
   "metadata": {},
   "outputs": [],
   "source": [
    "# Calculate titer by gating on mGL+ cells\n",
    "#   note that y = mGL above, so quadrants 2&3 are mGL+\n",
    "df_titer = data.groupby(['cell','biorep'])[data.columns].apply(lambda df: rd.flow.moi(df, 'quadrant', 1.5))\n",
    "df_titer.reset_index(inplace=True)\n",
    "display(df_titer)"
   ]
  },
  {
   "cell_type": "code",
   "execution_count": null,
   "metadata": {},
   "outputs": [],
   "source": [
    "# Save titers\n",
    "df_titer_save = df_titer.drop(columns=['replicate', 'starting_cell_count','tui_ratio_per_vol','moi'])\n",
    "df_titer_save.to_csv(output_path/'titer_mGL-mR2.csv')"
   ]
  },
  {
   "cell_type": "code",
   "execution_count": null,
   "metadata": {},
   "outputs": [],
   "source": [
    "plot_df = data[(data['cell']=='293T')]\n",
    "g = sns.displot(data=plot_df, x='mGL-A', hue='scaling', col='construct', row='biorep',\n",
    "                common_norm=False, kind='kde', log_scale=True)"
   ]
  },
  {
   "cell_type": "code",
   "execution_count": null,
   "metadata": {},
   "outputs": [],
   "source": [
    "biorep = 3\n",
    "plot_df = data[(data['biorep']==biorep)].groupby('condition').sample(2000)\n",
    "\n",
    "g = sns.displot(data=plot_df, x='mGL-A', y='mRuby2-A', col='condition', kind='kde', row='scaling',\n",
    "                log_scale=True, common_norm=False, fill=False, levels=7, facet_kws=dict(margin_titles=True),\n",
    "                hue='construct')\n",
    "\n",
    "gate = gates[(gates['biorep']==biorep)]\n",
    "\n",
    "for _, ax in g.axes_dict.items():\n",
    "    ax.axvline(gate[x].values[0], color='black', zorder=0)\n",
    "    ax.axhline(gate[y].values[0], color='black', zorder=0)"
   ]
  },
  {
   "cell_type": "code",
   "execution_count": null,
   "metadata": {},
   "outputs": [],
   "source": []
  }
 ],
 "metadata": {
  "kernelspec": {
   "display_name": "env",
   "language": "python",
   "name": "python3"
  },
  "language_info": {
   "codemirror_mode": {
    "name": "ipython",
    "version": 3
   },
   "file_extension": ".py",
   "mimetype": "text/x-python",
   "name": "python",
   "nbconvert_exporter": "python",
   "pygments_lexer": "ipython3"
  }
 },
 "nbformat": 4,
 "nbformat_minor": 2
}
