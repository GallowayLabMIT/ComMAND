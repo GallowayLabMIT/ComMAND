{
 "cells": [
  {
   "cell_type": "code",
   "execution_count": null,
   "metadata": {},
   "outputs": [],
   "source": [
    "import matplotlib\n",
    "import matplotlib.pyplot as plt\n",
    "import numpy as np\n",
    "import pandas as pd\n",
    "from pathlib import Path\n",
    "import re\n",
    "import rushd as rd\n",
    "import scipy as sp\n",
    "import seaborn as sns\n",
    "\n",
    "sns.set_style('ticks')\n",
    "sns.set_context('talk',rc={'font.family': 'sans-serif', 'font.sans-serif':['Helvetica Neue']})"
   ]
  },
  {
   "cell_type": "code",
   "execution_count": null,
   "metadata": {},
   "outputs": [],
   "source": [
    "# Setup data loading\n",
    "base_path = rd.datadir/'instruments'/'data'/'attune'/'kasey'/'2024.09.28_exp089.2'/'export'\n",
    "plates = pd.DataFrame({\n",
    "    'data_path': [base_path/'293T', base_path/'iPS11'],\n",
    "    'yaml_path': [base_path/'wells.yaml']*2,\n",
    "    'cell': ['293T', 'iPS11'],\n",
    "})\n",
    "output_path = rd.rootdir/'output'/'KL_exp089.2_viral-titer-calculation'\n",
    "cache_path = output_path/'exp089.2_viral-titer.gzip'\n",
    "\n",
    "for p in plates['yaml_path'].unique():\n",
    "    rd.plot.plot_well_metadata(p)"
   ]
  },
  {
   "cell_type": "code",
   "execution_count": null,
   "metadata": {},
   "outputs": [],
   "source": [
    "# Load data\n",
    "data = pd.DataFrame()\n",
    "channel_list = ['mRuby2-A','mGL-A']\n",
    "\n",
    "if cache_path.exists(): data = pd.read_parquet(cache_path)\n",
    "else: \n",
    "    data = rd.flow.load_groups_with_metadata(plates, columns=channel_list)\n",
    "    for c in channel_list: data = data[data[c]>0]\n",
    "    data.to_parquet(rd.outfile(cache_path))\n",
    "display(data)"
   ]
  },
  {
   "cell_type": "markdown",
   "metadata": {},
   "source": [
    "### Calculate titer\n",
    "`rd.flow.moi` takes:\n",
    "\n",
    "1. A DataFrame with the following columns:\n",
    "\n",
    "    - condition\n",
    "    - replicate\n",
    "    - starting_cell_count\n",
    "    - scaling (dilution factor relative to max_virus)\n",
    "    - max_virus\n",
    "\n",
    "2. Information to gate infected cells\n",
    "\n",
    "    - color_column_name (channel to gate on)\n",
    "    - color_column_cutoff (gate)\n",
    "\n",
    "3. Optional parameters\n",
    "\n",
    "    - output_path (where to save the plots)\n",
    "    - summary_method (mean/median of replicates)"
   ]
  },
  {
   "cell_type": "code",
   "execution_count": null,
   "metadata": {},
   "outputs": [],
   "source": [
    "# Create columns for rd.flow.moi\n",
    "data.loc[data['cell']=='293T', 'starting_cell_count'] = 2e4\n",
    "data.loc[data['cell']=='iPS11', 'starting_cell_count'] = 3e4\n",
    "\n",
    "data['condition'] = data['construct'] + '_' + data['biorep'].astype(str)"
   ]
  },
  {
   "cell_type": "code",
   "execution_count": null,
   "metadata": {},
   "outputs": [],
   "source": [
    "# Draw gates on uninfected population\n",
    "gates = {}\n",
    "for cell in ['293T','iPS11']:\n",
    "    for channel in channel_list:\n",
    "        gates[(cell,channel)] = data.loc[(data['construct']=='UI') & (data['cell']==cell), channel].quantile(0.999)\n",
    "display(gates)"
   ]
  },
  {
   "cell_type": "code",
   "execution_count": null,
   "metadata": {},
   "outputs": [],
   "source": [
    "plot_df = data[(data['construct']=='UI')]\n",
    "x = 'mGL-A'\n",
    "y = 'mRuby2-A'\n",
    "g = sns.displot(data=plot_df, x=x, y=y, col='cell', kind='kde',\n",
    "                log_scale=True, hue='construct', \n",
    "                common_norm=False, fill=False, levels=7,)\n",
    "\n",
    "for cell, ax in g.axes_dict.items():\n",
    "    ax.axvline(gates[(cell,x)], color='black', zorder=0)\n",
    "    ax.axhline(gates[(cell,y)], color='black', zorder=0)"
   ]
  },
  {
   "cell_type": "code",
   "execution_count": null,
   "metadata": {},
   "outputs": [],
   "source": [
    "cell = '293T'\n",
    "plot_df = data[(data['cell']==cell)].groupby('construct').sample(1000)\n",
    "\n",
    "g = sns.displot(data=plot_df, x='mGL-A', y='mRuby2-A', col='construct', kind='kde',\n",
    "                log_scale=True, common_norm=False, fill=False, levels=7,\n",
    "                hue='construct', row='biorep')\n",
    "\n",
    "for _, ax in g.axes_dict.items():\n",
    "    ax.axvline(gates[(cell,x)], color='black', zorder=0)\n",
    "    ax.axhline(gates[(cell,y)], color='black', zorder=0)"
   ]
  },
  {
   "cell_type": "code",
   "execution_count": null,
   "metadata": {},
   "outputs": [],
   "source": [
    "cell = 'iPS11'\n",
    "plot_df = data[(data['cell']==cell)].groupby('construct').sample(1000)\n",
    "\n",
    "g = sns.displot(data=plot_df, x='mGL-A', y='mRuby2-A', col='construct', kind='kde',\n",
    "                log_scale=True, common_norm=False, fill=False, levels=7,\n",
    "                hue='construct', row='biorep')\n",
    "\n",
    "for _, ax in g.axes_dict.items():\n",
    "    ax.axvline(gates[(cell,x)], color='black', zorder=0)\n",
    "    ax.axhline(gates[(cell,y)], color='black', zorder=0)"
   ]
  },
  {
   "cell_type": "code",
   "execution_count": null,
   "metadata": {},
   "outputs": [],
   "source": [
    "# Categorize cells into quadrants based on two gates\n",
    "# Possible values:\n",
    "#   0 = double negative\n",
    "#   1 = x-positive\n",
    "#   2 = y-positive\n",
    "#   3 = double positive\n",
    "def get_quadrant(x,y,gate_x,gate_y):\n",
    "    df_quad = pd.DataFrame()\n",
    "    df_quad['x'] = x > gate_x\n",
    "    df_quad['y'] = y > gate_y\n",
    "    df_quad['quadrant'] = df_quad['x'].astype(int) + df_quad['y'].astype(int)*2\n",
    "    return df_quad['quadrant']\n",
    "\n",
    "x = 'mGL-A'\n",
    "y = 'mRuby2-A'\n",
    "data.loc[data['cell']=='293T', 'quadrant'] = get_quadrant(data[x], data[y], gates[('293T',x)], gates[('293T',x)])\n",
    "data.loc[data['cell']=='iPS11', 'quadrant'] = get_quadrant(data[x], data[y], gates[('iPS11',x)], gates[('iPS11',x)])"
   ]
  },
  {
   "cell_type": "code",
   "execution_count": null,
   "metadata": {},
   "outputs": [],
   "source": [
    "df_titer_293T = rd.flow.moi(data[data['cell']=='293T'], 'quadrant', 0.5)\n",
    "df_titer_iPS11 = rd.flow.moi(data[data['cell']=='iPS11'], 'quadrant', 0.5)"
   ]
  },
  {
   "cell_type": "code",
   "execution_count": null,
   "metadata": {},
   "outputs": [],
   "source": [
    "df_titer_293T['cell'] = '293T'\n",
    "df_titer_iPS11['cell'] = 'iPS11'\n",
    "df_titer = pd.concat([df_titer_iPS11, df_titer_293T])\n",
    "df_titer.reset_index(inplace=True)\n",
    "display(df_titer)\n",
    "df_titer.to_csv(output_path/'titer_mGL-mR2.csv')"
   ]
  },
  {
   "cell_type": "code",
   "execution_count": null,
   "metadata": {},
   "outputs": [],
   "source": []
  }
 ],
 "metadata": {
  "kernelspec": {
   "display_name": "env",
   "language": "python",
   "name": "python3"
  },
  "language_info": {
   "codemirror_mode": {
    "name": "ipython",
    "version": 3
   },
   "file_extension": ".py",
   "mimetype": "text/x-python",
   "name": "python",
   "nbconvert_exporter": "python",
   "pygments_lexer": "ipython3"
  }
 },
 "nbformat": 4,
 "nbformat_minor": 2
}
