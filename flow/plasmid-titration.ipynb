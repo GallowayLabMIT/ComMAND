{
 "cells": [
  {
   "cell_type": "code",
   "execution_count": null,
   "metadata": {},
   "outputs": [],
   "source": [
    "import base\n",
    "import matplotlib\n",
    "import matplotlib.pyplot as plt\n",
    "import numpy as np\n",
    "import pandas as pd\n",
    "import rushd as rd\n",
    "import scipy as sp\n",
    "import seaborn as sns\n",
    "\n",
    "# enables concurrent editing of base.py\n",
    "from importlib import reload\n",
    "reload(base)\n",
    "\n",
    "sns.set_style('ticks')\n",
    "sns.set_context('talk',rc={'font.family': 'sans-serif', 'font.sans-serif':['Helvetica Neue']})"
   ]
  },
  {
   "cell_type": "markdown",
   "metadata": {},
   "source": [
    "## Setup\n",
    "\n",
    "- Load data\n",
    "- Add metadata\n",
    "- Draw gates\n",
    "- Gate transfected cells\n",
    "\n",
    "Result from this section: DataFrame `df` representing transfected cells."
   ]
  },
  {
   "cell_type": "markdown",
   "metadata": {},
   "source": [
    "Load 4 plasmid titration experiments, 2 each that do/don't change marker levels"
   ]
  },
  {
   "cell_type": "code",
   "execution_count": null,
   "metadata": {},
   "outputs": [],
   "source": [
    "base_path = rd.datadir/'instruments'/'data'/'attune'/'kasey'\n",
    "exp100_path = base_path/'2024.07.18_exp100'/'export'\n",
    "exp100_2_path = base_path/'2024.08.16_exp100.2'/'export'\n",
    "\n",
    "plates = pd.DataFrame({\n",
    "    'data_path': [exp100_path, exp100_2_path, base_path/'2024.09.11_exp100.3'/'export', base_path/'2024.09.14_exp100.4'/'export', base_path/'2024.09.28_exp100.5'/'export'],\n",
    "    'yaml_path': [exp100_path/'wells.yaml', exp100_2_path/'wells.yaml']*2 + [exp100_path/'wells.yaml'],\n",
    "    'biorep': [1, 2]*2 + [3],\n",
    "    'exp': ['exp100.' + str(i) for i in range(1,6)],\n",
    "})\n",
    "\n",
    "output_path = rd.rootdir/'output'/'plasmid-titration'\n",
    "cache_path = output_path/'data.gzip'\n",
    "\n",
    "metadata_keys = set()\n",
    "for p in plates['yaml_path'].unique():\n",
    "    rd.plot.plot_well_metadata(p)\n",
    "    metadata_keys.update(rd.flow.load_well_metadata(p).keys())\n",
    "display(metadata_keys)"
   ]
  },
  {
   "cell_type": "code",
   "execution_count": null,
   "metadata": {},
   "outputs": [],
   "source": [
    "# Load data\n",
    "data = pd.DataFrame()\n",
    "if cache_path.is_file(): data = pd.read_parquet(cache_path)\n",
    "else: \n",
    "    channel_list = ['mRuby2-A','tagBFP-A','mGL-A']\n",
    "    data = rd.flow.load_groups_with_metadata(plates, columns=channel_list)\n",
    "\n",
    "    # Remove negative channel values\n",
    "    for c in channel_list: data = data[data[c]>0]\n",
    "\n",
    "    data.dropna(inplace=True)\n",
    "    data.to_parquet(rd.outfile(cache_path))\n",
    "display(data)"
   ]
  },
  {
   "cell_type": "code",
   "execution_count": null,
   "metadata": {},
   "outputs": [],
   "source": [
    "# Add metadata for constructs\n",
    "metadata = base.get_metadata(rd.datadir/'projects'/'miR-iFFL'/'plasmids'/'construct-metadata.xlsx')\n",
    "data = data.merge(metadata, how='left', on='construct')\n",
    "display(data)"
   ]
  },
  {
   "cell_type": "code",
   "execution_count": null,
   "metadata": {},
   "outputs": [],
   "source": [
    "data['marker'] = data['mGL-A']\n",
    "data['output'] = data['mRuby2-A']\n",
    "data['filler'] = data['tagBFP-A']"
   ]
  },
  {
   "cell_type": "code",
   "execution_count": null,
   "metadata": {},
   "outputs": [],
   "source": [
    "no_yellow_viridis = matplotlib.colors.ListedColormap(matplotlib.colormaps['viridis'](np.linspace(0,0.82,256)))"
   ]
  },
  {
   "cell_type": "code",
   "execution_count": null,
   "metadata": {},
   "outputs": [],
   "source": [
    "# Create dicts to specify colors/markers\n",
    "metadata_dict = metadata.set_index('construct').to_dict('dict')\n",
    "main_palette = metadata_dict['color']\n",
    "main_markers = metadata_dict['markers']"
   ]
  },
  {
   "cell_type": "markdown",
   "metadata": {},
   "source": [
    "Draw gates based on untransfected population, then gate transfected cells"
   ]
  },
  {
   "cell_type": "code",
   "execution_count": null,
   "metadata": {},
   "outputs": [],
   "source": [
    "gates = pd.DataFrame()\n",
    "channel_list = ['mGL-A', 'mRuby2-A', 'tagBFP-A']\n",
    "for channel in channel_list:\n",
    "    gates[channel] = data[data['construct']=='UT'].groupby(['exp'])[channel].apply(lambda x: x.quantile(0.999))\n",
    "gates.reset_index(inplace=True)\n",
    "\n",
    "# Add missing gate for exp100\n",
    "gates.loc[len(gates.index)] = ['exp100.1', gates['mGL-A'].mean(), gates['mRuby2-A'].mean(), gates['tagBFP-A'].mean()] \n",
    "\n",
    "# Indicate which channels are relevant for each experiment\n",
    "gates['marker'] = 'mGL-A'\n",
    "gates['output'] = 'mRuby2-A'\n",
    "gates['filler'] = 'tagBFP-A'\n",
    "gates['marker'] = gates['mGL-A']\n",
    "gates['output'] = gates['mRuby2-A']\n",
    "gates['filler'] = gates['tagBFP-A']\n",
    "\n",
    "display(gates)"
   ]
  },
  {
   "cell_type": "code",
   "execution_count": null,
   "metadata": {},
   "outputs": [],
   "source": [
    "plot_df = data.groupby(['exp','construct','amount']).sample(1000)\n",
    "g = sns.displot(data=plot_df, x='marker', y='output', hue='amount', palette=no_yellow_viridis, kind='kde',\n",
    "                hue_norm=matplotlib.colors.LogNorm(), row='exp', col='construct', facet_kws=dict(margin_titles=True),\n",
    "                log_scale=True, common_norm=False, levels=5)\n"
   ]
  },
  {
   "cell_type": "code",
   "execution_count": null,
   "metadata": {},
   "outputs": [],
   "source": [
    "plot_df = data.groupby(['exp','construct','amount']).sample(1000)\n",
    "g = sns.displot(data=plot_df, x='marker', y='filler', hue='amount', palette=no_yellow_viridis, kind='kde',\n",
    "                hue_norm=matplotlib.colors.LogNorm(), row='exp', col='construct', facet_kws=dict(margin_titles=True),\n",
    "                log_scale=True, common_norm=False, levels=5)\n"
   ]
  },
  {
   "cell_type": "code",
   "execution_count": null,
   "metadata": {},
   "outputs": [],
   "source": [
    "plot_df = data\n",
    "g = sns.displot(data=plot_df, x='marker', hue='amount', palette=no_yellow_viridis, kind='kde',\n",
    "                hue_norm=matplotlib.colors.LogNorm(), row='exp', col='construct', facet_kws=dict(margin_titles=True),\n",
    "                log_scale=True, common_norm=False)\n",
    "g.set(xlim=(2e0,1e5))"
   ]
  },
  {
   "cell_type": "code",
   "execution_count": null,
   "metadata": {},
   "outputs": [],
   "source": [
    "plot_df = data\n",
    "g = sns.displot(data=plot_df, x='filler', hue='amount', palette=no_yellow_viridis, kind='kde',\n",
    "                hue_norm=matplotlib.colors.LogNorm(), row='exp', col='construct', facet_kws=dict(margin_titles=True),\n",
    "                log_scale=True, common_norm=False)\n",
    "g.set(xlim=(2e0,1e6))"
   ]
  },
  {
   "cell_type": "code",
   "execution_count": null,
   "metadata": {},
   "outputs": [],
   "source": [
    "plot_df = data\n",
    "g = sns.displot(data=plot_df, x='output', hue='amount', palette=no_yellow_viridis, kind='kde',\n",
    "                hue_norm=matplotlib.colors.LogNorm(), row='exp', col='construct', facet_kws=dict(margin_titles=True),\n",
    "                log_scale=True, common_norm=False)\n",
    "g.set(xlim=(2e0,1e6))"
   ]
  },
  {
   "cell_type": "code",
   "execution_count": null,
   "metadata": {},
   "outputs": [],
   "source": [
    "# Categorize cells into quadrants based on two gates\n",
    "# Possible values:\n",
    "#   0 = double negative\n",
    "#   1 = x-positive\n",
    "#   2 = y-positive\n",
    "#   3 = double positive\n",
    "def get_quadrant(x,y,gate_x,gate_y):\n",
    "    df_quad = pd.DataFrame()\n",
    "    df_quad['x'] = x > gate_x\n",
    "    df_quad['y'] = y > gate_y\n",
    "    df_quad['quadrant'] = df_quad['x'].astype(int) + df_quad['y'].astype(int)*2\n",
    "    return df_quad['quadrant']\n",
    "\n",
    "df_list = []\n",
    "for exp, group in data.groupby('exp'): \n",
    "    df = group.copy()\n",
    "    df['quadrant'] = get_quadrant(group['marker'], group['filler'], \n",
    "                                  gates.loc[gates['exp']==exp, 'marker'].values[0],\n",
    "                                  gates.loc[gates['exp']==exp, 'filler'].values[0],)\n",
    "    df_list.append(df)\n",
    "df = pd.concat(df_list)\n",
    "display(df)"
   ]
  },
  {
   "cell_type": "code",
   "execution_count": null,
   "metadata": {},
   "outputs": [],
   "source": [
    "df_transfected = df[(df['quadrant']>0) & (df['construct']!='UT')]\n",
    "df_gated = df[(df['quadrant'].isin([1,3])) & (df['construct']!='UT')]"
   ]
  },
  {
   "cell_type": "code",
   "execution_count": null,
   "metadata": {},
   "outputs": [],
   "source": [
    "plot_df = df_transfected\n",
    "g = sns.displot(data=plot_df, x='output', hue='amount', palette=no_yellow_viridis, kind='kde',\n",
    "                hue_norm=matplotlib.colors.LogNorm(), row='exp', col='construct', facet_kws=dict(margin_titles=True),\n",
    "                log_scale=True, common_norm=False)\n",
    "g.set(xlim=(2e0,1e6))"
   ]
  },
  {
   "cell_type": "code",
   "execution_count": null,
   "metadata": {},
   "outputs": [],
   "source": [
    "plot_df = df_transfected.groupby(['exp','construct','amount']).sample(1000)\n",
    "g = sns.displot(data=plot_df, x='marker', y='output', hue='amount', palette=no_yellow_viridis, kind='kde',\n",
    "                hue_norm=matplotlib.colors.LogNorm(), row='exp', col='construct', facet_kws=dict(margin_titles=True),\n",
    "                log_scale=True, common_norm=False, levels=5)"
   ]
  },
  {
   "cell_type": "code",
   "execution_count": null,
   "metadata": {},
   "outputs": [],
   "source": [
    "plot_df = df_gated\n",
    "g = sns.displot(data=plot_df, x='marker', y='output', hue='amount', palette=no_yellow_viridis, kind='kde',\n",
    "                hue_norm=matplotlib.colors.LogNorm(), row='exp', col='construct', facet_kws=dict(margin_titles=True),\n",
    "                log_scale=True, common_norm=False, levels=5)"
   ]
  },
  {
   "cell_type": "markdown",
   "metadata": {},
   "source": [
    "### Plot data for experiments with constant marker\n",
    "(exp100.1, 100.3, 100.5)"
   ]
  },
  {
   "cell_type": "code",
   "execution_count": null,
   "metadata": {},
   "outputs": [],
   "source": [
    "# Bin data and calculate statistics\n",
    "df_quantiles, stats, _, fits = base.calculate_bins_stats(df_gated, by=['construct','amount','exp','biorep'])\n",
    "stats = stats.merge(metadata, how='left', on='construct')\n",
    "fits = fits.merge(metadata, how='left', on='construct')"
   ]
  },
  {
   "cell_type": "code",
   "execution_count": null,
   "metadata": {},
   "outputs": [],
   "source": [
    "plot_df = df_quantiles[(df_quantiles['construct']!='AIO.039') & (df_quantiles['exp']=='exp100.1')]\n",
    "g = sns.relplot(data=plot_df, x='bin_marker_quantiles_median', y='output', hue='construct', palette=main_palette, \n",
    "             legend=False, dashes=False, style='construct', markers=main_markers, kind='line', markersize=10, markeredgewidth=1,\n",
    "             estimator=sp.stats.gmean, errorbar=lambda x: (sp.stats.gmean(x) / sp.stats.gstd(x), sp.stats.gmean(x) * sp.stats.gstd(x)),\n",
    "             col='amount')\n",
    "g.set(xscale='log', yscale='log', xlabel='marker', ylim=(2e1,1e5))\n",
    "marker_baseline = stats.loc[(stats['exp']=='exp100.1') & (stats['construct']=='AIO.039'), 'output_gmean'].mean()\n",
    "for _, ax in g.axes_dict.items(): ax.axhline(marker_baseline, color='black', ls=':', zorder=0)\n",
    "g.figure.savefig(rd.outfile(output_path/'line_exp100_by-amount.svg'))"
   ]
  },
  {
   "cell_type": "code",
   "execution_count": null,
   "metadata": {},
   "outputs": [],
   "source": [
    "plot_df = df_quantiles[(df_quantiles['construct']!='AIO.039') & (df_quantiles['exp']=='exp100.3')]\n",
    "g = sns.relplot(data=plot_df, x='bin_marker_quantiles_median', y='output', hue='construct', palette=main_palette, \n",
    "             legend=False, dashes=False, style='construct', markers=main_markers, kind='line', markersize=10, markeredgewidth=1,\n",
    "             estimator=sp.stats.gmean, errorbar=lambda x: (sp.stats.gmean(x) / sp.stats.gstd(x), sp.stats.gmean(x) * sp.stats.gstd(x)),\n",
    "             col='amount')\n",
    "g.set(xscale='log', yscale='log', xlabel='marker', ylim=(2e1,1e5))\n",
    "marker_baseline = stats.loc[(stats['exp']=='exp100.3') & (stats['construct']=='AIO.039'), 'output_gmean'].mean()\n",
    "for _, ax in g.axes_dict.items(): ax.axhline(marker_baseline, color='black', ls=':', zorder=0)\n",
    "g.figure.savefig(rd.outfile(output_path/'line_exp100.3_by-amount.svg'))"
   ]
  },
  {
   "cell_type": "code",
   "execution_count": null,
   "metadata": {},
   "outputs": [],
   "source": [
    "plot_df = df_quantiles[(df_quantiles['construct']!='AIO.039') & (df_quantiles['exp']=='exp100.5')]\n",
    "g = sns.relplot(data=plot_df, x='bin_marker_quantiles_median', y='output', hue='construct', palette=main_palette, \n",
    "             legend=False, dashes=False, style='construct', markers=main_markers, kind='line', markersize=10, markeredgewidth=1,\n",
    "             estimator=sp.stats.gmean, errorbar=lambda x: (sp.stats.gmean(x) / sp.stats.gstd(x), sp.stats.gmean(x) * sp.stats.gstd(x)),\n",
    "             col='amount')\n",
    "g.set(xscale='log', yscale='log', xlabel='marker', ylim=(2e1,1e5))\n",
    "marker_baseline = stats.loc[(stats['exp']=='exp100.5') & (stats['construct']=='AIO.039'), 'output_gmean'].mean()\n",
    "for _, ax in g.axes_dict.items(): ax.axhline(marker_baseline, color='black', ls=':', zorder=0)\n",
    "g.figure.savefig(rd.outfile(output_path/'line_exp100.5_by-amount.svg'))"
   ]
  },
  {
   "cell_type": "code",
   "execution_count": null,
   "metadata": {},
   "outputs": [],
   "source": [
    "label = {\n",
    "    'RC140': 'base',\n",
    "    'RC142': 'OL circuit',\n",
    "    'RC143': 'CL circuit',\n",
    "}\n",
    "df_quantiles['label'] = df_quantiles['construct'].map(label)\n",
    "stats['label'] = stats['construct'].map(label)\n",
    "fits['label'] = fits['construct'].map(label)"
   ]
  },
  {
   "cell_type": "code",
   "execution_count": null,
   "metadata": {},
   "outputs": [],
   "source": [
    "plot_df = df_quantiles[(df_quantiles['construct']!='AIO.039') & (df_quantiles['exp']=='exp100.1')].sort_values('construct')\n",
    "g = sns.relplot(data=plot_df, x='bin_marker_quantiles_median', y='output', hue='amount', palette=no_yellow_viridis, \n",
    "                hue_norm=matplotlib.colors.LogNorm(),\n",
    "                legend=False, dashes=False, style='construct', markers=main_markers, kind='line', markersize=10, markeredgewidth=1,\n",
    "                estimator=sp.stats.gmean, errorbar=lambda x: (sp.stats.gmean(x) / sp.stats.gstd(x), sp.stats.gmean(x) * sp.stats.gstd(x)),\n",
    "                col='label')\n",
    "g.set(xscale='log', yscale='log', xlabel='marker', ylim=(2e1,1e5))\n",
    "g.set_titles('{col_name}')\n",
    "marker_baseline = stats.loc[(stats['exp']=='exp100.1') & (stats['construct']=='AIO.039'), 'output_gmean'].mean()\n",
    "for _, ax in g.axes_dict.items(): ax.axhline(marker_baseline, color='black', ls=':', zorder=0)\n",
    "g.figure.savefig(rd.outfile(output_path/'line_exp100_by-construct.svg'))"
   ]
  },
  {
   "cell_type": "code",
   "execution_count": null,
   "metadata": {},
   "outputs": [],
   "source": [
    "plot_df = df_quantiles[(df_quantiles['construct']!='AIO.039') & (df_quantiles['exp']=='exp100.3')].sort_values('construct')\n",
    "g = sns.relplot(data=plot_df, x='bin_marker_quantiles_median', y='output', hue='amount', palette=no_yellow_viridis, \n",
    "                hue_norm=matplotlib.colors.LogNorm(),\n",
    "                legend=False, dashes=False, style='construct', markers=main_markers, kind='line', markersize=10, markeredgewidth=1,\n",
    "                estimator=sp.stats.gmean, errorbar=lambda x: (sp.stats.gmean(x) / sp.stats.gstd(x), sp.stats.gmean(x) * sp.stats.gstd(x)),\n",
    "                col='label')\n",
    "g.set(xscale='log', yscale='log', xlabel='marker', ylim=(2e1,1e5))\n",
    "g.set_titles('{col_name}')\n",
    "marker_baseline = stats.loc[(stats['exp']=='exp100.3') & (stats['construct']=='AIO.039'), 'output_gmean'].mean()\n",
    "for _, ax in g.axes_dict.items(): ax.axhline(marker_baseline, color='black', ls=':', zorder=0)\n",
    "g.figure.savefig(rd.outfile(output_path/'line_exp100.3_by-construct.svg'))"
   ]
  },
  {
   "cell_type": "code",
   "execution_count": null,
   "metadata": {},
   "outputs": [],
   "source": [
    "plot_df = df_quantiles[(df_quantiles['construct']!='AIO.039') & (df_quantiles['exp']=='exp100.5')].sort_values('construct')\n",
    "g = sns.relplot(data=plot_df, x='bin_marker_quantiles_median', y='output', hue='amount', palette=no_yellow_viridis, \n",
    "                hue_norm=matplotlib.colors.LogNorm(),\n",
    "                legend=False, dashes=False, style='construct', markers=main_markers, kind='line', markersize=10, markeredgewidth=1,\n",
    "                estimator=sp.stats.gmean, errorbar=lambda x: (sp.stats.gmean(x) / sp.stats.gstd(x), sp.stats.gmean(x) * sp.stats.gstd(x)),\n",
    "                col='label')\n",
    "g.set(xscale='log', yscale='log', xlabel='marker', ylim=(2e1,1e5))\n",
    "g.set_titles('{col_name}')\n",
    "marker_baseline = stats.loc[(stats['exp']=='exp100.5') & (stats['construct']=='AIO.039'), 'output_gmean'].mean()\n",
    "for _, ax in g.axes_dict.items(): ax.axhline(marker_baseline, color='black', ls=':', zorder=0)\n",
    "g.figure.savefig(rd.outfile(output_path/'line_exp100.5_by-construct.svg'))"
   ]
  },
  {
   "cell_type": "code",
   "execution_count": null,
   "metadata": {},
   "outputs": [],
   "source": [
    "plot_df = fits[(fits['construct']!='AIO.039') & (fits['exp']=='exp100.1')].sort_values('construct')\n",
    "\n",
    "fig, axes = plt.subplots(1,2, figsize=(10,5), sharey=True,)\n",
    "sns.scatterplot(data=plot_df, x='label', y='slope', hue='amount', palette=no_yellow_viridis, \n",
    "                hue_norm=matplotlib.colors.LogNorm(), legend=False, ax=axes[0])\n",
    "axes[0].set(xlabel='', ylim=(0,1.2), xlim=(-0.5,2.5))\n",
    "\n",
    "sns.scatterplot(data=plot_df, x='amount', y='slope', hue='construct', palette=main_palette,\n",
    "                style='construct', markers=main_markers, legend=False, ax=axes[1])\n",
    "axes[1].set(ylim=(0,1.2))\n",
    "sns.despine()\n",
    "\n",
    "fig.savefig(rd.outfile(output_path/'scatter_exp100_slopes.svg'), bbox_inches='tight')"
   ]
  },
  {
   "cell_type": "code",
   "execution_count": null,
   "metadata": {},
   "outputs": [],
   "source": [
    "plot_df = fits[(fits['construct']!='AIO.039') & (fits['exp'].isin(['exp100.1', 'exp100.3', 'exp100.5']))].sort_values('construct')\n",
    "\n",
    "fig, axes = plt.subplots(1,2, figsize=(10,5), sharey=True,)\n",
    "sns.stripplot(data=plot_df, x='label', y='slope', hue='amount', palette=no_yellow_viridis, \n",
    "                hue_norm=matplotlib.colors.LogNorm(), legend=False, ax=axes[0], dodge=True, jitter=False,\n",
    "                size=9, linewidth=1, edgecolor='white')\n",
    "axes[0].set(xlabel='', ylim=(0,1.2), xlim=(-0.5,2.5))\n",
    "\n",
    "sns.scatterplot(data=plot_df, x='amount', y='slope', hue='construct', palette=main_palette,\n",
    "                style='construct', markers=main_markers, legend=False, ax=axes[1])\n",
    "axes[1].set(ylim=(0,1.2))\n",
    "sns.despine()\n",
    "\n",
    "fig.savefig(rd.outfile(output_path/'scatter_slopes.svg'), bbox_inches='tight')"
   ]
  },
  {
   "cell_type": "markdown",
   "metadata": {},
   "source": [
    "### Explore experiments where marker was also titrated \n",
    "(exp100.2, 100.4)"
   ]
  },
  {
   "cell_type": "code",
   "execution_count": null,
   "metadata": {},
   "outputs": [],
   "source": [
    "# Bin data and calculate statistics\n",
    "df_quantiles2, stats2, _, fits2 = base.calculate_bins_stats(df_transfected)\n",
    "stats2 = stats2.merge(metadata, how='left', on='construct')\n",
    "fits2 = fits2.merge(metadata, how='left', on='construct')\n",
    "\n",
    "df_quantiles2['label'] = df_quantiles2['construct'].map(label)"
   ]
  },
  {
   "cell_type": "code",
   "execution_count": null,
   "metadata": {},
   "outputs": [],
   "source": [
    "plot_df = df_quantiles2[(df_quantiles2['construct']!='AIO.039') & (df_quantiles2['exp']=='exp100.2')]\n",
    "g = sns.relplot(data=plot_df, x='bin_marker_quantiles_median', y='output', hue='construct', palette=main_palette, \n",
    "             legend=False, dashes=False, style='construct', markers=main_markers, kind='line', markersize=10, markeredgewidth=1,\n",
    "             estimator=sp.stats.gmean, errorbar=lambda x: (sp.stats.gmean(x) / sp.stats.gstd(x), sp.stats.gmean(x) * sp.stats.gstd(x)),\n",
    "             col='amount')\n",
    "g.set(xscale='log', yscale='log', xlabel='marker', ylim=(2e1,1e5))\n",
    "g.figure.savefig(rd.outfile(output_path/'line_exp100.2_by-amount.svg'))"
   ]
  },
  {
   "cell_type": "code",
   "execution_count": null,
   "metadata": {},
   "outputs": [],
   "source": [
    "plot_df = df_quantiles2[(df_quantiles2['construct']!='AIO.039') & (df_quantiles2['exp']=='exp100.2')].sort_values('construct')\n",
    "g = sns.relplot(data=plot_df, x='bin_marker_quantiles_median', y='output', hue='amount', palette=no_yellow_viridis, \n",
    "                hue_norm=matplotlib.colors.LogNorm(),\n",
    "                legend=False, dashes=False, style='construct', markers=main_markers, kind='line', markersize=10, markeredgewidth=1,\n",
    "                estimator=sp.stats.gmean, errorbar=lambda x: (sp.stats.gmean(x) / sp.stats.gstd(x), sp.stats.gmean(x) * sp.stats.gstd(x)),\n",
    "                col='label')\n",
    "g.set(xscale='log', yscale='log', xlabel='marker', ylim=(2e1,1e5))\n",
    "g.set_titles('{col_name}')\n",
    "g.figure.savefig(rd.outfile(output_path/'line_exp100.2_by-construct.svg'))"
   ]
  },
  {
   "cell_type": "code",
   "execution_count": null,
   "metadata": {},
   "outputs": [],
   "source": [
    "# Bin data and calculate statistics\n",
    "df_quantiles_ungated, stats_ungated, _, fits_ungated = base.calculate_bins_stats(df)\n",
    "stats_ungated = stats_ungated.merge(metadata, how='left', on='construct')\n",
    "fits_ungated = fits_ungated.merge(metadata, how='left', on='construct')\n",
    "\n",
    "df_quantiles_ungated['label'] = df_quantiles_ungated['construct'].map(label)"
   ]
  },
  {
   "cell_type": "code",
   "execution_count": null,
   "metadata": {},
   "outputs": [],
   "source": [
    "plot_df = df_quantiles_ungated[(df_quantiles_ungated['construct']!='AIO.039') & (df_quantiles_ungated['exp']=='exp100.2')]\n",
    "g = sns.relplot(data=plot_df, x='bin_marker_quantiles_median', y='output', hue='construct', palette=main_palette, \n",
    "             legend=False, dashes=False, style='construct', markers=main_markers, kind='line', markersize=10, markeredgewidth=1,\n",
    "             estimator=sp.stats.gmean, errorbar=lambda x: (sp.stats.gmean(x) / sp.stats.gstd(x), sp.stats.gmean(x) * sp.stats.gstd(x)),\n",
    "             col='amount')\n",
    "g.set(xscale='log', yscale='log', xlabel='marker', ylim=(2e1,1e5))\n",
    "g.figure.savefig(rd.outfile(output_path/'line_exp100.2_by-amount.svg'))"
   ]
  },
  {
   "cell_type": "code",
   "execution_count": null,
   "metadata": {},
   "outputs": [],
   "source": [
    "plot_df = df_quantiles_ungated[(df_quantiles_ungated['construct']!='AIO.039') & (df_quantiles_ungated['exp']=='exp100.2')].sort_values('construct')\n",
    "g = sns.relplot(data=plot_df, x='bin_marker_quantiles_median', y='output', hue='amount', palette=no_yellow_viridis, \n",
    "                hue_norm=matplotlib.colors.LogNorm(),\n",
    "                legend=False, dashes=False, style='construct', markers=main_markers, kind='line', markersize=10, markeredgewidth=1,\n",
    "                estimator=sp.stats.gmean, errorbar=lambda x: (sp.stats.gmean(x) / sp.stats.gstd(x), sp.stats.gmean(x) * sp.stats.gstd(x)),\n",
    "                col='label')\n",
    "g.set(xscale='log', yscale='log', xlabel='marker', ylim=(2e1,1e5))\n",
    "g.set_titles('{col_name}')\n",
    "g.figure.savefig(rd.outfile(output_path/'line_exp100.2_by-construct.svg'))"
   ]
  },
  {
   "cell_type": "code",
   "execution_count": null,
   "metadata": {},
   "outputs": [],
   "source": []
  },
  {
   "cell_type": "code",
   "execution_count": null,
   "metadata": {},
   "outputs": [],
   "source": []
  }
 ],
 "metadata": {
  "kernelspec": {
   "display_name": "env",
   "language": "python",
   "name": "python3"
  },
  "language_info": {
   "codemirror_mode": {
    "name": "ipython",
    "version": 3
   },
   "file_extension": ".py",
   "mimetype": "text/x-python",
   "name": "python",
   "nbconvert_exporter": "python",
   "pygments_lexer": "ipython3"
  }
 },
 "nbformat": 4,
 "nbformat_minor": 2
}
