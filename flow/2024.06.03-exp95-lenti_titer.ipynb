{
 "cells": [
  {
   "cell_type": "code",
   "execution_count": null,
   "metadata": {},
   "outputs": [],
   "source": [
    "import base\n",
    "import matplotlib\n",
    "import matplotlib.pyplot as plt\n",
    "import numpy as np\n",
    "import pandas as pd\n",
    "import rushd as rd\n",
    "import scipy.stats\n",
    "import seaborn as sns\n",
    "\n",
    "# enables concurrent editing of base.py\n",
    "from importlib import reload\n",
    "reload(base)\n",
    "\n",
    "sns.set_style('ticks')\n",
    "sns.set_context('talk',rc={'font.family': 'sans-serif', 'font.sans-serif':['Helvetica Neue']})"
   ]
  },
  {
   "cell_type": "code",
   "execution_count": null,
   "metadata": {},
   "outputs": [],
   "source": [
    "base_path = rd.datadir/'instruments'/'data'/'attune'/'chris'/'2024.06.02-exp95-lenti-miR-iFFL'/'export'\n",
    "\n",
    "plates = pd.DataFrame({\n",
    "    'data_path': [base_path/'plate1_293T_P9', base_path/'plate4_MEF2A_P9'],\n",
    "    'yaml_path': [base_path/'plate1_293T_P9_metadata.yaml', base_path/'plate4_MEF2A_P9_metadata.yaml']\n",
    "})\n",
    "\n",
    "output_path = rd.rootdir/'output'/'lenti-exp95'\n",
    "cache_path = output_path/'data.gzip'\n",
    "\n",
    "metadata_keys = set()\n",
    "for p in plates['yaml_path'].unique():\n",
    "    print(p)\n",
    "    rd.plot.plot_well_metadata(p)\n",
    "    metadata_keys.update(rd.flow.load_well_metadata(p).keys())\n",
    "display(metadata_keys)"
   ]
  },
  {
   "cell_type": "code",
   "execution_count": null,
   "metadata": {},
   "outputs": [],
   "source": [
    "# Load data\n",
    "data = pd.DataFrame()\n",
    "if cache_path.is_file(): data = pd.read_parquet(cache_path)\n",
    "else: \n",
    "    channel_list = ['mCherry-A','FSC-A','SSC-A','mGL-A']\n",
    "    data = rd.flow.load_groups_with_metadata(plates, columns=channel_list)\n",
    "\n",
    "    # Remove negative channel values\n",
    "    for c in channel_list: data = data[data[c]>0]\n",
    "    \n",
    "    data.to_parquet(rd.outfile(cache_path))\n",
    "# Create dicts to specify colors/markers\n",
    "metadata = base.get_metadata(rd.datadir/'projects'/'miR-iFFL'/'plasmids'/'construct-metadata.xlsx')\n",
    "metadata['TS'] = metadata['ts_kind']\n",
    "metadata_dict = metadata.set_index('construct').to_dict('dict')\n",
    "construct_palette = metadata_dict['color']\n",
    "construct_markers = metadata_dict['markers']\n",
    "display(data)"
   ]
  },
  {
   "cell_type": "code",
   "execution_count": null,
   "metadata": {},
   "outputs": [],
   "source": [
    "for cell_type, cell_count, scale_factor in zip(['293T', 'MEF-2A'], [20000, 20000], [1.0, 0.55]):\n",
    "    mGL_gate = data[(data.cell_type == cell_type) & (data.virus_dilution == 0.0)]['mGL-A'].quantile(0.9999)\n",
    "    sns.kdeplot(data[data.cell_type == cell_type], x='mGL-A', hue='virus_dilution', log_scale=True)\n",
    "    plt.axvline(mGL_gate, color='k', ls=':')\n",
    "    plt.show()\n",
    "\n",
    "    infection_summary = data[(data.cell_type == cell_type)].groupby(['virus_dilution'])['mGL-A'].apply(lambda s: np.mean(s > mGL_gate)).reset_index()\n",
    "    sns.stripplot(infection_summary, x='virus_dilution', y='mGL-A')\n",
    "    sns.despine()\n",
    "    plt.ylim([0,1])\n",
    "    plt.title(cell_type)\n",
    "    plt.ylabel('Infection efficiency')\n",
    "    plt.xlabel('Virus dilution')\n",
    "    plt.xticks(ticks=list(range(8)), labels=[f'{2**(-7 + i):0.2f}' for i in range(8)])\n",
    "    plt.savefig(rd.outfile(rd.rootdir/'output'/'moi_data'/f'initial_moi_{cell_type}.svg'), bbox_inches='tight')\n",
    "    plt.show()\n",
    "\n",
    "    moi_df = data[(data.cell_type == cell_type) & (data.virus_dilution != 0.0)].copy()\n",
    "    moi_df['condition'] = moi_df.construct\n",
    "    moi_df['replicate'] = 1\n",
    "    moi_df['starting_cell_count'] = cell_count\n",
    "    moi_df['scaling'] = moi_df.virus_dilution\n",
    "    moi_df['max_virus'] = moi_df.base_virus_uL\n",
    "    #display(rd.flow.moi(moi_df, 'mGL-A', mGL_gate, scale_factor=scale_factor))"
   ]
  },
  {
   "cell_type": "markdown",
   "metadata": {},
   "source": [
    "## Summary\n",
    "Virus was made at 6-well scale, with each 6-well being resuspended into 200 uL.\n",
    "\n",
    "#### Seeding\n",
    "- MEFs: 10k cells seeded the day before. Likely divide to 20k\n",
    "- 293Ts: 20k cells seeded day-of.\n",
    "\n",
    "#### Transduction\n",
    "- 293Ts: added virus to media when seeding.\n",
    "- MEFs: added virus on top of adhered MEFs, spinfected (1500xg, 37C, 30 minutes)\n",
    "\n",
    "#### Viral titer per uL\n",
    "- This is a titer of roughly ~8000-9000 IUs per uL for the 293Ts, and ~4000 IUs per uL for the MEFs.\n",
    "\n",
    "#### Sanity check MOI\n",
    "- For the 293Ts, we see about ~10% infection of 20k cells at 0.2 uL of virus added. This matches: 0.2 uL would be ~2000 IUs.\n",
    "- For the MEFs, we see about ~10% infection of 20k cells (roughly 20% rescaled, due to \"uninfectable cells\") at 1 uL of virus added. This also lines up\n",
    "\n",
    "### Application to scale-up\n",
    "The 10 cm dishes has 5.9x higher surface area. This means we're expecting 47,200 IUs / uL for the 293T case and 23,600 IUs / uL for the MEFs + spinfection."
   ]
  },
  {
   "cell_type": "code",
   "execution_count": null,
   "metadata": {},
   "outputs": [],
   "source": []
  }
 ],
 "metadata": {
  "kernelspec": {
   "display_name": "env",
   "language": "python",
   "name": "python3"
  },
  "language_info": {
   "codemirror_mode": {
    "name": "ipython",
    "version": 3
   },
   "file_extension": ".py",
   "mimetype": "text/x-python",
   "name": "python",
   "nbconvert_exporter": "python",
   "pygments_lexer": "ipython3"
  }
 },
 "nbformat": 4,
 "nbformat_minor": 2
}
