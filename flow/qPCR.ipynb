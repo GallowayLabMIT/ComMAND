{
 "cells": [
  {
   "cell_type": "code",
   "execution_count": null,
   "metadata": {},
   "outputs": [],
   "source": [
    "import base\n",
    "import matplotlib\n",
    "import matplotlib.pyplot as plt\n",
    "import numpy as np\n",
    "import pandas as pd\n",
    "from pathlib import Path\n",
    "import rushd as rd\n",
    "import scipy as sp\n",
    "import seaborn as sns\n",
    "\n",
    "from importlib import reload\n",
    "reload(base)\n",
    "\n",
    "sns.set_style('ticks')\n",
    "sns.set_context('talk',rc={'font.family': 'sans-serif', 'font.sans-serif':['Helvetica Neue']})"
   ]
  },
  {
   "cell_type": "code",
   "execution_count": null,
   "metadata": {},
   "outputs": [],
   "source": [
    "base_path = rd.datadir/'instruments'/'data'/'qPCR'/'emma'/'command'\n",
    "output_path = rd.rootdir/'output'/'qPCR'/'kasey'\n",
    "cache_path = output_path/'data.gzip'\n",
    "\n",
    "plates = pd.DataFrame({\n",
    "    'data_path': [base_path/'2024.11.13_command'/'2024.11.13_ELP_command_qPCR_Cp.txt', base_path/'2024.11.22_command'/'2024.11.22_ELP_command_qPCR_Cp.txt'],\n",
    "    'yaml_path': [base_path/'2024.11.13_command'/'wells.yaml', base_path/'2024.11.22_command'/'wells.yaml'],\n",
    "})\n",
    "\n",
    "for p in plates['yaml_path'].unique():\n",
    "    rd.plot.plot_well_metadata(p)"
   ]
  },
  {
   "cell_type": "code",
   "execution_count": null,
   "metadata": {},
   "outputs": [],
   "source": [
    "data = pd.DataFrame()\n",
    "if cache_path.exists(): data = pd.read_parquet(cache_path)\n",
    "else: \n",
    "    data = base.load_data_qpcr(plates)\n",
    "    data.to_parquet(rd.outfile(cache_path))\n",
    "display(data)"
   ]
  },
  {
   "cell_type": "code",
   "execution_count": null,
   "metadata": {},
   "outputs": [],
   "source": [
    "# Add metadata for constructs\n",
    "metadata = base.get_metadata(rd.datadir/'projects'/'miR-iFFL'/'plasmids'/'construct-metadata.xlsx')\n",
    "data = data.merge(metadata, how='left', on='construct')\n",
    "display(data)\n",
    "\n",
    "# Create dicts to specify colors/markers\n",
    "metadata_dict = metadata.set_index('construct').to_dict('dict')\n",
    "main_palette = metadata_dict['color']\n",
    "main_markers = metadata_dict['markers']\n",
    "\n",
    "ts_label = {'na': 'base', 'NT': 'OL', 'T': 'CL', 'none': '–'}"
   ]
  },
  {
   "cell_type": "code",
   "execution_count": null,
   "metadata": {},
   "outputs": [],
   "source": [
    "def get_housekeeping(df, gene='GAPDH', stat=np.mean):\n",
    "    df['housekeeping_Cp'] = df.loc[df['primers']=='GAPDH', 'Cp'].agg(stat)\n",
    "    return df\n",
    "\n",
    "data = data.groupby(['dox','construct','biorep'])[data.columns].apply(get_housekeeping).reset_index(drop=True)\n",
    "data['delta_Cp'] = data['Cp'] - data['housekeeping_Cp']\n",
    "data['expression'] = data['Cp'].apply(lambda x: 2**(-x))\n",
    "data['norm_expression'] = data['delta_Cp'].apply(lambda x: 2**(-x))"
   ]
  },
  {
   "cell_type": "code",
   "execution_count": null,
   "metadata": {},
   "outputs": [],
   "source": [
    "def get_control(df, construct='UI', stat=np.median):\n",
    "    df[construct+'_Cp'] = df.loc[(df['construct']==construct), 'delta_Cp'].agg(stat)\n",
    "    return df\n",
    "\n",
    "data = data.groupby(['dox','primers','biorep'])[data.columns].apply(lambda x: get_control(x, 'RC281')).reset_index(drop=True)\n",
    "data = data.groupby(['dox','primers','biorep'])[data.columns].apply(lambda x: get_control(x, 'RC284')).reset_index(drop=True)\n",
    "data['delta_delta_Cp'] = data['delta_Cp'] - data['RC281_Cp']\n",
    "data.loc[data['construct'].isin(['RC284','RC285','RC286']), 'delta_delta_Cp'] = data.loc[data['construct'].isin(['RC284','RC285','RC286']), 'delta_Cp'] - data.loc[data['construct'].isin(['RC284','RC285','RC286']), 'RC284_Cp']\n",
    "data['relative_expression'] = data['delta_delta_Cp'].apply(lambda x: 2**(-x))"
   ]
  },
  {
   "cell_type": "code",
   "execution_count": null,
   "metadata": {},
   "outputs": [],
   "source": [
    "# Plot controls\n",
    "plot_df = data[data['construct'].isin(['no-RT','no-cDNA','UI'])]\n",
    "g = sns.catplot(data=plot_df, x='primers', y='expression', hue='construct',\n",
    "                col='biorep', kind='strip', dodge=True)\n",
    "for _,ax in g.axes_dict.items():\n",
    "    ax.axhline(2**(-35), c='black', ls=':', zorder=0) # max cycle number\n",
    "    ax.set_xticklabels(ax.get_xticklabels(), rotation=45, ha='right')\n",
    "g.figure.savefig(rd.outfile(output_path/f'expression_controls.png'))"
   ]
  },
  {
   "cell_type": "code",
   "execution_count": null,
   "metadata": {},
   "outputs": [],
   "source": [
    "primers_list = ['FXN', 'mRuby2-1', 'mRuby2-2']\n",
    "for biorep in data['biorep'].unique():\n",
    "    fig, axes = plt.subplots(1, len(primers_list), figsize=(10,4), gridspec_kw=dict(wspace=0.5))\n",
    "\n",
    "    for ax, primers in zip(axes, primers_list):\n",
    "        plot_df = data[(data['primers']==primers) & ~(data['construct'].isin(['no-RT','no-cDNA','UI'])) & (data['biorep']==biorep)]\n",
    "        sns.stripplot(data=plot_df, x='ts_kind', y='norm_expression', hue='dox', \n",
    "                    ax=ax, legend=False)\n",
    "        ax.set(xlabel='', ylabel='', title=primers)\n",
    "        ax.set_xticklabels([ts_label[l.get_text()] for l in ax.get_xticklabels()], rotation=45, ha='right')\n",
    "        baseline = data.loc[(data['primers']==primers) & (data['construct']=='UI') & (data['biorep']==biorep), 'norm_expression'].median()\n",
    "        ax.axhline(baseline, c='black', ls=':', zorder=0)\n",
    "        sns.despine(ax=ax)\n",
    "    fig.savefig(rd.outfile(output_path/f'norm-expression_FXN_biorep{biorep}.png'))"
   ]
  },
  {
   "cell_type": "code",
   "execution_count": null,
   "metadata": {},
   "outputs": [],
   "source": [
    "primers_list = ['FMRP-1', 'FMRP-2', 'EGFP-1', 'EGFP-2']\n",
    "for biorep in data['biorep'].unique():\n",
    "    fig, axes = plt.subplots(1, len(primers_list), figsize=(12,4), gridspec_kw=dict(wspace=0.5))\n",
    "\n",
    "    for ax, primers in zip(axes, primers_list):\n",
    "        plot_df = data[(data['primers']==primers) & ~(data['construct'].isin(['no-RT','no-cDNA','UI'])) & (data['biorep']==biorep)]\n",
    "        sns.stripplot(data=plot_df, x='ts_kind', y='norm_expression', hue='dox', \n",
    "                    ax=ax, legend=False)\n",
    "        ax.set(xlabel='', ylabel='', title=primers)\n",
    "        ax.set_xticklabels([ts_label[l.get_text()] for l in ax.get_xticklabels()], rotation=45, ha='right')\n",
    "        baseline = data.loc[(data['primers']==primers) & (data['construct']=='UI') & (data['biorep']==biorep), 'norm_expression'].median()\n",
    "        ax.axhline(baseline, c='black', ls=':', zorder=0)\n",
    "        sns.despine(ax=ax)\n",
    "    fig.savefig(rd.outfile(output_path/f'norm-expression_FMRP_biorep{biorep}.png'))"
   ]
  },
  {
   "cell_type": "code",
   "execution_count": null,
   "metadata": {},
   "outputs": [],
   "source": [
    "primers_list = ['FXN', 'mRuby2-1', 'mRuby2-2']\n",
    "for biorep in data['biorep'].unique():\n",
    "    fig, axes = plt.subplots(1, len(primers_list), figsize=(10,4), gridspec_kw=dict(wspace=0.5))\n",
    "\n",
    "    for ax, primers in zip(axes, primers_list):\n",
    "        plot_df = data[(data['primers']==primers) & ~(data['construct'].isin(['no-RT','no-cDNA','UI'])) & (data['biorep']==biorep)]\n",
    "        sns.stripplot(data=plot_df, x='ts_kind', y='relative_expression', hue='dox', \n",
    "                    ax=ax, legend=False)\n",
    "        ax.set(xlabel='', ylabel='', title=primers)\n",
    "        ax.set_xticklabels([ts_label[l.get_text()] for l in ax.get_xticklabels()], rotation=45, ha='right')\n",
    "        baseline = data.loc[(data['primers']==primers) & (data['construct']=='UI') & (data['biorep']==biorep), 'relative_expression'].median()\n",
    "        ax.axhline(baseline, c='black', ls=':', zorder=0)\n",
    "        sns.despine(ax=ax)\n",
    "    fig.savefig(rd.outfile(output_path/f'relative-expression_FXN_biorep{biorep}.png'))"
   ]
  },
  {
   "cell_type": "code",
   "execution_count": null,
   "metadata": {},
   "outputs": [],
   "source": [
    "primers_list = ['FMRP-1', 'FMRP-2', 'EGFP-1', 'EGFP-2']\n",
    "for biorep in data['biorep'].unique():\n",
    "    fig, axes = plt.subplots(1, len(primers_list), figsize=(12,4), gridspec_kw=dict(wspace=0.5))\n",
    "\n",
    "    for ax, primers in zip(axes, primers_list):\n",
    "        plot_df = data[(data['primers']==primers) & ~(data['construct'].isin(['no-RT','no-cDNA','UI'])) & (data['biorep']==biorep)]\n",
    "        sns.stripplot(data=plot_df, x='ts_kind', y='relative_expression', hue='dox', \n",
    "                    ax=ax, legend=False)\n",
    "        ax.set(xlabel='', ylabel='', title=primers)\n",
    "        ax.set_xticklabels([ts_label[l.get_text()] for l in ax.get_xticklabels()], rotation=45, ha='right')\n",
    "        baseline = data.loc[(data['primers']==primers) & (data['construct']=='UI') & (data['biorep']==biorep), 'relative_expression'].median()\n",
    "        ax.axhline(baseline, c='black', ls=':', zorder=0)\n",
    "        sns.despine(ax=ax)\n",
    "    fig.savefig(rd.outfile(output_path/f'relative-expression_FMRP_biorep{biorep}.png'))"
   ]
  },
  {
   "cell_type": "code",
   "execution_count": null,
   "metadata": {},
   "outputs": [],
   "source": [
    "# Calculate stats for bioreps\n",
    "stats = data.groupby(['construct','dox','primers','biorep'])[['Cp','housekeeping_Cp','delta_Cp','expression','norm_expression','relative_expression']].median().reset_index()\n",
    "stats = stats.merge(metadata, how='left', on='construct')\n",
    "display(stats)"
   ]
  },
  {
   "cell_type": "code",
   "execution_count": null,
   "metadata": {},
   "outputs": [],
   "source": [
    "display(stats[stats['construct']=='RC281'])"
   ]
  },
  {
   "cell_type": "code",
   "execution_count": null,
   "metadata": {},
   "outputs": [],
   "source": [
    "primers_list = ['FXN', 'mRuby2-1', 'mRuby2-2']\n",
    "\n",
    "fig, axes = plt.subplots(1, len(primers_list), figsize=(12,4), gridspec_kw=dict(wspace=0.5))\n",
    "\n",
    "for ax, primers in zip(axes, primers_list):\n",
    "    plot_df = stats[(stats['primers']==primers) & ~(stats['construct'].isin(['no-RT','no-cDNA','UI']))]\n",
    "    sns.stripplot(data=plot_df, x='ts_kind', y='norm_expression', hue='dox', \n",
    "                ax=ax, legend=False)\n",
    "    ax.set(xlabel='', ylabel='', title=primers)\n",
    "    ax.set_xticklabels([ts_label[l.get_text()] for l in ax.get_xticklabels()], rotation=45, ha='right')\n",
    "    baseline = stats.loc[(stats['primers']==primers) & (stats['construct']=='UI'), 'norm_expression'].mean()\n",
    "    ax.axhline(baseline, c='black', ls=':', zorder=0)\n",
    "    sns.despine(ax=ax)\n",
    "fig.savefig(rd.outfile(output_path/f'norm-expression_FXN.png'))"
   ]
  },
  {
   "cell_type": "code",
   "execution_count": null,
   "metadata": {},
   "outputs": [],
   "source": [
    "primers_list = ['FMRP-1', 'FMRP-2', 'EGFP-1', 'EGFP-2']\n",
    "\n",
    "fig, axes = plt.subplots(1, len(primers_list), figsize=(12,4), gridspec_kw=dict(wspace=0.5))\n",
    "\n",
    "for ax, primers in zip(axes, primers_list):\n",
    "    plot_df = stats[(stats['primers']==primers) & ~(stats['construct'].isin(['no-RT','no-cDNA','UI']))]\n",
    "    sns.stripplot(data=plot_df, x='ts_kind', y='norm_expression', hue='dox', \n",
    "                ax=ax, legend=False)\n",
    "    ax.set(xlabel='', ylabel='', title=primers)\n",
    "    ax.set_xticklabels([ts_label[l.get_text()] for l in ax.get_xticklabels()], rotation=45, ha='right')\n",
    "    baseline = stats.loc[(stats['primers']==primers) & (stats['construct']=='UI'), 'norm_expression'].mean()\n",
    "    ax.axhline(baseline, c='black', ls=':', zorder=0)\n",
    "    sns.despine(ax=ax)\n",
    "fig.savefig(rd.outfile(output_path/f'norm-expression_FMRP.png'))"
   ]
  },
  {
   "cell_type": "code",
   "execution_count": null,
   "metadata": {},
   "outputs": [],
   "source": [
    "primers_list = ['FXN', 'mRuby2-1', 'mRuby2-2']\n",
    "\n",
    "fig, axes = plt.subplots(1, len(primers_list), figsize=(12,4), gridspec_kw=dict(wspace=0.5))\n",
    "\n",
    "for ax, primers in zip(axes, primers_list):\n",
    "    plot_df = stats[(stats['primers']==primers) & ~(stats['construct'].isin(['no-RT','no-cDNA','UI']))]\n",
    "    sns.stripplot(data=plot_df, x='ts_kind', y='relative_expression', hue='dox', \n",
    "                ax=ax, legend=False)\n",
    "    ax.set(xlabel='', ylabel='', title=primers)\n",
    "    ax.set_xticklabels([ts_label[l.get_text()] for l in ax.get_xticklabels()], rotation=45, ha='right')\n",
    "    baseline = stats.loc[(stats['primers']==primers) & (stats['construct']=='UI'), 'relative_expression'].mean()\n",
    "    ax.axhline(baseline, c='black', ls=':', zorder=0)\n",
    "    sns.despine(ax=ax)\n",
    "fig.savefig(rd.outfile(output_path/f'relative-expression_FXN.png'))"
   ]
  },
  {
   "cell_type": "code",
   "execution_count": null,
   "metadata": {},
   "outputs": [],
   "source": [
    "primers_list = ['FMRP-1', 'FMRP-2', 'EGFP-1', 'EGFP-2']\n",
    "\n",
    "fig, axes = plt.subplots(1, len(primers_list), figsize=(12,4), gridspec_kw=dict(wspace=0.5))\n",
    "\n",
    "for ax, primers in zip(axes, primers_list):\n",
    "    plot_df = stats[(stats['primers']==primers) & ~(stats['construct'].isin(['no-RT','no-cDNA','UI']))]\n",
    "    sns.stripplot(data=plot_df, x='ts_kind', y='relative_expression', hue='dox', \n",
    "                ax=ax, legend=False)\n",
    "    ax.set(xlabel='', ylabel='', title=primers)\n",
    "    ax.set_xticklabels([ts_label[l.get_text()] for l in ax.get_xticklabels()], rotation=45, ha='right')\n",
    "    baseline = stats.loc[(stats['primers']==primers) & (stats['construct']=='UI'), 'relative_expression'].mean()\n",
    "    ax.axhline(baseline, c='black', ls=':', zorder=0)\n",
    "    sns.despine(ax=ax)\n",
    "fig.savefig(rd.outfile(output_path/f'relative-expression_FMRP.png'))"
   ]
  },
  {
   "cell_type": "code",
   "execution_count": null,
   "metadata": {},
   "outputs": [],
   "source": []
  }
 ],
 "metadata": {
  "kernelspec": {
   "display_name": "env",
   "language": "python",
   "name": "python3"
  },
  "language_info": {
   "codemirror_mode": {
    "name": "ipython",
    "version": 3
   },
   "file_extension": ".py",
   "mimetype": "text/x-python",
   "name": "python",
   "nbconvert_exporter": "python",
   "pygments_lexer": "ipython3"
  }
 },
 "nbformat": 4,
 "nbformat_minor": 2
}
