{
 "cells": [
  {
   "cell_type": "code",
   "execution_count": null,
   "metadata": {},
   "outputs": [],
   "source": [
    "import base\n",
    "import matplotlib\n",
    "import matplotlib.pyplot as plt\n",
    "import numpy as np\n",
    "import pandas as pd\n",
    "import rushd as rd\n",
    "import scipy.stats\n",
    "import seaborn as sns\n",
    "\n",
    "# enables concurrent editing of base.py\n",
    "from importlib import reload\n",
    "reload(base)\n",
    "\n",
    "sns.set_style('ticks')\n",
    "sns.set_context('talk',rc={'font.family': 'sans-serif', 'font.sans-serif':['Helvetica Neue']})"
   ]
  },
  {
   "cell_type": "markdown",
   "metadata": {},
   "source": [
    "## Setup\n",
    "\n",
    "- Load data\n",
    "- Add metadata\n",
    "- Draw gates\n",
    "- Gate transfected cells\n",
    "\n",
    "Result from this section: DataFrame `df` representing transfected cells."
   ]
  },
  {
   "cell_type": "code",
   "execution_count": null,
   "metadata": {},
   "outputs": [],
   "source": [
    "base_path = rd.datadir/'instruments'/'data'/'collaborators'/'birnbaum_steph'/'2024-06-10 Galloway Exp 1'\n",
    "output_path = rd.rootdir/'output'/'lenti-exp97'\n",
    "cache_path = output_path/'data.gzip'\n",
    "\n",
    "rd.plot.plot_well_metadata(base_path/'metadata.yaml')"
   ]
  },
  {
   "cell_type": "code",
   "execution_count": null,
   "metadata": {},
   "outputs": [],
   "source": [
    "# Load data\n",
    "data = pd.DataFrame()\n",
    "if cache_path.is_file(): data = pd.read_parquet(cache_path)\n",
    "else: \n",
    "    channels = ['FSC-A', 'SSC-A', 'FITC-A', 'PE-A', 'APC-A750-A']\n",
    "    data = rd.flow.load_csv_with_metadata(base_path/'export', base_path/'metadata.yaml', columns=channels)\n",
    "    data = data.rename({'FITC-A': 'mGL-A', 'PE-A': 'mRuby2-A', 'APC-A750-A': 'livedead-A'}, axis=1)\n",
    "    \n",
    "    data.to_parquet(rd.outfile(cache_path))\n",
    "# Create dicts to specify colors/markers\n",
    "metadata = base.get_metadata(rd.datadir/'projects'/'miR-iFFL'/'plasmids'/'construct-metadata.xlsx')\n",
    "metadata['TS'] = metadata['ts_kind']\n",
    "metadata_dict = metadata.set_index('construct').to_dict('dict')\n",
    "construct_palette = metadata_dict['color']\n",
    "construct_markers = metadata_dict['markers']\n",
    "display(data)"
   ]
  },
  {
   "cell_type": "markdown",
   "metadata": {},
   "source": [
    "### Extremely basic analysis"
   ]
  },
  {
   "cell_type": "code",
   "execution_count": null,
   "metadata": {},
   "outputs": [],
   "source": [
    "data['short_condition'] = data.construct.map({\"pKG3097\": \"base\", \"RC130\": \"OL\", \"RC131\": \"CL\"})"
   ]
  },
  {
   "cell_type": "code",
   "execution_count": null,
   "metadata": {},
   "outputs": [],
   "source": [
    "mGL_gate = data[data.construct == 'UT']['mGL-A'].quantile(0.9999)\n",
    "mRuby2_gate = data[data.construct == 'UT']['mRuby2-A'].quantile(0.9999)\n",
    "livedead_gate = 2000\n",
    "\n",
    "for channel, gate in zip(['mGL-A', 'mRuby2-A', 'livedead-A'], [mGL_gate, mRuby2_gate, livedead_gate]):\n",
    "    sns.kdeplot(data[data[channel] > 0], x=channel, log_scale=True, hue='construct')\n",
    "    plt.axvline(gate, color='k', ls=':')\n",
    "    plt.show()"
   ]
  },
  {
   "cell_type": "code",
   "execution_count": null,
   "metadata": {},
   "outputs": [],
   "source": [
    "infection_summary = data.groupby(['construct', 'moi'])['mRuby2-A'].apply(lambda s: np.mean(s > mRuby2_gate)).reset_index()\n",
    "sns.stripplot(infection_summary, x='moi', y='mRuby2-A', hue='construct')\n",
    "sns.despine()\n",
    "plt.ylim([0,1])\n",
    "plt.ylabel('Infection efficiency')\n",
    "plt.title('Activated T-cells')\n",
    "plt.xlabel('MOI')\n",
    "plt.savefig(rd.outfile(rd.rootdir/'output'/'moi_data'/'t_cells.svg'), bbox_inches='tight')\n",
    "plt.show()"
   ]
  },
  {
   "cell_type": "code",
   "execution_count": null,
   "metadata": {},
   "outputs": [],
   "source": [
    "gated = data[(data['livedead-A'] < livedead_gate) & (data['mGL-A'] > mGL_gate) & (data['mRuby2-A'] > mRuby2_gate)].copy()"
   ]
  },
  {
   "cell_type": "code",
   "execution_count": null,
   "metadata": {},
   "outputs": [],
   "source": [
    "n_quantiles = 20\n",
    "transfection_bin = gated.groupby(['dox', 'construct', 'moi', 'short_condition']).apply(lambda df: pd.qcut(df['mGL-A'], n_quantiles, labels=np.linspace(0,1,n_quantiles, endpoint=False)), include_groups=False).reset_index().set_index('level_4')['mGL-A']\n",
    "gated['transfection_bin'] = transfection_bin"
   ]
  },
  {
   "cell_type": "code",
   "execution_count": null,
   "metadata": {},
   "outputs": [],
   "source": [
    "def compute_bin_gmeans(df):\n",
    "    # Calculate the gmean by bin\n",
    "    return df.loc[:, ('mGL-A', 'mRuby2-A')].apply(scipy.stats.gmean)\n",
    "bin_gmeans = (gated.groupby(['dox', 'construct', 'moi', 'transfection_bin'], observed=True)\n",
    "      .apply(compute_bin_gmeans, include_groups=False)\n",
    "      .rename(columns={\"mGL-A\": \"mGL-bin-gmean\", \"mRuby2-A\": \"mRuby2-bin-gmean\"}).reset_index())\n",
    "gated_with_bins = pd.merge(gated, bin_gmeans, on=['dox', 'construct', 'moi', 'transfection_bin'], validate=\"many_to_one\")"
   ]
  },
  {
   "cell_type": "code",
   "execution_count": null,
   "metadata": {},
   "outputs": [],
   "source": [
    "g = sns.FacetGrid(data=bin_gmeans[bin_gmeans.dox == 1000], col='construct', hue='moi', palette='viridis', margin_titles=True)\n",
    "g.map(sns.scatterplot, 'mGL-bin-gmean', 'mRuby2-bin-gmean')\n",
    "for ax in g.axes.flatten():\n",
    "    ax.set_xscale('log')\n",
    "    ax.set_yscale('log')\n",
    "plt.savefig(rd.outfile(output_path/'raw_gmeans_log.svg'), bbox_inches='tight')\n",
    "plt.show()"
   ]
  },
  {
   "cell_type": "code",
   "execution_count": null,
   "metadata": {},
   "outputs": [],
   "source": [
    "n_quantiles = 100\n",
    "df = data[(data['mGL-A']>0) & (data['mRuby2-A']>0)].copy()\n",
    "transfection_bin = df.groupby(['dox', 'construct', 'moi', 'short_condition']).apply(lambda df: pd.qcut(df['mGL-A'], n_quantiles, labels=np.linspace(0,1,n_quantiles, endpoint=False)), include_groups=False).reset_index().set_index('level_4')['mGL-A']\n",
    "df['transfection_bin'] = transfection_bin\n",
    "\n",
    "bin_gmeans = (df.groupby(['dox', 'construct', 'moi', 'transfection_bin'], observed=True)\n",
    "      .apply(compute_bin_gmeans, include_groups=False)\n",
    "      .rename(columns={\"mGL-A\": \"mGL-bin-gmean\", \"mRuby2-A\": \"mRuby2-bin-gmean\"}).reset_index())\n",
    "binned = pd.merge(df, bin_gmeans, on=['dox', 'construct', 'moi', 'transfection_bin'], validate=\"many_to_one\")\n",
    "gates = [df[df.construct == 'UT']['mGL-A'].quantile(q) for q in [0.99, 0.999, 0.9999, 0.99995, 0.99999]]\n",
    "\n",
    "g = sns.FacetGrid(data=bin_gmeans[bin_gmeans.dox == 1000], col='construct', hue='moi', palette='viridis', margin_titles=True)\n",
    "g.map(sns.scatterplot, 'mGL-bin-gmean', 'mRuby2-bin-gmean')\n",
    "for ax in g.axes.flatten():\n",
    "    ax.set_xscale('log')\n",
    "    ax.set_yscale('log')\n",
    "    for gate in gates: ax.axvline(gate)\n",
    "plt.savefig(rd.outfile(output_path/'gating_mGL.svg'), bbox_inches='tight')\n",
    "plt.show()"
   ]
  }
 ],
 "metadata": {
  "kernelspec": {
   "display_name": "env",
   "language": "python",
   "name": "python3"
  },
  "language_info": {
   "codemirror_mode": {
    "name": "ipython",
    "version": 3
   },
   "file_extension": ".py",
   "mimetype": "text/x-python",
   "name": "python",
   "nbconvert_exporter": "python",
   "pygments_lexer": "ipython3"
  }
 },
 "nbformat": 4,
 "nbformat_minor": 2
}
