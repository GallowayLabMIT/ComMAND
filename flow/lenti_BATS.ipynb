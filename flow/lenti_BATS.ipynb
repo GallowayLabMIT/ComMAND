{
 "cells": [
  {
   "cell_type": "code",
   "execution_count": null,
   "metadata": {},
   "outputs": [],
   "source": [
    "import base\n",
    "import matplotlib\n",
    "import matplotlib.pyplot as plt\n",
    "import numpy as np\n",
    "import pandas as pd\n",
    "import rushd as rd\n",
    "import scipy as sp\n",
    "import seaborn as sns\n",
    "\n",
    "# enables concurrent editing of base.py\n",
    "from importlib import reload\n",
    "reload(base)\n",
    "\n",
    "sns.set_style('ticks')\n",
    "sns.set_context('talk',rc={'font.family': 'sans-serif', 'font.sans-serif':['Helvetica Neue']})"
   ]
  },
  {
   "cell_type": "markdown",
   "metadata": {},
   "source": [
    "## Setup\n",
    "\n",
    "- Load data\n",
    "- Add metadata\n",
    "- Draw gates\n",
    "- Gate transfected cells\n",
    "\n",
    "Result from this section: DataFrame `df` representing transfected cells."
   ]
  },
  {
   "cell_type": "markdown",
   "metadata": {},
   "source": [
    "Load all lenti collection data collected as of 2024.03.27"
   ]
  },
  {
   "cell_type": "code",
   "execution_count": null,
   "metadata": {},
   "outputs": [],
   "source": [
    "base_path = rd.datadir/'instruments'/'data'/'attune'/'kasey'/'2024.04.05_exp89'/'export'\n",
    "\n",
    "plates = pd.DataFrame({\n",
    "    'data_path': [base_path/'293T_control', base_path/'293T_plate1', base_path/'293T_plate2', base_path/'293T_plate3',\n",
    "                  base_path/'MEF_3_plate1', base_path/'MEF_4-1_plate1', base_path/'MEF_4-1_plate2', base_path/'MEF_4-1_plate3'],\n",
    "    'yaml_path': [base_path/'kasey_yaml'/'plate_control.yaml', base_path/'kasey_yaml'/'plate01.yaml', base_path/'kasey_yaml'/'plate02.yaml', base_path/'kasey_yaml'/'plate03.yaml',\n",
    "                  base_path/'kasey_yaml'/'mef_3_plate01.yaml', base_path/'kasey_yaml'/'mef_4-1_plate01.yaml', base_path/'kasey_yaml'/'mef_4-1_plate02.yaml', base_path/'kasey_yaml'/'mef_4-1_plate03.yaml'],\n",
    "})\n",
    "\n",
    "output_path = rd.rootdir/'output'/'lenti_BATS'\n",
    "cache_path = output_path/'data.gzip'\n",
    "\n",
    "metadata_keys = set()\n",
    "for p in plates['yaml_path'].unique():\n",
    "    print(p)\n",
    "    rd.plot.plot_well_metadata(p)\n",
    "    metadata_keys.update(rd.flow.load_well_metadata(p).keys())\n",
    "display(metadata_keys)"
   ]
  },
  {
   "cell_type": "code",
   "execution_count": null,
   "metadata": {},
   "outputs": [],
   "source": [
    "# Load data\n",
    "data = pd.DataFrame()\n",
    "if cache_path.is_file(): data = pd.read_parquet(cache_path)\n",
    "else: \n",
    "    channel_list = ['mCherry-A','mRuby2-A','FSC-A','SSC-A','mGL-A']\n",
    "    data = rd.flow.load_groups_with_metadata(plates, columns=channel_list)\n",
    "\n",
    "    # Remove negative channel values\n",
    "    for c in channel_list: data = data[data[c]>0]\n",
    "    \n",
    "    data.dropna(inplace=True)\n",
    "    data.to_parquet(rd.outfile(cache_path))\n",
    "display(data)"
   ]
  },
  {
   "cell_type": "code",
   "execution_count": null,
   "metadata": {},
   "outputs": [],
   "source": [
    "# Add metadata for constructs\n",
    "metadata = base.get_metadata(rd.datadir/'projects'/'miR-iFFL'/'plasmids'/'construct-metadata.xlsx')\n",
    "data = data.merge(metadata, how='left', on='construct')\n",
    "display(data)\n",
    "\n",
    "# Create dicts to specify colors/markers\n",
    "metadata_dict = metadata.set_index('construct').to_dict('dict')\n",
    "construct_palette = metadata_dict['color']\n",
    "construct_markers = metadata_dict['markers']"
   ]
  },
  {
   "cell_type": "markdown",
   "metadata": {},
   "source": [
    "Draw gates based on ungated population, then gate infected cells.\n",
    "\n",
    "Note that there were no uninfected MEF cells."
   ]
  },
  {
   "cell_type": "code",
   "execution_count": null,
   "metadata": {},
   "outputs": [],
   "source": [
    "gates = pd.DataFrame()\n",
    "channel_list = ['mGL-A', 'mCherry-A', 'mRuby2-A']\n",
    "for channel in channel_list:\n",
    "    gates[channel] = data[data['construct']=='UT'].groupby(['cell'])[channel].apply(lambda x: x.quantile(0.999))\n",
    "gates.reset_index(inplace=True)\n",
    "\n",
    "# Add missing gates\n",
    "gates.loc[len(gates.index)] = ['MEF',0,0,0,]  \n",
    "gates.loc[gates['cell']=='MEF', channel_list] = gates.loc[gates['cell']=='293T', channel_list].values\n",
    "gates.loc[gates['cell']=='MEF', 'mGL-A'] = 2e3\n",
    "\n",
    "# Indicate which channels are relevant for each experiment\n",
    "gates.sort_values(['cell'], inplace=True)\n",
    "gates['marker'] = 'mGL-A'\n",
    "gates['output'] = 'mRuby2-A'\n",
    "\n",
    "display(gates)"
   ]
  },
  {
   "cell_type": "code",
   "execution_count": null,
   "metadata": {},
   "outputs": [],
   "source": [
    "# Look at MEF data directly to gate infected cells\n",
    "plot_df = data[data['cell']=='MEF']\n",
    "g = sns.displot(data=plot_df, x='mGL-A', y='mRuby2-A', hue='construct', palette=construct_palette,\n",
    "            row='biorep', col='construct', kind='kde', \n",
    "            legend=False, log_scale=True, common_norm=False, fill=False)\n"
   ]
  },
  {
   "cell_type": "markdown",
   "metadata": {},
   "source": [
    "Gate data per experiment based on marker expression"
   ]
  },
  {
   "cell_type": "code",
   "execution_count": null,
   "metadata": {},
   "outputs": [],
   "source": [
    "def gate_data(df, gates):\n",
    "    df = df.copy()\n",
    "    cell = df['cell'].values[0] # the same for entire df, assuming df = data.groupby('cell')\n",
    "    gates_dict = gates.set_index('cell').to_dict('dict') # format: column -> {index: value}\n",
    "    marker = gates_dict['marker'][cell]\n",
    "    df['expressing'] = df[marker] > gates_dict[marker][cell]\n",
    "    df['marker'] = df[marker]\n",
    "    df['output'] = df[gates_dict['output'][cell]]\n",
    "    return df\n",
    "\n",
    "data = data.groupby('cell')[data.columns].apply(lambda x: gate_data(x,gates))\n",
    "data.reset_index(inplace=True, drop=True)\n",
    "max = 1e6\n",
    "df = data[(data['expressing']) & (data['output']<max)]\n",
    "display(df)"
   ]
  },
  {
   "cell_type": "code",
   "execution_count": null,
   "metadata": {},
   "outputs": [],
   "source": [
    "# Bin by marker quantiles\n",
    "by = ['construct','cell','biorep','dox']\n",
    "df['bin_marker_quantiles'] = df.groupby(by)['marker'].transform(lambda x: pd.qcut(x, q=20, duplicates='drop'))\n",
    "quantiles = df.groupby(by+['bin_marker_quantiles'])['marker'].median().rename('bin_marker_quantiles_median').reset_index()\n",
    "df_quantiles = df.merge(quantiles, how='left', on=by+['bin_marker_quantiles'])\n",
    "display(df_quantiles)"
   ]
  },
  {
   "cell_type": "code",
   "execution_count": null,
   "metadata": {},
   "outputs": [],
   "source": [
    "df_quantiles['marker'] = df_quantiles['marker'].astype(float)\n",
    "df_quantiles['output'] = df_quantiles['output'].astype(float)\n",
    "\n",
    "# Population stats\n",
    "stat_list = [np.std, sp.stats.gmean, sp.stats.variation]\n",
    "grouped = df_quantiles.groupby(by=['construct','biorep','cell','dox'])\n",
    "stats = grouped[['marker','output']].agg(stat_list).reset_index().dropna()\n",
    "\n",
    "# Rename columns as 'col_stat'\n",
    "stats.columns = stats.columns.map(lambda i: base.rename_multilevel_cols(i))\n",
    "stats['count'] = grouped['output'].count().reset_index()['output']\n",
    "stats = stats.merge(metadata, how='left', on='construct')\n",
    "display(stats)"
   ]
  },
  {
   "cell_type": "code",
   "execution_count": null,
   "metadata": {},
   "outputs": [],
   "source": [
    "full_name = {'NT': 'uregulated', 'T': 'circuit'}"
   ]
  },
  {
   "cell_type": "code",
   "execution_count": null,
   "metadata": {},
   "outputs": [],
   "source": [
    "# Line plot with marginal histogram\n",
    "fig, axes = plt.subplots(1,4, figsize=(10,5), sharey=True, gridspec_kw=dict(width_ratios=(1,0.3,0.3,0.3)))\n",
    "plot_df = df_quantiles[(df_quantiles['miR']=='miRE.FF4') & (df_quantiles['group']=='controller') & (df_quantiles['biorep']==1) & (df_quantiles['design']==1) & (df_quantiles['cell']=='MEF') & (df_quantiles['dox']==1000)]\n",
    "\n",
    "# line plot\n",
    "ax = axes[0]\n",
    "sns.lineplot(data=plot_df, x='bin_marker_quantiles_median', y='output', hue='construct', palette=construct_palette, \n",
    "             legend=False, dashes=False, style='construct', markers=construct_markers, ax=ax,\n",
    "             estimator=sp.stats.gmean, errorbar=lambda x: (sp.stats.gmean(x) / sp.stats.gstd(x), sp.stats.gmean(x) * sp.stats.gstd(x)))\n",
    "ax.set(xscale='log', yscale='log', xlabel='marker', xlim=(4e3,2e5), ylim=(1e1,2.5e4), )\n",
    "sns.despine(ax=ax)\n",
    "marker_baseline = sp.stats.gmean(df_quantiles.loc[(df_quantiles['miR']=='miRE.FF4') & (df_quantiles['group']=='controller') & (df_quantiles['biorep']==1) & (df_quantiles['design']==1) & (df_quantiles['cell']=='MEF') & (df_quantiles['dox']==0), 'output'])\n",
    "ax.axhline(marker_baseline, color='black', ls=':')\n",
    "ax.minorticks_on()\n",
    "ax.annotate('marker only', (ax.get_xlim()[1], marker_baseline), ha='right', va='bottom', fontsize=sns.plotting_context('talk')['legend.fontsize'])\n",
    "\n",
    "# histogram\n",
    "ax = axes[1]\n",
    "sns.kdeplot(data=plot_df, y='output', hue='construct', palette=construct_palette, \n",
    "             legend=False, log_scale=True, common_norm=False, ax=ax)\n",
    "sns.despine(ax=ax)\n",
    "ax.set(xlabel='density')\n",
    "\n",
    "# stat gmean\n",
    "ax = axes[2]\n",
    "plot_df = stats[(stats['miR']=='miRE.FF4') & (stats['group']=='controller') & (stats['design']==1) & (stats['cell']=='MEF') & (stats['dox']==1000)]\n",
    "for construct, group in plot_df.groupby('construct'):\n",
    "    sns.stripplot(data=group, x='construct', y='output_gmean', hue='construct', palette=construct_palette, \n",
    "                    legend=False, ax=ax, marker=construct_markers[construct], s=12, jitter=0.2, linewidth=1, edgecolor='white')\n",
    "sns.despine(ax=ax)\n",
    "ax.set(title='Geometric\\nmean', xlim=(-0.5, 1.5), xlabel='')\n",
    "ax.set_xticklabels([full_name[metadata_dict['ts_kind'][c.get_text()]] for c in ax.get_xticklabels()], rotation=90)\n",
    "\n",
    "# stat std\n",
    "ax = axes[3]\n",
    "for construct, group in plot_df.groupby('construct'):\n",
    "    sns.stripplot(data=group, x='construct', y='output_std', hue='construct', palette=construct_palette, \n",
    "                    legend=False, ax=ax, marker=construct_markers[construct], s=12, jitter=0.2, linewidth=1, edgecolor='white')\n",
    "sns.despine(ax=ax)\n",
    "ax.set(title='Standard\\ndeviation', xlim=(-0.5, 1.5), xlabel='')\n",
    "ax.set_xticklabels([full_name[metadata_dict['ts_kind'][c.get_text()]] for c in ax.get_xticklabels()], rotation=90)\n",
    "\n",
    "fig.savefig(rd.outfile(output_path/(f'line-marg-hist-stat_miRE.FF4-design1_MEF.svg')), bbox_inches='tight')"
   ]
  },
  {
   "cell_type": "code",
   "execution_count": null,
   "metadata": {},
   "outputs": [],
   "source": [
    "df_quantiles['bin_marker_quantiles_median_log'] = df_quantiles['bin_marker_quantiles_median'].apply(np.log10)\n",
    "df_quantiles['output_log'] = df_quantiles['output'].apply(np.log10)"
   ]
  },
  {
   "cell_type": "code",
   "execution_count": null,
   "metadata": {},
   "outputs": [],
   "source": [
    "stat_list = [sp.stats.gmean, ]#sp.stats.gstd, sp.stats.variation]\n",
    "grouped = df_quantiles.groupby(by=['construct','biorep','cell','dox','bin_marker_quantiles_median'])\n",
    "stats_quantiles = grouped[['marker','output']].agg(stat_list).reset_index().dropna()\n",
    "\n",
    "# Rename columns as 'col_stat'\n",
    "stats_quantiles.columns = stats_quantiles.columns.map(lambda i: base.rename_multilevel_cols(i))\n",
    "stats_quantiles['count'] = grouped['output'].count().reset_index()['output']\n",
    "stats_quantiles = stats_quantiles.merge(metadata, how='left', on='construct')\n",
    "display(stats_quantiles)\n",
    "\n",
    "stats_quantiles['bin_marker_quantiles_median_log'] = stats_quantiles['bin_marker_quantiles_median'].apply(np.log10)\n",
    "stats_quantiles['output_gmean_log'] = stats_quantiles['output_gmean'].apply(np.log10)"
   ]
  },
  {
   "cell_type": "code",
   "execution_count": null,
   "metadata": {},
   "outputs": [],
   "source": [
    "# Compute slope for all constructs\n",
    "def get_slope(df):\n",
    "    slope, intercept, r_value, p_value, stderr = sp.stats.linregress(df['bin_marker_quantiles_median_log'], df['output_gmean_log'])\n",
    "    result = pd.DataFrame(columns=['slope', 'intercept_log', 'r_value', 'p_value', 'stderr'])\n",
    "    result.loc[len(result.index)] = [slope, intercept, r_value, p_value, stderr]\n",
    "    return result\n",
    "\n",
    "fits = stats_quantiles.groupby(['construct','biorep','cell','dox'])[stats_quantiles.columns].apply(get_slope).reset_index()\n",
    "fits['intercept'] = fits['intercept_log'].apply(lambda x: 10**x)\n",
    "fits = fits.merge(metadata, how='left', on='construct')\n",
    "display(fits)"
   ]
  },
  {
   "cell_type": "code",
   "execution_count": null,
   "metadata": {},
   "outputs": [],
   "source": [
    "# MEF miRE-FF4 design 1 slope\n",
    "fig, axes = plt.subplots(1,3, figsize=(9,5), gridspec_kw=dict(width_ratios=(1,0.3,0.3), wspace=0.35))\n",
    "plot_df = df_quantiles[(df_quantiles['miR']=='miRE.FF4') & (df_quantiles['group']=='controller') & (df_quantiles['biorep']==1) & (df_quantiles['design']==1) & (df_quantiles['cell']=='MEF') & (df_quantiles['dox']==1000)]\n",
    "\n",
    "# line plot\n",
    "ax = axes[0]\n",
    "sns.lineplot(data=plot_df, x='bin_marker_quantiles_median', y='output', hue='construct', palette=construct_palette, \n",
    "             legend=False, dashes=False, style='construct', markers=construct_markers, ax=ax,\n",
    "             estimator=sp.stats.gmean, errorbar=lambda x: (sp.stats.gmean(x) / sp.stats.gstd(x), sp.stats.gmean(x) * sp.stats.gstd(x)))\n",
    "ax.set(xscale='log', yscale='log', xlim=(4e3,2e5), ylim=(1e1,2.5e4), xlabel='marker',)\n",
    "sns.despine(ax=ax)\n",
    "marker_baseline = sp.stats.gmean(df_quantiles.loc[(df_quantiles['miR']=='miRE.FF4') & (df_quantiles['group']=='controller') & (df_quantiles['biorep']==1) & (df_quantiles['design']==1) & (df_quantiles['cell']=='MEF') & (df_quantiles['dox']==0), 'output'])\n",
    "ax.axhline(marker_baseline, color='black', ls=':')\n",
    "ax.minorticks_on()\n",
    "ax.annotate('marker only', (ax.get_xlim()[1], marker_baseline), ha='right', va='bottom', fontsize=sns.plotting_context('talk')['legend.fontsize'])\n",
    "\n",
    "# histogram\n",
    "ax = axes[1]\n",
    "sns.kdeplot(data=plot_df, y='output', hue='construct', palette=construct_palette, \n",
    "             legend=False, log_scale=True, common_norm=False, ax=ax)\n",
    "sns.despine(ax=ax)\n",
    "ax.set(xlabel='density', ylim=(2e1,1e5), yticklabels=['']*(len(ax.get_yticklabels())-1), ylabel='')\n",
    "\n",
    "# slope\n",
    "ax = axes[2]\n",
    "plot_df = fits[(fits['miR']=='miRE.FF4') & (fits['group']=='controller') & (fits['design']==1) & (fits['cell']=='MEF') & (fits['dox']==1000)]\n",
    "for construct, group in plot_df.groupby('construct'):\n",
    "    sns.stripplot(data=group, x='construct', y='slope', hue='construct', palette=construct_palette, \n",
    "                    legend=False, ax=ax, marker=construct_markers[construct], s=12, jitter=0.2, linewidth=1, edgecolor='white')\n",
    "    \n",
    "    x_range = np.linspace(np.log10(4.5e3), np.log10(1.5e5), 1000)\n",
    "    axes[0].plot(10**(x_range), 10**(group['slope'].values[1] * x_range + group['intercept_log'].values[1]), color='black', zorder=100)\n",
    "\n",
    "sns.despine(ax=ax)\n",
    "ax.set(title='Slope', xlim=(-0.5, 1.5), xlabel='', ylabel='', ylim=(0,1.1))\n",
    "ax.set_xticklabels([full_name[metadata_dict['ts_kind'][c.get_text()]] for c in ax.get_xticklabels()], rotation=90)\n",
    "\n",
    "fig.savefig(rd.outfile(output_path/(f'line-marg-hist-slope_miRE.FF4-design1-MEF.svg')), bbox_inches='tight')"
   ]
  },
  {
   "cell_type": "code",
   "execution_count": null,
   "metadata": {},
   "outputs": [],
   "source": []
  }
 ],
 "metadata": {
  "kernelspec": {
   "display_name": "env",
   "language": "python",
   "name": "python3"
  },
  "language_info": {
   "codemirror_mode": {
    "name": "ipython",
    "version": 3
   },
   "file_extension": ".py",
   "mimetype": "text/x-python",
   "name": "python",
   "nbconvert_exporter": "python",
   "pygments_lexer": "ipython3"
  }
 },
 "nbformat": 4,
 "nbformat_minor": 2
}
