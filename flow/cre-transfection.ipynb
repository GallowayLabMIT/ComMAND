{
 "cells": [
  {
   "cell_type": "code",
   "execution_count": null,
   "metadata": {},
   "outputs": [],
   "source": [
    "import base\n",
    "import matplotlib\n",
    "import matplotlib.pyplot as plt\n",
    "import numpy as np\n",
    "import pandas as pd\n",
    "import rushd as rd\n",
    "import scipy as sp\n",
    "import seaborn as sns\n",
    "\n",
    "# enables concurrent editing of base.py\n",
    "from importlib import reload\n",
    "reload(base)\n",
    "\n",
    "sns.set_style('ticks')\n",
    "sns.set_context('talk',rc={'font.family': 'sans-serif', 'font.sans-serif':['Helvetica Neue']})"
   ]
  },
  {
   "cell_type": "markdown",
   "metadata": {},
   "source": [
    "## Setup\n",
    "\n",
    "- Load data\n",
    "- Add metadata\n",
    "- Draw gates\n",
    "- Gate transfected cells\n",
    "\n",
    "Result from this section: DataFrame `df` representing transfected cells."
   ]
  },
  {
   "cell_type": "code",
   "execution_count": null,
   "metadata": {},
   "outputs": [],
   "source": [
    "base_path = rd.datadir/'instruments'/'data'/'attune'/'chris'/'2024.05.28-miR-iFFL-cre'/'export'\n",
    "\n",
    "plates = pd.DataFrame({\n",
    "    'data_path': [base_path/'plate01', base_path/'plate02'],\n",
    "    'yaml_path': [base_path/'plate01_metadata.yaml', base_path/'plate02_metadata.yaml'],\n",
    "})\n",
    "\n",
    "output_path = rd.rootdir/'output'/'cre-transfection'\n",
    "cache_path = output_path/'data.gzip'\n",
    "\n",
    "metadata_keys = set()\n",
    "for p in plates['yaml_path'].unique():\n",
    "    print(p)\n",
    "    rd.plot.plot_well_metadata(p)\n",
    "    metadata_keys.update(rd.flow.load_well_metadata(p).keys())\n",
    "display(metadata_keys)"
   ]
  },
  {
   "cell_type": "markdown",
   "metadata": {},
   "source": [
    "Channels:\n",
    "\n",
    "- TagBFP: transfection marker\n",
    "- eGFP: Cre activity reporter\n",
    "- mRuby2: Cre-2A-mRuby2 (controller)\n",
    "- Zombie-NIR: live/dead dye"
   ]
  },
  {
   "cell_type": "code",
   "execution_count": null,
   "metadata": {},
   "outputs": [],
   "source": [
    "# Load data\n",
    "data = pd.DataFrame()\n",
    "if cache_path.is_file(): data = pd.read_parquet(cache_path)\n",
    "else: \n",
    "    channel_list = ['mRuby2-A','eGFP-A','TagBFP-A','Zombie-NIR-A','FSC-A','SSC-A',]\n",
    "    data = rd.flow.load_groups_with_metadata(plates, columns=channel_list)\n",
    "\n",
    "    # Remove negative channel values\n",
    "    for c in channel_list: data = data[data[c]>0]\n",
    "    \n",
    "    data.dropna(inplace=True)\n",
    "    data.to_parquet(rd.outfile(cache_path))\n",
    "display(data)"
   ]
  },
  {
   "cell_type": "code",
   "execution_count": null,
   "metadata": {},
   "outputs": [],
   "source": [
    "# Add metadata for constructs\n",
    "metadata = base.get_metadata(rd.datadir/'projects'/'miR-iFFL'/'plasmids'/'construct-metadata.xlsx')\n",
    "data = data.merge(metadata, how='left', on='construct')"
   ]
  },
  {
   "cell_type": "code",
   "execution_count": null,
   "metadata": {},
   "outputs": [],
   "source": [
    "# Gate on transfected cells\n",
    "gate_transfection = data.loc[(data['construct']=='UT') & (data['has_zombie_dye']==False), 'TagBFP-A'].quantile(0.995)\n",
    "g = sns.FacetGrid(data=data, hue='cre_amount', row='has_zombie_dye', col='construct', margin_titles=True)\n",
    "g.map(sns.kdeplot, 'TagBFP-A', fill=False, common_norm=False, log_scale=True)\n",
    "for name, ax in g.axes_dict.items():\n",
    "    ax.axvline(gate_transfection, color='black')"
   ]
  },
  {
   "cell_type": "code",
   "execution_count": null,
   "metadata": {},
   "outputs": [],
   "source": [
    "plot_df = data[data['construct']=='UT']\n",
    "fig, axes = plt.subplots(1,len(channel_list), figsize=(20,4), gridspec_kw=dict(wspace=0.3), sharey=True)\n",
    "for i,channel in enumerate(channel_list):\n",
    "    sns.kdeplot(data=plot_df, x=channel, y='Zombie-NIR-A', hue='has_zombie_dye', palette={True: 'purple', False: 'gray'},\n",
    "                fill=False, levels=7, log_scale=True, legend=False, common_norm=False, ax=axes[i])\n",
    "    if channel=='TagBFP-A': axes[i].axvline(gate_transfection, color='black')\n",
    "fig.savefig(output_path/f'joint_channels-vs-zombie.svg')"
   ]
  },
  {
   "cell_type": "code",
   "execution_count": null,
   "metadata": {},
   "outputs": [],
   "source": [
    "df_gated = data[(data['TagBFP-A']>gate_transfection) & (data['has_zombie_dye']==True) & (data['construct']!='UT')]"
   ]
  },
  {
   "cell_type": "code",
   "execution_count": null,
   "metadata": {},
   "outputs": [],
   "source": [
    "grouped = df_gated.groupby(by=['construct','cre_amount'])\n",
    "stats = grouped[channel_list].agg(sp.stats.gmean).reset_index().dropna()\n",
    "\n",
    "# Rename columns as 'col_stat'\n",
    "stats['count'] = grouped['TagBFP-A'].count().reset_index()['TagBFP-A']\n",
    "stats = stats.merge(metadata, how='left', on='construct')\n",
    "stats.rename(columns=lambda x: x.replace('-A', '_gmean'), inplace=True)\n",
    "display(stats)"
   ]
  },
  {
   "cell_type": "code",
   "execution_count": null,
   "metadata": {},
   "outputs": [],
   "source": [
    "mycolors = {\n",
    "    'RC271': 'black',\n",
    "    'RC272': 'gray',\n",
    "    'RC273': 'teal',\n",
    "    'filler': 'crimson'\n",
    "}\n",
    "mymarkers = {\n",
    "    'RC271': 'X',\n",
    "    'RC272': 'o',\n",
    "    'RC273': 'D',\n",
    "    'filler': 'P'\n",
    "}"
   ]
  },
  {
   "cell_type": "code",
   "execution_count": null,
   "metadata": {},
   "outputs": [],
   "source": [
    "plot_df = stats\n",
    "fig, ax = plt.subplots(1,1)\n",
    "\n",
    "for name, group in plot_df.groupby('construct'):\n",
    "    sns.scatterplot(data=group, x='cre_amount', y='eGFP_gmean', ax=ax, hue='construct', palette=mycolors)\n",
    "ax.set(yscale='log')\n",
    "fig.savefig(output_path/'scatter_cre-amt-vs-reporter.svg')"
   ]
  },
  {
   "cell_type": "code",
   "execution_count": null,
   "metadata": {},
   "outputs": [],
   "source": [
    "plot_df = stats[stats['construct']!='filler']\n",
    "fig, ax = plt.subplots(1,1)\n",
    "\n",
    "for name, group in plot_df.groupby('construct'):\n",
    "    sns.scatterplot(data=group, x='mRuby2_gmean', y='eGFP_gmean', ax=ax, hue='cre_amount', palette='flare', hue_norm=matplotlib.colors.LogNorm(),\n",
    "                    style='construct', markers=mymarkers, legend=False)\n",
    "ax.set(yscale='log', xscale='log')\n",
    "ax.axvline(1e2, color='black', zorder=0)\n",
    "maxline = stats.loc[stats['mRuby2_gmean']>1e2, 'eGFP_gmean'].mean()\n",
    "ax.axhline(maxline, color='black', zorder=0)\n",
    "fig.savefig(output_path/'scatter_cre-level-vs-reporter.svg')"
   ]
  },
  {
   "cell_type": "code",
   "execution_count": null,
   "metadata": {},
   "outputs": [],
   "source": [
    "plot_df = df_gated\n",
    "g = sns.FacetGrid(data=plot_df, col='construct', hue='cre_amount', palette='flare', )\n",
    "g.map(sns.kdeplot, 'eGFP-A', hue_norm=matplotlib.colors.LogNorm(),\n",
    "        fill=False, common_norm=False, log_scale=True)\n",
    "gate_reporter = data.loc[(data['construct']=='UT') & (data['has_zombie_dye']==False), 'eGFP-A'].quantile(0.995)\n",
    "for name, ax in g.axes_dict.items():\n",
    "    ax.axvline(gate_reporter, color='black')\n",
    "g.figure.savefig(output_path/'hist_cre-reporter.svg')"
   ]
  },
  {
   "cell_type": "code",
   "execution_count": null,
   "metadata": {},
   "outputs": [],
   "source": [
    "plot_df = df_gated\n",
    "g = sns.FacetGrid(data=plot_df, col='construct', hue='cre_amount', palette='magma',)\n",
    "g.map(sns.kdeplot, 'mRuby2-A', 'eGFP-A', hue_norm=matplotlib.colors.LogNorm(),\n",
    "        fill=False, common_norm=False, log_scale=True, levels=4)\n",
    "g.figure.savefig(output_path/'joint_cre-reporter.svg')"
   ]
  },
  {
   "cell_type": "code",
   "execution_count": null,
   "metadata": {},
   "outputs": [],
   "source": [
    "plot_df = df_gated[(df_gated['construct']=='filler') & (df_gated['eGFP-A']>gate_reporter)]\n",
    "g = sns.kdeplot(data=plot_df, x='eGFP-A', hue='cre_amount', palette='magma', hue_norm=matplotlib.colors.LogNorm(),\n",
    "                fill=False, common_norm=False, log_scale=True)"
   ]
  },
  {
   "cell_type": "code",
   "execution_count": null,
   "metadata": {},
   "outputs": [],
   "source": [
    "plot_df = stats[stats['construct']!='filler']\n",
    "fig, ax = plt.subplots(1,1)\n",
    "\n",
    "for name, group in plot_df.groupby('construct'):\n",
    "    sns.scatterplot(data=group, x='count', y='eGFP_gmean', ax=ax, hue='cre_amount', palette='flare', hue_norm=matplotlib.colors.LogNorm(),\n",
    "                    style='construct', markers=mymarkers, legend=False)\n",
    "ax.set(yscale='log',)\n",
    "fig.savefig(output_path/'scatter_count-vs-reporter.svg')"
   ]
  },
  {
   "cell_type": "code",
   "execution_count": null,
   "metadata": {},
   "outputs": [],
   "source": [
    "plot_df = stats[stats['construct']!='filler']\n",
    "fig, ax = plt.subplots(1,1)\n",
    "\n",
    "for name, group in plot_df.groupby('construct'):\n",
    "    sns.scatterplot(data=group, x='count', y='mRuby2_gmean', ax=ax, hue='cre_amount', palette='flare', hue_norm=matplotlib.colors.LogNorm(),\n",
    "                    style='construct', markers=mymarkers, legend=False)\n",
    "ax.set(yscale='log',)\n",
    "fig.savefig(output_path/'scatter_count-vs-cre-level.svg')"
   ]
  },
  {
   "cell_type": "code",
   "execution_count": null,
   "metadata": {},
   "outputs": [],
   "source": [
    "plot_df = stats[stats['construct']!='filler']\n",
    "fig, ax = plt.subplots(1,1)\n",
    "\n",
    "for name, group in plot_df.groupby('construct'):\n",
    "    sns.scatterplot(data=group, x='count', y='mRuby2_gmean', ax=ax, hue='construct', palette=mycolors,\n",
    "                    style='construct', markers=mymarkers, legend=False)\n",
    "ax.set(yscale='log',)\n",
    "fig.savefig(output_path/'scatter_count-vs-cre-level_construct-colors.svg')"
   ]
  },
  {
   "cell_type": "code",
   "execution_count": null,
   "metadata": {},
   "outputs": [],
   "source": []
  }
 ],
 "metadata": {
  "kernelspec": {
   "display_name": "env",
   "language": "python",
   "name": "python3"
  },
  "language_info": {
   "codemirror_mode": {
    "name": "ipython",
    "version": 3
   },
   "file_extension": ".py",
   "mimetype": "text/x-python",
   "name": "python",
   "nbconvert_exporter": "python",
   "pygments_lexer": "ipython3"
  }
 },
 "nbformat": 4,
 "nbformat_minor": 2
}
