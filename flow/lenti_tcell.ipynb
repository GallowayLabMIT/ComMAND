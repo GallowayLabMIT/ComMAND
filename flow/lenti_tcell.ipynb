{
 "cells": [
  {
   "cell_type": "code",
   "execution_count": null,
   "metadata": {},
   "outputs": [],
   "source": [
    "import base\n",
    "import matplotlib\n",
    "import matplotlib.pyplot as plt\n",
    "import numpy as np\n",
    "import pandas as pd\n",
    "from pathlib import Path\n",
    "import rushd as rd\n",
    "import scipy as sp\n",
    "import seaborn as sns\n",
    "\n",
    "from importlib import reload\n",
    "reload(base)\n",
    "\n",
    "sns.set_style('ticks')\n",
    "sns.set_context('talk',rc={'font.family': 'sans-serif', 'font.sans-serif':['Helvetica Neue']})"
   ]
  },
  {
   "cell_type": "code",
   "execution_count": null,
   "metadata": {},
   "outputs": [],
   "source": [
    "base_path = rd.datadir/'instruments'/'data'/'collaborators'/'birnbaum_steph'\n",
    "output_path = rd.rootdir/'output'/'lenti_tcell'\n",
    "cache_path = output_path/'data.gzip'\n",
    "\n",
    "plates = pd.DataFrame({\n",
    "    'data_path': [base_path/'2024-06-10 Galloway Exp 1'/'export', base_path/'2024-10-25 Galloway 2'/'export'],\n",
    "    'yaml_path': [base_path/'2024-06-10 Galloway Exp 1'/'metadata.yaml', base_path/'2024-10-25 Galloway 2'/'export'/'metadata.yaml'],\n",
    "})\n",
    "\n",
    "for p in plates['yaml_path'].unique():\n",
    "    rd.plot.plot_well_metadata(p)"
   ]
  },
  {
   "cell_type": "code",
   "execution_count": null,
   "metadata": {},
   "outputs": [],
   "source": [
    "# Load data\n",
    "data = pd.DataFrame()\n",
    "channel_list = ['FITC-A', 'PE-A', 'APC-A750-A', 'PB450-A']\n",
    "\n",
    "if cache_path.exists(): data = pd.read_parquet(cache_path)\n",
    "else: \n",
    "    d1 = rd.flow.load_groups_with_metadata(plates.iloc[0].to_frame().transpose(), columns=channel_list)\n",
    "    d2 = rd.flow.load_groups_with_metadata(plates.iloc[1].to_frame().transpose(), columns=channel_list)\n",
    "\n",
    "    d1 = d1.rename({'FITC-A': 'mGL-A', 'PE-A': 'mRuby2-A', 'APC-A750-A': 'livedead-A'}, axis=1)\n",
    "    d2 = d2.rename({'FITC-A': 'mGL-A', 'PE-A': 'mRuby2-A', 'PB450-A': 'livedead-A'}, axis=1)\n",
    "\n",
    "    d1['biorep'] = 1\n",
    "    d2['biorep'] = 2\n",
    "\n",
    "    data = pd.concat([d1, d2], ignore_index=True)\n",
    "    for c in ['mGL-A', 'mRuby2-A', 'livedead-A']: data = data[data[c]>0]\n",
    "    data.to_parquet(rd.outfile(cache_path))\n",
    "display(data)"
   ]
  },
  {
   "cell_type": "code",
   "execution_count": null,
   "metadata": {},
   "outputs": [],
   "source": [
    "# Add metadata for constructs\n",
    "metadata = base.get_metadata(rd.datadir/'projects'/'miR-iFFL'/'plasmids'/'construct-metadata.xlsx')\n",
    "data = data.merge(metadata, how='left', on='construct')\n",
    "display(data)\n",
    "\n",
    "# Create dicts to specify colors/markers\n",
    "metadata_dict = metadata.set_index('construct').to_dict('dict')\n",
    "main_palette = metadata_dict['color']\n",
    "main_markers = metadata_dict['markers']"
   ]
  },
  {
   "cell_type": "code",
   "execution_count": null,
   "metadata": {},
   "outputs": [],
   "source": [
    "gates = pd.DataFrame()\n",
    "channel_list = ['mGL-A', 'mRuby2-A',]\n",
    "for channel in channel_list:\n",
    "    gates[channel] = data[data['construct']=='UT'].groupby(['biorep'])[channel].apply(lambda x: x.quantile(0.9999))\n",
    "gates.reset_index(inplace=True)\n",
    "\n",
    "# Add metadata\n",
    "gates['marker'] = 'mGL-A'\n",
    "gates['output'] = 'mRuby2-A'\n",
    "gates['exp'] = 'steph_' + gates['biorep'].astype(str)\n",
    "data['exp'] = 'steph_' + data['biorep'].astype(str)\n",
    "\n",
    "display(gates)"
   ]
  },
  {
   "cell_type": "code",
   "execution_count": null,
   "metadata": {},
   "outputs": [],
   "source": [
    "# Gate data by marker expression\n",
    "data = data.groupby(['exp','biorep'])[data.columns].apply(lambda x: base.gate_data(x,gates))\n",
    "data.reset_index(inplace=True, drop=True)\n",
    "\n",
    "# Gate live cells (livedead-A < gate)\n",
    "data.loc[data['biorep']==1, 'live'] = data.loc[data['biorep']==1, 'livedead-A'] < 2e3\n",
    "data.loc[data['biorep']==2, 'live'] = data.loc[data['biorep']==2, 'livedead-A'] < 7e4\n",
    "display(data)\n",
    "\n",
    "df = data[(data['expressing']) & (data['live']) & (data['construct']!='UT')]"
   ]
  },
  {
   "cell_type": "code",
   "execution_count": null,
   "metadata": {},
   "outputs": [],
   "source": [
    "plot_df = df[df['moi']==1]\n",
    "g = sns.displot(data=plot_df, x='mGL-A', y='mRuby2-A', row='biorep', col='construct', hue='dox',\n",
    "                kind='kde', log_scale=True, common_norm=False, legend=False)"
   ]
  },
  {
   "cell_type": "code",
   "execution_count": null,
   "metadata": {},
   "outputs": [],
   "source": [
    "plot_df = data[data['moi']==1]\n",
    "g = sns.displot(data=plot_df, x='mGL-A', y='mRuby2-A', row='biorep', col='construct', hue='dox',\n",
    "                kind='kde', log_scale=True, common_norm=False, legend=False)"
   ]
  },
  {
   "cell_type": "code",
   "execution_count": null,
   "metadata": {},
   "outputs": [],
   "source": []
  }
 ],
 "metadata": {
  "kernelspec": {
   "display_name": "env",
   "language": "python",
   "name": "python3"
  },
  "language_info": {
   "codemirror_mode": {
    "name": "ipython",
    "version": 3
   },
   "file_extension": ".py",
   "mimetype": "text/x-python",
   "name": "python",
   "nbconvert_exporter": "python",
   "pygments_lexer": "ipython3"
  }
 },
 "nbformat": 4,
 "nbformat_minor": 2
}
