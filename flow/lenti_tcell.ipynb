{
 "cells": [
  {
   "cell_type": "code",
   "execution_count": null,
   "metadata": {},
   "outputs": [],
   "source": [
    "import base\n",
    "import matplotlib\n",
    "import matplotlib.pyplot as plt\n",
    "import numpy as np\n",
    "import pandas as pd\n",
    "from pathlib import Path\n",
    "import rushd as rd\n",
    "import scipy as sp\n",
    "import seaborn as sns\n",
    "\n",
    "from importlib import reload\n",
    "reload(base)\n",
    "\n",
    "sns.set_style('ticks')\n",
    "sns.set_context('talk',rc={'font.family': 'sans-serif', 'font.sans-serif':['Helvetica Neue']})"
   ]
  },
  {
   "cell_type": "code",
   "execution_count": null,
   "metadata": {},
   "outputs": [],
   "source": [
    "base_path = rd.datadir/'instruments'/'data'/'collaborators'/'birnbaum_steph'\n",
    "output_path = rd.rootdir/'output'/'lenti_tcell'\n",
    "cache_path = output_path/'data.gzip'\n",
    "\n",
    "plates = pd.DataFrame({\n",
    "    'data_path': [base_path/'2024-06-10 Galloway Exp 1'/'export', base_path/'2024-10-25 Galloway 2'/'export',\n",
    "                  base_path/'2024-11-06 Galloway 3'/'export'],\n",
    "    'yaml_path': [base_path/'2024-06-10 Galloway Exp 1'/'metadata.yaml', base_path/'2024-10-25 Galloway 2'/'export'/'metadata.yaml',\n",
    "                  base_path/'2024-11-06 Galloway 3'/'export'/'wells.yaml'],\n",
    "})\n",
    "\n",
    "for p in plates['yaml_path'].unique():\n",
    "    rd.plot.plot_well_metadata(p)"
   ]
  },
  {
   "cell_type": "code",
   "execution_count": null,
   "metadata": {},
   "outputs": [],
   "source": [
    "# Load data\n",
    "data = pd.DataFrame()\n",
    "channel_list = ['FITC-A', 'PE-A', 'APC-A750-A', 'PB450-A']\n",
    "\n",
    "if cache_path.exists(): data = pd.read_parquet(cache_path)\n",
    "else: \n",
    "    d1 = rd.flow.load_groups_with_metadata(plates.iloc[0].to_frame().transpose(), columns=channel_list)\n",
    "    d2 = rd.flow.load_groups_with_metadata(plates.iloc[1].to_frame().transpose(), columns=channel_list)\n",
    "    d3 = rd.flow.load_groups_with_metadata(plates.iloc[2].to_frame().transpose(), columns=channel_list)\n",
    "\n",
    "    d1 = d1.rename({'FITC-A': 'mGL-A', 'PE-A': 'mRuby2-A', 'APC-A750-A': 'livedead-A'}, axis=1)\n",
    "    d2 = d2.rename({'FITC-A': 'mGL-A', 'PE-A': 'mRuby2-A', 'PB450-A': 'livedead-A'}, axis=1)\n",
    "    d3 = d3.rename({'FITC-A': 'mGL-A', 'PE-A': 'mRuby2-A', 'APC-A750-A': 'livedead-A'}, axis=1)\n",
    "\n",
    "    d1['biorep'] = 1\n",
    "    d2['biorep'] = 2\n",
    "\n",
    "    data = pd.concat([d1, d2, d3], ignore_index=True)\n",
    "    for c in ['mGL-A', 'mRuby2-A', 'livedead-A']: data = data[data[c]>0]\n",
    "    data.to_parquet(rd.outfile(cache_path))\n",
    "display(data)"
   ]
  },
  {
   "cell_type": "code",
   "execution_count": null,
   "metadata": {},
   "outputs": [],
   "source": [
    "# Add metadata for constructs\n",
    "metadata = base.get_metadata(rd.datadir/'projects'/'miR-iFFL'/'plasmids'/'construct-metadata.xlsx')\n",
    "data = data.merge(metadata, how='left', on='construct')\n",
    "display(data)\n",
    "\n",
    "# Create dicts to specify colors/markers\n",
    "metadata_dict = metadata.set_index('construct').to_dict('dict')\n",
    "main_palette = metadata_dict['color']\n",
    "main_markers = metadata_dict['markers']"
   ]
  },
  {
   "cell_type": "code",
   "execution_count": null,
   "metadata": {},
   "outputs": [],
   "source": [
    "gates = pd.DataFrame()\n",
    "channel_list = ['mGL-A', 'mRuby2-A',]\n",
    "for channel in channel_list:\n",
    "    gates[channel] = data[data['construct']=='UT'].groupby(['biorep'])[channel].apply(lambda x: x.quantile(0.9999))\n",
    "gates.reset_index(inplace=True)\n",
    "\n",
    "# Add metadata\n",
    "gates['marker'] = 'mGL-A'\n",
    "gates['output'] = 'mRuby2-A'\n",
    "gates['exp'] = 'steph_' + gates['biorep'].astype(str)\n",
    "\n",
    "data['marker'] = data['mGL-A']\n",
    "data['output'] = data['mRuby2-A']\n",
    "data['exp'] = 'steph_' + data['biorep'].astype(str)\n",
    "\n",
    "display(gates)"
   ]
  },
  {
   "cell_type": "code",
   "execution_count": null,
   "metadata": {},
   "outputs": [],
   "source": [
    "# Manually adjust marker gate for bioreps 3&4\n",
    "gates.loc[gates['biorep'].isin([3,4]), 'mGL-A'] = 2e5\n",
    "display(gates)"
   ]
  },
  {
   "cell_type": "code",
   "execution_count": null,
   "metadata": {},
   "outputs": [],
   "source": [
    "# Look at data to draw livedead gates\n",
    "plot_df = data[(data['biorep']<3) & (data['construct']=='UT')]\n",
    "g = sns.displot(data=plot_df, x='livedead-A', col='biorep', \n",
    "                kind='kde', log_scale=True, common_norm=False)\n",
    "for biorep, ax in g.axes_dict.items():\n",
    "    if biorep==1: ax.axvline(3e3, c='black')\n",
    "    else: ax.axvline(5e4, c='black')"
   ]
  },
  {
   "cell_type": "code",
   "execution_count": null,
   "metadata": {},
   "outputs": [],
   "source": [
    "# Look at data for to draw livedead gates\n",
    "plot_df = data[(data['biorep']>2) & (data['construct']=='UT')]\n",
    "g = sns.displot(data=plot_df, x='livedead-A', col='biorep', hue='stain',\n",
    "                kind='kde', log_scale=True, common_norm=False)\n",
    "for _, ax in g.axes_dict.items():\n",
    "    ax.axvline(1e4, c='black')"
   ]
  },
  {
   "cell_type": "code",
   "execution_count": null,
   "metadata": {},
   "outputs": [],
   "source": [
    "# Look at gates\n",
    "manual_gates = [4e4, 4e4, 2e5, 2e5]\n",
    "plot_df = data.groupby('construct').sample(3000)\n",
    "g = sns.displot(data=plot_df, x='mGL-A', y='mRuby2-A', col='biorep', hue='construct',\n",
    "                kind='kde', log_scale=True, common_norm=False)\n",
    "for biorep, ax in g.axes_dict.items():\n",
    "    ax.axvline(manual_gates[biorep-1], c='black')"
   ]
  },
  {
   "cell_type": "code",
   "execution_count": null,
   "metadata": {},
   "outputs": [],
   "source": [
    "# Gate data by marker expression\n",
    "#data = data.groupby(['exp','biorep'])[data.columns].apply(lambda x: base.gate_data(x,gates))\n",
    "#data.reset_index(inplace=True, drop=True)\n",
    "data.loc[data['biorep']==1, 'expressing'] = data.loc[data['biorep']==1, 'mGL-A'] > 4e4\n",
    "data.loc[data['biorep']==2, 'expressing'] = data.loc[data['biorep']==2, 'mGL-A'] > 4e4\n",
    "data.loc[data['biorep']==3, 'expressing'] = data.loc[data['biorep']==3, 'mGL-A'] > 2e5 #3e4\n",
    "data.loc[data['biorep']==4, 'expressing'] = data.loc[data['biorep']==4, 'mGL-A'] > 2e5 #4e4\n",
    "\n",
    "# Gate live cells (livedead-A < gate)\n",
    "data.loc[data['biorep']==1, 'live'] = data.loc[data['biorep']==1, 'livedead-A'] < 3e3\n",
    "data.loc[data['biorep']==2, 'live'] = data.loc[data['biorep']==2, 'livedead-A'] < 5e4\n",
    "data.loc[data['biorep']>2, 'live'] = data.loc[data['biorep']>2, 'livedead-A'] < 1e4\n",
    "display(data)\n",
    "\n",
    "df = data[(data['expressing']) & (data['live']) & (data['construct']!='UT')]"
   ]
  },
  {
   "cell_type": "code",
   "execution_count": null,
   "metadata": {},
   "outputs": [],
   "source": [
    "plot_df = df[df['moi']==1]\n",
    "g = sns.displot(data=plot_df, x='mGL-A', y='mRuby2-A', row='biorep', col='construct', hue='dox',\n",
    "                kind='kde', log_scale=True, common_norm=False, legend=False)"
   ]
  },
  {
   "cell_type": "code",
   "execution_count": null,
   "metadata": {},
   "outputs": [],
   "source": [
    "# Bin data and calculate statistics\n",
    "df_quantiles, stats, _, fits = base.calculate_bins_stats(df, stat_list=[sp.stats.gmean, np.std, sp.stats.variation], by=['construct','moi','dox','exp','biorep'])\n",
    "stats = stats.merge(metadata, how='left', on='construct')\n",
    "fits = fits.merge(metadata, how='left', on='construct')"
   ]
  },
  {
   "cell_type": "code",
   "execution_count": null,
   "metadata": {},
   "outputs": [],
   "source": [
    "for biorep in range(1,5):\n",
    "    plot_df = df_quantiles[(df_quantiles['biorep']==biorep) & (df_quantiles['dox']==1000) & (df_quantiles['moi']==1)]\n",
    "    fig, axes = plt.subplots(1,2, gridspec_kw=dict(width_ratios=(1,0.3)))\n",
    "\n",
    "    # line plot\n",
    "    ax = axes[0]\n",
    "    sns.lineplot(data=plot_df, x='bin_marker_quantiles_median', y='output', hue='construct', palette=main_palette, \n",
    "                legend=False, dashes=False, style='construct', markers=main_markers, ax=ax, markersize=9, markeredgewidth=1,\n",
    "                estimator=sp.stats.gmean, errorbar=lambda x: (sp.stats.gmean(x) / sp.stats.gstd(x), sp.stats.gmean(x) * sp.stats.gstd(x)))\n",
    "    ax.set(xscale='log', yscale='log', xlabel='marker',)\n",
    "    sns.despine(ax=ax)\n",
    "    marker_baseline = sp.stats.gmean(df_quantiles.loc[(df_quantiles['group']=='marker') & (df_quantiles['biorep']==biorep), 'output'])\n",
    "    ax.axhline(marker_baseline, color='black', ls=':')\n",
    "    ax.annotate('marker only', (ax.get_xlim()[1], marker_baseline), ha='right', va='bottom')\n",
    "\n",
    "    # histogram\n",
    "    ax = axes[1]\n",
    "    sns.kdeplot(data=plot_df, y='output', hue='construct', palette=main_palette, \n",
    "                legend=False, log_scale=True, common_norm=False, ax=ax)\n",
    "    sns.despine(ax=ax, bottom=True)\n",
    "    ax.set(xlabel='', ylim=axes[0].get_ylim(), ylabel='', yticklabels=[])\n",
    "    ax.get_xaxis().set_visible(False)\n",
    "\n",
    "    fig.savefig(rd.outfile(output_path/f'joint_biorep{biorep}.png'))"
   ]
  },
  {
   "cell_type": "code",
   "execution_count": null,
   "metadata": {},
   "outputs": [],
   "source": [
    "ts_label = {'na': 'base', 'NT': 'OL', 'T': 'CL', 'none': '–'}\n",
    "marker_list = ['o', 'v', 'D', 'X']"
   ]
  },
  {
   "cell_type": "code",
   "execution_count": null,
   "metadata": {},
   "outputs": [],
   "source": [
    "fig, axes = plt.subplots(1,3, figsize=(10,4), gridspec_kw=dict(wspace=0.5,))\n",
    "\n",
    "plot_df = stats[(stats['dox']==1000) & (stats['moi']==1)]\n",
    "plot_df2 = fits[(fits['dox']==1000) & (fits['moi']==1)]\n",
    "\n",
    "ax = axes[0]\n",
    "for biorep, group in plot_df.groupby('biorep'):\n",
    "    sns.stripplot(data=group, x='ts_kind', y='output_gmean', hue='construct', palette=main_palette,\n",
    "                  legend=False, ax=ax, marker=marker_list[biorep-1], s=8, edgecolor='white', linewidth=1)\n",
    "ax.set(title='Mean', xlabel='', ylabel='', yscale='log', )#ylim=(1e3,2e4),)\n",
    "\n",
    "ax = axes[1]\n",
    "for biorep, group in plot_df.groupby('biorep'):\n",
    "    sns.stripplot(data=group, x='ts_kind', y='output_std', hue='construct', palette=main_palette,\n",
    "                  legend=False, ax=ax, marker=marker_list[biorep-1], s=8, edgecolor='white', linewidth=1)\n",
    "ax.set(title='Std.', xlabel='', ylabel='', yscale='log', )#ylim=(1e3,2e4),)\n",
    "\n",
    "ax = axes[2]\n",
    "for biorep, group in plot_df2.groupby('biorep'):\n",
    "    sns.stripplot(data=group, x='ts_kind', y='slope', hue='construct', palette=main_palette,\n",
    "                  legend=False, ax=ax, marker=marker_list[biorep-1], s=8, edgecolor='white', linewidth=1)\n",
    "ax.set(title='Slope', xlabel='', ylabel='',)\n",
    "\n",
    "# ax = axes[3]\n",
    "# for num, group in plot_df.groupby('sort'):\n",
    "#     sns.stripplot(data=group, x='ts_kind', y='output_variation', hue='construct', palette=main_palette,\n",
    "#                   legend=False, ax=ax, marker=marker_list[num-1], s=8, edgecolor='white', linewidth=1)\n",
    "# ax.set(title='CV', xlabel='', ylabel='',)\n",
    "\n",
    "for ax in axes:\n",
    "    ax.set_xticklabels([ts_label[x.get_text()] for x in ax.get_xticklabels()], rotation=45, ha='right',)\n",
    "    sns.despine(ax=ax)\n",
    "\n",
    "fig.savefig(rd.outfile(output_path/'stats.png'))"
   ]
  },
  {
   "cell_type": "code",
   "execution_count": null,
   "metadata": {},
   "outputs": [],
   "source": [
    "baseline_df = data[(data['construct']=='UT')].groupby(['exp','biorep'])['output'].apply(sp.stats.gmean).rename('output_gmean').reset_index()"
   ]
  },
  {
   "cell_type": "markdown",
   "metadata": {},
   "source": [
    "### Test stat annotator"
   ]
  },
  {
   "cell_type": "code",
   "execution_count": null,
   "metadata": {},
   "outputs": [],
   "source": [
    "from statannotations.Annotator import Annotator"
   ]
  },
  {
   "cell_type": "code",
   "execution_count": null,
   "metadata": {},
   "outputs": [],
   "source": [
    "fig, axes = plt.subplots(1,3, figsize=(10,4), gridspec_kw=dict(wspace=0.5,))\n",
    "\n",
    "plot_df = stats[(stats['dox']==1000) & (stats['moi']==1)]\n",
    "plot_df2 = fits[(fits['dox']==1000) & (fits['moi']==1)]\n",
    "\n",
    "plot_settings = dict(x='ts_kind', hue='construct', palette=main_palette,\n",
    "                     legend=False,  s=8, edgecolor='white', linewidth=1)\n",
    "pairs = [(\"na\",\"T\"), (\"NT\",\"T\"), (\"na\",\"NT\")]\n",
    "\n",
    "ax = axes[0]\n",
    "for biorep, group in plot_df.groupby('biorep'):\n",
    "    sns.stripplot(data=group, y='output_gmean', ax=ax, marker=marker_list[biorep-1], **plot_settings)\n",
    "ax.set(title='Mean', xlabel='', ylabel='', yscale='log', )#ylim=(1e3,2e4),)\n",
    "annotator = Annotator(ax, pairs, data=plot_df, y='output_gmean', **plot_settings)\n",
    "annotator.configure(test='t-test_ind', text_format='star', loc='outside')\n",
    "\n",
    "ax = axes[1]\n",
    "for biorep, group in plot_df.groupby('biorep'):\n",
    "    sns.stripplot(data=group, x='ts_kind', y='output_std', hue='construct', palette=main_palette,\n",
    "                  legend=False, ax=ax, marker=marker_list[biorep-1], s=8, edgecolor='white', linewidth=1)\n",
    "ax.set(title='Std.', xlabel='', ylabel='', yscale='log', )#ylim=(1e3,2e4),)\n",
    "\n",
    "ax = axes[2]\n",
    "for biorep, group in plot_df2.groupby('biorep'):\n",
    "    sns.stripplot(data=group, x='ts_kind', y='slope', hue='construct', palette=main_palette,\n",
    "                  legend=False, ax=ax, marker=marker_list[biorep-1], s=8, edgecolor='white', linewidth=1)\n",
    "ax.set(title='Slope', xlabel='', ylabel='',)\n",
    "\n",
    "# ax = axes[3]\n",
    "# for num, group in plot_df.groupby('sort'):\n",
    "#     sns.stripplot(data=group, x='ts_kind', y='output_variation', hue='construct', palette=main_palette,\n",
    "#                   legend=False, ax=ax, marker=marker_list[num-1], s=8, edgecolor='white', linewidth=1)\n",
    "# ax.set(title='CV', xlabel='', ylabel='',)\n",
    "\n",
    "for ax in axes:\n",
    "    ax.set_xticklabels([ts_label[x.get_text()] for x in ax.get_xticklabels()], rotation=45, ha='right',)\n",
    "    sns.despine(ax=ax)"
   ]
  },
  {
   "cell_type": "code",
   "execution_count": null,
   "metadata": {},
   "outputs": [],
   "source": [
    "fig, axes = plt.subplots(1,3, figsize=(10,4), gridspec_kw=dict(wspace=0.5,))\n",
    "\n",
    "plot_df = stats[(stats['dox']==1000) & (stats['moi']==1)]\n",
    "plot_df2 = fits[(fits['dox']==1000) & (fits['moi']==1)]\n",
    "\n",
    "plot_settings = dict(x='ts_kind', \n",
    "                     legend=False,)\n",
    "pairs = [('na','T'), ('NT','T'), ('na','NT')]\n",
    "\n",
    "ax = axes[0]\n",
    "sns.stripplot(data=plot_df, y='output_gmean', ax=ax, hue='construct', palette=main_palette, **plot_settings)\n",
    "ax.set(title='Mean', xlabel='', ylabel='', yscale='log', )#ylim=(1e3,2e4),)\n",
    "annotator = Annotator(ax, pairs, data=plot_df, y='output_gmean', **plot_settings)\n",
    "annotator.configure(test='t-test_ind', text_format='star', loc='outside').apply_and_annotate()\n",
    "\n",
    "ax = axes[1]\n",
    "for biorep, group in plot_df.groupby('biorep'):\n",
    "    sns.stripplot(data=group, x='ts_kind', y='output_std', hue='construct', palette=main_palette,\n",
    "                  legend=False, ax=ax, marker=marker_list[biorep-1], s=8, edgecolor='white', linewidth=1)\n",
    "ax.set(title='Std.', xlabel='', ylabel='', yscale='log', )#ylim=(1e3,2e4),)\n",
    "\n",
    "ax = axes[2]\n",
    "sns.stripplot(data=plot_df2, y='slope', ax=ax, hue='construct', palette=main_palette, **plot_settings)\n",
    "ax.set(title='Slope', xlabel='', ylabel='', )\n",
    "annotator = Annotator(ax, pairs, data=plot_df2, y='slope', **plot_settings)\n",
    "annotator.configure(test='Mann-Whitney', text_format='star', loc='outside').apply_and_annotate()\n",
    "\n",
    "# ax = axes[3]\n",
    "# for num, group in plot_df.groupby('sort'):\n",
    "#     sns.stripplot(data=group, x='ts_kind', y='output_variation', hue='construct', palette=main_palette,\n",
    "#                   legend=False, ax=ax, marker=marker_list[num-1], s=8, edgecolor='white', linewidth=1)\n",
    "# ax.set(title='CV', xlabel='', ylabel='',)\n",
    "\n",
    "for ax in axes:\n",
    "    ax.set_xticklabels([ts_label[x.get_text()] for x in ax.get_xticklabels()], rotation=45, ha='right',)\n",
    "    sns.despine(ax=ax)"
   ]
  },
  {
   "cell_type": "code",
   "execution_count": null,
   "metadata": {},
   "outputs": [],
   "source": [
    "display(plot_df['ts_kind'].unique())\n",
    "display(pairs)"
   ]
  },
  {
   "cell_type": "code",
   "execution_count": null,
   "metadata": {},
   "outputs": [],
   "source": [
    "values = [0,0.1,1,10,100]\n",
    "num = len(values)\n",
    "\n",
    "fig, axes = plt.subplots(1,num, figsize=(10,4), gridspec_kw=dict(wspace=0.5,))\n",
    "\n",
    "plot_df = stats[(stats['dox']==1000) & (stats['moi']==1)]\n",
    "plot_df2 = fits[(fits['dox']==1000) & (fits['moi']==1)]\n",
    "\n",
    "plot_settings = dict(x='ts_kind', legend=False,)\n",
    "pairs = [('na','T'), ('NT','T')]\n",
    "\n",
    "for ax, val in zip(axes, values):\n",
    "    sns.stripplot(data=plot_df, y='output_gmean', ax=ax, hue='construct', palette=main_palette, **plot_settings)\n",
    "    ax.set(title='Mean', xlabel='', ylabel='', yscale='log', )#ylim=(1e3,2e4),)\n",
    "    sns.despine(ax=ax)\n",
    "    annotator = Annotator(ax, pairs, data=plot_df, y='output_gmean', **plot_settings)\n",
    "    annotator.configure(test='t-test_ind', text_format='star', loc='inside', verbose=0, line_height=0, #line_width=0.5,\n",
    "                        text_offset=-5,)\n",
    "    annotator.apply_and_annotate()"
   ]
  },
  {
   "cell_type": "code",
   "execution_count": null,
   "metadata": {},
   "outputs": [],
   "source": []
  },
  {
   "cell_type": "code",
   "execution_count": null,
   "metadata": {},
   "outputs": [],
   "source": []
  }
 ],
 "metadata": {
  "kernelspec": {
   "display_name": "env",
   "language": "python",
   "name": "python3"
  },
  "language_info": {
   "codemirror_mode": {
    "name": "ipython",
    "version": 3
   },
   "file_extension": ".py",
   "mimetype": "text/x-python",
   "name": "python",
   "nbconvert_exporter": "python",
   "pygments_lexer": "ipython3"
  }
 },
 "nbformat": 4,
 "nbformat_minor": 2
}
