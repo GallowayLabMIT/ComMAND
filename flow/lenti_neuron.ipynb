{
 "cells": [
  {
   "cell_type": "code",
   "execution_count": null,
   "metadata": {},
   "outputs": [],
   "source": [
    "import base\n",
    "import matplotlib\n",
    "import matplotlib.pyplot as plt\n",
    "import numpy as np\n",
    "import pandas as pd\n",
    "from pathlib import Path\n",
    "import rushd as rd\n",
    "import scipy as sp\n",
    "import seaborn as sns\n",
    "\n",
    "from statannotations.Annotator import Annotator\n",
    "\n",
    "from importlib import reload\n",
    "reload(base)\n",
    "\n",
    "sns.set_style('ticks')\n",
    "sns.set_context('talk',rc={'font.family': 'sans-serif', 'font.sans-serif':['Helvetica Neue']})"
   ]
  },
  {
   "cell_type": "code",
   "execution_count": null,
   "metadata": {},
   "outputs": [],
   "source": [
    "# Setup data loading\n",
    "base_path = rd.datadir/'instruments'/'data'/'attune'\n",
    "plates = pd.DataFrame({\n",
    "    'data_path': [base_path/'chris'/'2024.06.15-rat-neurons'/'export', base_path/'kasey'/'2024.11.12_exp098.2'/'export', base_path/'kasey'/'2024.11.23_exp098.4'/'export'],\n",
    "    'yaml_path': [base_path/'chris'/'2024.06.15-rat-neurons'/'metadata.yaml', base_path/'kasey'/'2024.11.12_exp098.2'/'export'/'wells.yaml', base_path/'kasey'/'2024.11.23_exp098.4'/'export'/'wells.yaml'],\n",
    "    'exp': ['exp098', 'exp098.2', 'exp098.4'],\n",
    "    'cell': ['neuron']*3,\n",
    "    'dox': [1000]*3\n",
    "})\n",
    "output_path = rd.rootdir/'output'/'lenti_neuron'\n",
    "cache_path = output_path/'lenti_neuron.gzip'\n",
    "\n",
    "for p in plates['yaml_path'].unique():\n",
    "    rd.plot.plot_well_metadata(p)"
   ]
  },
  {
   "cell_type": "code",
   "execution_count": null,
   "metadata": {},
   "outputs": [],
   "source": [
    "# Load data\n",
    "data = pd.DataFrame()\n",
    "channel_list = ['mRuby2-A','mGL-A']\n",
    "\n",
    "if cache_path.exists(): data = pd.read_parquet(cache_path)\n",
    "else: \n",
    "    data = rd.flow.load_groups_with_metadata(plates, columns=channel_list)\n",
    "    for c in channel_list: data = data[data[c]>0]\n",
    "    data.to_parquet(rd.outfile(cache_path))\n",
    "display(data)"
   ]
  },
  {
   "cell_type": "code",
   "execution_count": null,
   "metadata": {},
   "outputs": [],
   "source": [
    "# Add metadata for constructs\n",
    "metadata = base.get_metadata(rd.datadir/'projects'/'miR-iFFL'/'plasmids'/'construct-metadata.xlsx')\n",
    "data = data.merge(metadata, how='left', on='construct')\n",
    "display(data)"
   ]
  },
  {
   "cell_type": "code",
   "execution_count": null,
   "metadata": {},
   "outputs": [],
   "source": [
    "# Create dicts to specify colors/markers\n",
    "metadata_dict = metadata.set_index('construct').to_dict('dict')\n",
    "main_palette = metadata_dict['color']\n",
    "main_markers = metadata_dict['markers']"
   ]
  },
  {
   "cell_type": "code",
   "execution_count": null,
   "metadata": {},
   "outputs": [],
   "source": [
    "gates = pd.DataFrame()\n",
    "channel_list = ['mGL-A', 'mRuby2-A',]\n",
    "for channel in channel_list:\n",
    "    gates[channel] = data[data['construct']=='UT'].groupby(['exp'])[channel].apply(lambda x: x.quantile(0.9999))\n",
    "gates.reset_index(inplace=True)\n",
    "\n",
    "# Indicate which channels are relevant for each experiment\n",
    "gates['marker'] = 'mGL-A'\n",
    "gates['output'] = 'mRuby2-A'\n",
    "gates['marker'] = gates['mGL-A']\n",
    "gates['output'] = gates['mRuby2-A']\n",
    "\n",
    "display(gates)"
   ]
  },
  {
   "cell_type": "code",
   "execution_count": null,
   "metadata": {},
   "outputs": [],
   "source": [
    "data['marker'] = data['mGL-A']\n",
    "data['output'] = data['mRuby2-A']"
   ]
  },
  {
   "cell_type": "code",
   "execution_count": null,
   "metadata": {},
   "outputs": [],
   "source": [
    "plot_df = data[(data['dox']==1000) & (data['construct']!='UT')]\n",
    "g = sns.displot(data=plot_df, x='marker', y='output', hue='construct', palette=main_palette, kind='kde',\n",
    "                row='exp', col='construct', facet_kws=dict(margin_titles=True),\n",
    "                log_scale=True, common_norm=False, levels=8)\n",
    "\n",
    "for (exp, construct), ax in g.axes_dict.items():\n",
    "    ax.axvline(gates.loc[gates['exp']==exp, 'marker'].values[0], c='black', ls=':', zorder=0)\n",
    "    ax.axvline(1e3, c='black', ls=':', zorder=0)\n",
    "    ax.axhline(gates.loc[gates['exp']==exp, 'output'].values[0], c='black', ls=':', zorder=0)"
   ]
  },
  {
   "cell_type": "code",
   "execution_count": null,
   "metadata": {},
   "outputs": [],
   "source": [
    "gates['marker'] = [1e3]*3"
   ]
  },
  {
   "cell_type": "code",
   "execution_count": null,
   "metadata": {},
   "outputs": [],
   "source": [
    "# Gate data by marker expression\n",
    "def gate_data(df, gates):\n",
    "    df = df.copy()\n",
    "    exp = df['exp'].values[0] # the same for entire df, assuming df = data.groupby('exp')\n",
    "    gates_dict = gates.set_index('exp').to_dict('dict') # format: column -> {index: value}\n",
    "    df['expressing'] = df['marker'] > gates_dict['marker'][exp]\n",
    "    return df\n",
    "\n",
    "data = data.groupby('exp')[data.columns].apply(lambda x: gate_data(x,gates))\n",
    "data.reset_index(inplace=True, drop=True)\n",
    "df = data[(data['expressing']) & (data['construct']!='UT')]"
   ]
  },
  {
   "cell_type": "code",
   "execution_count": null,
   "metadata": {},
   "outputs": [],
   "source": [
    "# Bin data and calculate statistics\n",
    "df_quantiles, stats, _, fits = base.calculate_bins_stats(df, by=['construct','moi','dox','exp','biorep'], num_bins=10)\n",
    "stats = stats.merge(metadata, how='left', on='construct')\n",
    "fits = fits.merge(metadata, how='left', on='construct')"
   ]
  },
  {
   "cell_type": "code",
   "execution_count": null,
   "metadata": {},
   "outputs": [],
   "source": [
    "# Since there is no marker-only condition, save the output expression stats for untransduced cells\n",
    "baseline_df = data[(data['construct']=='UT')].groupby(['exp','biorep'])['output'].apply(sp.stats.gmean).rename('output_gmean').reset_index()"
   ]
  },
  {
   "cell_type": "code",
   "execution_count": null,
   "metadata": {},
   "outputs": [],
   "source": [
    "biorep = 1\n",
    "plot_df = df_quantiles[(df_quantiles['moi']==7) & (df_quantiles['dox']==1000) & (df_quantiles['biorep']==biorep)]\n",
    "fig, axes = plt.subplots(1,2, gridspec_kw=dict(width_ratios=(1,0.3)))\n",
    "\n",
    "# line plot\n",
    "ax = axes[0]\n",
    "sns.lineplot(data=plot_df, x='bin_marker_quantiles_median', y='output', hue='construct', palette=main_palette, \n",
    "             legend=False, dashes=False, style='construct', markers=main_markers, ax=ax, markersize=9, markeredgewidth=1,\n",
    "             estimator=sp.stats.gmean, errorbar=lambda x: (sp.stats.gmean(x) / sp.stats.gstd(x), sp.stats.gmean(x) * sp.stats.gstd(x)))\n",
    "ax.set(xscale='log', yscale='log', xlabel='marker', )#ylim=(2e2,1e6), )#xlim=(2e3,3e4))\n",
    "sns.despine(ax=ax)\n",
    "baseline = baseline_df['output_gmean'].mean()\n",
    "ax.axhline(baseline, color='black', ls=':')\n",
    "ax.annotate('untransduced', (ax.get_xlim()[1], baseline), ha='right', va='bottom')\n",
    "\n",
    "# histogram\n",
    "ax = axes[1]\n",
    "sns.kdeplot(data=plot_df, y='output', hue='construct', palette=main_palette, \n",
    "             legend=False, log_scale=True, common_norm=False, ax=ax)\n",
    "sns.despine(ax=ax, bottom=True)\n",
    "ax.set(xlabel='', ylim=axes[0].get_ylim(), ylabel='', yticklabels=[])\n",
    "ax.get_xaxis().set_visible(False)\n",
    "\n",
    "fig.savefig(rd.outfile(rd.rootdir/'output'/'for-review'/'joint_neuron-with-baseline.png'))"
   ]
  },
  {
   "cell_type": "code",
   "execution_count": null,
   "metadata": {},
   "outputs": [],
   "source": [
    "biorep = 2\n",
    "plot_df = df_quantiles[(df_quantiles['dox']==1000) & (df_quantiles['biorep']==biorep) & (df_quantiles['moi']==1) &\n",
    "                      ~(df_quantiles['name'].str.contains('FXN')) & ~(df_quantiles['name'].str.contains('FMRP'))]\n",
    "fig, axes = plt.subplots(1,2, gridspec_kw=dict(width_ratios=(1,0.3)))\n",
    "\n",
    "# line plot\n",
    "ax = axes[0]\n",
    "sns.lineplot(data=plot_df, x='bin_marker_quantiles_median', y='output', hue='construct', palette=main_palette, \n",
    "             legend=False, dashes=False, style='construct', markers=main_markers, ax=ax, markersize=9, markeredgewidth=1,\n",
    "             estimator=sp.stats.gmean, errorbar=lambda x: (sp.stats.gmean(x) / sp.stats.gstd(x), sp.stats.gmean(x) * sp.stats.gstd(x)))\n",
    "ax.set(xscale='log', yscale='log', xlabel='marker', )#ylim=(2e2,1e6), )#xlim=(2e3,3e4))\n",
    "sns.despine(ax=ax)\n",
    "\n",
    "# histogram\n",
    "ax = axes[1]\n",
    "sns.kdeplot(data=plot_df, y='output', hue='construct', palette=main_palette, \n",
    "             legend=False, log_scale=True, common_norm=False, ax=ax)\n",
    "sns.despine(ax=ax, bottom=True)\n",
    "ax.set(xlabel='', ylim=axes[0].get_ylim(), ylabel='', yticklabels=[])\n",
    "ax.get_xaxis().set_visible(False)"
   ]
  },
  {
   "cell_type": "code",
   "execution_count": null,
   "metadata": {},
   "outputs": [],
   "source": [
    "biorep = 2\n",
    "plot_df = df_quantiles[(df_quantiles['dox']==1000) & (df_quantiles['biorep']==biorep) & (df_quantiles['moi']==7) &\n",
    "                      ~(df_quantiles['name'].str.contains('FXN')) & ~(df_quantiles['name'].str.contains('FMRP'))]\n",
    "fig, axes = plt.subplots(1,2, gridspec_kw=dict(width_ratios=(1,0.3)))\n",
    "\n",
    "# line plot\n",
    "ax = axes[0]\n",
    "sns.lineplot(data=plot_df, x='bin_marker_quantiles_median', y='output', hue='construct', palette=main_palette, \n",
    "             legend=False, dashes=False, style='construct', markers=main_markers, ax=ax, markersize=9, markeredgewidth=1,\n",
    "             estimator=sp.stats.gmean, errorbar=lambda x: (sp.stats.gmean(x) / sp.stats.gstd(x), sp.stats.gmean(x) * sp.stats.gstd(x)))\n",
    "ax.set(xscale='log', yscale='log', xlabel='marker', )#ylim=(2e2,1e6), )#xlim=(2e3,3e4))\n",
    "sns.despine(ax=ax)\n",
    "\n",
    "# histogram\n",
    "ax = axes[1]\n",
    "sns.kdeplot(data=plot_df, y='output', hue='construct', palette=main_palette, \n",
    "             legend=False, log_scale=True, common_norm=False, ax=ax)\n",
    "sns.despine(ax=ax, bottom=True)\n",
    "ax.set(xlabel='', ylim=axes[0].get_ylim(), ylabel='', yticklabels=[])\n",
    "ax.get_xaxis().set_visible(False)"
   ]
  },
  {
   "cell_type": "code",
   "execution_count": null,
   "metadata": {},
   "outputs": [],
   "source": [
    "biorep = 3\n",
    "plot_df = df_quantiles[(df_quantiles['dox']==1000) & (df_quantiles['biorep']==biorep) & (df_quantiles['moi']==1) &\n",
    "                      ~(df_quantiles['name'].str.contains('FXN')) & ~(df_quantiles['name'].str.contains('FMRP'))]\n",
    "fig, axes = plt.subplots(1,2, gridspec_kw=dict(width_ratios=(1,0.3)))\n",
    "\n",
    "# line plot\n",
    "ax = axes[0]\n",
    "sns.lineplot(data=plot_df, x='bin_marker_quantiles_median', y='output', hue='construct', palette=main_palette, \n",
    "             legend=False, dashes=False, style='construct', markers=main_markers, ax=ax, markersize=9, markeredgewidth=1,\n",
    "             estimator=sp.stats.gmean, errorbar=lambda x: (sp.stats.gmean(x) / sp.stats.gstd(x), sp.stats.gmean(x) * sp.stats.gstd(x)))\n",
    "ax.set(xscale='log', yscale='log', xlabel='marker', )#ylim=(2e2,1e6), )#xlim=(2e3,3e4))\n",
    "sns.despine(ax=ax)\n",
    "\n",
    "# histogram\n",
    "ax = axes[1]\n",
    "sns.kdeplot(data=plot_df, y='output', hue='construct', palette=main_palette, \n",
    "             legend=False, log_scale=True, common_norm=False, ax=ax)\n",
    "sns.despine(ax=ax, bottom=True)\n",
    "ax.set(xlabel='', ylim=axes[0].get_ylim(), ylabel='', yticklabels=[])\n",
    "ax.get_xaxis().set_visible(False)"
   ]
  },
  {
   "cell_type": "code",
   "execution_count": null,
   "metadata": {},
   "outputs": [],
   "source": [
    "biorep = 4\n",
    "plot_df = df_quantiles[(df_quantiles['dox']==1000) & (df_quantiles['biorep']==biorep) & (df_quantiles['moi']==1) &\n",
    "                      ~(df_quantiles['name'].str.contains('FXN')) & ~(df_quantiles['name'].str.contains('FMRP'))]\n",
    "fig, axes = plt.subplots(1,2, gridspec_kw=dict(width_ratios=(1,0.3)))\n",
    "\n",
    "# line plot\n",
    "ax = axes[0]\n",
    "sns.lineplot(data=plot_df, x='bin_marker_quantiles_median', y='output', hue='construct', palette=main_palette, \n",
    "             legend=False, dashes=False, style='construct', markers=main_markers, ax=ax, markersize=9, markeredgewidth=1,\n",
    "             estimator=sp.stats.gmean, errorbar=lambda x: (sp.stats.gmean(x) / sp.stats.gstd(x), sp.stats.gmean(x) * sp.stats.gstd(x)))\n",
    "ax.set(xscale='log', yscale='log', xlabel='marker', )#ylim=(2e2,1e6), )#xlim=(2e3,3e4))\n",
    "sns.despine(ax=ax)\n",
    "\n",
    "# histogram\n",
    "ax = axes[1]\n",
    "sns.kdeplot(data=plot_df, y='output', hue='construct', palette=main_palette, \n",
    "             legend=False, log_scale=True, common_norm=False, ax=ax)\n",
    "sns.despine(ax=ax, bottom=True)\n",
    "ax.set(xlabel='', ylim=axes[0].get_ylim(), ylabel='', yticklabels=[])\n",
    "ax.get_xaxis().set_visible(False)"
   ]
  },
  {
   "cell_type": "code",
   "execution_count": null,
   "metadata": {},
   "outputs": [],
   "source": [
    "ts_label = {'na': 'base', 'NT': 'OL', 'T': 'CL', 'none': '–'}\n",
    "marker_list = ['o', 'v', 'D', 'X']"
   ]
  },
  {
   "cell_type": "code",
   "execution_count": null,
   "metadata": {},
   "outputs": [],
   "source": [
    "plot_df = stats[(stats['dox']==1000) & ~(stats['name'].str.contains('FXN')) & ~(stats['name'].str.contains('FMRP'))]\n",
    "display(plot_df)"
   ]
  },
  {
   "cell_type": "code",
   "execution_count": null,
   "metadata": {},
   "outputs": [],
   "source": [
    "pairs = [('na','NT'),('na','T'),('NT','T')]"
   ]
  },
  {
   "cell_type": "code",
   "execution_count": null,
   "metadata": {},
   "outputs": [],
   "source": [
    "fig, axes = plt.subplots(1,3, figsize=(10,4), gridspec_kw=dict(wspace=0.5,))\n",
    "\n",
    "plot_df = stats[(stats['dox']==1000) & ~(stats['name'].str.contains('FXN')) & ~(stats['name'].str.contains('FMRP')) &\n",
    "                (stats['count']>100) & (stats['moi']==7)]\n",
    "plot_df2 = fits[(fits['dox']==1000) & ~(fits['name'].str.contains('FXN')) & ~(fits['name'].str.contains('FMRP')) &\n",
    "                (fits['moi']==7)]\n",
    "moi_list = [1,5,7]\n",
    "\n",
    "ax = axes[0]\n",
    "for num, group in plot_df.groupby('moi'):\n",
    "    sns.stripplot(data=group, x='ts_kind', y='output_gmean', hue='construct', palette=main_palette,\n",
    "                  legend=False, ax=ax, marker=marker_list[moi_list.index(num)], s=8, edgecolor='white', linewidth=1)\n",
    "ax.set(title='Mean', xlabel='', ylabel='', yscale='log', )#ylim=(1e3,2e4),)\n",
    "\n",
    "annotator = Annotator(ax, pairs, data=plot_df, x='ts_kind', y='output_gmean',)\n",
    "annotator.configure(test='t-test_ind', text_format='star', loc='inside', line_height=0,\n",
    "                    line_width=0.5, text_offset=-2, line_offset_to_group=0.2) #line_offset=100)\n",
    "annotator.apply_and_annotate()\n",
    "\n",
    "ax = axes[1]\n",
    "for num, group in plot_df.groupby('moi'):\n",
    "    sns.stripplot(data=group, x='ts_kind', y='output_std', hue='construct', palette=main_palette,\n",
    "                  legend=False, ax=ax, marker=marker_list[moi_list.index(num)], s=8, edgecolor='white', linewidth=1)\n",
    "ax.set(title='Std.', xlabel='', ylabel='', yscale='log', )#ylim=(1e3,2e4),)\n",
    "\n",
    "ax = axes[2]\n",
    "for num, group in plot_df2.groupby('moi'):\n",
    "    sns.stripplot(data=group, x='ts_kind', y='slope', hue='construct', palette=main_palette,\n",
    "                  legend=False, ax=ax, marker=marker_list[moi_list.index(num)], s=8, edgecolor='white', linewidth=1)\n",
    "ax.set(title='Slope', xlabel='', ylabel='',)\n",
    "\n",
    "# ax = axes[3]\n",
    "# for num, group in plot_df.groupby('sort'):\n",
    "#     sns.stripplot(data=group, x='ts_kind', y='output_variation', hue='construct', palette=main_palette,\n",
    "#                   legend=False, ax=ax, marker=marker_list[num-1], s=8, edgecolor='white', linewidth=1)\n",
    "# ax.set(title='CV', xlabel='', ylabel='',)\n",
    "\n",
    "for ax in axes:\n",
    "    ax.set_xticklabels([ts_label[x.get_text()] for x in ax.get_xticklabels()], rotation=45, ha='right',)\n",
    "    sns.despine(ax=ax)\n",
    "\n",
    "fig.savefig(rd.outfile(output_path/'stats_moi7.png'))"
   ]
  },
  {
   "cell_type": "code",
   "execution_count": null,
   "metadata": {},
   "outputs": [],
   "source": [
    "fig, axes = plt.subplots(1,3, figsize=(10,4), gridspec_kw=dict(wspace=0.5,))\n",
    "\n",
    "plot_df = stats[(stats['dox']==1000) & ~(stats['name'].str.contains('FXN')) & ~(stats['name'].str.contains('FMRP')) &\n",
    "                (stats['count']>10) & (stats['moi']==1)]\n",
    "plot_df2 = fits[(fits['dox']==1000) & ~(fits['name'].str.contains('FXN')) & ~(fits['name'].str.contains('FMRP')) &\n",
    "                (fits['moi']==1)]\n",
    "moi_list = [1,5,7]\n",
    "\n",
    "ax = axes[0]\n",
    "for num, group in plot_df.groupby('moi'):\n",
    "    sns.stripplot(data=group, x='ts_kind', y='output_gmean', hue='construct', palette=main_palette,\n",
    "                  legend=False, ax=ax, marker=marker_list[moi_list.index(num)], s=8, edgecolor='white', linewidth=1)\n",
    "ax.set(title='Mean', xlabel='', ylabel='', yscale='log', )#ylim=(1e3,2e4),)\n",
    "\n",
    "annotator = Annotator(ax, pairs, data=plot_df, x='ts_kind', y='output_gmean',)\n",
    "annotator.configure(test='t-test_ind', text_format='star', loc='inside', line_height=0,\n",
    "                    line_width=0.5, text_offset=-2, line_offset_to_group=0.2) #line_offset=100)\n",
    "annotator.apply_and_annotate()\n",
    "\n",
    "ax = axes[1]\n",
    "for num, group in plot_df.groupby('moi'):\n",
    "    sns.stripplot(data=group, x='ts_kind', y='output_std', hue='construct', palette=main_palette,\n",
    "                  legend=False, ax=ax, marker=marker_list[moi_list.index(num)], s=8, edgecolor='white', linewidth=1)\n",
    "ax.set(title='Std.', xlabel='', ylabel='', yscale='log', )#ylim=(1e3,2e4),)\n",
    "\n",
    "annotator = Annotator(ax, pairs, data=plot_df, x='ts_kind', y='output_std',)\n",
    "annotator.configure(test='t-test_ind', text_format='star', loc='inside', line_height=0,\n",
    "                    line_width=0.5, text_offset=-2, line_offset_to_group=0.2) #line_offset=100)\n",
    "annotator.apply_and_annotate()\n",
    "\n",
    "ax = axes[2]\n",
    "for num, group in plot_df2.groupby('moi'):\n",
    "    sns.stripplot(data=group, x='ts_kind', y='slope', hue='construct', palette=main_palette,\n",
    "                  legend=False, ax=ax, marker=marker_list[moi_list.index(num)], s=8, edgecolor='white', linewidth=1)\n",
    "ax.set(title='Slope', xlabel='', ylabel='',)\n",
    "\n",
    "annotator = Annotator(ax, pairs, data=plot_df, x='ts_kind', y='slope',)\n",
    "annotator.configure(test='t-test_ind', text_format='star', loc='inside', line_height=0,\n",
    "                    line_width=0.5, text_offset=-2, line_offset_to_group=0.2) #line_offset=100)\n",
    "annotator.apply_and_annotate()\n",
    "\n",
    "# ax = axes[3]\n",
    "# for num, group in plot_df.groupby('sort'):\n",
    "#     sns.stripplot(data=group, x='ts_kind', y='output_variation', hue='construct', palette=main_palette,\n",
    "#                   legend=False, ax=ax, marker=marker_list[num-1], s=8, edgecolor='white', linewidth=1)\n",
    "# ax.set(title='CV', xlabel='', ylabel='',)\n",
    "\n",
    "for ax in axes:\n",
    "    ax.set_xticklabels([ts_label[x.get_text()] for x in ax.get_xticklabels()], rotation=45, ha='right',)\n",
    "    sns.despine(ax=ax)\n",
    "\n",
    "fig.savefig(rd.outfile(output_path/'stats_moi1.png'))"
   ]
  },
  {
   "cell_type": "markdown",
   "metadata": {},
   "source": [
    "### Look at FXN/FMRP"
   ]
  },
  {
   "cell_type": "code",
   "execution_count": null,
   "metadata": {},
   "outputs": [],
   "source": [
    "plot_df = data[data['name'].str.contains('FXN')]\n",
    "g = sns.scatterplot(data=plot_df, x='marker', y='output', hue='construct', palette=main_palette,\n",
    "                    alpha=0.5)\n",
    "g.set(xscale='log', yscale='log')\n",
    "g.axvline(2e2, color='black', zorder=0)\n",
    "g.axvline(1e3, color='black', zorder=0)"
   ]
  },
  {
   "cell_type": "code",
   "execution_count": null,
   "metadata": {},
   "outputs": [],
   "source": [
    "plot_df = data[data['name'].str.contains('FMRP')]\n",
    "g = sns.scatterplot(data=plot_df, x='marker', y='output', hue='construct', palette=main_palette,\n",
    "                    alpha=0.5)\n",
    "g.set(xscale='log', yscale='log')\n",
    "g.axvline(2e2, color='black', zorder=0)\n",
    "g.axvline(1e3, color='black', zorder=0)"
   ]
  },
  {
   "cell_type": "code",
   "execution_count": null,
   "metadata": {},
   "outputs": [],
   "source": [
    "# Bin data and calculate statistics\n",
    "df_quantiles2, stats2, _, fits2 = base.calculate_bins_stats(data[data['marker']>2e2], by=['construct','moi','dox','exp','biorep'], num_bins=10)\n",
    "stats2 = stats2.merge(metadata, how='left', on='construct')\n",
    "fits2 = fits2.merge(metadata, how='left', on='construct')\n",
    "display(stats2)"
   ]
  },
  {
   "cell_type": "code",
   "execution_count": null,
   "metadata": {},
   "outputs": [],
   "source": []
  }
 ],
 "metadata": {
  "kernelspec": {
   "display_name": "env",
   "language": "python",
   "name": "python3"
  },
  "language_info": {
   "codemirror_mode": {
    "name": "ipython",
    "version": 3
   },
   "file_extension": ".py",
   "mimetype": "text/x-python",
   "name": "python",
   "nbconvert_exporter": "python",
   "pygments_lexer": "ipython3"
  }
 },
 "nbformat": 4,
 "nbformat_minor": 2
}
