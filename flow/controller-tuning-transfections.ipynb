{
 "cells": [
  {
   "cell_type": "code",
   "execution_count": null,
   "metadata": {},
   "outputs": [],
   "source": [
    "import base\n",
    "import matplotlib.pyplot as plt\n",
    "import numpy as np\n",
    "import pandas as pd\n",
    "import rushd as rd\n",
    "import scipy as sp\n",
    "import seaborn as sns\n",
    "\n",
    "# enables concurrent editing of base.py\n",
    "from importlib import reload\n",
    "reload(base)\n",
    "\n",
    "sns.set_style('ticks')\n",
    "sns.set_context('talk',rc={'font.family': 'sans-serif', 'font.sans-serif':['Helvetica Neue']})"
   ]
  },
  {
   "cell_type": "markdown",
   "metadata": {},
   "source": [
    "## Setup\n",
    "\n",
    "- Load data\n",
    "- Add metadata\n",
    "- Draw gates\n",
    "- Gate transfected cells\n",
    "\n",
    "Result from this section: DataFrame `df` representing transfected cells."
   ]
  },
  {
   "cell_type": "markdown",
   "metadata": {},
   "source": [
    "Load all transfection data collected as of 2024.03.27"
   ]
  },
  {
   "cell_type": "code",
   "execution_count": null,
   "metadata": {},
   "outputs": [],
   "source": [
    "base_path = rd.datadir/'instruments'/'data'/'attune'/'kasey'\n",
    "\n",
    "exp45_1_path = base_path/'2022.07.15_exp45'\n",
    "exp45_2_path = base_path/'2023.01.14_exp45.2'/'export'\n",
    "exp45_3_path = base_path/'2023.02.10_exp45.3'/'export'\n",
    "\n",
    "exp55_1_path = base_path/'2023.01.14_exp55'/'export'\n",
    "exp55_2_path = base_path/'2023.02.10_exp55.2'/'export'\n",
    "exp55_3_path = base_path/'2024.03.18_exp55.3'/'export'\n",
    "\n",
    "exp67_1_path = base_path/'2023.06.15_exp67'/'export'\n",
    "exp67_2_path = base_path/'2023.06.17_exp67.2'/'export'\n",
    "exp67_3_path = base_path/'2024.03.18_exp67.3'/'export'\n",
    "\n",
    "plates = pd.DataFrame({\n",
    "    'data_path': [exp45_1_path/'293T'/'export', exp45_2_path, exp45_3_path,\n",
    "                  exp55_1_path, exp55_2_path, exp55_3_path,\n",
    "                  exp67_1_path/'plate1', exp67_1_path/'plate2', exp67_2_path/'plate1', exp67_2_path/'plate2', exp67_3_path/'plate1', exp67_3_path/'plate2'],\n",
    "    'yaml_path': ([exp45_1_path/'exp45_wells2.yaml', exp45_2_path/'exp45.2_wells2.yaml', exp45_2_path/'exp45.2_wells2.yaml'] + \n",
    "                  [exp55_1_path/'exp55_wells2.yaml']*3 + \n",
    "                  [exp67_1_path/'exp67_plate1_wells2.yaml', exp67_1_path/'exp67_plate2_wells2.yaml']*2 + [exp67_3_path/'exp67.3_plate1_wells.yaml', exp67_3_path/'exp67.3_plate2_wells.yaml']),\n",
    "    'biorep': [1, 2, 3,\n",
    "               1, 2, 3,\n",
    "               1, 1, 2, 2, 3, 3],\n",
    "    'exp': ['exp45', 'exp45.2', 'exp45.3',\n",
    "            'exp55', 'exp55.2', 'exp55.3',\n",
    "            'exp67', 'exp67', 'exp67.2', 'exp67.2', 'exp67.3', 'exp67.3']\n",
    "})\n",
    "\n",
    "output_path = rd.rootdir/'output'/'controller-tuning-transfections'\n",
    "cache_path = rd.rootdir/'output'/'controller-tuning-transfections'/'data.gzip'\n",
    "\n",
    "metadata_keys = set()\n",
    "for p in plates['yaml_path'].unique():\n",
    "    rd.plot.plot_well_metadata(p)\n",
    "    metadata_keys.update(rd.flow.load_well_metadata(p).keys())\n",
    "display(metadata_keys)"
   ]
  },
  {
   "cell_type": "code",
   "execution_count": null,
   "metadata": {},
   "outputs": [],
   "source": [
    "# Load data\n",
    "data = pd.DataFrame()\n",
    "if cache_path.is_file(): data = pd.read_parquet(cache_path)\n",
    "else: \n",
    "    data = rd.flow.load_groups_with_metadata(plates)\n",
    "\n",
    "    # Remove unneeded columns and negative channel values\n",
    "    channel_list = ['mCherry-A','mRuby2-A','FSC-A','SSC-A','tagBFP-A','mGL-A']\n",
    "    for c in data.columns:\n",
    "        if not(c in (list(plates.columns) + channel_list + list(metadata_keys))):\n",
    "            data.drop(columns=c, inplace=True)\n",
    "    for c in channel_list: data = data[data[c]>0]\n",
    "    \n",
    "    data.dropna(inplace=True)\n",
    "    data.to_parquet(rd.outfile(cache_path))\n",
    "display(data)"
   ]
  },
  {
   "cell_type": "code",
   "execution_count": null,
   "metadata": {},
   "outputs": [],
   "source": [
    "# Add metadata for constructs\n",
    "metadata = base.get_metadata('construct-metadata.csv')\n",
    "data = data.merge(metadata, how='left', on='construct')\n",
    "display(data)"
   ]
  },
  {
   "cell_type": "markdown",
   "metadata": {},
   "source": [
    "Draw gates based on untransfected population, then gate transfected cells"
   ]
  },
  {
   "cell_type": "code",
   "execution_count": null,
   "metadata": {},
   "outputs": [],
   "source": [
    "gates = pd.DataFrame()\n",
    "for channel in ['tagBFP-A', 'mGL-A', 'mCherry-A', 'mRuby2-A']:\n",
    "    gates[channel] = data[data['construct']=='UT'].groupby(['exp'])[channel].apply(lambda x: x.quantile(0.999))\n",
    "gates.reset_index(inplace=True)\n",
    "\n",
    "# Add missing gates\n",
    "gates.loc[gates['exp']=='exp67.2', 'mGL-A'] = gates.loc[gates['exp']=='exp67', 'mGL-A'].values[0]\n",
    "gates.loc[gates['exp']=='exp67.2', 'mRuby2-A'] = gates.loc[gates['exp']=='exp67', 'mRuby2-A'].values[0]\n",
    "\n",
    "# Indicate which channels are relevant for each experiment\n",
    "gates.sort_values(['exp'], inplace=True)\n",
    "gates['marker'] = ['tagBFP-A']*6 + ['mGL-A']*3\n",
    "gates['output'] = ['mCherry-A']*6 + ['mRuby2-A']*3\n",
    "\n",
    "display(gates)"
   ]
  },
  {
   "cell_type": "markdown",
   "metadata": {},
   "source": [
    "Gate data per experiment based on transfection marker expression"
   ]
  },
  {
   "cell_type": "code",
   "execution_count": null,
   "metadata": {},
   "outputs": [],
   "source": [
    "data = data.groupby('exp')[data.columns].apply(lambda x: base.gate_data(x,gates))\n",
    "data.reset_index(inplace=True, drop=True)\n",
    "df = data[data['expressing']]\n",
    "display(df)"
   ]
  },
  {
   "cell_type": "markdown",
   "metadata": {},
   "source": [
    "## Summarize\n",
    "\n",
    "Create summary plots of common metrics across all the data.\n",
    "\n",
    "Note that these plots are mainly FacetGrids, not artisanal plots suitable for figures/presentations."
   ]
  },
  {
   "cell_type": "code",
   "execution_count": null,
   "metadata": {},
   "outputs": [],
   "source": []
  }
 ],
 "metadata": {
  "kernelspec": {
   "display_name": "env",
   "language": "python",
   "name": "python3"
  },
  "language_info": {
   "codemirror_mode": {
    "name": "ipython",
    "version": 3
   },
   "file_extension": ".py",
   "mimetype": "text/x-python",
   "name": "python",
   "nbconvert_exporter": "python",
   "pygments_lexer": "ipython3"
  }
 },
 "nbformat": 4,
 "nbformat_minor": 2
}
