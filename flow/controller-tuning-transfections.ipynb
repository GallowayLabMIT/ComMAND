{
 "cells": [
  {
   "cell_type": "code",
   "execution_count": null,
   "metadata": {},
   "outputs": [],
   "source": [
    "import base\n",
    "import matplotlib.pyplot as plt\n",
    "import numpy as np\n",
    "import pandas as pd\n",
    "import rushd as rd\n",
    "import scipy as sp\n",
    "import seaborn as sns\n",
    "\n",
    "# enables concurrent editing of base.py\n",
    "from importlib import reload\n",
    "reload(base)\n",
    "\n",
    "sns.set_style('ticks')\n",
    "sns.set_context('talk',rc={'font.family': 'sans-serif', 'font.sans-serif':['Helvetica Neue']})"
   ]
  },
  {
   "cell_type": "markdown",
   "metadata": {},
   "source": [
    "## Setup\n",
    "\n",
    "- Load data\n",
    "- Add metadata\n",
    "- Draw gates\n",
    "- Gate transfected cells\n",
    "\n",
    "Result from this section: DataFrame `df` representing transfected cells."
   ]
  },
  {
   "cell_type": "markdown",
   "metadata": {},
   "source": [
    "Load all transfection data collected as of 2024.03.27"
   ]
  },
  {
   "cell_type": "code",
   "execution_count": null,
   "metadata": {},
   "outputs": [],
   "source": [
    "base_path = rd.datadir/'instruments'/'data'/'attune'/'kasey'\n",
    "\n",
    "exp45_1_path = base_path/'2022.07.15_exp45'\n",
    "exp45_2_path = base_path/'2023.01.14_exp45.2'/'export'\n",
    "exp45_3_path = base_path/'2023.02.10_exp45.3'/'export'\n",
    "\n",
    "exp55_1_path = base_path/'2023.01.14_exp55'/'export'\n",
    "exp55_2_path = base_path/'2023.02.10_exp55.2'/'export'\n",
    "exp55_3_path = base_path/'2024.03.18_exp55.3'/'export'\n",
    "\n",
    "exp67_1_path = base_path/'2023.06.15_exp67'/'export'\n",
    "exp67_2_path = base_path/'2023.06.17_exp67.2'/'export'\n",
    "exp67_3_path = base_path/'2024.03.18_exp67.3'/'export'\n",
    "\n",
    "plates = pd.DataFrame({\n",
    "    'data_path': [exp45_1_path/'293T'/'export', exp45_2_path, exp45_3_path,\n",
    "                  exp55_1_path, exp55_2_path, exp55_3_path,\n",
    "                  exp67_1_path/'plate1', exp67_1_path/'plate2', exp67_2_path/'plate1', exp67_2_path/'plate2', exp67_3_path/'plate1', exp67_3_path/'plate2'],\n",
    "    'yaml_path': ([exp45_1_path/'exp45_wells2.yaml', exp45_2_path/'exp45.2_wells2.yaml', exp45_2_path/'exp45.2_wells2.yaml'] + \n",
    "                  [exp55_1_path/'exp55_wells2.yaml', exp55_2_path/'exp55.2_wells2.yaml', exp55_1_path/'exp55_wells2.yaml'] + \n",
    "                  [exp67_1_path/'exp67_plate1_wells2.yaml', exp67_1_path/'exp67_plate2_wells2.yaml']*2 + [exp67_3_path/'exp67.3_plate1_wells.yaml', exp67_3_path/'exp67.3_plate2_wells.yaml']),\n",
    "    'biorep': [1, 2, 3,\n",
    "               1, 2, 3,\n",
    "               1, 1, 2, 2, 3, 3],\n",
    "    'exp': ['exp45', 'exp45.2', 'exp45.3',\n",
    "            'exp55', 'exp55.2', 'exp55.3',\n",
    "            'exp67', 'exp67', 'exp67.2', 'exp67.2', 'exp67.3', 'exp67.3']\n",
    "})\n",
    "\n",
    "output_path = rd.rootdir/'output'/'controller-tuning-transfections'\n",
    "cache_path = rd.rootdir/'output'/'controller-tuning-transfections'/'data.gzip'\n",
    "\n",
    "metadata_keys = set()\n",
    "for p in plates['yaml_path'].unique():\n",
    "    rd.plot.plot_well_metadata(p)\n",
    "    metadata_keys.update(rd.flow.load_well_metadata(p).keys())\n",
    "display(metadata_keys)"
   ]
  },
  {
   "cell_type": "code",
   "execution_count": null,
   "metadata": {},
   "outputs": [],
   "source": [
    "# Load data\n",
    "data = pd.DataFrame()\n",
    "if cache_path.is_file(): data = pd.read_parquet(cache_path)\n",
    "else: \n",
    "    data = rd.flow.load_groups_with_metadata(plates)\n",
    "\n",
    "    # Remove unneeded columns and negative channel values\n",
    "    channel_list = ['mCherry-A','mRuby2-A','FSC-A','SSC-A','tagBFP-A','mGL-A']\n",
    "    for c in data.columns:\n",
    "        if not(c in (list(plates.columns) + channel_list + list(metadata_keys))):\n",
    "            data.drop(columns=c, inplace=True)\n",
    "    for c in channel_list: data = data[data[c]>0]\n",
    "    \n",
    "    data.dropna(inplace=True)\n",
    "    data.to_parquet(rd.outfile(cache_path))\n",
    "display(data)"
   ]
  },
  {
   "cell_type": "code",
   "execution_count": null,
   "metadata": {},
   "outputs": [],
   "source": [
    "# Add metadata for constructs\n",
    "metadata = base.get_metadata(rd.datadir/'projects'/'miR-iFFL'/'plasmids'/'construct-metadata.xlsx')\n",
    "data = data.merge(metadata, how='left', on='construct')\n",
    "display(data)\n",
    "\n",
    "# Create dicts to specify colors/markers\n",
    "metadata_dict = metadata.set_index('construct').to_dict('dict')\n",
    "construct_palette = metadata_dict['color']\n",
    "construct_markers = metadata_dict['markers']"
   ]
  },
  {
   "cell_type": "markdown",
   "metadata": {},
   "source": [
    "Draw gates based on untransfected population, then gate transfected cells"
   ]
  },
  {
   "cell_type": "code",
   "execution_count": null,
   "metadata": {},
   "outputs": [],
   "source": [
    "gates = pd.DataFrame()\n",
    "for channel in ['tagBFP-A', 'mGL-A', 'mCherry-A', 'mRuby2-A']:\n",
    "    gates[channel] = data[data['construct']=='UT'].groupby(['exp'])[channel].apply(lambda x: x.quantile(0.999))\n",
    "gates.reset_index(inplace=True)\n",
    "\n",
    "# Add missing gates\n",
    "gates.loc[gates['exp']=='exp67.2', 'mGL-A'] = gates.loc[gates['exp']=='exp67', 'mGL-A'].values[0]\n",
    "gates.loc[gates['exp']=='exp67.2', 'mRuby2-A'] = gates.loc[gates['exp']=='exp67', 'mRuby2-A'].values[0]\n",
    "\n",
    "# Indicate which channels are relevant for each experiment\n",
    "gates.sort_values(['exp'], inplace=True)\n",
    "gates['marker'] = ['tagBFP-A']*6 + ['mGL-A']*3\n",
    "gates['output'] = ['mCherry-A']*6 + ['mRuby2-A']*3\n",
    "\n",
    "display(gates)"
   ]
  },
  {
   "cell_type": "markdown",
   "metadata": {},
   "source": [
    "Gate data per experiment based on transfection marker expression"
   ]
  },
  {
   "cell_type": "code",
   "execution_count": null,
   "metadata": {},
   "outputs": [],
   "source": [
    "data = data.groupby('exp')[data.columns].apply(lambda x: base.gate_data(x,gates))\n",
    "data.reset_index(inplace=True, drop=True)\n",
    "max = 1e6\n",
    "promoter_order = {k:v for k,v in enumerate(['pMXs','hPGK','EFS','CMV'])}\n",
    "df = data[(data['expressing']) & (data['output']<max)].sort_values(by='promoter', key=lambda x: x.map(promoter_order))\n",
    "display(df)"
   ]
  },
  {
   "cell_type": "markdown",
   "metadata": {},
   "source": [
    "## Summarize\n",
    "\n",
    "Create summary plots of common metrics across all the data.\n",
    "\n",
    "Note that these plots are mainly FacetGrids, not artisanal plots suitable for figures/presentations."
   ]
  },
  {
   "cell_type": "markdown",
   "metadata": {},
   "source": [
    "1. Histograms of output"
   ]
  },
  {
   "cell_type": "code",
   "execution_count": null,
   "metadata": {},
   "outputs": [],
   "source": [
    "for miR, group in df.groupby('miR'):\n",
    "    plot_df = group[(group['biorep']==2)]\n",
    "    g = sns.displot(data=plot_df, x='output', hue='construct', palette=construct_palette, row='design', col='promoter', kind='kde',\n",
    "                    facet_kws=dict(margin_titles=True, sharex=True, sharey=True), log_scale=True, legend=False, common_norm=False,)\n",
    "    g.figure.savefig(rd.outfile(output_path/(f'hist_{miR}.svg')), bbox_inches='tight')"
   ]
  },
  {
   "cell_type": "code",
   "execution_count": null,
   "metadata": {},
   "outputs": [],
   "source": [
    "for design, group in df.groupby('design'):\n",
    "    plot_df = group[(group['biorep']==2)]\n",
    "    g = sns.displot(data=plot_df, x='output', hue='construct', palette=construct_palette, row='miR', col='promoter', kind='kde',\n",
    "                    facet_kws=dict(margin_titles=True, sharex=True, sharey=True), log_scale=True, legend=False, common_norm=False,)\n",
    "    g.figure.savefig(rd.outfile(output_path/(f'hist_design{design}.svg')), bbox_inches='tight')"
   ]
  },
  {
   "cell_type": "code",
   "execution_count": null,
   "metadata": {},
   "outputs": [],
   "source": [
    "for promoter, group in df.groupby('promoter'):\n",
    "    plot_df = group[(group['biorep']==2)]\n",
    "    g = sns.displot(data=plot_df, x='output', hue='construct', palette=construct_palette, row='miR', col='design', kind='kde',\n",
    "                    facet_kws=dict(margin_titles=True, sharex=True, sharey=True), log_scale=True, legend=False, common_norm=False,)\n",
    "    g.figure.savefig(rd.outfile(output_path/(f'hist_{promoter}.svg')), bbox_inches='tight')"
   ]
  },
  {
   "cell_type": "markdown",
   "metadata": {},
   "source": [
    "2. Lineplot of output binned on transfection marker"
   ]
  },
  {
   "cell_type": "code",
   "execution_count": null,
   "metadata": {},
   "outputs": [],
   "source": [
    "# Bin by transfection marker\n",
    "min_count = 100\n",
    "df['bin_marker'] = df.groupby(['construct','exp'])['marker'].transform(lambda x: pd.cut(x, np.logspace(2,6,15)))\n",
    "df['remove_bin'] = df.groupby(['construct','exp','bin_marker'])['bin_marker'].transform(lambda x: x.count() < min_count)\n",
    "df_binned = df[~df['remove_bin']].copy()\n",
    "df_binned['marker'] = df_binned['marker'].astype(float)\n",
    "df_binned['output'] = df_binned['output'].astype(float)\n",
    "\n",
    "# Group and compute stats\n",
    "stat_list = [np.mean, np.std, sp.stats.gmean, sp.stats.gstd, sp.stats.variation]\n",
    "grouped = df_binned.groupby(by=['construct','biorep','exp','bin_marker'])\n",
    "stats_bin = grouped[['marker','output']].agg(stat_list).reset_index().dropna()\n",
    "\n",
    "# Rename columns as 'col_stat'\n",
    "stats_bin.columns = stats_bin.columns.map(lambda i: base.rename_multilevel_cols(i))\n",
    "stats_bin['count'] = grouped['marker'].count().reset_index()['marker']\n",
    "stats_bin = stats_bin.merge(metadata, how='left', on='construct')\n",
    "\n",
    "# Compute mean/median on bin span\n",
    "df_binned['bin_marker_mean'] = df_binned['bin_marker'].map(lambda x: np.mean([x.left, x.right]))\n",
    "df_binned['bin_marker_median'] = df_binned['bin_marker'].map(lambda x: np.median([x.left, x.right]))\n",
    "stats_bin['bin_marker_mean'] = stats_bin['bin_marker'].map(lambda x: np.mean([x.left, x.right]))\n",
    "stats_bin['bin_marker_median'] = stats_bin['bin_marker'].map(lambda x: np.median([x.left, x.right]))\n",
    "\n",
    "display(stats_bin)"
   ]
  },
  {
   "cell_type": "code",
   "execution_count": null,
   "metadata": {},
   "outputs": [],
   "source": [
    "# Normalize output to gmean of output in smallest bin, and normalize marker bin by smallest bin\n",
    "def normalize_output(df):\n",
    "    df = df.copy()\n",
    "    normalizer = sp.stats.gmean(df.loc[(df['bin_marker_median']==df['bin_marker_median'].min()), 'output'])\n",
    "    df['output_norm'] = df['output'].astype(float) / normalizer\n",
    "    df['bin_marker_median_norm'] = df['bin_marker_median'].astype(float) / df['bin_marker_median'].min()\n",
    "    return df\n",
    "\n",
    "by = ['construct','biorep','exp']\n",
    "df_binned = df_binned.groupby(by)[df_binned.columns].apply(normalize_output).reset_index(drop=True)\n",
    "display(df_binned)"
   ]
  },
  {
   "cell_type": "code",
   "execution_count": null,
   "metadata": {},
   "outputs": [],
   "source": [
    "# Cache data\n",
    "df_binned.loc[:, ~df_binned.columns.isin(['color','bin_marker'])].to_parquet(rd.outfile(output_path/'df_binned.gzip'))"
   ]
  },
  {
   "cell_type": "code",
   "execution_count": null,
   "metadata": {},
   "outputs": [],
   "source": [
    "for miR, group in df_binned.groupby('miR'):\n",
    "    plot_df = group[group['biorep']==3]\n",
    "    g = sns.relplot(data=plot_df, row='design', col='promoter', facet_kws=dict(sharex=True, sharey=True, margin_titles=True,), kind='line',\n",
    "                    height=3, aspect=1.3, x='bin_marker_median_norm', y='output_norm', hue='construct', #row_order=[0,1,2,3], \n",
    "                    palette=construct_palette, legend=False, dashes=False, style='construct', markers=construct_markers,\n",
    "                    estimator=sp.stats.gmean, errorbar=lambda x: (sp.stats.gmean(x) / sp.stats.gstd(x), sp.stats.gmean(x) * sp.stats.gstd(x)))\n",
    "    g.set(xscale='log', yscale='log', ylim=(2e-1,2e3))\n",
    "    sns.despine()\n",
    "    for name, ax in g.axes_dict.items(): ax.grid()\n",
    "    g.figure.savefig(rd.outfile(output_path/(f'line_gmean_{miR}.svg')), bbox_inches='tight')"
   ]
  },
  {
   "cell_type": "code",
   "execution_count": null,
   "metadata": {},
   "outputs": [],
   "source": [
    "for miR, group in df_binned.groupby('miR'):\n",
    "    plot_df = group[group['biorep']==3]\n",
    "    g = sns.relplot(data=plot_df, row='design', col='promoter', facet_kws=dict(sharex=True, sharey=True, margin_titles=True,), kind='line',\n",
    "                    height=3, aspect=1.3, x='bin_marker_median', y='output', hue='construct', #row_order=[0,1,2,3], \n",
    "                    palette=construct_palette, legend=False, dashes=False, style='construct', markers=construct_markers,\n",
    "                    estimator=sp.stats.variation, errorbar='ci')\n",
    "    g.set(xscale='log',ylim=(0,2))\n",
    "    sns.despine()\n",
    "    g.figure.savefig(rd.outfile(output_path/(f'line_variation_{miR}.svg')), bbox_inches='tight')"
   ]
  },
  {
   "cell_type": "code",
   "execution_count": null,
   "metadata": {},
   "outputs": [],
   "source": [
    "def generate_xticklabels(\n",
    "    df_labels: pd.DataFrame,\n",
    "    ax_col,\n",
    "    label_cols,\n",
    "    *,\n",
    "    ax = None,\n",
    "    annotate = True,\n",
    "    align_ticklabels = \"center\",\n",
    "    align_annotation = \"right\",\n",
    "):\n",
    "    # Draw plotting canvas to generate original xticklabels\n",
    "    if ax is None:\n",
    "        ax = plt.gca()\n",
    "    ax.figure.canvas.draw()\n",
    "\n",
    "    # Create dictionary from DataFrame, where keys are original xticklabels\n",
    "    #  and values are dictionaries of (metadata_key, metadata_value) pairs\n",
    "    dict_labels_by_xticklabel = df_labels.set_index(ax_col).to_dict(orient=\"index\")\n",
    "\n",
    "    # Loop over xticklabels and set new values\n",
    "    ax_labels = []\n",
    "    for item in ax.get_xticklabels():\n",
    "        if item.get_text() in dict_labels_by_xticklabel:\n",
    "            dict_labels = dict_labels_by_xticklabel[item.get_text()]\n",
    "\n",
    "            # For each specified metadata key (label_cols), get the metadata value\n",
    "            #  and concatenate all values into separate lines of a single string\n",
    "            new_xticklabel = \"\\n\".join([str(dict_labels[i]) for i in label_cols])\n",
    "            ax_labels.append(new_xticklabel)\n",
    "        else: ax_labels.append(item.get_text())\n",
    "\n",
    "    ax.set_xticks(ax.get_xticks(), ax_labels, multialignment=align_ticklabels)\n",
    "\n",
    "    # Get Artists for first axes labels\n",
    "    xlabel_bbox = ax.get_xticklabels()[0]\n",
    "    ylabel_bbox = ax.get_yticklabels()[0]\n",
    "\n",
    "    font_size = plt.rcParams[\"xtick.labelsize\"]\n",
    "\n",
    "    # Annotate plot with metadata keys\n",
    "    #   x value: align the right of the annotation bbox (ha='right')\n",
    "    #       with the right (x=1) of the ylabel bbox (xcoord=ylabel_bbox)\n",
    "    #   y value: align the vertical center of the annotation bbox (va='center')\n",
    "    #       with the vertical center (y=0.5) of the xlabel bbox (ycoord=xlabel_bbox)\n",
    "    if annotate:\n",
    "        ax.annotate(\n",
    "            text=\"\\n\".join(label_cols),\n",
    "            xy=(1, 0.5),\n",
    "            xycoords=(ylabel_bbox, xlabel_bbox),\n",
    "            ha=\"right\",\n",
    "            va=\"center\",\n",
    "            multialignment=align_annotation,\n",
    "            fontsize=font_size,\n",
    "        )"
   ]
  },
  {
   "cell_type": "code",
   "execution_count": null,
   "metadata": {},
   "outputs": [],
   "source": [
    "# Group and compute stats\n",
    "stat_list = [np.mean, np.std, sp.stats.gmean, sp.stats.gstd, sp.stats.variation]\n",
    "grouped = df_binned.groupby(by=['construct','biorep','exp'])\n",
    "stats = grouped[['marker','output']].agg(stat_list).reset_index().dropna()\n",
    "\n",
    "# Rename columns as 'col_stat'\n",
    "stats.columns = stats.columns.map(lambda i: base.rename_multilevel_cols(i))\n",
    "stats['count'] = grouped['marker'].count().reset_index()['marker']\n",
    "stats = stats.merge(metadata, how='left', on='construct')\n",
    "stats.sort_values(['design','ts_kind','ts_num'], inplace=True)\n",
    "\n",
    "display(stats)\n",
    "\n",
    "metadata['TS'] = metadata['ts_kind']\n",
    "stat_name = {'output_gmean': 'Geometric\\nmean', 'output_std': 'Standard\\ndeviation', 'output_variation': 'Coefficient\\nof variation'}"
   ]
  },
  {
   "cell_type": "code",
   "execution_count": null,
   "metadata": {},
   "outputs": [],
   "source": [
    "fig, axes = plt.subplots(ncols=3, sharex=True, figsize=(10,5), gridspec_kw={'wspace': 0.4})\n",
    "\n",
    "stat_list = ['output_gmean', 'output_std', 'output_variation']\n",
    "for i, stat in enumerate(stat_list):\n",
    "    ax = axes[i]\n",
    "    plot_df = stats[(stats['miR']=='miR.FF5') & (stats['promoter']=='CMV') & (stats['ts']!='FF5x4')]\n",
    "    sns.scatterplot(data=plot_df, x='construct', y=stat, hue='construct', palette=construct_palette, \n",
    "                    style='construct', markers=construct_markers, ax=ax, legend=False)\n",
    "    sns.despine(ax=ax)\n",
    "    if i<2: ax.set(yscale='log')\n",
    "    generate_xticklabels(metadata, 'construct', ['TS','design'], ax=ax, annotate=(i==0))\n",
    "    ax.set(xlabel='', ylabel='', title=stat_name[stat])\n",
    "#fig.savefig(rd.outfile(fig_path))"
   ]
  },
  {
   "cell_type": "code",
   "execution_count": null,
   "metadata": {},
   "outputs": [],
   "source": [
    "fig, axes = plt.subplots(ncols=3, sharex=True, figsize=(10,5), gridspec_kw={'wspace': 0.4})\n",
    "\n",
    "stat_list = ['output_gmean', 'output_std', 'output_variation']\n",
    "for i, stat in enumerate(stat_list):\n",
    "    ax = axes[i]\n",
    "    plot_df = stats[(stats['miR']=='miR.FF5') & (stats['promoter']=='EFS')]\n",
    "    sns.scatterplot(data=plot_df, x='construct', y=stat, hue='construct', palette=construct_palette, \n",
    "                    style='construct', markers=construct_markers, ax=ax, legend=False)\n",
    "    sns.despine(ax=ax)\n",
    "    if i<2: ax.set(yscale='log')\n",
    "    generate_xticklabels(metadata, 'construct', ['TS','design'], ax=ax, annotate=(i==0))\n",
    "    ax.set(xlabel='', ylabel='', title=stat_name[stat])\n",
    "#fig.savefig(rd.outfile(fig_path))"
   ]
  },
  {
   "cell_type": "code",
   "execution_count": null,
   "metadata": {},
   "outputs": [],
   "source": [
    "# Normalize stat to value of stat for design 1 NT construct\n",
    "def normalize_stat(df):\n",
    "    df = df.copy()\n",
    "    for col in df.select_dtypes(include=['int', 'float']).columns:\n",
    "        normalizer = np.mean(df.loc[(df['design']==1) & (df['ts_kind']=='NT'), col])\n",
    "        df[col+'_norm'] = df[col].astype(float) / normalizer\n",
    "    return df\n",
    "\n",
    "by = ['biorep','exp']\n",
    "stats = stats.groupby(by)[stats.columns].apply(normalize_stat).reset_index(drop=True)\n",
    "display(stats)"
   ]
  },
  {
   "cell_type": "code",
   "execution_count": null,
   "metadata": {},
   "outputs": [],
   "source": [
    "# Get Artists for first axes labels\n",
    "    xlabel_bbox = ax.get_xticklabels()[0]\n",
    "    ylabel_bbox = ax.get_yticklabels()[0]\n",
    "\n",
    "    font_size = plt.rcParams[\"xtick.labelsize\"]\n",
    "\n",
    "    # Annotate plot with metadata keys\n",
    "    #   x value: align the right of the annotation bbox (ha='right')\n",
    "    #       with the right (x=1) of the ylabel bbox (xcoord=ylabel_bbox)\n",
    "    #   y value: align the vertical center of the annotation bbox (va='center')\n",
    "    #       with the vertical center (y=0.5) of the xlabel bbox (ycoord=xlabel_bbox)\n",
    "    if annotate:\n",
    "        ax.annotate(\n",
    "            text=\"\\n\".join(label_cols),\n",
    "            xy=(1, 0.5),\n",
    "            xycoords=(ylabel_bbox, xlabel_bbox),\n",
    "            ha=\"right\",\n",
    "            va=\"center\",\n",
    "            multialignment=align_annotation,\n",
    "            fontsize=font_size,\n",
    "        )"
   ]
  },
  {
   "cell_type": "code",
   "execution_count": null,
   "metadata": {},
   "outputs": [],
   "source": [
    "s = stats[(stats['miR']=='miR.FF5') & (stats['ts_num']==4)]\n",
    "promoter_list = ['CMV','EFS','hPGK']\n",
    "stat_list = ['output_gmean', 'output_std', 'output_variation']\n",
    "\n",
    "fig, axes = plt.subplots(len(promoter_list), len(stat_list), figsize=(10,15), gridspec_kw={'wspace': 0.3, 'hspace': 0.4})\n",
    "\n",
    "for i, promoter in enumerate(promoter_list):\n",
    "    for j, stat in enumerate(stat_list):\n",
    "        ax = axes[i,j]\n",
    "        plot_df = s[(s['promoter']==promoter)]\n",
    "        sns.scatterplot(data=plot_df, x='construct', y=stat, hue='construct', palette=construct_palette, \n",
    "                        style='construct', markers=construct_markers, ax=ax, legend=False)\n",
    "        sns.despine(ax=ax)\n",
    "        if j<2: ax.set(yscale='log')\n",
    "        generate_xticklabels(metadata, 'construct', ['TS','design'], ax=ax, annotate=(j==0))\n",
    "        ax.set(xlabel='', ylabel='')\n",
    "        if i==0: ax.set(title=stat_name[stat])"
   ]
  },
  {
   "cell_type": "code",
   "execution_count": null,
   "metadata": {},
   "outputs": [],
   "source": []
  }
 ],
 "metadata": {
  "kernelspec": {
   "display_name": "env",
   "language": "python",
   "name": "python3"
  },
  "language_info": {
   "codemirror_mode": {
    "name": "ipython",
    "version": 3
   },
   "file_extension": ".py",
   "mimetype": "text/x-python",
   "name": "python",
   "nbconvert_exporter": "python",
   "pygments_lexer": "ipython3"
  }
 },
 "nbformat": 4,
 "nbformat_minor": 2
}
