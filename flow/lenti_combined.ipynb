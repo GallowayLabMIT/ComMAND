{
 "cells": [
  {
   "cell_type": "code",
   "execution_count": null,
   "metadata": {},
   "outputs": [],
   "source": [
    "import base\n",
    "import matplotlib\n",
    "import matplotlib.pyplot as plt\n",
    "import numpy as np\n",
    "import pandas as pd\n",
    "import rushd as rd\n",
    "import scipy as sp\n",
    "import seaborn as sns\n",
    "\n",
    "# enables concurrent editing of base.py\n",
    "from importlib import reload\n",
    "reload(base)"
   ]
  },
  {
   "cell_type": "code",
   "execution_count": null,
   "metadata": {},
   "outputs": [],
   "source": [
    "base_path_1 = rd.datadir/'instruments'/'data'/'attune'/'kasey'/'2024.04.05_exp89'/'export'\n",
    "base_path_2 = rd.datadir/'instruments'/'data'/'attune'/'chris'/'2024.06.02-exp95-lenti-miR-iFFL'/'export'\n",
    "plate_list = ['_'.join(x) for x in zip(\n",
    "        ['plate'+str(i) for i in range(1,10)], \n",
    "        (['293T']*3 + ['MEF2A']*3 + ['MEF8A']*3),\n",
    "        ['P9','P14','P15']*3\n",
    "    )]\n",
    "\n",
    "plates = pd.DataFrame({\n",
    "    'data_path': [base_path_1/'293T_control', \n",
    "                  base_path_1/'293T_plate1', base_path_1/'293T_plate2', base_path_1/'293T_plate3',\n",
    "                  base_path_1/'MEF_3_plate1', \n",
    "                  base_path_1/'MEF_4-1_plate1', base_path_1/'MEF_4-1_plate2', base_path_1/'MEF_4-1_plate3'] +\n",
    "                 [base_path_2/p for p in plate_list],\n",
    "    'yaml_path': [base_path_1/'kasey_yaml2'/'plate_control.yaml', \n",
    "                  base_path_1/'kasey_yaml2'/'plate01.yaml', base_path_1/'kasey_yaml2'/'plate02.yaml', base_path_1/'kasey_yaml2'/'plate03.yaml',\n",
    "                  base_path_1/'kasey_yaml2'/'mef_3_plate01.yaml', \n",
    "                  base_path_1/'kasey_yaml2'/'mef_4-1_plate01.yaml', base_path_1/'kasey_yaml2'/'mef_4-1_plate02.yaml', base_path_1/'kasey_yaml2'/'mef_4-1_plate03.yaml'] +\n",
    "                 [base_path_2/(p+'_metadata.yaml') for p in plate_list],\n",
    "})\n",
    "\n",
    "output_path = rd.rootdir/'output'/'lenti_combined'\n",
    "cache_path = output_path/'data.gzip'\n",
    "metadata_path = rd.datadir/'projects'/'miR-iFFL'/'plasmids'/'construct-metadata.xlsx'\n",
    "\n",
    "# Load data\n",
    "data = pd.DataFrame()\n",
    "if cache_path.is_file(): data = pd.read_parquet(cache_path)\n",
    "else: \n",
    "    channel_list = ['mCherry-A','mRuby2-A','FSC-A','SSC-A','tagBFP-A','mGL-A']\n",
    "    data = rd.flow.load_groups_with_metadata(plates, columns=channel_list)\n",
    "\n",
    "    # Remove negative channel values\n",
    "    for c in channel_list: data = data[data[c]>0]\n",
    "    \n",
    "    #data.dropna(inplace=True)\n",
    "    data.to_parquet(rd.outfile(cache_path))\n",
    "\n",
    "# Add metadata for constructs\n",
    "metadata = base.get_metadata(metadata_path)\n",
    "data = data.merge(metadata, how='left', on='construct')\n",
    "display(data)"
   ]
  },
  {
   "cell_type": "code",
   "execution_count": null,
   "metadata": {},
   "outputs": [],
   "source": [
    "data['cell'] = data['cell_type'].apply(lambda x: x.split('-')[0])\n",
    "data['exp'] = data['cell_type'] + '_' + data['virus_batch']\n",
    "\n",
    "def map_biorep(df):\n",
    "    biorep_map = {val:i for i,val in enumerate(df['exp'].unique())}\n",
    "    d = df.copy()\n",
    "    d['biorep'] = d['exp'].map(biorep_map)\n",
    "    return d\n",
    "\n",
    "data = data.groupby('cell')[data.columns].apply(map_biorep).reset_index(drop=True)\n",
    "display(data)"
   ]
  },
  {
   "cell_type": "code",
   "execution_count": null,
   "metadata": {},
   "outputs": [],
   "source": [
    "# Create dicts to specify colors/markers\n",
    "metadata_dict = metadata.set_index('construct').to_dict('dict')\n",
    "designs_palette = metadata_dict['color']\n",
    "designs_markers = metadata_dict['markers']"
   ]
  },
  {
   "cell_type": "code",
   "execution_count": null,
   "metadata": {},
   "outputs": [],
   "source": [
    "# Gate cells\n",
    "gates = pd.DataFrame()\n",
    "channel_list = ['mGL-A', 'mCherry-A', 'mRuby2-A']\n",
    "for channel in channel_list:\n",
    "    gates[channel] = data[(data['virus_dilution']==0)].groupby(['exp'])[channel].apply(lambda x: x.quantile(0.999))\n",
    "gates.reset_index(inplace=True)\n",
    "\n",
    "# Add missing gates\n",
    "gates.loc[len(gates.index)] = ['293T_P10'] + list(gates.loc[gates['exp']=='293T_na', channel_list].mean().values)\n",
    "gates.loc[len(gates.index)] = ['293T_P14_'] + list(gates.loc[gates['exp']=='293T_na', channel_list].mean().values)\n",
    "gates.loc[len(gates.index)] = ['293T_P16'] + list(gates.loc[gates['exp']=='293T_na', channel_list].mean().values) \n",
    "gates.loc[len(gates.index)] = ['MEF-3_P10'] + list(gates.loc[gates['exp'].str.contains('MEF'), channel_list].mean().values)\n",
    "gates.loc[len(gates.index)] = ['MEF-4-1_P10'] + list(gates.loc[gates['exp'].str.contains('MEF'), channel_list].mean().values)\n",
    "gates.loc[len(gates.index)] = ['MEF-4-1_P14'] + list(gates.loc[gates['exp'].str.contains('MEF'), channel_list].mean().values)\n",
    "gates.loc[len(gates.index)] = ['MEF-4-1_P16'] + list(gates.loc[gates['exp'].str.contains('MEF'), channel_list].mean().values)\n",
    "\n",
    "# Indicate which channels are relevant for each experiment\n",
    "gates.sort_values(['exp'], inplace=True)\n",
    "gates['marker'] = 'mGL-A'\n",
    "gates['output'] = 'mRuby2-A'\n",
    "\n",
    "# Gate data by marker expression\n",
    "data = data.groupby(['cell_type','virus_batch'])[data.columns].apply(lambda x: base.gate_data(x,gates))\n",
    "data.reset_index(inplace=True, drop=True)\n",
    "df = data[(data['expressing']) & (data['virus_dilution']!=0)]"
   ]
  },
  {
   "cell_type": "code",
   "execution_count": null,
   "metadata": {},
   "outputs": [],
   "source": [
    "# Bin by marker quantiles\n",
    "by = ['exp','cell','biorep','construct','dox','virus_dilution']\n",
    "df['bin_marker_quantiles'] = df.groupby(by)['marker'].transform(lambda x: pd.qcut(x, q=20, duplicates='drop'))\n",
    "quantiles = df.groupby(by+['bin_marker_quantiles'])['marker'].median().rename('bin_marker_quantiles_median').reset_index()\n",
    "df_quantiles = df.merge(quantiles, how='left', on=by+['bin_marker_quantiles'])\n",
    "\n",
    "df_quantiles['marker'] = df_quantiles['marker'].astype(float)\n",
    "df_quantiles['output'] = df_quantiles['output'].astype(float)\n",
    "\n",
    "# Population stats\n",
    "stat_list = [np.std, sp.stats.gmean, sp.stats.variation]\n",
    "grouped = df_quantiles.groupby(by=by)\n",
    "stats = grouped[['marker','output']].agg(stat_list).reset_index().dropna()\n",
    "\n",
    "# Rename columns as 'col_stat'\n",
    "stats.columns = stats.columns.map(lambda i: base.rename_multilevel_cols(i))\n",
    "stats['count'] = grouped['output'].count().reset_index()['output']\n",
    "stats = stats.merge(metadata, how='left', on='construct')\n",
    "display(stats)\n",
    "\n",
    "# Quantile stats & slope\n",
    "df_quantiles['bin_marker_quantiles_median_log'] = df_quantiles['bin_marker_quantiles_median'].apply(np.log10)\n",
    "df_quantiles['output_log'] = df_quantiles['output'].apply(np.log10)\n",
    "\n",
    "stat_list = [sp.stats.gmean, ]#sp.stats.gstd, sp.stats.variation]\n",
    "grouped = df_quantiles.groupby(by=by+['bin_marker_quantiles_median'])\n",
    "stats_quantiles = grouped[['marker','output']].agg(stat_list).reset_index().dropna()\n",
    "\n",
    "# Rename columns as 'col_stat'\n",
    "stats_quantiles.columns = stats_quantiles.columns.map(lambda i: base.rename_multilevel_cols(i))\n",
    "stats_quantiles['count'] = grouped['output'].count().reset_index()['output']\n",
    "stats_quantiles = stats_quantiles.merge(metadata, how='left', on='construct')\n",
    "\n",
    "stats_quantiles['bin_marker_quantiles_median_log'] = stats_quantiles['bin_marker_quantiles_median'].apply(np.log10)\n",
    "stats_quantiles['output_gmean_log'] = stats_quantiles['output_gmean'].apply(np.log10)\n",
    "\n",
    "# Compute slope for all constructs\n",
    "def get_slope(df):\n",
    "    slope, intercept, r_value, p_value, stderr = sp.stats.linregress(df['bin_marker_quantiles_median_log'], df['output_gmean_log'])\n",
    "    result = pd.DataFrame(columns=['slope', 'intercept_log', 'r_value', 'p_value', 'stderr'])\n",
    "    result.loc[len(result.index)] = [slope, intercept, r_value, p_value, stderr]\n",
    "    return result\n",
    "\n",
    "fits = stats_quantiles.groupby(by)[stats_quantiles.columns].apply(get_slope).reset_index()\n",
    "fits['intercept'] = fits['intercept_log'].apply(lambda x: 10**x)\n",
    "fits = fits.merge(metadata, how='left', on='construct')\n",
    "display(fits)"
   ]
  },
  {
   "cell_type": "code",
   "execution_count": null,
   "metadata": {},
   "outputs": [],
   "source": [
    "# Visualize histograms for each biorep\n",
    "plot_df = data[data['group'].isin(['controller','base'])]\n",
    "g = sns.displot(data=plot_df, x='marker', hue='construct', palette=designs_palette, kind='kde',\n",
    "                row='virus_dilution', col='exp', log_scale=True, fill=False, common_norm=False,\n",
    "                height=2, facet_kws=dict(margin_titles=True))\n",
    "g.figure.savefig(rd.outfile(output_path/(f'hist_marker.svg')), bbox_inches='tight')"
   ]
  },
  {
   "cell_type": "code",
   "execution_count": null,
   "metadata": {},
   "outputs": [],
   "source": [
    "plot_df = df[df['group'].isin(['controller','base'])]\n",
    "g = sns.displot(data=plot_df, x='output', hue='construct', palette=designs_palette, kind='kde',\n",
    "                row='virus_dilution', col='exp', log_scale=True, fill=False, common_norm=False,\n",
    "                height=2, facet_kws=dict(margin_titles=True))\n",
    "g.figure.savefig(rd.outfile(output_path/(f'hist_output.svg')), bbox_inches='tight')"
   ]
  },
  {
   "cell_type": "code",
   "execution_count": null,
   "metadata": {},
   "outputs": [],
   "source": [
    "fig, axes = plt.subplots(2,3, gridspec_kw=dict(wspace=0.5))\n",
    "plot_df = stats[stats['group'].isin(['controller','base']) & (stats['dox']==1000) & (stats['virus_dilution']==1)]\n",
    "plot_df2 = fits[fits['group'].isin(['controller','base']) & (fits['dox']==1000) & (fits['virus_dilution']==1)]\n",
    "for i, (name, group) in enumerate(plot_df.groupby('cell')):\n",
    "    ax = axes[i,0]\n",
    "    sns.stripplot(data=group, x='design', y='output_gmean', ax=ax, hue='construct',\n",
    "                  palette=designs_palette, legend=False,)\n",
    "    ax.set(yscale='log')\n",
    "\n",
    "    ax = axes[i,1]\n",
    "    sns.stripplot(data=group, x='design', y='output_std', ax=ax, hue='construct',\n",
    "                  palette=designs_palette, legend=False,)\n",
    "    ax.set(yscale='log')\n",
    "\n",
    "for i, (name, group) in enumerate(plot_df2.groupby('cell')):\n",
    "    ax = axes[i,2]\n",
    "    sns.stripplot(data=group, x='design', y='slope', ax=ax, hue='construct',\n",
    "                  palette=designs_palette, legend=False,)\n",
    "    #ax.set(ylin='log')\n",
    "\n",
    "for ax in axes.flatten():\n",
    "    sns.despine(ax=ax)"
   ]
  },
  {
   "cell_type": "markdown",
   "metadata": {},
   "source": [
    "Plot titrations"
   ]
  },
  {
   "cell_type": "code",
   "execution_count": null,
   "metadata": {},
   "outputs": [],
   "source": [
    "plot_df = stats_quantiles[stats_quantiles['group'].isin(['controller','base']) & (stats_quantiles['dox']==1000) \n",
    "                          & ~((stats_quantiles['biorep']<4) & (stats_quantiles['design']==3))]\n",
    "g = sns.FacetGrid(data=plot_df, hue='virus_dilution', palette='viridis', row='cell', col='construct', \n",
    "                  margin_titles=True, height=3)\n",
    "g.map(sns.scatterplot, 'bin_marker_quantiles_median', 'output_gmean')\n",
    "for ax in g.axes.flatten():\n",
    "    ax.set_xscale('log')\n",
    "    ax.set_yscale('log')\n",
    "g.figure.savefig(rd.outfile(output_path/(f'scatter_virus-dilutions.svg')), bbox_inches='tight')"
   ]
  },
  {
   "cell_type": "markdown",
   "metadata": {},
   "source": [
    "Lenti infections do not differ in output expression as a function of titer. It seems that titer changes fraction of infected cells but does not escalate to multiple infections per cell."
   ]
  },
  {
   "cell_type": "code",
   "execution_count": null,
   "metadata": {},
   "outputs": [],
   "source": []
  }
 ],
 "metadata": {
  "kernelspec": {
   "display_name": "env",
   "language": "python",
   "name": "python3"
  },
  "language_info": {
   "codemirror_mode": {
    "name": "ipython",
    "version": 3
   },
   "file_extension": ".py",
   "mimetype": "text/x-python",
   "name": "python",
   "nbconvert_exporter": "python",
   "pygments_lexer": "ipython3"
  }
 },
 "nbformat": 4,
 "nbformat_minor": 2
}
