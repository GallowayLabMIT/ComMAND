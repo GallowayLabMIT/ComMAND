{
 "cells": [
  {
   "cell_type": "code",
   "execution_count": null,
   "metadata": {},
   "outputs": [],
   "source": [
    "import base\n",
    "import matplotlib.pyplot as plt\n",
    "import numpy as np\n",
    "import pandas as pd\n",
    "import rushd as rd\n",
    "import scipy as sp\n",
    "import seaborn as sns\n",
    "import sklearn.metrics\n",
    "import itertools\n",
    "\n",
    "# enables concurrent editing of base.py\n",
    "from importlib import reload\n",
    "reload(base)\n",
    "\n",
    "sns.set_style('ticks')\n",
    "sns.set_context('talk',rc={'font.family': 'sans-serif', 'font.sans-serif':['Helvetica Neue']})"
   ]
  },
  {
   "cell_type": "code",
   "execution_count": null,
   "metadata": {},
   "outputs": [],
   "source": [
    "base_path = rd.datadir/'instruments'/'data'/'attune'/'Emma'\n",
    "\n",
    "exp66_path = base_path/'2024.06.20_EXP66_rep_1'/'data_singlets'\n",
    "\n",
    "plates = pd.DataFrame({\n",
    "    'data_path': [exp66_path],\n",
    "    'yaml_path': [exp66_path/'wells.yaml']\n",
    "})\n",
    "\n",
    "output_path = rd.rootdir/'output'/'orthogonal-circuits'\n",
    "cache_path = rd.rootdir/'output'/'orthogonal-circuits'/'data.gzip'\n",
    "\n",
    "metadata_keys = set()\n",
    "for p in plates['yaml_path'].unique():\n",
    "    print(p)\n",
    "    rd.plot.plot_well_metadata(p)\n",
    "    metadata_keys.update(rd.flow.load_well_metadata(p).keys())\n",
    "display(metadata_keys)"
   ]
  },
  {
   "cell_type": "code",
   "execution_count": null,
   "metadata": {},
   "outputs": [],
   "source": [
    "# Load data\n",
    "data = pd.DataFrame()\n",
    "if cache_path.is_file(): data = pd.read_parquet(cache_path)\n",
    "else: \n",
    "    channel_list = ['mRuby2-A','FSC-A','SSC-A','mGL-A','iRFP-A']\n",
    "    data = rd.flow.load_groups_with_metadata(plates, columns=channel_list)\n",
    "\n",
    "    # Remove negative channel values\n",
    "    for c in channel_list: data = data[data[c]>0]\n",
    "    \n",
    "    data.dropna(inplace=True)\n",
    "    data.to_parquet(rd.outfile(cache_path))\n",
    "display(data)"
   ]
  },
  {
   "cell_type": "code",
   "execution_count": null,
   "metadata": {},
   "outputs": [],
   "source": [
    "iRFP_gate = data[data.control_cond == 'NT']['iRFP-A'].quantile(0.999)\n",
    "display(iRFP_gate)"
   ]
  },
  {
   "cell_type": "code",
   "execution_count": null,
   "metadata": {},
   "outputs": [],
   "source": [
    "data_gated = data.loc[(data['iRFP-A']>iRFP_gate)&(data['control_cond']=='na')]\n",
    "display(data_gated)"
   ]
  },
  {
   "cell_type": "code",
   "execution_count": null,
   "metadata": {},
   "outputs": [],
   "source": [
    "for promoter_cond, group in data_gated.groupby('promoter_cond'):\n",
    "\n",
    "    group = group.sample(n=20000, random_state=1)\n",
    "\n",
    "    # definitions for the axes\n",
    "    left, width = 0.1, 0.65\n",
    "    bottom, height = 0.1, 0.65\n",
    "    spacing = 0.005\n",
    "\n",
    "    rect_scatter = [left, bottom, width, height]\n",
    "    rect_histx = [left, bottom + height + spacing, width, 0.2]\n",
    "    rect_histy = [left + width + spacing, bottom, 0.2, height]\n",
    "\n",
    "    # Set up figure\n",
    "    fig = plt.figure(figsize=(7, 7))\n",
    "    ax_scatter = plt.axes(rect_scatter)\n",
    "    ax_scatter.tick_params(direction='in', top=True, right=True)\n",
    "    ax_histx = plt.axes(rect_histx)\n",
    "    ax_histx.set_axis_off()\n",
    "    ax_histy = plt.axes(rect_histy)\n",
    "    ax_histy.set_axis_off()\n",
    "\n",
    "    # Set limits\n",
    "    xlim = (1*10**1, 1*10**7)\n",
    "    ylim = (1*10**1, 1*10**5)\n",
    "    ax_scatter.set_xlim(xlim)\n",
    "    ax_scatter.set_ylim(ylim)\n",
    "    ax_histx.set_xlim(xlim)\n",
    "    ax_histy.set_ylim(ylim)\n",
    "\n",
    "    # Make density plots\n",
    "    g = sns.kdeplot(ax=ax_scatter, data=group, y = 'mRuby2-A', x = 'mGL-A', hue='circuit_cond',  log_scale=True, common_norm=False, hue_order = ['base-base','T-NT','NT-T','T-T'],\n",
    "                alpha=0.7, fill=False, legend=True)\n",
    "    \n",
    "    sns.move_legend(g,\"upper left\", bbox_to_anchor=(1.1, 1),frameon=False)\n",
    "\n",
    "    # Plot histograms\n",
    "    sns.kdeplot(ax=ax_histx, data=group, x = 'mGL-A', hue='circuit_cond',hue_order = ['base-base','T-NT','NT-T','T-T'],\n",
    "                log_scale=True, common_norm=False,\n",
    "                alpha=0.1, fill=True, legend=False)\n",
    "    sns.kdeplot(ax=ax_histy, data=group,  y = 'mRuby2-A', hue='circuit_cond',hue_order = ['base-base','T-NT','NT-T','T-T'],\n",
    "                log_scale=True, common_norm=False,\n",
    "                alpha=0.1, fill=True, legend=False)\n",
    "\n",
    "    # Add in gating lines\n",
    "    #ax_scatter.axvline(comp_AF514_gate, 0, 1, color='black')\n",
    "    #ax_scatter.axhline(mRuby_gate, 0, 1, color='black')\n",
    "\n",
    "    # Title\n",
    "    fig.suptitle(f'Promoter pair: {promoter_cond}')\n",
    "    # Misc plotting stuff\n",
    "    fig.tight_layout()  # Helps improve white spacing\n",
    "    fig.savefig(rd.outfile(output_path/(f'{promoter_cond}.svg')), bbox_inches='tight')\n",
    "    fig.savefig(rd.outfile(output_path/(f'{promoter_cond}.pdf')), bbox_inches='tight')\n",
    "    plt.show()\n",
    "    fig.clf()"
   ]
  },
  {
   "cell_type": "code",
   "execution_count": null,
   "metadata": {},
   "outputs": [],
   "source": [
    "for circuit_cond, group in data_gated.groupby('circuit_cond'):\n",
    "\n",
    "    group = group.sample(n=20000, random_state=1)\n",
    "\n",
    "    # definitions for the axes\n",
    "    left, width = 0.1, 0.65\n",
    "    bottom, height = 0.1, 0.65\n",
    "    spacing = 0.005\n",
    "\n",
    "    rect_scatter = [left, bottom, width, height]\n",
    "    rect_histx = [left, bottom + height + spacing, width, 0.2]\n",
    "    rect_histy = [left + width + spacing, bottom, 0.2, height]\n",
    "\n",
    "    # Set up figure\n",
    "    fig = plt.figure(figsize=(7, 7))\n",
    "    ax_scatter = plt.axes(rect_scatter)\n",
    "    ax_scatter.tick_params(direction='in', top=True, right=True)\n",
    "    ax_histx = plt.axes(rect_histx)\n",
    "    ax_histx.set_axis_off()\n",
    "    ax_histy = plt.axes(rect_histy)\n",
    "    ax_histy.set_axis_off()\n",
    "\n",
    "    # Set limits\n",
    "    xlim = (1*10**1, 1*10**7)\n",
    "    ylim = (1*10**1, 1*10**5)\n",
    "    ax_scatter.set_xlim(xlim)\n",
    "    ax_scatter.set_ylim(ylim)\n",
    "    ax_histx.set_xlim(xlim)\n",
    "    ax_histy.set_ylim(ylim)\n",
    "\n",
    "    # Make density plots\n",
    "    g = sns.kdeplot(ax=ax_scatter, data=group, y = 'mRuby2-A', x = 'mGL-A', hue='promoter_cond',  log_scale=True, common_norm=False, hue_order = ['hPGK-hPGK','EF1a-hPGK','hPGK-EF1a','EF1a-EF1a'],\n",
    "                alpha=0.7, fill=False, legend=True)\n",
    "    \n",
    "    sns.move_legend(g,\"upper left\", bbox_to_anchor=(1.1, 1),frameon=False)\n",
    "\n",
    "    # Plot histograms\n",
    "    sns.kdeplot(ax=ax_histx, data=group, x = 'mGL-A', hue='promoter_cond',hue_order = ['hPGK-hPGK','EF1a-hPGK','hPGK-EF1a','EF1a-EF1a'],\n",
    "                log_scale=True, common_norm=False,\n",
    "                alpha=0.1, fill=True, legend=False)\n",
    "    sns.kdeplot(ax=ax_histy, data=group,  y = 'mRuby2-A', hue='promoter_cond',hue_order = ['hPGK-hPGK','EF1a-hPGK','hPGK-EF1a','EF1a-EF1a'],\n",
    "                log_scale=True, common_norm=False,\n",
    "                alpha=0.1, fill=True, legend=False)\n",
    "\n",
    "    # Add in gating lines\n",
    "    #ax_scatter.axvline(comp_AF514_gate, 0, 1, color='black')\n",
    "    #ax_scatter.axhline(mRuby_gate, 0, 1, color='black')\n",
    "\n",
    "    # Title\n",
    "    fig.suptitle(f'Circuit: {circuit_cond}')\n",
    "    # Misc plotting stuff\n",
    "    fig.tight_layout()  # Helps improve white spacing\n",
    "    fig.savefig(rd.outfile(output_path/(f'{circuit_cond}.svg')), bbox_inches='tight')\n",
    "    fig.savefig(rd.outfile(output_path/(f'{circuit_cond}.pdf')), bbox_inches='tight')\n",
    "    plt.show()\n",
    "    fig.clf()"
   ]
  },
  {
   "cell_type": "markdown",
   "metadata": {},
   "source": [
    "## Mutual information analysis"
   ]
  },
  {
   "cell_type": "code",
   "execution_count": null,
   "metadata": {},
   "outputs": [],
   "source": [
    "def mutual_information(df, n_bins_per_axis=20):\n",
    "    contingency = np.histogram2d(np.log(df['mGL-A']), np.log(df['mRuby2-A']), bins=n_bins_per_axis)[0]\n",
    "    return sklearn.metrics.mutual_info_score(None, None, contingency=contingency)\n",
    "def spearman_r(df):\n",
    "    return sp.stats.spearmanr(df['mGL-A'], df['mRuby2-A']).statistic\n",
    "def summary_stats(df):\n",
    "    return pd.DataFrame({\n",
    "        \"mutual_information\": mutual_information(df),\n",
    "        \"spearman_r\": spearman_r(df)\n",
    "    }, index=[0])"
   ]
  },
  {
   "cell_type": "code",
   "execution_count": null,
   "metadata": {},
   "outputs": [],
   "source": [
    "summary_df = data_gated.groupby(['promoter_cond', 'circuit_cond']).apply(summary_stats, include_groups=False).reset_index()\n",
    "summary_df['combo_cond'] = summary_df.promoter_cond + '_' + summary_df.circuit_cond"
   ]
  },
  {
   "cell_type": "code",
   "execution_count": null,
   "metadata": {},
   "outputs": [],
   "source": [
    "list(itertools.repeat(['a','b','c'], times=4))"
   ]
  },
  {
   "cell_type": "code",
   "execution_count": null,
   "metadata": {},
   "outputs": [],
   "source": [
    "condition_order"
   ]
  },
  {
   "cell_type": "code",
   "execution_count": null,
   "metadata": {},
   "outputs": [],
   "source": [
    "base.group_palette"
   ]
  },
  {
   "cell_type": "code",
   "execution_count": null,
   "metadata": {},
   "outputs": [],
   "source": [
    "condition_order = [f'{x}_{y}' for x,y in itertools.product(['hPGK-hPGK', 'hPGK-EF1a', 'EF1a-hPGK', 'EF1a-EF1a'], ['base-base', 'NT-T', 'T-NT', 'T-T'])]\n",
    "ticklabel_df = pd.DataFrame({\n",
    "    'combo_cond': condition_order,\n",
    "    'promoter_cond': [x for cond in ['P-P', 'P-E', 'E-P', 'E-E'] for x in ([cond] * 4)],\n",
    "    'circuit_cond': ['base', 'NT-T', 'T-NT', 'T-T'] * 4,\n",
    "})\n",
    "for param in ['mutual_information', 'spearman_r']:\n",
    "    plt.figure(figsize=(15,5))\n",
    "    sns.stripplot(summary_df, x='combo_cond', y=param, order=condition_order, hue='circuit_cond', palette={'base-base': 'k', 'NT-T': (base.colors['teal'], 0.5), 'T-NT': (base.colors['teal'], 0.5), 'T-T': base.colors['teal']}, legend=None)\n",
    "    rd.plot.generate_xticklabels(ticklabel_df, 'combo_cond', ['promoter_cond', 'circuit_cond'])\n",
    "    plt.axvspan(-0.5,3.5, color='gray', alpha=0.2, ec=None)\n",
    "    plt.axvspan(7.5,11.5, color='gray', alpha=0.2, ec=None)\n",
    "    plt.xlim(-0.2,15.2)\n",
    "    plt.show()"
   ]
  },
  {
   "cell_type": "code",
   "execution_count": null,
   "metadata": {},
   "outputs": [],
   "source": [
    "sns.kdeplot(data_gated[(data_gated['circuit_cond'] == 'T-NT') & (data_gated['promoter_cond'] == 'EF1a-EF1a')], x='mGL-A', log_scale=True)\n",
    "sns.kdeplot(data_gated[(data_gated['circuit_cond'] == 'T-T') & (data_gated['promoter_cond'] == 'EF1a-EF1a')], x='mGL-A', log_scale=True)\n",
    "plt.show()\n",
    "sns.kdeplot(data_gated[(data_gated['circuit_cond'] == 'T-NT') & (data_gated['promoter_cond'] == 'EF1a-EF1a')], x='mRuby2-A', log_scale=True)\n",
    "sns.kdeplot(data_gated[(data_gated['circuit_cond'] == 'T-T') & (data_gated['promoter_cond'] == 'EF1a-EF1a')], x='mRuby2-A', log_scale=True)\n",
    "plt.show()"
   ]
  }
 ],
 "metadata": {
  "kernelspec": {
   "display_name": "env",
   "language": "python",
   "name": "python3"
  },
  "language_info": {
   "codemirror_mode": {
    "name": "ipython",
    "version": 3
   },
   "file_extension": ".py",
   "mimetype": "text/x-python",
   "name": "python",
   "nbconvert_exporter": "python",
   "pygments_lexer": "ipython3"
  }
 },
 "nbformat": 4,
 "nbformat_minor": 2
}
