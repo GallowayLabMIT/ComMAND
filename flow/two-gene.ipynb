{
 "cells": [
  {
   "cell_type": "code",
   "execution_count": null,
   "metadata": {},
   "outputs": [],
   "source": [
    "import base\n",
    "import matplotlib.pyplot as plt\n",
    "import numpy as np\n",
    "import pandas as pd\n",
    "import rushd as rd\n",
    "import scipy as sp\n",
    "import seaborn as sns\n",
    "\n",
    "# enables concurrent editing of base.py\n",
    "from importlib import reload\n",
    "reload(base)\n",
    "\n",
    "sns.set_style('ticks')\n",
    "sns.set_context('talk',rc={'font.family': 'sans-serif', 'font.sans-serif':['Helvetica Neue']})"
   ]
  },
  {
   "cell_type": "markdown",
   "metadata": {},
   "source": [
    "## Setup\n",
    "\n",
    "- Load data\n",
    "- Add metadata\n",
    "- Draw gates\n",
    "- Gate transfected cells\n",
    "\n",
    "Result from this section: DataFrame `df` representing transfected cells."
   ]
  },
  {
   "cell_type": "markdown",
   "metadata": {},
   "source": [
    "Load exp93, which compares single-transcript, dual-transcript, and dual-vector implementations"
   ]
  },
  {
   "cell_type": "code",
   "execution_count": null,
   "metadata": {},
   "outputs": [],
   "source": [
    "base_path = rd.datadir/'instruments'/'data'/'attune'/'kasey'\n",
    "exp93_path = base_path/'2024.04.14_exp93'/'export'\n",
    "\n",
    "plates = pd.DataFrame({\n",
    "    'data_path': [exp93_path/'plate1', exp93_path/'plate2', exp93_path/'plate3',],\n",
    "    'yaml_path': [exp93_path/'exp93_wells.yaml']*3,\n",
    "    'biorep': [1, 2, 3],\n",
    "    'exp': ['exp93']*3,\n",
    "})\n",
    "\n",
    "output_path = rd.rootdir/'output'/'two-gene'\n",
    "cache_path = rd.rootdir/'output'/'two-gene'/'data.gzip'\n",
    "\n",
    "metadata_keys = set()\n",
    "for p in plates['yaml_path'].unique():\n",
    "    rd.plot.plot_well_metadata(p)\n",
    "    metadata_keys.update(rd.flow.load_well_metadata(p).keys())\n",
    "display(metadata_keys)"
   ]
  },
  {
   "cell_type": "code",
   "execution_count": null,
   "metadata": {},
   "outputs": [],
   "source": [
    "# Load data\n",
    "data = pd.DataFrame()\n",
    "if cache_path.is_file(): data = pd.read_parquet(cache_path)\n",
    "else: \n",
    "    channel_list = ['mRuby2-A','FSC-A','SSC-A','SNAP-647-A','mGL-A']\n",
    "    data = rd.flow.load_groups_with_metadata(plates, columns=channel_list)\n",
    "\n",
    "    # Remove negative channel values\n",
    "    for c in channel_list: data = data[data[c]>0]\n",
    "    \n",
    "    data.dropna(inplace=True)\n",
    "    data.to_parquet(rd.outfile(cache_path))\n",
    "display(data)"
   ]
  },
  {
   "cell_type": "code",
   "execution_count": null,
   "metadata": {},
   "outputs": [],
   "source": [
    "# Add metadata for constructs\n",
    "metadata = base.get_metadata(rd.datadir/'projects'/'miR-iFFL'/'plasmids'/'construct-metadata.xlsx')\n",
    "data = data.merge(metadata, how='left', on='construct')\n",
    "\n",
    "# Create dicts to specify colors/markers\n",
    "metadata_dict = metadata.set_index('construct').to_dict('dict')\n",
    "construct_palette = metadata_dict['color']\n",
    "construct_markers = metadata_dict['markers']\n",
    "\n",
    "# Rename far-red channel\n",
    "data.rename(columns={'SNAP-647-A': 'iRFP-A'}, inplace=True)\n",
    "display(data)"
   ]
  },
  {
   "cell_type": "code",
   "execution_count": null,
   "metadata": {},
   "outputs": [],
   "source": [
    "# Add metadata for second construct\n",
    "metadata_construct2 = pd.read_excel(rd.datadir/'projects'/'miR-iFFL'/'plasmids'/'construct2-metadata.xlsx')\n",
    "display(metadata_construct2)\n",
    "data = data.merge(metadata_construct2, how='left', on='construct2')\n",
    "display(data)"
   ]
  },
  {
   "cell_type": "code",
   "execution_count": null,
   "metadata": {},
   "outputs": [],
   "source": [
    "data['condition'] = data['construct'] + '_' + data['construct2']"
   ]
  },
  {
   "cell_type": "markdown",
   "metadata": {},
   "source": [
    "Draw gates based on untransfected population, then gate transfected cells"
   ]
  },
  {
   "cell_type": "code",
   "execution_count": null,
   "metadata": {},
   "outputs": [],
   "source": [
    "gates = pd.DataFrame()\n",
    "channel_list = ['mGL-A', 'mRuby2-A']\n",
    "for channel in channel_list:\n",
    "    gates[channel] = data[data['construct']=='GEEC555'].groupby(['exp'])[channel].apply(lambda x: x.quantile(0.999))\n",
    "gates.reset_index(inplace=True)\n",
    "\n",
    "# Indicate which channels are relevant for each experiment\n",
    "gates['marker'] = 'iRFP-A'\n",
    "gates['output'] = 'mRuby2-A'\n",
    "\n",
    "# Add missing iRFP gate\n",
    "gate_iRFP = 2.5e2\n",
    "g = sns.displot(data=data, x='iRFP-A', col='biorep', hue='construct', palette=construct_palette,\n",
    "                 kind='kde', fill=False, legend=False, common_norm=True, log_scale=True)\n",
    "for name, ax in g.axes_dict.items():\n",
    "    ax.axvline(gate_iRFP, color='black')\n",
    "g.figure.savefig(rd.outfile(output_path/(f'hist_gate_iRFP.svg')), bbox_inches='tight')\n",
    "\n",
    "gates['iRFP-A'] = [gate_iRFP]\n",
    "\n",
    "display(gates)"
   ]
  },
  {
   "cell_type": "markdown",
   "metadata": {},
   "source": [
    "Gate data per experiment based on transfection marker expression"
   ]
  },
  {
   "cell_type": "code",
   "execution_count": null,
   "metadata": {},
   "outputs": [],
   "source": [
    "data = data.groupby('exp')[data.columns].apply(lambda x: base.gate_data(x,gates))\n",
    "data.reset_index(inplace=True, drop=True)\n",
    "max = 1e6\n",
    "df = data[(data['expressing']) & (data['output']<max)]\n",
    "display(df)"
   ]
  },
  {
   "cell_type": "code",
   "execution_count": null,
   "metadata": {},
   "outputs": [],
   "source": [
    "df['marker'] = df['marker'].astype(float)\n",
    "df['output'] = df['output'].astype(float)\n",
    "\n",
    "# Group and compute stats\n",
    "stat_list = [np.mean, np.std, sp.stats.gmean, sp.stats.gstd, sp.stats.variation]\n",
    "grouped = df.groupby(by=['condition','construct','construct2','biorep','exp'])\n",
    "stats = grouped[['marker','output']].agg(stat_list).reset_index().dropna()\n",
    "\n",
    "# Rename columns as 'col_stat'\n",
    "stats.columns = stats.columns.map(lambda i: base.rename_multilevel_cols(i))\n",
    "stats['count'] = grouped['marker'].count().reset_index()['marker']\n",
    "stats = stats.merge(metadata, how='left', on='construct')\n",
    "stats.sort_values(['design','ts_kind','ts_num'], inplace=True)\n",
    "stats = stats.merge(metadata_construct2, how='left', on='construct2')\n",
    "\n",
    "display(stats)\n",
    "\n",
    "metadata['TS'] = metadata['ts_kind']\n",
    "stat_name = {'output_gmean': 'Geometric\\nmean', 'output_std': 'Standard\\ndeviation', 'output_variation': 'Coefficient\\nof variation'}"
   ]
  },
  {
   "cell_type": "code",
   "execution_count": null,
   "metadata": {},
   "outputs": [],
   "source": [
    "# Bin by transfection marker\n",
    "min_count = 100\n",
    "df['bin_marker'] = df.groupby(['condition','construct','construct2','exp'])['marker'].transform(lambda x: pd.cut(x, np.logspace(2,6,15)))\n",
    "df['remove_bin'] = df.groupby(['condition','construct','construct2','exp','bin_marker'])['bin_marker'].transform(lambda x: x.count() < min_count)\n",
    "df_binned = df[~df['remove_bin']].copy()\n",
    "df_binned['marker'] = df_binned['marker'].astype(float)\n",
    "df_binned['output'] = df_binned['output'].astype(float)\n",
    "\n",
    "# Group and compute stats\n",
    "stat_list = [np.mean, np.std, sp.stats.gmean, sp.stats.gstd, sp.stats.variation]\n",
    "grouped = df_binned.groupby(by=['condition','construct','construct2','biorep','exp','bin_marker'])\n",
    "stats_bin = grouped[['marker','output']].agg(stat_list).reset_index().dropna()\n",
    "\n",
    "# Rename columns as 'col_stat'\n",
    "stats_bin.columns = stats_bin.columns.map(lambda i: base.rename_multilevel_cols(i))\n",
    "stats_bin['count'] = grouped['marker'].count().reset_index()['marker']\n",
    "stats_bin = stats_bin.merge(metadata, how='left', on='construct')\n",
    "\n",
    "# Compute mean/median on bin span\n",
    "df_binned['bin_marker_mean'] = df_binned['bin_marker'].map(lambda x: np.mean([x.left, x.right]))\n",
    "df_binned['bin_marker_median'] = df_binned['bin_marker'].map(lambda x: np.median([x.left, x.right]))\n",
    "stats_bin['bin_marker_mean'] = stats_bin['bin_marker'].map(lambda x: np.mean([x.left, x.right]))\n",
    "stats_bin['bin_marker_median'] = stats_bin['bin_marker'].map(lambda x: np.median([x.left, x.right]))\n",
    "\n",
    "display(stats_bin)"
   ]
  },
  {
   "cell_type": "code",
   "execution_count": null,
   "metadata": {},
   "outputs": [],
   "source": [
    "# Combine bioreps\n",
    "df['remove_bin_combined'] = df.groupby(['condition','construct','construct2','bin_marker'])['bin_marker'].transform(lambda x: x.count() < min_count)\n",
    "df_binned_combined = df[~df['remove_bin_combined']].copy()\n",
    "\n",
    "stat_list = [np.mean, np.std, sp.stats.gmean, sp.stats.gstd, sp.stats.variation]\n",
    "grouped = df_binned_combined.groupby(by=['condition','construct','construct2','bin_marker'])\n",
    "stats_bin_combined = grouped[['marker','output']].agg(stat_list).reset_index().dropna()\n",
    "\n",
    "stats_bin_combined.columns = stats_bin_combined.columns.map(lambda i: base.rename_multilevel_cols(i))\n",
    "stats_bin_combined['count'] = grouped['marker'].count().reset_index()['marker']\n",
    "stats_bin_combined = stats_bin_combined.merge(metadata, how='left', on='construct')\n",
    "stats_bin_combined = stats_bin_combined.merge(metadata_construct2, how='left', on='construct2')\n",
    "\n",
    "df_binned_combined['bin_marker_mean'] = df_binned_combined['bin_marker'].map(lambda x: np.mean([x.left, x.right]))\n",
    "df_binned_combined['bin_marker_median'] = df_binned_combined['bin_marker'].map(lambda x: np.median([x.left, x.right]))\n",
    "stats_bin_combined['bin_marker_mean'] = stats_bin_combined['bin_marker'].map(lambda x: np.mean([x.left, x.right]))\n",
    "stats_bin_combined['bin_marker_median'] = stats_bin_combined['bin_marker'].map(lambda x: np.median([x.left, x.right]))"
   ]
  },
  {
   "cell_type": "code",
   "execution_count": null,
   "metadata": {},
   "outputs": [],
   "source": [
    "# Normalize output to gmean of output in smallest bin, and normalize marker bin by smallest bin\n",
    "def normalize_output(df):\n",
    "    df = df.copy()\n",
    "    normalizer = sp.stats.gmean(df.loc[(df['bin_marker_median']==df['bin_marker_median'].min()), 'output'])\n",
    "    df['output_norm'] = df['output'].astype(float) / normalizer\n",
    "    df['bin_marker_median_norm'] = df['bin_marker_median'].astype(float) / df['bin_marker_median'].min()\n",
    "    return df\n",
    "\n",
    "by = ['condition','construct','construct2','biorep','exp']\n",
    "df_binned = df_binned.groupby(by)[df_binned.columns].apply(normalize_output).reset_index(drop=True)\n",
    "display(df_binned)\n",
    "\n",
    "# Cache data\n",
    "df_binned.loc[:, ~df_binned.columns.isin(['color','bin_marker'])].to_parquet(rd.outfile(output_path/('df_binned.gzip')))"
   ]
  },
  {
   "cell_type": "code",
   "execution_count": null,
   "metadata": {},
   "outputs": [],
   "source": [
    "plot_df = df_binned[~(df_binned['construct2'].isin(['none','JX00']))]\n",
    "g = sns.relplot(data=plot_df, row='biorep', col='condition', facet_kws=dict(sharex=True, sharey=True, margin_titles=True,), kind='line',\n",
    "                    height=3, aspect=1.3, x='bin_marker_median', y='mGL-A', hue='construct',\n",
    "                    palette=construct_palette, legend=False, dashes=False, style='construct', markers=construct_markers,\n",
    "                    estimator=sp.stats.gmean, errorbar=lambda x: (sp.stats.gmean(x) / sp.stats.gstd(x), sp.stats.gmean(x) * sp.stats.gstd(x)))\n",
    "g.set(xscale='log', yscale='log',)\n",
    "sns.despine()\n",
    "for name, ax in g.axes_dict.items(): ax.grid()\n",
    "g.figure.savefig(rd.outfile(output_path/(f'line_iRFP-mGL.svg')), bbox_inches='tight')"
   ]
  },
  {
   "cell_type": "markdown",
   "metadata": {},
   "source": [
    "mGL expression tracks closely with iRFP expression, indicating that the transfection marker can be used as a proxy for miR amount. (As expected for co-transfections)"
   ]
  },
  {
   "cell_type": "code",
   "execution_count": null,
   "metadata": {},
   "outputs": [],
   "source": [
    "plot_df = df_binned[~(df_binned['construct2'].isin(['none','JX00']))]\n",
    "g = sns.relplot(data=plot_df, row='biorep', col='group', facet_kws=dict(sharex=True, sharey=True, margin_titles=True,), kind='line',\n",
    "                    height=3, aspect=1.3, x='bin_marker_median', y='output', hue='construct',\n",
    "                    palette=construct_palette, legend=False, dashes=False, style='construct', markers=construct_markers,\n",
    "                    estimator=sp.stats.gmean, errorbar=lambda x: (sp.stats.gmean(x) / sp.stats.gstd(x), sp.stats.gmean(x) * sp.stats.gstd(x)))\n",
    "g.set(xscale='log', yscale='log',)\n",
    "sns.despine()\n",
    "for name, ax in g.axes_dict.items(): ax.grid()\n",
    "g.figure.savefig(rd.outfile(output_path/(f'line_marker-output.svg')), bbox_inches='tight')"
   ]
  },
  {
   "cell_type": "code",
   "execution_count": null,
   "metadata": {},
   "outputs": [],
   "source": [
    "plot_df = df_binned[df_binned['biorep']==2]\n",
    "g = sns.relplot(data=plot_df, row='construct2', col='group', facet_kws=dict(sharex=True, sharey=True, margin_titles=True,), kind='line',\n",
    "                    height=3, aspect=1.3, x='bin_marker_median', y='output', hue='construct',\n",
    "                    palette=construct_palette, legend=False, dashes=False, style='construct', markers=construct_markers,\n",
    "                    estimator=sp.stats.gmean, errorbar=lambda x: (sp.stats.gmean(x) / sp.stats.gstd(x), sp.stats.gmean(x) * sp.stats.gstd(x)))\n",
    "g.set(xscale='log', yscale='log',)\n",
    "sns.despine()\n",
    "for name, ax in g.axes_dict.items(): ax.grid()\n",
    "g.figure.savefig(rd.outfile(output_path/(f'line_marker-output_biorep2.svg')), bbox_inches='tight')"
   ]
  },
  {
   "cell_type": "code",
   "execution_count": null,
   "metadata": {},
   "outputs": [],
   "source": [
    "plot_df = df_binned\n",
    "label = {'none': 'dual-transcript', 'RC239': 'single-transcript', 'RC227': 'dual-vector (EF1a)', 'JX00': 'dual-vector (U6)'}\n",
    "g = sns.relplot(data=plot_df, row='biorep', col='construct2', facet_kws=dict(sharex=True, sharey=True, margin_titles=True,), kind='line',\n",
    "                    height=4, aspect=1, x='bin_marker_median', y='output', hue='construct',\n",
    "                    palette=construct_palette, legend=False, dashes=False, style='construct', markers=construct_markers,\n",
    "                    estimator=sp.stats.gmean, errorbar=lambda x: (sp.stats.gmean(x) / sp.stats.gstd(x), sp.stats.gmean(x) * sp.stats.gstd(x)))\n",
    "g.set(xscale='log', yscale='log',)\n",
    "sns.despine()\n",
    "for (biorep, construct2), ax in g.axes_dict.items(): \n",
    "    ax.grid()\n",
    "    if biorep==1: ax.set(title=label[construct2])\n",
    "g.figure.savefig(rd.outfile(output_path/(f'line_marker-output_construct2.svg')), bbox_inches='tight')"
   ]
  },
  {
   "cell_type": "code",
   "execution_count": null,
   "metadata": {},
   "outputs": [],
   "source": [
    "plot_df = stats[stats['group']!='marker']\n",
    "plot_df.sort_values(['construct2', 'design','ts_kind'], inplace=True)\n",
    "stat_list = ['output_gmean', 'output_std', 'output_variation']\n",
    "fig, axes = plt.subplots(3,1, figsize=(12,12), gridspec_kw=dict(hspace=0.6))\n",
    "for i,stat in enumerate(stat_list):\n",
    "    ax = axes[i]\n",
    "    sns.scatterplot(data=plot_df, x='condition', y=stat, hue='construct', palette=construct_palette,\n",
    "                legend=False, s=100, ax=ax, style='construct', markers=construct_markers)\n",
    "    ax.set(xlabel='')\n",
    "    if stat != 'output_variation': ax.set(yscale='log')\n",
    "    else: ax.set(ylim=(0,ax.get_ylim()[1]))\n",
    "    rd.plot.generate_xticklabels(plot_df.drop_duplicates('condition'), 'condition', ['gene', 'ts_kind', 'ts_loc'], ax=ax)\n",
    "    sns.despine(ax=ax)\n",
    "\n",
    "fig.savefig(rd.outfile(output_path/(f'stat_controller.svg')), bbox_inches='tight')"
   ]
  },
  {
   "cell_type": "code",
   "execution_count": null,
   "metadata": {},
   "outputs": [],
   "source": []
  },
  {
   "cell_type": "code",
   "execution_count": null,
   "metadata": {},
   "outputs": [],
   "source": []
  }
 ],
 "metadata": {
  "kernelspec": {
   "display_name": "env",
   "language": "python",
   "name": "python3"
  },
  "language_info": {
   "codemirror_mode": {
    "name": "ipython",
    "version": 3
   },
   "file_extension": ".py",
   "mimetype": "text/x-python",
   "name": "python",
   "nbconvert_exporter": "python",
   "pygments_lexer": "ipython3"
  }
 },
 "nbformat": 4,
 "nbformat_minor": 2
}
