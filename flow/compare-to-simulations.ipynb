{
 "cells": [
  {
   "cell_type": "code",
   "execution_count": null,
   "metadata": {},
   "outputs": [],
   "source": [
    "import base\n",
    "import matplotlib\n",
    "import matplotlib.pyplot as plt\n",
    "import numpy as np\n",
    "import pandas as pd\n",
    "import rushd as rd\n",
    "import scipy as sp\n",
    "import seaborn as sns\n",
    "\n",
    "# enables concurrent editing of base.py\n",
    "from importlib import reload\n",
    "reload(base)"
   ]
  },
  {
   "cell_type": "markdown",
   "metadata": {},
   "source": [
    "### Load data"
   ]
  },
  {
   "cell_type": "markdown",
   "metadata": {},
   "source": [
    "Circuit tuning data (`data`)"
   ]
  },
  {
   "cell_type": "code",
   "execution_count": null,
   "metadata": {},
   "outputs": [],
   "source": [
    "base_path = rd.datadir/'instruments'/'data'/'attune'/'kasey'\n",
    "\n",
    "exp90_path = base_path/'2024.03.31_exp90'/'export'\n",
    "exp90_2_path = base_path/'2024.04.02_exp90.2'/'export'\n",
    "exp90_3_path = base_path/'2024.04.02_exp90.3'/'export'\n",
    "exp90_4_path = base_path/'2024.04.05_exp90.4'/'export'\n",
    "exp91_path = base_path/'2024.04.08_exp91'/'export'\n",
    "exp92_path = base_path/'2024.04.12_exp92'/'export'\n",
    "exp_elp60_path = rd.datadir/'instruments'/'data'/'attune'/'Emma'/'2024.06.09_EXP61'/'data_singlets'\n",
    "\n",
    "plates = pd.DataFrame({\n",
    "    'data_path': [exp90_path/'plate1', exp90_path/'plate2', \n",
    "                  exp90_2_path, exp90_4_path,\n",
    "                  exp90_3_path/'plate1', exp90_3_path/'plate2', \n",
    "                  exp91_path/'plate1.1', exp91_path/'plate1.2', exp91_path/'plate1.3', \n",
    "                  exp91_path/'plate2.1', exp91_path/'plate2.2', exp91_path/'plate2.3',\n",
    "                  exp92_path/'plate1.1', exp92_path/'plate1.2', exp92_path/'plate1.3', \n",
    "                  exp92_path/'plate2.1', exp92_path/'plate2.2', exp92_path/'plate2.3',\n",
    "                  exp_elp60_path],\n",
    "    \n",
    "    'yaml_path': ([exp90_path/'exp90_plate1_wells.yaml', exp90_path/'exp90_plate2_wells.yaml', \n",
    "                   exp90_path/'exp90_plate2_wells.yaml', exp90_path/'exp90_plate1_wells.yaml',\n",
    "                   exp90_path/'exp90_plate1_wells.yaml', exp90_path/'exp90_plate2_wells.yaml', ] +\n",
    "                  [exp91_path/'exp91_plate1_wells.yaml']*3 + \n",
    "                  [exp91_path/'exp91_plate2.1_wells.yaml', exp91_path/'exp91_plate2.2_wells.yaml', exp91_path/'exp91_plate2.3_wells.yaml'] +\n",
    "                  [exp92_path/'exp92_plate1_wells.yaml', exp92_path/'exp92_plate1.2_wells.yaml', exp92_path/'exp92_plate1_wells.yaml',\n",
    "                   exp92_path/'exp92_plate2_wells.yaml', exp92_path/'exp92_plate2.2_wells.yaml', exp92_path/'exp92_plate2_wells.yaml',\n",
    "                   exp_elp60_path/'metadata.yaml']\n",
    "                  ),\n",
    "    \n",
    "    'biorep': ([1, 1, \n",
    "                2, 2, \n",
    "                3, 3,] + \n",
    "                [1, 2, 3,]*4 +\n",
    "                [4]),\n",
    "    \n",
    "    'exp': (['exp90', 'exp90', \n",
    "             'exp90.2', 'exp90.4', \n",
    "             'exp90.3', 'exp90.3',] + \n",
    "            ['exp91']*6 + \n",
    "            ['exp92']*6 + \n",
    "            ['elp_exp61'])\n",
    "})\n",
    "\n",
    "output_path = rd.rootdir/'output'/'compare-to-simulations'\n",
    "cache_path = rd.rootdir/'output'/'fig_overview'/'data.gzip'\n",
    "metadata_path = rd.datadir/'projects'/'miR-iFFL'/'plasmids'/'construct-metadata.xlsx'\n",
    "\n",
    "# Load data\n",
    "data = pd.DataFrame()\n",
    "if cache_path.is_file(): data = pd.read_parquet(cache_path)\n",
    "else: \n",
    "    channel_list = ['mCherry-A','mRuby2-A','FSC-A','SSC-A','tagBFP-A','mGL-A']\n",
    "    data = rd.flow.load_groups_with_metadata(plates, columns=channel_list)\n",
    "\n",
    "    # Remove negative channel values\n",
    "    for c in channel_list: data = data[data[c]>0]\n",
    "    \n",
    "    data.dropna(inplace=True)\n",
    "    data.to_parquet(rd.outfile(cache_path))\n",
    "\n",
    "# Add metadata for constructs\n",
    "metadata = base.get_metadata(metadata_path, )#style='designs')\n",
    "data = data.merge(metadata, how='left', on='construct')\n",
    "display(data)"
   ]
  },
  {
   "cell_type": "code",
   "execution_count": null,
   "metadata": {},
   "outputs": [],
   "source": [
    "# Add shades to teal color palette\n",
    "#  light = EFS, miR-FF4, miRE-FF5, TSx2\n",
    "#  dark = TSx4\n",
    "metadata.loc[metadata['promoter']=='EFS', 'color'] = metadata.loc[metadata['promoter']=='EFS', 'color'].apply(base.get_dark_color)\n",
    "metadata.loc[metadata['miR']=='miR.FF4', 'color'] = metadata.loc[metadata['miR']=='miR.FF4', 'color'].apply(base.get_dark_color)\n",
    "metadata.loc[metadata['miR']=='miRE.FF5', 'color'] = metadata.loc[metadata['miR']=='miRE.FF5', 'color'].apply(base.get_light_color)\n",
    "metadata.loc[((metadata['group']=='controller') & (metadata['ts_num']==2)), 'color'] = metadata.loc[((metadata['group']=='controller') & (metadata['ts_num']==2)), 'color'].apply(base.get_light_color)\n",
    "metadata.loc[((metadata['group']=='controller') & (metadata['ts_num']==4)), 'color'] = metadata.loc[((metadata['group']=='controller') & (metadata['ts_num']==4)), 'color'].apply(base.get_dark_color)\n",
    "\n",
    "# Create dicts to specify colors/markers\n",
    "metadata_dict = metadata.set_index('construct').to_dict('dict')\n",
    "main_palette = metadata_dict['color']\n",
    "main_markers = metadata_dict['markers']\n",
    "\n",
    "greys = matplotlib.colors.ListedColormap(matplotlib.colormaps['Greys'](np.linspace(0.2,0.7,256)))"
   ]
  },
  {
   "cell_type": "code",
   "execution_count": null,
   "metadata": {},
   "outputs": [],
   "source": [
    "# Gate cells\n",
    "gates = pd.DataFrame()\n",
    "channel_list = ['mGL-A', 'mRuby2-A']\n",
    "for channel in channel_list:\n",
    "    gates[channel] = data[data['construct']=='UT'].groupby(['exp'])[channel].apply(lambda x: x.quantile(0.999))\n",
    "gates.reset_index(inplace=True)\n",
    "\n",
    "# Add missing gates\n",
    "gates.loc[len(gates.index)] = ['exp90.4',0,0,]  \n",
    "gates.loc[gates['exp']=='exp90.4', channel_list] = gates.loc[gates['exp']=='exp90.2', channel_list].values\n",
    "\n",
    "# Indicate which channels are relevant for each experiment\n",
    "gates.sort_values(['exp'], inplace=True)\n",
    "gates['marker'] = 'mGL-A'\n",
    "gates['output'] = 'mRuby2-A'\n",
    "\n",
    "# Gate data by transfection marker expression\n",
    "data = data.groupby('exp')[data.columns].apply(lambda x: base.gate_data(x,gates))\n",
    "data.reset_index(inplace=True, drop=True)\n",
    "df = data[(data['expressing']) & (data['construct']!='UT') & (data['exp']!='elp_exp61')]"
   ]
  },
  {
   "cell_type": "code",
   "execution_count": null,
   "metadata": {},
   "outputs": [],
   "source": [
    "# Bin data and calculate statistics\n",
    "df_quantiles, stats, _, fits = base.calculate_bins_stats(df, num_bins=10)\n",
    "stats = stats.merge(metadata, how='left', on='construct')\n",
    "fits = fits.merge(metadata, how='left', on='construct')"
   ]
  },
  {
   "cell_type": "code",
   "execution_count": null,
   "metadata": {},
   "outputs": [],
   "source": [
    "ts_label = {'na': 'base', 'NT': 'OL', 'T': 'CL', 'none': '–'}\n",
    "metadata['ts_label'] = metadata['ts_kind'].replace(ts_label)"
   ]
  },
  {
   "cell_type": "markdown",
   "metadata": {},
   "source": [
    "Load modeling parameter sweeps"
   ]
  },
  {
   "cell_type": "code",
   "execution_count": null,
   "metadata": {},
   "outputs": [],
   "source": [
    "simulation_path = rd.rootdir/'output'/'modeling'/'julia_param_sweeps'/'per_param'/'sweep_df.gzip'\n",
    "sim_data = pd.DataFrame()\n",
    "if simulation_path.is_file(): \n",
    "    sim_data = pd.read_parquet(simulation_path)"
   ]
  },
  {
   "cell_type": "code",
   "execution_count": null,
   "metadata": {},
   "outputs": [],
   "source": [
    "# Normalize parameter values such that original (middle) value = 1\n",
    "def normalize_param_val(df):\n",
    "    d = df.copy()\n",
    "    vals = d['param_val'].unique()\n",
    "    d['param_val_norm'] = d['param_val'] / (sorted(vals)[int(len(vals)/2)])\n",
    "    return d\n",
    "\n",
    "sim_data = sim_data.groupby('param')[sim_data.columns].apply(normalize_param_val).reset_index(drop=True)\n",
    "display(sim_data)"
   ]
  },
  {
   "cell_type": "code",
   "execution_count": null,
   "metadata": {},
   "outputs": [],
   "source": [
    "display(sim_data['param'].unique())"
   ]
  },
  {
   "cell_type": "code",
   "execution_count": null,
   "metadata": {},
   "outputs": [],
   "source": [
    "# Compute value of unregulate gene\n",
    "alpha_rna = 4.67e-2     # params from `miR_iFFL.jl`\n",
    "delta_mrna = 2.88e-4\n",
    "alpha_p = 3.33e-4\n",
    "delta_p = 9.67e-5\n",
    "\n",
    "sim_data['unreg'] = sim_data['copy_num'] * (alpha_rna * alpha_p) / (delta_mrna * delta_p)"
   ]
  },
  {
   "cell_type": "code",
   "execution_count": null,
   "metadata": {},
   "outputs": [],
   "source": [
    "# Compute instantaneous slope for each param & param_val \n",
    "def get_slope_instant(df, x, y):\n",
    "    d = df.sort_values(x)\n",
    "    return (list(d[y])[-1] - list(d[y])[-2]) / (list(d[x])[-1] - list(d[x])[-2])\n",
    "\n",
    "col_list = ['copy_num','protein']\n",
    "slopes = sim_data.groupby(['param','param_val','param_val_norm'])[sim_data.columns].apply(lambda x: get_slope_instant(x, *col_list)).rename('slope').reset_index()\n",
    "\n",
    "alpha_rna = 4.67e-2     # params from `miR_iFFL.jl`\n",
    "delta_mrna = 2.88e-4\n",
    "alpha_p = 3.33e-4\n",
    "delta_p = 9.67e-5\n",
    "slopes['base_norm_factor'] = (delta_mrna * delta_p) / (alpha_rna * alpha_p)\n",
    "\n",
    "def modify_norm_factor(df):\n",
    "    param = df['param'].values[0]\n",
    "    d = df.copy()\n",
    "    if param in ['α_im', 'α_p']: \n",
    "        d['norm_factor'] = d['base_norm_factor'] * d['param_val_norm'].values[0]\n",
    "    elif param in ['δ_m', 'δ_p']: \n",
    "        d['norm_factor'] = d['base_norm_factor'] / d['param_val_norm'].values[0]\n",
    "    else:\n",
    "        d['norm_factor'] = d['base_norm_factor']\n",
    "    return d['norm_factor']\n",
    "\n",
    "result = slopes.groupby(['param','param_val_norm'])[slopes.columns].apply(modify_norm_factor).rename('norm_factor').reset_index()\n",
    "slopes['norm_factor'] = result['norm_factor']\n",
    "slopes['slope_norm'] = slopes['slope'] * slopes['norm_factor']\n",
    "display(slopes)"
   ]
  },
  {
   "cell_type": "markdown",
   "metadata": {},
   "source": [
    "### Plots to compare simulations to data, exploratory"
   ]
  },
  {
   "cell_type": "code",
   "execution_count": null,
   "metadata": {},
   "outputs": [],
   "source": [
    "fig, axes = plt.subplots(1,2, figsize=(5,2), gridspec_kw=dict(wspace=0.3))\n",
    "\n",
    "# linear space\n",
    "ax = axes[0]\n",
    "yticks = list(np.linspace(0,1e4,5))\n",
    "yticks.insert(1, 1e3)\n",
    "plot_df = sim_data[sim_data['param']=='Rtot']\n",
    "sns.lineplot(data=plot_df[plot_df['param_val_norm']==1], x='copy_num', y='protein', color='black', ax=ax, linewidth=1.5,\n",
    "             errorbar=None,)\n",
    "sns.lineplot(data=plot_df[plot_df['param_val_norm']==1], x='copy_num', y='unreg', color=base.colors['gray'], ax=ax,\n",
    "             errorbar=None,)\n",
    "ax.set(xticks=np.linspace(0,100,5), yticks=yticks, xlabel='copy #', ylim=(0,12e3),\n",
    "       yticklabels=[f'{float(l)/1000:.1f}k' for l in yticks], title='Linear space')\n",
    "ax.axvspan(55,100, color=base.get_light_color(base.colors['gray']), alpha=0.2)\n",
    "\n",
    "# log space\n",
    "ax = axes[1]\n",
    "plot_df = sim_data[sim_data['param']=='Rtot']\n",
    "sns.lineplot(data=plot_df[plot_df['param_val_norm']==1], x='copy_num', y='protein', color='black', ax=ax, linewidth=1.5,\n",
    "             errorbar=None,)\n",
    "sns.lineplot(data=plot_df[plot_df['param_val_norm']==1], x='copy_num', y='unreg', color=base.colors['gray'], ax=ax,\n",
    "             errorbar=None,)\n",
    "ax.set(xticks=np.linspace(0,100,5), xlabel='copy #', ylim=(4e2,1e5), title='Log space',\n",
    "       yscale='log', ylabel='')\n",
    "#ax.axvspan(55,100, color=base.get_light_color(base.colors['gray']), alpha=0.2)\n",
    "\n",
    "\n",
    "for ax in axes:\n",
    "    #setpoint = plot_df.loc[(plot_df['param_val_norm']==1) & (plot_df['copy_num']==50), 'protein'].values[0]\n",
    "    #ax.axhline(setpoint, color=base.colors['teal'], ls=':', xmax=100, zorder=1)\n",
    "    ax.axhline(1e3, color='black', ls=':', xmax=100, zorder=1)\n",
    "    ax.axhline(1e4, color='black', ls=':', xmax=100, zorder=1)"
   ]
  }
 ],
 "metadata": {
  "kernelspec": {
   "display_name": "env",
   "language": "python",
   "name": "python3"
  },
  "language_info": {
   "codemirror_mode": {
    "name": "ipython",
    "version": 3
   },
   "file_extension": ".py",
   "mimetype": "text/x-python",
   "name": "python",
   "nbconvert_exporter": "python",
   "pygments_lexer": "ipython3"
  }
 },
 "nbformat": 4,
 "nbformat_minor": 2
}
