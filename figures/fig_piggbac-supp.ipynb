{
 "cells": [
  {
   "cell_type": "code",
   "execution_count": null,
   "metadata": {},
   "outputs": [],
   "source": [
    "import base\n",
    "import matplotlib\n",
    "import matplotlib.pyplot as plt\n",
    "import numpy as np\n",
    "import pandas as pd\n",
    "import re\n",
    "import rushd as rd\n",
    "import scipy as sp\n",
    "import seaborn as sns\n",
    "\n",
    "# enables concurrent editing of base.py\n",
    "from importlib import reload\n",
    "reload(base)"
   ]
  },
  {
   "cell_type": "markdown",
   "metadata": {},
   "source": [
    "### Load data"
   ]
  },
  {
   "cell_type": "markdown",
   "metadata": {},
   "source": [
    "Load PiggyBac data"
   ]
  },
  {
   "cell_type": "code",
   "execution_count": null,
   "metadata": {},
   "outputs": [],
   "source": [
    "# TODO"
   ]
  },
  {
   "cell_type": "code",
   "execution_count": null,
   "metadata": {},
   "outputs": [],
   "source": [
    "# Create dicts to specify colors/markers\n",
    "metadata_dict = metadata.set_index('construct').to_dict('dict')\n",
    "designs_palette = metadata_dict['color']\n",
    "designs_markers = metadata_dict['markers']\n",
    "\n",
    "ts_label = {'na': 'base', 'NT': 'OL', 'T': 'CL', 'none': '–'}\n",
    "metadata['ts_label'] = metadata['ts_kind'].replace(ts_label)"
   ]
  },
  {
   "cell_type": "markdown",
   "metadata": {},
   "source": [
    "### Set up figure"
   ]
  },
  {
   "cell_type": "code",
   "execution_count": null,
   "metadata": {},
   "outputs": [],
   "source": [
    "base_size = base.font_sizes['base_size']\n",
    "smaller_size = base.font_sizes['smaller_size']\n",
    "\n",
    "sns.set_style('ticks')\n",
    "sns.set_context('paper', font_scale=1.0, rc={'font.size': base_size, 'font.family': 'sans-serif', 'font.sans-serif':['Arial']})\n",
    "plt.rcParams.update({'axes.titlesize': base_size, 'axes.labelsize': base_size, 'xtick.labelsize': smaller_size, 'ytick.labelsize': smaller_size,\n",
    "                     'pdf.fonttype': 42, \n",
    "                     'ytick.major.size': 3, 'xtick.major.size': 3, 'ytick.minor.size': 2, 'ytick.major.pad': 2, 'xtick.major.pad': 2, \n",
    "                     'lines.linewidth': 1,\n",
    "                     'axes.spines.right': False, 'axes.spines.top': False, 'axes.labelpad': 2})"
   ]
  },
  {
   "cell_type": "code",
   "execution_count": null,
   "metadata": {},
   "outputs": [],
   "source": [
    "# Create the overall figure, gridspec, and add subfigure labels\n",
    "fig = plt.figure(figsize=(6.8504,1.5))\n",
    "fig_gridspec = matplotlib.gridspec.GridSpec(2, 6, figure=fig,\n",
    "    wspace=0.4, hspace=0.4, height_ratios=[1], width_ratios=[1]*6)\n",
    "subfigures = {\n",
    "    'A': fig.add_subfigure(fig_gridspec[0,:4]),\n",
    "    'B': fig.add_subfigure(fig_gridspec[0,4:]),\n",
    "}\n",
    "for label, subfig in subfigures.items():\n",
    "    subfig.add_artist(matplotlib.text.Text(x=0, y=1, text=f'{label}', fontsize=base.font_sizes['subpanel_label'], fontweight='bold', verticalalignment='top',transform=subfig.transSubfigure))\n",
    "\n",
    "scatter_kwargs = dict(s=4, jitter=0.1, linewidth=0.5, edgecolor='white')\n",
    "\n",
    "output_path = rd.rootdir/'output'/'fig_piggybac-supp'/'fig_piggybac-supp.pdf'\n",
    "fig.savefig(rd.outfile(output_path))"
   ]
  },
  {
   "cell_type": "code",
   "execution_count": null,
   "metadata": {},
   "outputs": [],
   "source": [
    "subfig = subfigures['B']\n",
    "rd.plot.adjust_subplot_margins_inches(subfig, left=0.4, bottom=0.2, top=0.35, right=0.5)\n",
    "axes = subfig.subplots(1,2, gridspec_kw=dict(wspace=0.45))\n",
    "\n",
    "plot_df = stats\n",
    "\n",
    "# stat std\n",
    "ax = axes[0]\n",
    "for construct, group in plot_df.groupby('construct'):\n",
    "    sns.stripplot(data=group, x='design', y='output_std', hue='construct', palette=designs_palette,\n",
    "                    legend=False, ax=ax, marker=designs_markers[construct], **scatter_kwargs)\n",
    "ax.set(title='Std.', xlim=(-0.5, len(plot_df['design'].unique())-0.5), xlabel='design', ylabel='', yscale='log',)\n",
    "\n",
    "# stat CV\n",
    "ax = axes[1]\n",
    "for construct, group in plot_df.groupby('construct'):\n",
    "    sns.stripplot(data=group, x='design', y='output_variation', hue='construct', palette=designs_palette,\n",
    "                    legend=False, ax=ax, marker=designs_markers[construct], **scatter_kwargs)\n",
    "ax.set(title='CV', xlim=(-0.5, len(plot_df['design'].unique())-0.5), xlabel='', ylabel='',)\n",
    "\n",
    "for ax in axes: \n",
    "    sns.despine(ax=ax)\n",
    "    ax.set(xticklabels=[l.get_text() if l.get_text()!='0' else 'base' for l in ax.get_xticklabels()])\n",
    "\n",
    "fig.savefig(rd.outfile(output_path))"
   ]
  }
 ],
 "metadata": {
  "language_info": {
   "name": "python"
  }
 },
 "nbformat": 4,
 "nbformat_minor": 2
}
