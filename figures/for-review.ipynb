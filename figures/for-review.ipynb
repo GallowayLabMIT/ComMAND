{
 "cells": [
  {
   "cell_type": "code",
   "execution_count": null,
   "metadata": {},
   "outputs": [],
   "source": [
    "import base\n",
    "import matplotlib\n",
    "import matplotlib.pyplot as plt\n",
    "import numpy as np\n",
    "import pandas as pd\n",
    "from pathlib import Path\n",
    "import rushd as rd\n",
    "import scipy as sp\n",
    "import seaborn as sns\n",
    "\n",
    "from statannotations.Annotator import Annotator\n",
    "\n",
    "from importlib import reload\n",
    "reload(base)"
   ]
  },
  {
   "cell_type": "code",
   "execution_count": null,
   "metadata": {},
   "outputs": [],
   "source": [
    "# Set plotting context\n",
    "sns.set_style('ticks')\n",
    "sns.set_context('paper', font_scale=1.0, rc=base.rc_context)\n",
    "plt.rcParams.update(base.rc_params)"
   ]
  },
  {
   "cell_type": "code",
   "execution_count": null,
   "metadata": {},
   "outputs": [],
   "source": [
    "output_path = rd.rootdir/'output'/'for-review'"
   ]
  },
  {
   "cell_type": "markdown",
   "metadata": {},
   "source": [
    "### Varying number of target sites for miR-FF5"
   ]
  },
  {
   "cell_type": "code",
   "execution_count": null,
   "metadata": {},
   "outputs": [],
   "source": [
    "# Setup data loading\n",
    "base_path = rd.datadir/'instruments'/'data'/'attune'/'kasey'\n",
    "exp45_1_path = base_path/'2022.07.15_exp45'\n",
    "exp45_2_path = base_path/'2023.01.14_exp45.2'/'export'\n",
    "exp45_3_path = base_path/'2023.02.10_exp45.3'/'export'\n",
    "\n",
    "plates = pd.DataFrame({\n",
    "    'data_path': [exp45_1_path/'293T'/'export', exp45_2_path, exp45_3_path,],\n",
    "    'yaml_path': [exp45_1_path/'exp45_wells2.yaml', exp45_2_path/'exp45.2_wells2.yaml', exp45_2_path/'exp45.2_wells2.yaml'],\n",
    "    'biorep': [1, 2, 3,],\n",
    "    'exp': ['exp45', 'exp45.2', 'exp45.3',]\n",
    "})\n",
    "cache_path = output_path/'tuning-old.gzip'\n",
    "\n",
    "for p in plates['yaml_path'].unique():\n",
    "    rd.plot.plot_well_metadata(p)"
   ]
  },
  {
   "cell_type": "code",
   "execution_count": null,
   "metadata": {},
   "outputs": [],
   "source": [
    "# Load data\n",
    "data = pd.DataFrame()\n",
    "channel_list = ['mRuby2-A','mCherry-A','tagBFP-A']\n",
    "\n",
    "if cache_path.exists(): data = pd.read_parquet(cache_path)\n",
    "else: \n",
    "    data = rd.flow.load_groups_with_metadata(plates, columns=channel_list)\n",
    "    for c in channel_list: data = data[data[c]>0]\n",
    "    data.to_parquet(rd.outfile(cache_path))\n",
    "display(data)"
   ]
  },
  {
   "cell_type": "code",
   "execution_count": null,
   "metadata": {},
   "outputs": [],
   "source": [
    "# Add metadata for constructs\n",
    "metadata = base.get_metadata(rd.datadir/'projects'/'miR-iFFL'/'plasmids'/'construct-metadata.xlsx', style='designs')\n",
    "metadata.loc[((metadata['group']=='controller') & (metadata['ts_num']==4)), 'color'] = metadata.loc[((metadata['group']=='controller') & (metadata['ts_num']==4)), 'color'].apply(base.get_light_color)\n",
    "data = data.merge(metadata, how='left', on='construct')\n",
    "display(data)"
   ]
  },
  {
   "cell_type": "code",
   "execution_count": null,
   "metadata": {},
   "outputs": [],
   "source": [
    "# Create dicts to specify colors/markers\n",
    "metadata_dict = metadata.set_index('construct').to_dict('dict')\n",
    "main_palette = metadata_dict['color']\n",
    "main_markers = metadata_dict['markers']"
   ]
  },
  {
   "cell_type": "code",
   "execution_count": null,
   "metadata": {},
   "outputs": [],
   "source": [
    "gates = pd.DataFrame()\n",
    "channel_list = ['tagBFP-A', 'mRuby2-A',]\n",
    "for channel in channel_list:\n",
    "    gates[channel] = data[data['construct']=='UT'].groupby(['exp'])[channel].apply(lambda x: x.quantile(0.999))\n",
    "gates.reset_index(inplace=True)\n",
    "\n",
    "# Indicate which channels are relevant for each experiment\n",
    "gates['marker'] = 'tagBFP-A'\n",
    "gates['output'] = 'mRuby2-A'\n",
    "\n",
    "data['marker'] = data['tagBFP-A']\n",
    "data['output'] = data['mRuby2-A']\n",
    "\n",
    "display(gates)"
   ]
  },
  {
   "cell_type": "code",
   "execution_count": null,
   "metadata": {},
   "outputs": [],
   "source": [
    "exp_palette = {'exp45': base.colors['teal'], 'exp45.2': base.colors['orange'], 'exp45.3': base.colors['red']}"
   ]
  },
  {
   "cell_type": "code",
   "execution_count": null,
   "metadata": {},
   "outputs": [],
   "source": [
    "plot_df = data.groupby(['exp','construct']).sample(1000)\n",
    "g = sns.displot(data=plot_df, x='marker', y='output', hue='exp', palette=exp_palette,\n",
    "                kind='kde', col='construct', col_wrap=5,\n",
    "                common_norm=False, levels=5, log_scale=True)\n",
    "\n",
    "for construct, ax in g.axes_dict.items():\n",
    "    for exp in data['exp'].unique():\n",
    "        ax.axvline(gates.loc[gates['exp']==exp, 'marker'].values[0], c=exp_palette[exp], ls=':', zorder=0)\n",
    "        ax.axhline(gates.loc[gates['exp']==exp, 'output'].values[0], c=exp_palette[exp], ls=':', zorder=0)"
   ]
  },
  {
   "cell_type": "code",
   "execution_count": null,
   "metadata": {},
   "outputs": [],
   "source": [
    "data = data.groupby('exp')[data.columns].apply(lambda x: base.gate_data(x,gates))\n",
    "data.reset_index(inplace=True, drop=True)\n",
    "df = data[(data['expressing']) & (data['construct']!='UT')]\n",
    "display(df)"
   ]
  },
  {
   "cell_type": "code",
   "execution_count": null,
   "metadata": {},
   "outputs": [],
   "source": [
    "quantiles, stats = base.calculate_bins_stats(df)\n",
    "\n",
    "# Add metadata\n",
    "stats = stats.merge(metadata, how='left', on='construct')"
   ]
  },
  {
   "cell_type": "code",
   "execution_count": null,
   "metadata": {},
   "outputs": [],
   "source": [
    "fig, axes = plt.subplots(1,2, gridspec_kw=dict(width_ratios=(1,0.3)), figsize=(2,1.5))\n",
    "\n",
    "biorep = 2\n",
    "plot_df = quantiles[(quantiles['promoter']=='CMV') & (quantiles['design']<=1) & (quantiles['biorep']==biorep)]\n",
    "line_kwargs = base.line_kwargs\n",
    "\n",
    "# line plot\n",
    "ax = axes[0]\n",
    "sns.lineplot(data=plot_df, x='bin_marker_quantiles_median', y='output', hue='construct', palette=main_palette, \n",
    "             style='construct', markers=main_markers, ax=ax, **line_kwargs)\n",
    "ax.set(xscale='log', yscale='log', xlabel='marker', title='miR-FF5', ylim=(6e1,6e5))\n",
    "marker_baseline = sp.stats.gmean(quantiles.loc[(quantiles['group']=='marker') & (quantiles['biorep']==biorep), 'output'])\n",
    "ax.axhline(marker_baseline, color='black', ls=':')\n",
    "ax.annotate('marker only', (ax.get_xlim()[1], marker_baseline), ha='right', va='bottom', fontsize=base.font_sizes['smaller_size'])\n",
    "\n",
    "# histogram\n",
    "ax = axes[1]\n",
    "sns.kdeplot(data=plot_df, y='output', hue='construct', palette=main_palette, \n",
    "             legend=False, log_scale=True, common_norm=False, ax=ax)\n",
    "sns.despine(ax=ax, bottom=True)\n",
    "ax.set(xlabel='', ylim=axes[0].get_ylim(), ylabel='', yticklabels=[])\n",
    "ax.get_xaxis().set_visible(False)\n",
    "\n",
    "for ax in axes: ax.minorticks_off()\n",
    "\n",
    "fig.savefig(rd.outfile(output_path/'miR-FF5-vary-ts-num_joint.pdf'), bbox_inches='tight')"
   ]
  },
  {
   "cell_type": "code",
   "execution_count": null,
   "metadata": {},
   "outputs": [],
   "source": [
    "fig, axes = plt.subplots(1,3, gridspec_kw=dict(width_ratios=(1,1,1), wspace=0.7), figsize=(2.4,1.5))\n",
    "scatter_kwargs = base.scatter_kwargs\n",
    "annotate_kwargs = base.annotate_kwargs\n",
    "\n",
    "# stat gmean\n",
    "plot_df = stats[(stats['promoter']=='CMV') & (stats['design']<=1)]\n",
    "xlim = (-0.5, len(plot_df['construct'].unique())-0.5)\n",
    "pairs = [('CL','base'), ('CL','OL')]\n",
    "\n",
    "ax = axes[0]\n",
    "for construct, group in plot_df.groupby('construct'):\n",
    "    sns.pointplot(data=group, x='ts', y='output_gmean', hue='construct', palette=main_palette,\n",
    "                  ax=ax, marker=main_markers[construct], **scatter_kwargs)\n",
    "ax.set(title='Mean', xlim=xlim, xlabel='', ylabel='', yscale='log', ylim=(4e3,1e5),)\n",
    "\n",
    "# stat std\n",
    "ax = axes[1]\n",
    "for construct, group in plot_df.groupby('construct'):\n",
    "    sns.pointplot(data=group, x='ts', y='output_std', hue='construct', palette=main_palette,\n",
    "                  ax=ax, marker=main_markers[construct], **scatter_kwargs)\n",
    "ax.set(title='Std.', xlim=xlim, xlabel='', ylabel='', yscale='log', ylim=(1e4,2e5))\n",
    "\n",
    "# slope\n",
    "ax = axes[2]\n",
    "for construct, group in plot_df.groupby('construct'):\n",
    "    sns.pointplot(data=group, x='ts', y='slope', hue='construct', palette=main_palette,\n",
    "                  ax=ax, marker=main_markers[construct], **scatter_kwargs)\n",
    "ax.set(title='Slope', xlim=xlim, xlabel='', ylabel='', ylim=(0.5,1))\n",
    "\n",
    "for ax in axes:\n",
    "    ax.set_xticklabels(ax.get_xticklabels(), rotation=45, ha='right',)\n",
    "    sns.despine(ax=ax)\n",
    "\n",
    "fig.savefig(rd.outfile(output_path/'miR-FF5-vary-ts-num_stats.pdf'), bbox_inches='tight')\n",
    "\n",
    "# perform statistical tests\n",
    "f, axes = plt.subplots(1,3, figsize=(5,2))\n",
    "pairs = [('FF3x4','FF5x1'), ('FF3x4','FF5x4'), ('FF5x1','FF5x4')]\n",
    "stat_list = ['output_gmean', 'output_std', 'slope']\n",
    "for ax, stat in zip(axes, stat_list):\n",
    "    sns.pointplot(data=plot_df, x='ts', y=stat, ax=ax, hue='construct', palette=main_palette, legend=False,)\n",
    "    if stat != 'slope': ax.set(yscale='log',)\n",
    "    annotator = Annotator(ax, pairs, data=plot_df, x='ts', y=stat,)\n",
    "    annotator.configure(**annotate_kwargs, line_offset=2).apply_and_annotate()"
   ]
  },
  {
   "cell_type": "markdown",
   "metadata": {},
   "source": [
    "### Baselines"
   ]
  },
  {
   "cell_type": "code",
   "execution_count": null,
   "metadata": {},
   "outputs": [],
   "source": [
    "base_path = rd.datadir/'instruments'/'data'/'attune'\n",
    "metadata_path = rd.datadir/'projects'/'miR-iFFL'/'plasmids'\n",
    "data2, quantiles2, stats2, metadata2 = base.load_data(base_path, metadata_path, 'lenti')"
   ]
  },
  {
   "cell_type": "code",
   "execution_count": null,
   "metadata": {},
   "outputs": [],
   "source": [
    "# Create dicts to specify colors/markers\n",
    "metadata_dict = metadata2.set_index('construct').to_dict('dict')\n",
    "lenti_palette = metadata_dict['color']\n",
    "lenti_markers = metadata_dict['markers']"
   ]
  },
  {
   "cell_type": "code",
   "execution_count": null,
   "metadata": {},
   "outputs": [],
   "source": [
    "# Since there is no marker-only condition, save the output expression stats for untransduced cells\n",
    "baseline_df = data2[(data2['construct'].isin(['UI','UT'])) | (data2['virus_dilution']==0)].groupby(['cell','exp','biorep'])['output'].apply(sp.stats.gmean).rename('output_gmean').reset_index()"
   ]
  },
  {
   "cell_type": "code",
   "execution_count": null,
   "metadata": {},
   "outputs": [],
   "source": [
    "fig, axes = plt.subplots(1,2, gridspec_kw=dict(width_ratios=(1,0.4), wspace=0.3), figsize=(2,1.2))\n",
    "line_kwargs = base.line_kwargs\n",
    "\n",
    "plot_df = quantiles2[(quantiles2['dox']==1000) & (quantiles2['moi']==7) & (quantiles2['cell']=='neuron') & (quantiles2['biorep']==1) &\n",
    "                    ~(quantiles2['name'].str.contains('FXN')) & ~(quantiles2['name'].str.contains('FMRP'))].copy()\n",
    "plot_df.sort_values(['ts_num','ts_kind'], ascending=False, inplace=True)\n",
    "plot_order = reversed(plot_df['construct'].unique())\n",
    "\n",
    "# line plot\n",
    "ax = axes[0]\n",
    "sns.lineplot(data=plot_df, x='bin_marker_quantiles_median', y='output', hue='construct', palette=lenti_palette, \n",
    "             style='construct', markers=lenti_markers, ax=ax, hue_order=plot_order, **line_kwargs)\n",
    "ax.set(xscale='log', yscale='log', xlabel='marker',)\n",
    "baseline = baseline_df.loc[baseline_df['cell']=='neuron', 'output_gmean'].mean()\n",
    "display(baseline)\n",
    "ax.axhline(baseline, color='black', ls=':')\n",
    "\n",
    "# histogram\n",
    "ax = axes[1]\n",
    "sns.kdeplot(data=plot_df, y='output', hue='construct', palette=lenti_palette, \n",
    "             legend=False, log_scale=True, common_norm=False, ax=ax)\n",
    "sns.despine(ax=ax, bottom=True)\n",
    "ax.set(xlabel='', ylim=axes[0].get_ylim(), ylabel='', yticklabels=[])\n",
    "ax.get_xaxis().set_visible(False)\n",
    "ax.minorticks_off()\n",
    "\n",
    "fig.savefig(rd.outfile(output_path/'neuron-joint-baseline.pdf'), bbox_inches='tight')\n",
    "fig.savefig(rd.outfile(output_path/'neuron-joint-baseline.svg'), bbox_inches='tight')\n",
    "fig.savefig(rd.outfile(output_path/'neuron-joint-baseline.png'), bbox_inches='tight')"
   ]
  },
  {
   "cell_type": "code",
   "execution_count": null,
   "metadata": {},
   "outputs": [],
   "source": [
    "fig, axes = plt.subplots(1,2, gridspec_kw=dict(width_ratios=(1,0.4), wspace=0.3), figsize=(2,1.2))\n",
    "line_kwargs = base.line_kwargs\n",
    "\n",
    "plot_df = quantiles2[(quantiles2['group'].isin(['controller','base'])) & (quantiles2['cell']=='iPS11') &\n",
    "                    (quantiles2['biorep']==3) & (quantiles2['dox']==1000)].copy()\n",
    "plot_df.sort_values(['ts_num','ts_kind'], ascending=False, inplace=True)\n",
    "plot_order = reversed(plot_df['construct'].unique())\n",
    "\n",
    "# line plot\n",
    "ax = axes[0]\n",
    "sns.lineplot(data=plot_df, x='bin_marker_quantiles_median', y='output', hue='construct', palette=lenti_palette, \n",
    "             style='construct', markers=lenti_markers, ax=ax, hue_order=plot_order, **line_kwargs)\n",
    "ax.set(xscale='log', yscale='log', xlabel='marker',)\n",
    "ax.xaxis.set_minor_formatter('')\n",
    "baseline = baseline_df.loc[baseline_df['cell']=='iPS11', 'output_gmean'].mean()\n",
    "display(baseline)\n",
    "ax.axhline(baseline, color='black', ls=':')\n",
    "\n",
    "# histogram\n",
    "ax = axes[1]\n",
    "sns.kdeplot(data=plot_df, y='output', hue='construct', palette=lenti_palette, \n",
    "             legend=False, log_scale=True, common_norm=False, ax=ax)\n",
    "sns.despine(ax=ax, bottom=True)\n",
    "ax.set(xlabel='', ylim=axes[0].get_ylim(), ylabel='', yticklabels=[])\n",
    "ax.get_xaxis().set_visible(False)\n",
    "ax.minorticks_off()\n",
    "\n",
    "fig.savefig(rd.outfile(output_path/'iPS11-joint-baseline.pdf'), bbox_inches='tight')\n",
    "fig.savefig(rd.outfile(output_path/'iPS11-joint-baseline.svg'), bbox_inches='tight')\n",
    "fig.savefig(rd.outfile(output_path/'iPS11-joint-baseline.png'), bbox_inches='tight')"
   ]
  },
  {
   "cell_type": "markdown",
   "metadata": {},
   "source": [
    "### CV"
   ]
  },
  {
   "cell_type": "code",
   "execution_count": null,
   "metadata": {},
   "outputs": [],
   "source": [
    "base_path = rd.datadir/'instruments'/'data'/'attune'\n",
    "metadata_path = rd.datadir/'projects'/'miR-iFFL'/'plasmids'\n",
    "data, quantiles, stats, metadata = base.load_data(base_path, metadata_path, 'tuning', 'tuning')\n",
    "\n",
    "# Create dicts to specify colors/markers\n",
    "metadata_dict = metadata.set_index('construct').to_dict('dict')\n",
    "main_palette = metadata_dict['color']\n",
    "main_markers = metadata_dict['markers']"
   ]
  },
  {
   "cell_type": "code",
   "execution_count": null,
   "metadata": {},
   "outputs": [],
   "source": [
    "# Alternate palette for promoter panel\n",
    "metadata_alt_dict = base.get_metadata(metadata_path/'construct-metadata.xlsx', 'promoters').set_index('construct').to_dict('dict')\n",
    "promoter_palette = metadata_alt_dict['color']\n",
    "promoter_markers = metadata_alt_dict['markers']"
   ]
  },
  {
   "cell_type": "code",
   "execution_count": null,
   "metadata": {},
   "outputs": [],
   "source": [
    "# Plasmid titration\n",
    "data2, quantiles2, stats2, metadata2 = base.load_data(base_path, metadata_path, 'plasmid_titration')"
   ]
  },
  {
   "cell_type": "code",
   "execution_count": null,
   "metadata": {},
   "outputs": [],
   "source": [
    "# Tuning: microRNA\n",
    "pairs = [('base','CL'), ('OL','CL')]\n",
    "miR_order = ['none','miR.FF4','miR.FF5','miRE.FF4','miRE.FF5']\n",
    "stat = 'output_variation'\n",
    "plot_df = stats[(((stats['group']=='controller') & (stats['design']==1) & (stats['ts'].isin(['FF4x1','FF5x1','FF6x1']))) | (stats['group']=='base')) &\n",
    "                (stats['promoter']=='EF1a')].copy()\n",
    "annotate_kwargs = dict(test='t-test_ind', text_format='star', loc='inside', line_height=0, line_width=0.5, text_offset=-1)\n",
    "f, axes = plt.subplots(1,len(miR_order)-1, figsize=(5,2), gridspec_kw=dict(wspace=0.6))\n",
    "for ax, miR in zip(axes, miR_order[1:]):\n",
    "    test_df = plot_df[(plot_df['miR']==miR) | (plot_df['group']=='base')]\n",
    "    sns.pointplot(data=test_df, x='ts_label', y=stat, ax=ax, hue='construct', palette=main_palette, legend=False)\n",
    "    ax.set(xlabel='', title=miR.replace('.','-'), ylabel='', xlim=(-0.5,2.5), ylim=(0,2.5))\n",
    "    annotator = Annotator(ax, pairs, data=test_df, x='ts_label', y=stat,)\n",
    "    annotator.configure(**annotate_kwargs, verbose=0).apply_and_annotate()\n",
    "axes[0].set(ylabel='CV')"
   ]
  },
  {
   "cell_type": "code",
   "execution_count": null,
   "metadata": {},
   "outputs": [],
   "source": [
    "# Tuning: promoter\n",
    "pairs = [('base','CL'), ('OL','CL')]\n",
    "promoter_order = ['EF1a','CAG','EFS','hPGK']\n",
    "stat = 'output_variation'\n",
    "annotate_kwargs = dict(test='t-test_ind', text_format='star', loc='inside', line_height=0, line_width=0.5, text_offset=-1)\n",
    "plot_df = stats[(((stats['miR']=='miRE.FF4') & (stats['group']=='controller') & (stats['design']==1) & (stats['ts'].isin(['FF4x1','FF6x1']))) | (stats['group']=='base'))].copy()\n",
    "# remove outlier hPGK point\n",
    "plot_df = plot_df[~((plot_df['promoter']=='hPGK') & (plot_df['exp']=='exp92') & (plot_df['biorep']==1))]\n",
    "\n",
    "f, axes = plt.subplots(1,len(promoter_order), figsize=(5,2), gridspec_kw=dict(wspace=0.6))\n",
    "for ax, promoter in zip(axes, promoter_order):\n",
    "    test_df = plot_df[(plot_df['promoter']==promoter)]\n",
    "    sns.pointplot(data=test_df, x='ts_label', y=stat, ax=ax, hue='construct', palette=promoter_palette, legend=False)\n",
    "    ax.set(xlabel='', title=promoter.replace('.','-'), ylabel='', xlim=(-0.5,2.5), ylim=(0,2.5))\n",
    "    annotator = Annotator(ax, pairs, data=test_df, x='ts_label', y=stat,)\n",
    "    annotator.configure(**annotate_kwargs, verbose=0).apply_and_annotate()\n",
    "axes[0].set(ylabel='CV')"
   ]
  },
  {
   "cell_type": "code",
   "execution_count": null,
   "metadata": {},
   "outputs": [],
   "source": [
    "# Tuning: # target sites\n",
    "pairs = [('base','CL'), ('OL','CL')]\n",
    "stat = 'output_variation'\n",
    "ts_order = [1,2,4]\n",
    "annotate_kwargs = dict(test='t-test_ind', text_format='star', loc='inside', line_height=0, line_width=0.5, text_offset=-1)\n",
    "plot_df = stats[(((stats['group']=='controller') & (stats['miR']=='miRE.FF4') & (stats['design']==1)) | (stats['group']=='base')) & (stats['promoter']=='EF1a')].copy()\n",
    "\n",
    "f, axes = plt.subplots(1,len(ts_order), figsize=(5,2), gridspec_kw=dict(wspace=0.6))\n",
    "for ax, ts_num in zip(axes, ts_order):\n",
    "    test_df = plot_df[(plot_df['ts_num'].isin([0,ts_num]))]\n",
    "    sns.pointplot(data=test_df, x='ts_label', y=stat, ax=ax, hue='construct', palette=main_palette, legend=False)\n",
    "    ax.set(xlabel='', title='TSx'+str(ts_num), ylabel='', xlim=(-0.5,2.5), ylim=(0,5))\n",
    "    annotator = Annotator(ax, pairs, data=test_df, x='ts_label', y=stat,)\n",
    "    annotator.configure(**annotate_kwargs, verbose=0).apply_and_annotate()\n",
    "axes[0].set(ylabel='CV')"
   ]
  },
  {
   "cell_type": "code",
   "execution_count": null,
   "metadata": {},
   "outputs": [],
   "source": [
    "# Plasmid titration\n",
    "pairs = [('base','CL'), ('OL','CL')]\n",
    "stat = 'output_variation'\n",
    "annotate_kwargs = dict(test='t-test_ind', text_format='star', loc='inside', line_height=0, line_width=0.5, text_offset=-1)\n",
    "plot_df = stats2[stats2['construct']!='AIO.039']\n",
    "amt_order = sorted(plot_df['amount'].unique())\n",
    "\n",
    "f, axes = plt.subplots(1,len(amt_order), figsize=(5,2), gridspec_kw=dict(wspace=0.6))\n",
    "for ax, amt in zip(axes, amt_order):\n",
    "    test_df = plot_df[(plot_df['amount']==amt)]\n",
    "    sns.pointplot(data=test_df, x='ts_label', y=stat, ax=ax, hue='construct', palette=main_palette, legend=False)\n",
    "    ax.set(xlabel='', title=str(amt), ylabel='', xlim=(-0.5,2.5), ylim=(0,2.5))\n",
    "    annotator = Annotator(ax, pairs, data=test_df, x='ts_label', y=stat,)\n",
    "    annotator.configure(**annotate_kwargs, verbose=0).apply_and_annotate()\n",
    "axes[0].set(ylabel='CV')"
   ]
  },
  {
   "cell_type": "code",
   "execution_count": null,
   "metadata": {},
   "outputs": [],
   "source": [
    "f, ax = plt.subplots(1,1, figsize=(2,2))\n",
    "plot_df = stats2[stats2['construct']!='AIO.039']\n",
    "line_kwargs2 = dict(legend=False, dashes=False, markersize=4, markeredgecolor='white', markeredgewidth=0.5)\n",
    "sns.lineplot(data=plot_df, x='amount', y='output_variation', hue='construct', palette=main_palette, ax=ax,\n",
    "             style='construct', markers=main_markers, **line_kwargs2)\n",
    "ax.set(ylim=(0,2.5), xlabel='rel. plasmid amount', xticks=[0.5**i for i in range(5)]+[0], \n",
    "       xticklabels=['1.0','0.5','','','',''], xlim=(0,1.1), ylabel='CV')\n",
    "sns.despine()"
   ]
  },
  {
   "cell_type": "code",
   "execution_count": null,
   "metadata": {},
   "outputs": [],
   "source": [
    "# miRE-FF4 EF1a (best design) as a function of quantile bin\n",
    "f, ax = plt.subplots(1,1, figsize=(2,2))\n",
    "plot_df = quantiles[(((quantiles['miR']=='miRE.FF4') & (quantiles['group']=='controller') & (quantiles['design']==1) & \n",
    "                      (quantiles['ts'].isin(['FF4x1','FF6x1']))) | (quantiles['group']=='base')) & (quantiles['promoter']=='EF1a') &\n",
    "                      (quantiles['exp']=='exp90.4')].copy()\n",
    "line_kwargs2 = dict(legend=False, dashes=False, markersize=4, markeredgecolor='white', markeredgewidth=0.5)\n",
    "sns.lineplot(data=plot_df, x='bin_marker_quantiles_median', y='output', hue='construct', palette=main_palette,\n",
    "             style='construct', markers=main_markers, **line_kwargs2, ax=ax,\n",
    "             estimator=sp.stats.variation, errorbar='ci')\n",
    "ax.set(xscale='log', ylabel='CV', xlabel='marker')"
   ]
  },
  {
   "cell_type": "code",
   "execution_count": null,
   "metadata": {},
   "outputs": [],
   "source": []
  }
 ],
 "metadata": {
  "kernelspec": {
   "display_name": "env",
   "language": "python",
   "name": "python3"
  },
  "language_info": {
   "codemirror_mode": {
    "name": "ipython",
    "version": 3
   },
   "file_extension": ".py",
   "mimetype": "text/x-python",
   "name": "python",
   "nbconvert_exporter": "python",
   "pygments_lexer": "ipython3"
  }
 },
 "nbformat": 4,
 "nbformat_minor": 2
}
