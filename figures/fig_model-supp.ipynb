{
 "cells": [
  {
   "cell_type": "code",
   "execution_count": null,
   "metadata": {},
   "outputs": [],
   "source": [
    "import base\n",
    "import matplotlib\n",
    "import matplotlib.pyplot as plt\n",
    "import numpy as np\n",
    "import pandas as pd\n",
    "import rushd as rd\n",
    "import scipy as sp\n",
    "import seaborn as sns\n",
    "\n",
    "# enables concurrent editing of base.py\n",
    "from importlib import reload\n",
    "reload(base)"
   ]
  },
  {
   "cell_type": "markdown",
   "metadata": {},
   "source": [
    "### Load data"
   ]
  },
  {
   "cell_type": "markdown",
   "metadata": {},
   "source": [
    "Load modeling parameter sweeps"
   ]
  },
  {
   "cell_type": "code",
   "execution_count": null,
   "metadata": {},
   "outputs": [],
   "source": [
    "output_path = rd.rootdir/'output'/'fig_model-supp'\n",
    "simulation_path = rd.rootdir/'output'/'modeling'/'julia_param_sweeps'/'per_param'/'sweep_df.gzip'\n",
    "sim_data = pd.DataFrame()\n",
    "if simulation_path.is_file(): \n",
    "    sim_data = pd.read_parquet(simulation_path)"
   ]
  },
  {
   "cell_type": "code",
   "execution_count": null,
   "metadata": {},
   "outputs": [],
   "source": [
    "# Normalize parameter values such that original (middle) value = 1\n",
    "def normalize_param_val(df):\n",
    "    d = df.copy()\n",
    "    vals = d['param_val'].unique()\n",
    "    d['param_val_norm'] = d['param_val'] / (sorted(vals)[int(len(vals)/2)])\n",
    "    return d\n",
    "\n",
    "sim_data = sim_data.groupby('param')[sim_data.columns].apply(normalize_param_val).reset_index(drop=True)\n",
    "display(sim_data)"
   ]
  },
  {
   "cell_type": "code",
   "execution_count": null,
   "metadata": {},
   "outputs": [],
   "source": [
    "display(sim_data.loc[sim_data['param']=='α_p', 'param_val_norm'].unique())"
   ]
  },
  {
   "cell_type": "markdown",
   "metadata": {},
   "source": [
    "### Set up figure"
   ]
  },
  {
   "cell_type": "code",
   "execution_count": null,
   "metadata": {},
   "outputs": [],
   "source": [
    "base_size = base.font_sizes['base_size']\n",
    "smaller_size = base.font_sizes['smaller_size']\n",
    "\n",
    "sns.set_style('ticks')\n",
    "sns.set_context('paper', font_scale=1.0, rc={'font.size': base_size, 'font.family': 'sans-serif', 'font.sans-serif':['Arial']})\n",
    "plt.rcParams.update({'axes.titlesize': base_size, 'axes.labelsize': base_size, 'xtick.labelsize': smaller_size, 'ytick.labelsize': smaller_size,\n",
    "                     'pdf.fonttype': 42, \n",
    "                     'ytick.major.size': 3, 'xtick.major.size': 3, 'ytick.minor.size': 2, 'ytick.major.pad': 2, 'xtick.major.pad': 2, \n",
    "                     'lines.linewidth': 1,\n",
    "                     'axes.spines.right': False, 'axes.spines.top': False, 'axes.labelpad': 2})"
   ]
  },
  {
   "cell_type": "code",
   "execution_count": null,
   "metadata": {},
   "outputs": [],
   "source": [
    "# Create the overall figure, gridspec, and add subfigure labels\n",
    "fig = plt.figure(figsize=(6.8504,3))\n",
    "fig_gridspec = matplotlib.gridspec.GridSpec(2, 4, figure=fig)\n",
    "subfigures = {\n",
    "    'A': fig.add_subfigure(fig_gridspec[0,0]),\n",
    "    'B': fig.add_subfigure(fig_gridspec[1,:]),\n",
    "    'C': fig.add_subfigure(fig_gridspec[0,1]),\n",
    "    'D': fig.add_subfigure(fig_gridspec[0,2]),\n",
    "    'E': fig.add_subfigure(fig_gridspec[0,3]),\n",
    "}\n",
    "for label, subfig in subfigures.items():\n",
    "    subfig.add_artist(matplotlib.text.Text(x=0, y=1, text=f'{label}', fontsize=base.font_sizes['subpanel_label'], \n",
    "                                           fontweight='bold', verticalalignment='top',transform=subfig.transSubfigure))\n",
    "\n",
    "fig_path = output_path/'fig_model-supp.pdf'\n",
    "fig.savefig(rd.outfile(fig_path))\n",
    "\n",
    "greys = matplotlib.colors.ListedColormap(matplotlib.colormaps['Greys'](np.linspace(0.2,0.7,256)))"
   ]
  },
  {
   "cell_type": "code",
   "execution_count": null,
   "metadata": {},
   "outputs": [],
   "source": [
    "subfig = subfigures['A']\n",
    "rd.plot.adjust_subplot_margins_inches(subfig, left=0.55, bottom=0.4, top=0.4, right=0.35)\n",
    "ax = subfig.subplots(1,1)\n",
    "\n",
    "param_labels = {'α_im': 'Transcription, $α_{im}$',}\n",
    "yticks = np.linspace(0,1e4,5)\n",
    "param = list(param_labels.keys())[0]\n",
    "plot_df = sim_data[sim_data['param']==param]\n",
    "sns.lineplot(data=plot_df, x='copy_num', y='protein', hue='param_val_norm', palette=greys, \n",
    "             ax=ax, hue_norm=matplotlib.colors.LogNorm(), legend=False)\n",
    "ax.set(xticks=np.linspace(0,100,5), yticks=yticks, ylim=(0,12e3), xlabel='copy #',\n",
    "       yticklabels=[f'{float(l)/1000:.1f}k' for l in yticks])\n",
    "ax.set_title(param_labels[param], color=base.colors['blue'])\n",
    "\n",
    "fig.savefig(rd.outfile(fig_path))"
   ]
  },
  {
   "cell_type": "code",
   "execution_count": null,
   "metadata": {},
   "outputs": [],
   "source": [
    "subfig = subfigures['B']\n",
    "rd.plot.adjust_subplot_margins_inches(subfig, left=0.55, bottom=0.4, top=0.4, right=0.6)\n",
    "axes = subfig.subplots(1,5, gridspec_kw=dict(wspace=0.4))\n",
    "\n",
    "param_labels = {'r_splicing': 'Splicing, $r_{splicing}$', 'δ_im': 'Primary transcript\\ndeg., $δ_{immature}$', 'r_drosha': 'Dicer processing,\\n$r_{drosha}$',\n",
    "                'δ_mi': 'Free microRNA deg.,\\n$δ_{mi}$', 'k_miRNA_bind': 'RISC loading,\\n$k_{miRNA,bind}$',}\n",
    "last = list(param_labels.keys())[-1]\n",
    "\n",
    "# model: param sweeps\n",
    "for param, ax in zip(param_labels.keys(), axes):\n",
    "    yticks = np.linspace(0,1e4,5)\n",
    "    plot_df = sim_data[sim_data['param']==param]\n",
    "    sns.lineplot(data=plot_df, x='copy_num', y='protein', hue='param_val_norm', palette=greys, \n",
    "                ax=ax, hue_norm=matplotlib.colors.LogNorm(), legend=False)\n",
    "    ax.set(xticks=np.linspace(0,100,5), yticks=yticks, xlabel='', ylim=(0,12e3), ylabel='',\n",
    "           yticklabels=['']*len(yticks),)\n",
    "    ax.set_title(param_labels[param], color=base.colors['purple'])\n",
    "    \n",
    "axes[0].set(yticklabels=[f'{float(l)/1000:.1f}k' for l in yticks], ylabel='protein',)\n",
    "axes[2].set(xlabel='copy #')\n",
    "    \n",
    "fig.savefig(rd.outfile(fig_path))"
   ]
  },
  {
   "cell_type": "code",
   "execution_count": null,
   "metadata": {},
   "outputs": [],
   "source": [
    "subfig = subfigures['C']\n",
    "rd.plot.adjust_subplot_margins_inches(subfig, left=0.55, bottom=0.4, top=0.4, right=0.35)\n",
    "ax = subfig.subplots(1,1)\n",
    "\n",
    "param_labels = {'k_deg': 'microRNA-mediated\\nmRNA deg., $k_{deg}$',}\n",
    "yticks = np.linspace(0,1e4,5)\n",
    "param = list(param_labels.keys())[0]\n",
    "plot_df = sim_data[sim_data['param']==param]\n",
    "sns.lineplot(data=plot_df, x='copy_num', y='protein', hue='param_val_norm', palette=greys, \n",
    "            ax=ax, hue_norm=matplotlib.colors.LogNorm(), legend=False)\n",
    "ax.set(xticks=np.linspace(0,100,5), yticks=yticks, ylim=(0,12e3), xlabel='copy #',\n",
    "       yticklabels=[f'{float(l)/1000:.1f}k' for l in yticks])\n",
    "ax.set_title(param_labels[param], color=base.colors['red'])\n",
    "\n",
    "fig.savefig(rd.outfile(fig_path))"
   ]
  },
  {
   "cell_type": "code",
   "execution_count": null,
   "metadata": {},
   "outputs": [],
   "source": [
    "subfig = subfigures['D']\n",
    "rd.plot.adjust_subplot_margins_inches(subfig, left=0.55, bottom=0.4, top=0.4, right=0.35)\n",
    "ax = subfig.subplots(1,1)\n",
    "\n",
    "param_labels = {'ζ': 'Bound mRNA\\ntranslation, $ζ$',}\n",
    "yticks = np.linspace(0,1e4,5)\n",
    "param = list(param_labels.keys())[0]\n",
    "plot_df = sim_data[sim_data['param']==param]\n",
    "sns.lineplot(data=plot_df, x='copy_num', y='protein', hue='param_val_norm', palette=greys, \n",
    "            ax=ax, hue_norm=matplotlib.colors.LogNorm(), legend=False)\n",
    "ax.set(xticks=np.linspace(0,100,5), yticks=yticks, ylim=(0,12e3), xlabel='copy #',\n",
    "       yticklabels=[f'{float(l)/1000:.1f}k' for l in yticks])\n",
    "ax.set_title(param_labels[param], color=base.colors['orange'])\n",
    "\n",
    "fig.savefig(rd.outfile(fig_path))"
   ]
  },
  {
   "cell_type": "code",
   "execution_count": null,
   "metadata": {},
   "outputs": [],
   "source": [
    "subfig = subfigures['E']\n",
    "rd.plot.adjust_subplot_margins_inches(subfig, left=0.55, bottom=0.4, top=0.4, right=0.35)\n",
    "ax = subfig.subplots(1,1)\n",
    "\n",
    "param_labels = {'δ_m': 'Free mRNA deg.,\\n$δ_{m}$',}\n",
    "yticks = np.linspace(0,1e4,5)\n",
    "param = list(param_labels.keys())[0]\n",
    "plot_df = sim_data[sim_data['param']==param]\n",
    "sns.lineplot(data=plot_df, x='copy_num', y='protein', hue='param_val_norm', palette=greys, \n",
    "            ax=ax, hue_norm=matplotlib.colors.LogNorm(), legend=False)\n",
    "ax.set(xticks=np.linspace(0,100,5), yticks=yticks, ylim=(0,12e3), xlabel='copy #',\n",
    "       yticklabels=[f'{float(l)/1000:.1f}k' for l in yticks], title=param_labels[param])\n",
    "\n",
    "fig.savefig(rd.outfile(fig_path))"
   ]
  },
  {
   "cell_type": "code",
   "execution_count": null,
   "metadata": {},
   "outputs": [],
   "source": []
  }
 ],
 "metadata": {
  "kernelspec": {
   "display_name": "env",
   "language": "python",
   "name": "python3"
  },
  "language_info": {
   "codemirror_mode": {
    "name": "ipython",
    "version": 3
   },
   "file_extension": ".py",
   "mimetype": "text/x-python",
   "name": "python",
   "nbconvert_exporter": "python",
   "pygments_lexer": "ipython3"
  }
 },
 "nbformat": 4,
 "nbformat_minor": 2
}
