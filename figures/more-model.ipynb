{
 "cells": [
  {
   "cell_type": "code",
   "execution_count": null,
   "metadata": {},
   "outputs": [],
   "source": [
    "import base\n",
    "import matplotlib\n",
    "import matplotlib.pyplot as plt\n",
    "import numpy as np\n",
    "import pandas as pd\n",
    "import rushd as rd\n",
    "import scipy as sp\n",
    "import seaborn as sns\n",
    "from statannotations.Annotator import Annotator\n",
    "\n",
    "# enables concurrent editing of base.py\n",
    "from importlib import reload\n",
    "reload(base)"
   ]
  },
  {
   "cell_type": "code",
   "execution_count": null,
   "metadata": {},
   "outputs": [],
   "source": [
    "# Load parameter sweeps from ODE model\n",
    "simulation_path = rd.rootdir/'data'/'slope_sweep_df.gzip'\n",
    "data = pd.DataFrame()\n",
    "if simulation_path.is_file(): \n",
    "    data = pd.read_parquet(simulation_path)\n",
    "display(data)"
   ]
  },
  {
   "cell_type": "code",
   "execution_count": null,
   "metadata": {},
   "outputs": [],
   "source": [
    "# Normalize parameter values such that original (middle) value = 1\n",
    "data = data.groupby('param')[data.columns].apply(base.normalize_param_val).reset_index(drop=True)\n",
    "\n",
    "# Compute value of unregulated gene\n",
    "alpha_rna = 4.67e-2     # params from `miR_iFFL.jl`\n",
    "delta_mrna = 2.88e-4\n",
    "alpha_p = 3.33e-4\n",
    "delta_p = 9.67e-5\n",
    "data['unreg'] = data['copy_num'] * (alpha_rna * alpha_p) / (delta_mrna * delta_p)\n",
    "\n",
    "# Compute instantaneous slope for each param & param_val \n",
    "col_list = ['copy_num','protein']\n",
    "slopes = data.groupby(['param','param_val','param_val_norm'])[data.columns].apply(lambda x: base.get_slope_instant(x, *col_list)).rename('slope').reset_index()\n",
    "slopes['base_norm_factor'] = (delta_mrna * delta_p) / (alpha_rna * alpha_p)\n",
    "\n",
    "result = slopes.groupby(['param','param_val_norm'])[slopes.columns].apply(base.modify_norm_factor).rename('norm_factor').reset_index()\n",
    "slopes['norm_factor'] = result['norm_factor']\n",
    "slopes['slope_norm'] = slopes['slope'] * slopes['norm_factor']\n",
    "slopes['gene'] = 'output'\n",
    "\n",
    "# Compute slope for unregulated gene -> delta slope\n",
    "by = ['param','param_val']\n",
    "slopes_unreg = data.groupby(by)[data.columns].apply(lambda x: base.get_slope_instant(x, *['copy_num','unreg'])).rename('slope').reset_index()\n",
    "slopes_unreg['norm_factor'] = result['norm_factor']\n",
    "slopes_unreg['slope_norm'] = slopes_unreg['slope'] * slopes_unreg['norm_factor']\n",
    "slopes_unreg['gene'] = 'marker'\n",
    "\n",
    "delta_slopes = slopes.merge(slopes_unreg, on=by, suffixes=['_output','_marker'])\n",
    "delta_slopes['delta_slope'] = delta_slopes['slope_norm_marker'] - delta_slopes['slope_norm_output']\n",
    "delta_slopes.drop(columns=['base_norm_factor','norm_factor_output','gene_output','norm_factor_marker','gene_marker'], inplace=True)\n",
    "slopes = pd.concat([slopes, slopes_unreg])\n",
    "\n",
    "display(slopes)\n",
    "display(delta_slopes)"
   ]
  },
  {
   "cell_type": "code",
   "execution_count": null,
   "metadata": {},
   "outputs": [],
   "source": [
    "delta_slopes['slope_ratio'] = delta_slopes['slope_norm_output'] / delta_slopes['slope_norm_marker']"
   ]
  },
  {
   "cell_type": "code",
   "execution_count": null,
   "metadata": {},
   "outputs": [],
   "source": [
    "f = sns.relplot(data=slopes, x='param_val_norm', y='slope_norm', col='param',\n",
    "                kind='line', col_wrap=3, hue='gene')\n",
    "f.set(xscale='log')"
   ]
  },
  {
   "cell_type": "code",
   "execution_count": null,
   "metadata": {},
   "outputs": [],
   "source": [
    "display(slopes.param.unique())"
   ]
  },
  {
   "cell_type": "code",
   "execution_count": null,
   "metadata": {},
   "outputs": [],
   "source": [
    "params = ['α_im','α_p','δ_m','δ_p']\n",
    "plot_df = slopes[slopes.param.isin(params)]\n",
    "f = sns.relplot(data=plot_df, x='param_val_norm', y='slope_norm', col='param',\n",
    "                kind='line', col_wrap=2, hue='gene')\n",
    "f.set(xscale='log')"
   ]
  },
  {
   "cell_type": "code",
   "execution_count": null,
   "metadata": {},
   "outputs": [],
   "source": [
    "params = ['k_deg','k_mRNA_bind','k_mRNA_unbind','Rtot']\n",
    "plot_df = slopes[slopes.param.isin(params)]\n",
    "f = sns.relplot(data=plot_df, x='param_val_norm', y='slope_norm', col='param',\n",
    "                kind='line', col_wrap=3, hue='gene')\n",
    "f.set(xscale='log')"
   ]
  },
  {
   "cell_type": "code",
   "execution_count": null,
   "metadata": {},
   "outputs": [],
   "source": [
    "params = ['α_im','α_p','δ_m','δ_p']\n",
    "plot_df = delta_slopes[delta_slopes.param.isin(params)]\n",
    "f = sns.lineplot(data=plot_df, x='param_val_norm', y='delta_slope', hue='param',)\n",
    "f.set(xscale='log')\n",
    "f.axhline(1, color='black', ls=':', zorder=0)"
   ]
  },
  {
   "cell_type": "code",
   "execution_count": null,
   "metadata": {},
   "outputs": [],
   "source": [
    "params = ['k_deg','k_mRNA_bind','k_mRNA_unbind','Rtot']\n",
    "plot_df = delta_slopes[delta_slopes.param.isin(params)]\n",
    "f = sns.lineplot(data=plot_df, x='param_val_norm', y='delta_slope', hue='param',)\n",
    "f.set(xscale='log')\n",
    "f.axhline(1, color='black', ls=':', zorder=0)"
   ]
  },
  {
   "cell_type": "code",
   "execution_count": null,
   "metadata": {},
   "outputs": [],
   "source": [
    "params = ['k_deg','k_mRNA_bind','Rtot','α_im','α_p']\n",
    "plot_df = delta_slopes[delta_slopes.param.isin(params)]\n",
    "f = sns.lineplot(data=plot_df, x='param_val_norm', y='delta_slope', hue='param',)\n",
    "f.set(xscale='log')\n",
    "f.axhline(1, color='black', ls=':', zorder=0)"
   ]
  },
  {
   "cell_type": "markdown",
   "metadata": {},
   "source": [
    "### Compare to data"
   ]
  },
  {
   "cell_type": "markdown",
   "metadata": {},
   "source": [
    "Load lenti data for all cell types (`data`)"
   ]
  },
  {
   "cell_type": "code",
   "execution_count": null,
   "metadata": {},
   "outputs": [],
   "source": [
    "base_path = rd.datadir/'instruments'/'data'/'attune'\n",
    "metadata_path = rd.datadir/'projects'/'miR-iFFL'/'plasmids'\n",
    "data, quantiles, stats, metadata = base.load_data(base_path, metadata_path, 'lenti')"
   ]
  },
  {
   "cell_type": "code",
   "execution_count": null,
   "metadata": {},
   "outputs": [],
   "source": [
    "# Create dicts to specify colors/markers\n",
    "metadata_dict = metadata.set_index('construct').to_dict('dict')\n",
    "main_palette = metadata_dict['color']\n",
    "main_markers = metadata_dict['markers']"
   ]
  },
  {
   "cell_type": "code",
   "execution_count": null,
   "metadata": {},
   "outputs": [],
   "source": [
    "subset = stats[((stats['cell']=='neuron') & (stats['moi']==7) & ~(stats['name'].str.contains('FXN')) & ~(stats['name'].str.contains('FMRP'))) |\n",
    "                 ((stats['cell'].isin(['MEF','tcell','iPS11'])) & (stats['dox']==1000) & (stats['moi']==1) & (stats['group'].isin(['base','controller'])) & (stats['design']<2))]\n",
    "subset = subset[['cell','biorep','ts_kind','slope']]\n",
    "\n",
    "subset_T = subset[subset.ts_kind=='T']\n",
    "subset_NT = subset[subset.ts_kind=='NT']\n",
    "data_slopes = subset_NT.merge(subset_T, on=['cell','biorep'], suffixes=['_NT','_T'])\n",
    "data_slopes['delta_slope'] = data_slopes['slope_NT'] - data_slopes['slope_T']\n",
    "display(data_slopes)\n"
   ]
  },
  {
   "cell_type": "code",
   "execution_count": null,
   "metadata": {},
   "outputs": [],
   "source": [
    "f = sns.pointplot(data=data_slopes, x='cell', y='delta_slope',\n",
    "                  **base.scatter_kwargs, order=['neuron','MEF','tcell','iPS11'])\n",
    "f.set(ylim=(0,1))"
   ]
  },
  {
   "cell_type": "code",
   "execution_count": null,
   "metadata": {},
   "outputs": [],
   "source": [
    "fig, axes = plt.subplots(1,5, figsize=(15,3), gridspec_kw=dict(wspace=0.4))\n",
    "ax = axes[0]\n",
    "params = ['k_deg','k_mRNA_bind','Rtot']\n",
    "for param in params:\n",
    "    plot_df = slopes[slopes.param==param]\n",
    "    sns.lineplot(data=plot_df, x='param_val_norm', y='slope_norm', hue='gene', ax=ax,\n",
    "                 legend=False, palette={'output': base.colors['teal'], 'marker': base.colors['black']})\n",
    "ax.set(xscale='log', xlabel='Norm. parameter', ylabel='slope')\n",
    "\n",
    "ax = axes[1]\n",
    "plot_df = delta_slopes[delta_slopes.param.isin(params)]\n",
    "sns.lineplot(data=plot_df, x='param_val_norm', y='slope_ratio', hue='param', ax=ax,)\n",
    "ax.set(xscale='log', xlabel='Norm. parameter', ylabel='slope ratio')\n",
    "\n",
    "ax = axes[2]\n",
    "params = ['α_im','α_p']\n",
    "for param in params:\n",
    "    plot_df = slopes[slopes.param==param]\n",
    "    sns.lineplot(data=plot_df, x='param_val_norm', y='slope_norm', hue='gene', ax=ax,\n",
    "                 legend=False, palette={'output': base.colors['teal'], 'marker': base.colors['black']})\n",
    "ax.set(xscale='log', xlabel='Norm. parameter', ylabel='slope')\n",
    "\n",
    "ax = axes[3]\n",
    "plot_df = delta_slopes[delta_slopes.param.isin(params)]\n",
    "sns.lineplot(data=plot_df, x='param_val_norm', y='slope_ratio', hue='param', ax=ax)\n",
    "ax.set(xscale='log', xlabel='Norm. parameter', ylabel='slope ratio')\n",
    "\n",
    "ax = axes[4]\n",
    "sns.pointplot(data=data_slopes, x='cell', y='delta_slope', ax=ax,\n",
    "              **base.scatter_kwargs, order=['neuron','MEF','tcell','iPS11'])\n",
    "ax.set(ylim=(0,1), ylabel='$\\Delta$ slope')\n",
    "\n",
    "for ax in axes: sns.despine(ax=ax)\n",
    "\n",
    "fig.savefig(rd.outfile(rd.rootdir/'output'/'more-modeling'/'summary.png'))"
   ]
  },
  {
   "cell_type": "code",
   "execution_count": null,
   "metadata": {},
   "outputs": [],
   "source": [
    "data_slopes['slope_ratio'] = data_slopes['slope_T'] / data_slopes['slope_NT']"
   ]
  },
  {
   "cell_type": "code",
   "execution_count": null,
   "metadata": {},
   "outputs": [],
   "source": [
    "g = sns.pointplot(data=data_slopes, x='cell', y='slope_ratio',\n",
    "              **base.scatter_kwargs, order=['neuron','MEF','tcell','iPS11'])\n",
    "g.set(ylim=(0,1), ylabel='slope ratio')"
   ]
  }
 ],
 "metadata": {
  "kernelspec": {
   "display_name": "env",
   "language": "python",
   "name": "python3"
  },
  "language_info": {
   "codemirror_mode": {
    "name": "ipython",
    "version": 3
   },
   "file_extension": ".py",
   "mimetype": "text/x-python",
   "name": "python",
   "nbconvert_exporter": "python",
   "pygments_lexer": "ipython3"
  }
 },
 "nbformat": 4,
 "nbformat_minor": 2
}
