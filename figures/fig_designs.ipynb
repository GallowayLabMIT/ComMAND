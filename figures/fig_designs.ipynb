{
 "cells": [
  {
   "cell_type": "code",
   "execution_count": null,
   "metadata": {},
   "outputs": [],
   "source": [
    "import base\n",
    "import matplotlib\n",
    "import matplotlib.pyplot as plt\n",
    "import numpy as np\n",
    "import pandas as pd\n",
    "import rushd as rd\n",
    "import scipy as sp\n",
    "import seaborn as sns\n",
    "from statannotations.Annotator import Annotator\n",
    "\n",
    "# enables concurrent editing of base.py\n",
    "from importlib import reload\n",
    "reload(base)"
   ]
  },
  {
   "cell_type": "markdown",
   "metadata": {},
   "source": [
    "### Load data"
   ]
  },
  {
   "cell_type": "markdown",
   "metadata": {},
   "source": [
    "Circuit tuning data (`data`)"
   ]
  },
  {
   "cell_type": "code",
   "execution_count": null,
   "metadata": {},
   "outputs": [],
   "source": [
    "base_path = rd.datadir/'instruments'/'data'/'attune'\n",
    "metadata_path = rd.datadir/'projects'/'miR-iFFL'/'plasmids'\n",
    "data, quantiles, stats, metadata = base.load_data(base_path, metadata_path, 'tuning', 'designs')"
   ]
  },
  {
   "cell_type": "code",
   "execution_count": null,
   "metadata": {},
   "outputs": [],
   "source": [
    "# Create dicts to specify colors/markers\n",
    "metadata_dict = metadata.set_index('construct').to_dict('dict')\n",
    "designs_palette = metadata_dict['color']\n",
    "designs_markers = metadata_dict['markers']"
   ]
  },
  {
   "cell_type": "markdown",
   "metadata": {},
   "source": [
    "Load data from 293T, MEF lenti infections (`data_lenti`)"
   ]
  },
  {
   "cell_type": "code",
   "execution_count": null,
   "metadata": {},
   "outputs": [],
   "source": [
    "data_lenti, quantiles_lenti, stats_lenti, _ = base.load_data(base_path, metadata_path, 'lenti')"
   ]
  },
  {
   "cell_type": "markdown",
   "metadata": {},
   "source": [
    "### Set up figure"
   ]
  },
  {
   "cell_type": "code",
   "execution_count": null,
   "metadata": {},
   "outputs": [],
   "source": [
    "# Set plotting context\n",
    "sns.set_style('ticks')\n",
    "sns.set_context('paper', font_scale=1.0, rc=base.rc_context)\n",
    "plt.rcParams.update(base.rc_params)\n",
    "scatter_kwargs = base.scatter_kwargs\n",
    "scatter_kwargs['jitter'] = 0.1\n",
    "annotate_kwargs = base.annotate_kwargs\n",
    "\n",
    "# Create the overall figure, gridspec, and add subfigure labels\n",
    "fig = plt.figure(figsize=(base.figure_width['1.5-column'], 4.5))\n",
    "fig_gridspec = matplotlib.gridspec.GridSpec(3, 6, figure=fig, wspace=0.4, hspace=0.4, \n",
    "                                            height_ratios=([1.25,1.75,1.5]), width_ratios=[1,1.2,0.8,1.2,0.8,1])\n",
    "\n",
    "subfigures = {\n",
    "    'A': fig.add_subfigure(fig_gridspec[0,:]),\n",
    "    'B': fig.add_subfigure(fig_gridspec[1,:3]),\n",
    "    'C': fig.add_subfigure(fig_gridspec[1,3:]),\n",
    "    'D': fig.add_subfigure(fig_gridspec[2,:2]),\n",
    "    'D2': fig.add_subfigure(fig_gridspec[2,2:4]),\n",
    "    'D3': fig.add_subfigure(fig_gridspec[2,4:]),\n",
    "}\n",
    "\n",
    "# Add subpanel labels\n",
    "for label, subfig in subfigures.items():\n",
    "    if '2' in label: continue\n",
    "    if '3' in label: continue\n",
    "    subfig.add_artist(matplotlib.text.Text(x=0, y=1, text=f'{label}', fontsize=base.font_sizes['subpanel_label'], \n",
    "                                           fontweight='bold', verticalalignment='top',transform=subfig.transSubfigure))\n",
    "\n",
    "# Save to output folder\n",
    "output_path = rd.rootdir/'output'/'fig_designs'/'fig_designs.pdf'\n",
    "fig.savefig(rd.outfile(output_path))"
   ]
  },
  {
   "cell_type": "code",
   "execution_count": null,
   "metadata": {},
   "outputs": [],
   "source": [
    "def designs_stats_plots(axes, plot_df, marker_baseline=None, ylim_mean=None, ylim_slope=(0,1.2)):\n",
    "\n",
    "    xlim = (-0.5, len(plot_df['design'].unique())-0.5)\n",
    "\n",
    "    # stat gmean\n",
    "    ax = axes[0]\n",
    "    for construct, group in plot_df.groupby('construct'):\n",
    "        sns.stripplot(data=group, x='design', y='output_gmean', hue='construct', palette=designs_palette,\n",
    "                      ax=ax, marker=designs_markers[construct], **scatter_kwargs)\n",
    "    ax.set(title='Output mean', xlim=xlim, xlabel='design', ylabel='', yscale='log', ylim=ylim_mean,)\n",
    "    if marker_baseline: ax.axhline(marker_baseline, color='black', ls=':')\n",
    "    ax.minorticks_off()\n",
    "\n",
    "    # slope\n",
    "    ax = axes[1]\n",
    "    for construct, group in plot_df.groupby('construct'):\n",
    "        sns.stripplot(data=group, x='design', y='slope', hue='construct', palette=designs_palette,\n",
    "                      ax=ax, marker=designs_markers[construct], **scatter_kwargs)\n",
    "    ax.set(title='Slope', xlim=xlim, xlabel='', ylabel='', ylim=ylim_slope,\n",
    "        yticks=[0,0.25,0.5,0.75,1], yticklabels=['0.0','','0.5','','1.0'])\n",
    "\n",
    "    for ax in axes: \n",
    "        sns.despine(ax=ax)\n",
    "        ax.set(xticklabels=[l.get_text() if l.get_text()!='0' else 'base' for l in ax.get_xticklabels()])\n",
    "\n",
    "    # perform statistical tests\n",
    "    pairs = [('base','CL'), ('OL','CL')]\n",
    "    designs = plot_df['design'].unique()\n",
    "    f, axes = plt.subplots(1,len(designs)-1, figsize=(5,2), gridspec_kw=dict(wspace=0.5))\n",
    "    print('-------- OUTPUT MEAN --------\\n')\n",
    "    for ax, design in zip(axes, designs[1:]):\n",
    "        print('Design: '+str(design))\n",
    "        test_df = plot_df[(plot_df['design']==design) | (plot_df['group']=='base')]\n",
    "        sns.stripplot(data=test_df, x='ts_label', y='output_gmean', ax=ax, hue='construct', palette=designs_palette, legend=False)\n",
    "        ax.set(ylabel='', xlabel='', title=str(design), yscale='log')\n",
    "\n",
    "        annotator = Annotator(ax, pairs, data=test_df, x='ts_label', y='output_gmean')\n",
    "        annotator.configure(**annotate_kwargs,).apply_and_annotate()\n",
    "        print('\\n')\n",
    "    axes[0].set(ylabel='Output mean')\n",
    "\n",
    "    f, axes = plt.subplots(1,len(designs)-1, figsize=(5,2), gridspec_kw=dict(wspace=0.5))\n",
    "    print('-------- SLOPE --------\\n')\n",
    "    for ax, design in zip(axes, designs[1:]):\n",
    "        print('Design: '+str(design))\n",
    "        test_df = plot_df[(plot_df['design']==design) | (plot_df['group']=='base')]\n",
    "        sns.stripplot(data=test_df, x='ts_label', y='slope', ax=ax, hue='construct', palette=designs_palette, legend=False)\n",
    "        ax.set(ylabel='', xlabel='', title=str(design))\n",
    "\n",
    "        annotator = Annotator(ax, pairs, data=test_df, x='ts_label', y='slope')\n",
    "        annotator.configure(**annotate_kwargs,).apply_and_annotate()\n",
    "        print('\\n')\n",
    "    axes[0].set(ylabel='Slope')"
   ]
  },
  {
   "cell_type": "code",
   "execution_count": null,
   "metadata": {},
   "outputs": [],
   "source": [
    "subfig = subfigures['B']\n",
    "rd.plot.adjust_subplot_margins_inches(subfig, left=0.5, bottom=0.4, top=0.65, right=0.12)\n",
    "axes = subfig.subplots(1,2, gridspec_kw=dict(width_ratios=(1,1), wspace=0.45))\n",
    "\n",
    "# transfection\n",
    "plot_df = stats[(((stats['miR']=='miRE.FF4') & (stats['group']=='controller') & (stats['ts_num']==1)) | (stats['group']=='base')) &\n",
    "                       (stats['promoter']=='EF1a')]\n",
    "marker_baseline = stats.loc[(stats['group']=='marker'), 'output_gmean'].mean()\n",
    "\n",
    "designs_stats_plots(axes, plot_df, marker_baseline=marker_baseline, ylim_mean=(2e1,2e4), ylim_slope=(0,1.3))\n",
    "\n",
    "fig.savefig(rd.outfile(output_path))"
   ]
  },
  {
   "cell_type": "code",
   "execution_count": null,
   "metadata": {},
   "outputs": [],
   "source": [
    "subfig = subfigures['C']\n",
    "rd.plot.adjust_subplot_margins_inches(subfig, left=0.5, bottom=0.4, top=0.65, right=0.12)\n",
    "axes = subfig.subplots(1,2, gridspec_kw=dict(width_ratios=(1,1), wspace=0.4))\n",
    "\n",
    "# lenti (HEK293T)\n",
    "plot_df = stats_lenti[stats_lenti['group'].isin(['controller','base']) & (stats_lenti['dox']==1000) & (stats_lenti['moi']==1) & \n",
    "                      (stats_lenti['cell']=='293T') & ~((stats_lenti['biorep']<4) & (stats_lenti['design']==3))]\n",
    "marker_baseline = np.mean(data_lenti[(data_lenti['construct']=='UT') & (data_lenti['cell_type']=='293T')].groupby(['exp','biorep'])['output'].apply(sp.stats.gmean))\n",
    "\n",
    "designs_stats_plots(axes, plot_df, marker_baseline, ylim_mean=(3e1,7e2), ylim_slope=(0,1))\n",
    "axes[0].minorticks_on()\n",
    "axes[0].xaxis.set_tick_params(which='minor', bottom=False)\n",
    "\n",
    "fig.savefig(rd.outfile(output_path))"
   ]
  },
  {
   "cell_type": "code",
   "execution_count": null,
   "metadata": {},
   "outputs": [],
   "source": [
    "plot_df = quantiles_lenti[(quantiles_lenti['group'].isin(['controller','base'])) & (quantiles_lenti['dox']==1000) & \n",
    "                             (quantiles_lenti['virus_dilution']==1) & (quantiles_lenti['cell']=='293T') &\n",
    "                             (((quantiles_lenti['biorep']==1) & (quantiles_lenti['design'].isin([1,2]))) | \n",
    "                              ((quantiles_lenti['biorep']==5) & (quantiles_lenti['design'].isin([0,3]))))]\n",
    "designs_list = [[0,1], [2], [3]]\n",
    "marker_baseline = np.mean(data_lenti[(data_lenti['construct']=='UT') & (data_lenti['cell_type']=='293T')].groupby(['exp','biorep'])['output'].apply(sp.stats.gmean))\n",
    "\n",
    "# Set axes limits for joint plots\n",
    "xlim = (2e3,6e4)\n",
    "ylim = (1e1,5e3)\n",
    "\n",
    "subfig = subfigures['D']\n",
    "rd.plot.adjust_subplot_margins_inches(subfig, left=0.5, bottom=0.35, top=0.35, right=0.05)\n",
    "axes = subfig.subplots(1,2,  gridspec_kw=dict(width_ratios=(1,0.4), hspace=0.88))\n",
    "\n",
    "# line plot\n",
    "ax = axes[0]\n",
    "d = plot_df[plot_df['design'].isin(designs_list[0])].copy()\n",
    "sns.lineplot(data=d, x='bin_marker_quantiles_median', y='output', hue='construct', palette=designs_palette, \n",
    "            legend=False, dashes=False, style='construct', markers=designs_markers, ax=ax, markersize=4, markeredgewidth=0.5,\n",
    "            estimator=sp.stats.gmean, errorbar=lambda x: (sp.stats.gmean(x) / sp.stats.gstd(x), sp.stats.gmean(x) * sp.stats.gstd(x)))\n",
    "ax.set(xscale='log', yscale='log', xlabel='marker', ylim=ylim, xlim=xlim)\n",
    "sns.despine(ax=ax)\n",
    "ax.axhline(marker_baseline, color='black', ls=':')\n",
    "ax.minorticks_on()\n",
    "ax.yaxis.set_tick_params(which='minor', left=False)\n",
    "ax.set_title('Design 1', color=base.colors['teal'])\n",
    "\n",
    "# histogram\n",
    "ax = axes[1]\n",
    "sns.kdeplot(data=d, y='output', hue='construct', palette=designs_palette, \n",
    "            legend=False, log_scale=True, common_norm=False, ax=ax)\n",
    "sns.despine(ax=ax, bottom=True)\n",
    "ax.set(xlabel='', ylim=axes[0].get_ylim(), ylabel='', yticklabels=[])\n",
    "ax.get_xaxis().set_visible(False)\n",
    "ax.minorticks_off()\n",
    "\n",
    "fig.savefig(rd.outfile(output_path))"
   ]
  },
  {
   "cell_type": "code",
   "execution_count": null,
   "metadata": {},
   "outputs": [],
   "source": [
    "subfig = subfigures['D2']\n",
    "rd.plot.adjust_subplot_margins_inches(subfig, left=0.3, bottom=0.35, top=0.35, right=0.1)\n",
    "axes = subfig.subplots(1,2,  gridspec_kw=dict(width_ratios=(1,0.4), hspace=0.88))\n",
    "\n",
    "# line plot\n",
    "ax = axes[0]\n",
    "d = plot_df[plot_df['design'].isin(designs_list[1])].copy()\n",
    "sns.lineplot(data=d, x='bin_marker_quantiles_median', y='output', hue='construct', palette=designs_palette, \n",
    "            legend=False, dashes=False, style='construct', markers=designs_markers, ax=ax, markersize=4, markeredgewidth=0.5,\n",
    "            estimator=sp.stats.gmean, errorbar=lambda x: (sp.stats.gmean(x) / sp.stats.gstd(x), sp.stats.gmean(x) * sp.stats.gstd(x)))\n",
    "ax.set(xscale='log', yscale='log', xlabel='marker', ylim=ylim, xlim=xlim, ylabel='')\n",
    "sns.despine(ax=ax)\n",
    "ax.axhline(marker_baseline, color='black', ls=':')\n",
    "ax.minorticks_on()\n",
    "ax.yaxis.set_tick_params(which='minor', left=False)\n",
    "ax.set_title('Design 2', color=base.colors['orange'])\n",
    "\n",
    "# histogram\n",
    "ax = axes[1]\n",
    "sns.kdeplot(data=d, y='output', hue='construct', palette=designs_palette, \n",
    "            legend=False, log_scale=True, common_norm=False, ax=ax)\n",
    "sns.despine(ax=ax, bottom=True)\n",
    "ax.set(xlabel='', ylim=axes[0].get_ylim(), ylabel='', yticklabels=[])\n",
    "ax.get_xaxis().set_visible(False)\n",
    "ax.minorticks_off()\n",
    "\n",
    "fig.savefig(rd.outfile(output_path))"
   ]
  },
  {
   "cell_type": "code",
   "execution_count": null,
   "metadata": {},
   "outputs": [],
   "source": [
    "subfig = subfigures['D3']\n",
    "rd.plot.adjust_subplot_margins_inches(subfig, left=0.25, bottom=0.35, top=0.35, right=0.05)\n",
    "axes = subfig.subplots(1,2,  gridspec_kw=dict(width_ratios=(1,0.4), hspace=0.88))\n",
    "\n",
    "# line plot\n",
    "ax = axes[0]\n",
    "d = plot_df[plot_df['design'].isin(designs_list[2])].copy()\n",
    "sns.lineplot(data=d, x='bin_marker_quantiles_median', y='output', hue='construct', palette=designs_palette, \n",
    "            legend=False, dashes=False, style='construct', markers=designs_markers, ax=ax, markersize=4, markeredgewidth=0.5,\n",
    "            estimator=sp.stats.gmean, errorbar=lambda x: (sp.stats.gmean(x) / sp.stats.gstd(x), sp.stats.gmean(x) * sp.stats.gstd(x)))\n",
    "ax.set(xscale='log', yscale='log', xlabel='marker', ylim=ylim, xlim=xlim, ylabel='')\n",
    "sns.despine(ax=ax)\n",
    "ax.axhline(marker_baseline, color='black', ls=':')\n",
    "ax.minorticks_on()\n",
    "ax.yaxis.set_tick_params(which='minor', left=False)\n",
    "ax.set_title('Design 3', color=base.colors['red'])\n",
    "\n",
    "# histogram\n",
    "ax = axes[1]\n",
    "sns.kdeplot(data=d, y='output', hue='construct', palette=designs_palette, \n",
    "            legend=False, log_scale=True, common_norm=False, ax=ax)\n",
    "sns.despine(ax=ax, bottom=True)\n",
    "ax.set(xlabel='', ylim=axes[0].get_ylim(), ylabel='', yticklabels=[])\n",
    "ax.get_xaxis().set_visible(False)\n",
    "ax.minorticks_off()\n",
    "\n",
    "fig.savefig(rd.outfile(output_path))"
   ]
  },
  {
   "cell_type": "code",
   "execution_count": null,
   "metadata": {},
   "outputs": [],
   "source": [
    "# Save to OneDrive\n",
    "fig.savefig(rd.outfile(rd.datadir/'manuscripts'/'2024_miR-iFFL'/'figures'/'links'/'fig_designs.pdf'))"
   ]
  },
  {
   "cell_type": "code",
   "execution_count": null,
   "metadata": {},
   "outputs": [],
   "source": []
  }
 ],
 "metadata": {
  "kernelspec": {
   "display_name": "env",
   "language": "python",
   "name": "python3"
  },
  "language_info": {
   "codemirror_mode": {
    "name": "ipython",
    "version": 3
   },
   "file_extension": ".py",
   "mimetype": "text/x-python",
   "name": "python",
   "nbconvert_exporter": "python",
   "pygments_lexer": "ipython3"
  }
 },
 "nbformat": 4,
 "nbformat_minor": 2
}
