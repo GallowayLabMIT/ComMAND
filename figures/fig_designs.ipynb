{
 "cells": [
  {
   "cell_type": "markdown",
   "metadata": {},
   "source": [
    "### Setup"
   ]
  },
  {
   "cell_type": "code",
   "execution_count": null,
   "metadata": {},
   "outputs": [],
   "source": [
    "import base\n",
    "import matplotlib\n",
    "import matplotlib.pyplot as plt\n",
    "import numpy as np\n",
    "import pandas as pd\n",
    "import rushd as rd\n",
    "import scipy as sp\n",
    "import seaborn as sns\n",
    "\n",
    "from importlib import reload\n",
    "reload(base)"
   ]
  },
  {
   "cell_type": "code",
   "execution_count": null,
   "metadata": {},
   "outputs": [],
   "source": [
    "base_size = base.font_sizes['base_size']\n",
    "\n",
    "sns.set_style('ticks')\n",
    "sns.set_context('paper')\n",
    "sns.set_context('paper', font_scale=1.0, rc={'font.size': base_size, 'font.family': 'sans-serif', 'font.sans-serif':['Helvetica Neue']})\n",
    "plt.rcParams.update({'axes.titlesize': base_size, 'axes.labelsize': base_size, 'xtick.labelsize': base_size, 'ytick.labelsize': base_size})"
   ]
  },
  {
   "cell_type": "code",
   "execution_count": null,
   "metadata": {},
   "outputs": [],
   "source": [
    "output_path = rd.rootdir/'output'/'fig_designs'\n",
    "cache_path = rd.rootdir/'output'/'tuning'/'miR-FF5'/'df_binned_miR-FF5.gzip'\n",
    "\n",
    "# Load data\n",
    "data = pd.DataFrame()\n",
    "if cache_path.is_file(): data = pd.read_parquet(cache_path).dropna()\n",
    "display(data)"
   ]
  },
  {
   "cell_type": "code",
   "execution_count": null,
   "metadata": {},
   "outputs": [],
   "source": [
    "# Create dicts to specify colors/markers\n",
    "metadata = base.get_metadata(rd.datadir/'projects'/'miR-iFFL'/'plasmids'/'construct-metadata.xlsx')\n",
    "metadata['TS'] = metadata['ts_kind']\n",
    "metadata_dict = metadata.set_index('construct').to_dict('dict')\n",
    "construct_palette = metadata_dict['color']\n",
    "construct_markers = metadata_dict['markers']"
   ]
  },
  {
   "cell_type": "code",
   "execution_count": null,
   "metadata": {},
   "outputs": [],
   "source": [
    "# Group and compute stats\n",
    "stat_list = [np.mean, np.std, sp.stats.gmean, sp.stats.gstd, sp.stats.variation]\n",
    "grouped = data.groupby(by=['construct','biorep','exp'])\n",
    "stats = grouped[['marker','output']].agg(stat_list).reset_index().dropna()\n",
    "\n",
    "# Rename columns as 'col_stat'\n",
    "stats.columns = stats.columns.map(lambda i: base.rename_multilevel_cols(i))\n",
    "stats['count'] = grouped['marker'].count().reset_index()['marker']\n",
    "stats = stats.merge(metadata, how='left', on='construct')\n",
    "stats.sort_values(['design','ts_kind','ts_num'], inplace=True)\n",
    "\n",
    "display(stats)"
   ]
  },
  {
   "cell_type": "code",
   "execution_count": null,
   "metadata": {},
   "outputs": [],
   "source": [
    "stat_name = {'output_gmean': 'Geometric mean', 'output_std': 'Standard deviation', 'output_variation': 'Coefficient of variation'}"
   ]
  },
  {
   "cell_type": "markdown",
   "metadata": {},
   "source": [
    "### Figure"
   ]
  },
  {
   "cell_type": "code",
   "execution_count": null,
   "metadata": {},
   "outputs": [],
   "source": [
    "# Create the overall figure, gridspec, and add subfigure labels.\n",
    "fig = plt.figure(figsize=(7.5,4))\n",
    "fig_gridspec = matplotlib.gridspec.GridSpec(3, 3, figure=fig,\n",
    "    wspace=0.4, hspace=0.4, height_ratios=[0.4,1,1], width_ratios=[1,3,1])\n",
    "subfigures = {\n",
    "    'A': fig.add_subfigure(fig_gridspec[0,:2]),\n",
    "    'B': fig.add_subfigure(fig_gridspec[1,:2]),\n",
    "    'C': fig.add_subfigure(fig_gridspec[2,:2]),\n",
    "    'D': fig.add_subfigure(fig_gridspec[:,2]),\n",
    "}\n",
    "for label, subfig in subfigures.items():\n",
    "    subfig.add_artist(matplotlib.text.Text(x=0, y=1, text=f'{label}.', fontsize=base.font_sizes['subpanel_label'], fontweight='bold', verticalalignment='top',transform=subfig.transSubfigure))\n",
    "\n",
    "fig_path = output_path/'fig_designs.pdf'\n",
    "fig.savefig(rd.outfile(fig_path), bbox_inches='tight')"
   ]
  },
  {
   "cell_type": "code",
   "execution_count": null,
   "metadata": {},
   "outputs": [],
   "source": [
    "subfig = subfigures['B']\n",
    "rd.plot.adjust_subplot_margins_inches(subfig, left=2.3, bottom=0.5, top=0.05, right=0.2)\n",
    "axes = subfig.subplots(ncols=3, sharex=True, sharey=True, gridspec_kw={'wspace': 0.2})\n",
    "\n",
    "for i,ax in enumerate(axes):\n",
    "    plot_df = data[(data['group']=='controller') & (data['biorep']==1) & (data['design']==i+1)] #[(data['miR']=='miR.FF5') & (data['promoter']=='CMV') & (data['biorep']==2) & (data['design']==i+1) & (data['output_norm']>1) & (data['ts']!='FF5x4')]\n",
    "    sns.lineplot(data=plot_df, x='bin_marker_median_norm', y='output_norm', hue='construct', palette=construct_palette, \n",
    "                 style='construct', markers=construct_markers, ax=ax, legend=False, \n",
    "                 estimator='mean', errorbar='sd',)\n",
    "                 #estimator=sp.stats.gmean, errorbar=lambda x: (sp.stats.gmean(x) / sp.stats.gstd(x), sp.stats.gmean(x) * sp.stats.gstd(x)))\n",
    "    ax.set(xscale='log', yscale='log',xlabel='')\n",
    "    sns.despine(ax=ax)\n",
    "    ax.minorticks_on()\n",
    "    ax.grid()\n",
    "axes[0].set(xlabel='Normalized marker', ylabel='Normalized output')\n",
    "\n",
    "fig.savefig(rd.outfile(fig_path))"
   ]
  },
  {
   "cell_type": "code",
   "execution_count": null,
   "metadata": {},
   "outputs": [],
   "source": [
    "subfig = subfigures['C']\n",
    "rd.plot.adjust_subplot_margins_inches(subfig, left=2.3, bottom=0.45, top=0.05, right=0.2)\n",
    "axes = subfig.subplots(ncols=3, sharex=True, sharey=True, gridspec_kw={'wspace': 0.2})\n",
    "\n",
    "for i,ax in enumerate(axes):\n",
    "    plot_df = data[(data['group']=='controller') & (data['biorep']==1) & (data['design']==i+1)] #data[(data['miR']=='miR.FF5') & (data['promoter']=='CMV') & (data['biorep']==1) & (data['design']==i+1) & (data['ts']!='FF5x4')]\n",
    "    sns.kdeplot(data=plot_df, x='output', hue='construct', palette=construct_palette, ax=ax, legend=False,\n",
    "                fill=False, log_scale=True, common_norm=False)\n",
    "    ax.set(xlabel='', xlim=(1e1, 2e5))\n",
    "    sns.despine(ax=ax)\n",
    "    ax.minorticks_off()\n",
    "axes[0].set(xlabel='Output',)\n",
    "\n",
    "fig.savefig(rd.outfile(fig_path))"
   ]
  },
  {
   "cell_type": "code",
   "execution_count": null,
   "metadata": {},
   "outputs": [],
   "source": [
    "subfig = subfigures['D']\n",
    "rd.plot.adjust_subplot_margins_inches(subfig, left=0.42, bottom=0.45, top=0.2, right=0.0)\n",
    "axes = subfig.subplots(nrows=2, gridspec_kw={'hspace': 0.45})\n",
    "\n",
    "stat_list = ['output_gmean', 'output_variation']\n",
    "for i, stat in enumerate(stat_list):\n",
    "    ax = axes[i]\n",
    "    plot_df = stats[stats['group']=='controller'] #[(stats['miR']=='miR.FF5') & (stats['promoter']=='CMV') & (stats['ts']!='FF5x4')]\n",
    "    sns.scatterplot(data=plot_df, x='construct', y=stat, hue='construct', palette=construct_palette, \n",
    "                    style='construct', markers=construct_markers, ax=ax, legend=False)\n",
    "    sns.despine(ax=ax)\n",
    "    ax.set(xlabel='', ylabel='', title=stat_name[stat], yscale='log')\n",
    "    if i==1: ax.set(yscale='linear',) #ylim=(0,ax.get_ylim()[1]))\n",
    "    rd.plot.generate_xticklabels(metadata, 'construct', ['TS','design'], ax=ax, )#annotate=True)\n",
    "    \n",
    "fig.savefig(rd.outfile(fig_path))"
   ]
  },
  {
   "cell_type": "code",
   "execution_count": null,
   "metadata": {},
   "outputs": [],
   "source": [
    "# Save to OneDrive\n",
    "fig_path = rd.datadir/'manuscripts'/'2024_miR-iFFL'/'figures'/'python-output'/'fig_designs-mRuby2.pdf'\n",
    "fig.savefig(rd.outfile(fig_path))"
   ]
  },
  {
   "cell_type": "code",
   "execution_count": null,
   "metadata": {},
   "outputs": [],
   "source": [
    "rd.plot.debug_axes(fig)\n",
    "fig"
   ]
  },
  {
   "cell_type": "code",
   "execution_count": null,
   "metadata": {},
   "outputs": [],
   "source": []
  }
 ],
 "metadata": {
  "kernelspec": {
   "display_name": "env",
   "language": "python",
   "name": "python3"
  },
  "language_info": {
   "codemirror_mode": {
    "name": "ipython",
    "version": 3
   },
   "file_extension": ".py",
   "mimetype": "text/x-python",
   "name": "python",
   "nbconvert_exporter": "python",
   "pygments_lexer": "ipython3"
  }
 },
 "nbformat": 4,
 "nbformat_minor": 2
}
