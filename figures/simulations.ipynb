{
 "cells": [
  {
   "cell_type": "code",
   "execution_count": null,
   "metadata": {},
   "outputs": [],
   "source": [
    "import base\n",
    "import matplotlib\n",
    "import matplotlib.pyplot as plt\n",
    "import numpy as np\n",
    "import pandas as pd\n",
    "import re\n",
    "import rushd as rd\n",
    "import scipy as sp\n",
    "import seaborn as sns\n",
    "\n",
    "# enables concurrent editing of base.py\n",
    "from importlib import reload\n",
    "reload(base)"
   ]
  },
  {
   "cell_type": "code",
   "execution_count": null,
   "metadata": {},
   "outputs": [],
   "source": [
    "simulation_path = rd.datadir/'projects'/'miR-iFFL'\n",
    "sim_data, sim_stats = base.load_modeling(simulation_path, 'stochastic_sims')\n",
    "sim_data2, sim_stats2 = base.load_modeling(rd.rootdir/'output', 'missplicing')"
   ]
  },
  {
   "cell_type": "code",
   "execution_count": null,
   "metadata": {},
   "outputs": [],
   "source": [
    "# Create color palettes\n",
    "kind_palette = {\n",
    "    '1T_1': base.colors['teal'],\n",
    "    '1T_2': base.colors['orange'],\n",
    "    '1T_3': base.colors['red'],\n",
    "    '2T_0': base.colors['green'],\n",
    "    '2V_0': base.colors['purple'],\n",
    "}\n",
    "\n",
    "gene_markers = {\n",
    "    '1T': 'o',\n",
    "    '2T': 'D',\n",
    "    '2V': 's',\n",
    "}\n",
    "\n",
    "model_palette = {\n",
    "    'base': base.colors['teal'],\n",
    "    'more_mRNA': base.get_light_color(base.colors['blue']),\n",
    "    'more_miRNA': base.get_dark_color(base.colors['blue'])\n",
    "}\n",
    "\n",
    "model_markers = {\n",
    "    'base': 'o',\n",
    "    'more_mRNA': 'D',\n",
    "    'more_miRNA': 's'\n",
    "}"
   ]
  },
  {
   "cell_type": "code",
   "execution_count": null,
   "metadata": {},
   "outputs": [],
   "source": [
    "display(sim_data2)"
   ]
  },
  {
   "cell_type": "code",
   "execution_count": null,
   "metadata": {},
   "outputs": [],
   "source": [
    "# Plot two-gene\n",
    "plot_df = sim_data[(sim_data['design']<2) & (sim_data['risc']==10000)]\n",
    "g = sns.displot(data=plot_df, x='output', col='moi', hue='kind', palette=kind_palette,\n",
    "                facet_kws=dict(sharex=False, sharey=False), bw_adjust=3,\n",
    "                kind='kde', legend=False, common_norm=False)"
   ]
  },
  {
   "cell_type": "code",
   "execution_count": null,
   "metadata": {},
   "outputs": [],
   "source": [
    "# Plot stats\n",
    "fig, axes = plt.subplots(1,4, gridspec_kw=dict(wspace=0.4), figsize=(10,2))\n",
    "scatter_kwargs2 = dict(s=4, jitter=0.1, linewidth=0.5, edgecolor='white', native_scale=True)\n",
    "\n",
    "plot_df = sim_stats[(sim_stats['design']<=1) & (sim_stats['risc']==10000)]\n",
    "plot_df.sort_values(['moi','gene'], inplace=True)\n",
    "\n",
    "# stat gmean\n",
    "ax = axes[0]\n",
    "for (gene, moi), group in plot_df.groupby(['gene','moi'], sort=False):\n",
    "    sns.stripplot(data=group, x='condition', y='marker_gmean', color=base.colors['gray'],\n",
    "                    legend=False, ax=ax, marker=gene_markers[gene], **scatter_kwargs2)\n",
    "    sns.stripplot(data=group, x='condition', y='output_gmean', hue='kind', palette=kind_palette,\n",
    "                    legend=False, ax=ax, marker=gene_markers[gene], **scatter_kwargs2)\n",
    "ax.set(title='Mean', xlabel='', ylabel='', yscale='log',)\n",
    "\n",
    "# stat std\n",
    "ax = axes[1]\n",
    "for (gene, moi), group in plot_df.groupby(['gene','moi'], sort=False):\n",
    "    sns.stripplot(data=group, x='condition', y='marker_std', color=base.colors['gray'],\n",
    "                    legend=False, ax=ax, marker=gene_markers[gene], **scatter_kwargs2)\n",
    "    sns.stripplot(data=group, x='condition', y='output_std', hue='kind', palette=kind_palette,\n",
    "                    legend=False, ax=ax, marker=gene_markers[gene], **scatter_kwargs2)\n",
    "ax.set(title='Std.', xlabel='', ylabel='', yscale='log', )\n",
    "ax.yaxis.set_minor_formatter(plt.NullFormatter())\n",
    "\n",
    "# slope\n",
    "ax = axes[2]\n",
    "for (gene, moi), group in plot_df.groupby(['gene','moi'], sort=False):\n",
    "    sns.stripplot(data=group, x='condition', y='slope', hue='kind', palette=kind_palette,\n",
    "                    legend=False, ax=ax, marker=gene_markers[gene], **scatter_kwargs2)\n",
    "ax.set(title='Slope', xlabel='', ylabel='', yticks=[0.6,0.7,0.8,0.9,1])\n",
    "\n",
    "# stat CV\n",
    "ax = axes[3]\n",
    "for (gene, moi), group in plot_df.groupby(['gene','moi'], sort=False):\n",
    "    sns.stripplot(data=group, x='condition', y='marker_variation', color=base.colors['gray'],\n",
    "                    legend=False, ax=ax, marker=gene_markers[gene], **scatter_kwargs2)\n",
    "    sns.stripplot(data=group, x='condition', y='output_variation', hue='kind', palette=kind_palette,\n",
    "                    legend=False, ax=ax, marker=gene_markers[gene], **scatter_kwargs2)\n",
    "ax.set(title='CV', xlabel='', ylabel='',)\n",
    "ax.yaxis.set_minor_formatter(plt.NullFormatter())\n",
    "\n",
    "for ax in axes:\n",
    "    ax.set(xticklabels=['']*len(ax.get_xticklabels()))"
   ]
  },
  {
   "cell_type": "code",
   "execution_count": null,
   "metadata": {},
   "outputs": [],
   "source": [
    "fig, axes = plt.subplots(3,2, gridspec_kw=dict(width_ratios=(0.8,1), wspace=0.2, hspace=0.4))\n",
    "\n",
    "plot_df = sim_data[(sim_data['risc']==10000) & (sim_data['design']<=1)]\n",
    "yticks = [[0,1e3,2e3], [0,2e3,4e3,6e3], [0,2e3,4e3,6e3]]\n",
    "hist_xticks = [[0,300,600,900,1200,1500], [0,1e3,2e3,3e3], [0,1e3,2e3,3e3,4e3,5e3]]\n",
    "\n",
    "for i,moi in enumerate(plot_df['moi'].unique()):\n",
    "\n",
    "    # line plot\n",
    "    ax = axes[i,0]\n",
    "\n",
    "    # drop data with only one point at a given copy number (for this plot)\n",
    "    d = plot_df[(plot_df['moi']==moi)]\n",
    "    if moi==3: d = d[(d['copy_num']<=10) & (d['gene']=='2V') | (d['gene']!='2V')]\n",
    "    \n",
    "    sns.lineplot(data=d[d['gene']!='1T'], x='copy_num', y='output', hue='kind', palette=kind_palette, \n",
    "                 legend=False, dashes=False, style='kind', markers=kind_markers, ax=ax, markersize=4, markeredgewidth=0.5,\n",
    "                 estimator=sp.stats.gmean, errorbar=lambda x: (sp.stats.gmean(x) / sp.stats.gstd(x), sp.stats.gmean(x) * sp.stats.gstd(x)))\n",
    "    sns.lineplot(data=d[d['gene']=='1T'], x='copy_num', y='output', hue='kind', palette=kind_palette, \n",
    "                 legend=False, dashes=False, style='kind', markers=kind_markers, ax=ax, markersize=4, markeredgewidth=0.5,\n",
    "                 estimator=sp.stats.gmean, errorbar=lambda x: (sp.stats.gmean(x) / sp.stats.gstd(x), sp.stats.gmean(x) * sp.stats.gstd(x)), \n",
    "                 ls='--')\n",
    "    sns.despine(ax=ax)\n",
    "    ax.minorticks_off()\n",
    "    ax.set(xlabel='', yticks=yticks[i], yticklabels=[f'{float(l)/1000:.0f}k' for l in yticks[i]], ylabel='output (#)')\n",
    "    \n",
    "    if i==2: ax.set(xlabel='copy number')\n",
    "\n",
    "    # histogram\n",
    "    ax = axes[i,1]\n",
    "    sns.kdeplot(data=d[d['gene']!='1T'], x='output', hue='kind', palette=kind_palette, ax=ax, legend=False, common_norm=False,\n",
    "                bw_adjust=3)\n",
    "    sns.kdeplot(data=d[d['gene']=='1T'], x='output', hue='kind', palette=kind_palette, ax=ax, legend=False, common_norm=False,\n",
    "                bw_adjust=3, ls='--')\n",
    "    sns.despine(ax=ax, left=True)\n",
    "    \n",
    "    ax.set(xlabel='', xlim=(hist_xticks[i][0], hist_xticks[i][-1]), xticks=hist_xticks[i], ylabel='', yticklabels=[],)\n",
    "    if i>0: ax.set(xticklabels=[f'{float(l.get_text())/1000:.0f}' for l in ax.get_xticklabels()])\n",
    "    else: ax.set(xticklabels=[f'{float(l.get_text())/1000:.1f}' for l in ax.get_xticklabels()])\n",
    "    xticklabels_k = ax.get_xticklabels()\n",
    "    xticklabels_k[-1] = xticklabels_k[-1].get_text()+'k'\n",
    "    ax.set(xticklabels=xticklabels_k)\n",
    "    ax.get_yaxis().set_visible(False)\n",
    "    if i==2: ax.set(xlabel='protein (#)')\n",
    "\n",
    "for ax in axes.flatten(): ax.minorticks_off()"
   ]
  },
  {
   "cell_type": "code",
   "execution_count": null,
   "metadata": {},
   "outputs": [],
   "source": [
    "# Plot designs\n",
    "plot_df = sim_data[(sim_data['gene']=='1T')]\n",
    "g = sns.displot(data=plot_df, x='output', col='moi', hue='kind', palette=kind_palette,\n",
    "                facet_kws=dict(sharex=False, sharey=False), bw_adjust=3, row='risc',\n",
    "                kind='kde', legend=False, common_norm=False)"
   ]
  },
  {
   "cell_type": "code",
   "execution_count": null,
   "metadata": {},
   "outputs": [],
   "source": [
    "# Plot models\n",
    "plot_df = sim_data2\n",
    "g = sns.displot(data=plot_df, x='output', col='moi', hue='model', palette=model_palette,\n",
    "                facet_kws=dict(sharex=False, sharey=False), bw_adjust=3,\n",
    "                kind='kde', legend=True, common_norm=False)"
   ]
  },
  {
   "cell_type": "code",
   "execution_count": null,
   "metadata": {},
   "outputs": [],
   "source": [
    "# Plot stats\n",
    "fig, axes = plt.subplots(1,4, gridspec_kw=dict(wspace=0.4), figsize=(10,2))\n",
    "scatter_kwargs2 = dict(s=4, jitter=0.1, linewidth=0.5, edgecolor='white', native_scale=True)\n",
    "\n",
    "plot_df = sim_stats2\n",
    "plot_df.sort_values(['moi','model'], inplace=True)\n",
    "\n",
    "# stat gmean\n",
    "ax = axes[0]\n",
    "for (model, moi), group in plot_df.groupby(['model','moi'], sort=False):\n",
    "    sns.stripplot(data=group, x='condition', y='marker_gmean', color=base.colors['gray'],\n",
    "                    legend=False, ax=ax, marker=model_markers[model], **scatter_kwargs2)\n",
    "    sns.stripplot(data=group, x='condition', y='output_gmean', hue='model', palette=model_palette,\n",
    "                    legend=False, ax=ax, marker=model_markers[model], **scatter_kwargs2)\n",
    "ax.set(title='Mean', xlabel='', ylabel='', yscale='log',)\n",
    "\n",
    "# stat std\n",
    "ax = axes[1]\n",
    "for (model, moi), group in plot_df.groupby(['model','moi'], sort=False):\n",
    "    sns.stripplot(data=group, x='condition', y='marker_std', color=base.colors['gray'],\n",
    "                    legend=False, ax=ax, marker=model_markers[model], **scatter_kwargs2)\n",
    "    sns.stripplot(data=group, x='condition', y='output_std', hue='model', palette=model_palette,\n",
    "                    legend=False, ax=ax, marker=model_markers[model], **scatter_kwargs2)\n",
    "ax.set(title='Std.', xlabel='', ylabel='', yscale='log', )\n",
    "ax.yaxis.set_minor_formatter(plt.NullFormatter())\n",
    "\n",
    "# slope\n",
    "ax = axes[2]\n",
    "for (model, moi), group in plot_df.groupby(['model','moi'], sort=False):\n",
    "    sns.stripplot(data=group, x='condition', y='slope', hue='model', palette=model_palette,\n",
    "                    legend=False, ax=ax, marker=model_markers[model], **scatter_kwargs2)\n",
    "ax.set(title='Slope', xlabel='', ylabel='', yticks=[0.6,0.7,0.8,0.9,1])\n",
    "\n",
    "# stat CV\n",
    "ax = axes[3]\n",
    "for (model, moi), group in plot_df.groupby(['model','moi'], sort=False):\n",
    "    sns.stripplot(data=group, x='condition', y='marker_variation', color=base.colors['gray'],\n",
    "                    legend=False, ax=ax, marker=model_markers[model], **scatter_kwargs2)\n",
    "    sns.stripplot(data=group, x='condition', y='output_variation', hue='model', palette=model_palette,\n",
    "                    legend=False, ax=ax, marker=model_markers[model], **scatter_kwargs2)\n",
    "ax.set(title='CV', xlabel='', ylabel='',)\n",
    "ax.yaxis.set_minor_formatter(plt.NullFormatter())\n",
    "\n",
    "for ax in axes:\n",
    "    ax.set(xticklabels=['']*len(ax.get_xticklabels()))\n",
    "    ax.axvspan(2.5,5.5, color=base.get_light_color(base.colors['gray']), alpha=0.2,)"
   ]
  },
  {
   "cell_type": "code",
   "execution_count": null,
   "metadata": {},
   "outputs": [],
   "source": [
    "fig, axes = plt.subplots(3,2, gridspec_kw=dict(width_ratios=(0.8,1), wspace=0.2, hspace=0.4))\n",
    "\n",
    "plot_df = sim_data2\n",
    "yticks = [[0,1e3,2e3], [0,1e3,2e3,3e3], [0,2e3,4e3,6e3]]\n",
    "hist_xticks = [[0,300,600,900,1200,1500], [0,1e3,2e3,3e3], [0,1e3,2e3,3e3,4e3,5e3]]\n",
    "\n",
    "for i,moi in enumerate(plot_df['moi'].unique()):\n",
    "\n",
    "    # line plot\n",
    "    ax = axes[i,0]\n",
    "\n",
    "    # drop data with only one point at a given copy number (for this plot)\n",
    "    d = plot_df[(plot_df['moi']==moi)]\n",
    "    #if moi==3: d = d[(d['copy_num']<=10) & (d['gene']=='2V') | (d['gene']!='2V')]\n",
    "    \n",
    "    sns.lineplot(data=d[d['model']!='base'], x='copy_num', y='output', hue='model', palette=model_palette, \n",
    "                 legend=False, dashes=False, style='model', markers=model_markers, ax=ax, markersize=4, markeredgewidth=0.5,\n",
    "                 estimator=sp.stats.gmean, errorbar=lambda x: (sp.stats.gmean(x) / sp.stats.gstd(x), sp.stats.gmean(x) * sp.stats.gstd(x))\n",
    "                 )\n",
    "    sns.lineplot(data=d[d['model']=='base'], x='copy_num', y='output', hue='model', palette=model_palette, \n",
    "                 legend=False, dashes=False, style='model', markers=model_markers, ax=ax, markersize=4, markeredgewidth=0.5,\n",
    "                 estimator=sp.stats.gmean, errorbar=lambda x: (sp.stats.gmean(x) / sp.stats.gstd(x), sp.stats.gmean(x) * sp.stats.gstd(x)), \n",
    "                 ls='--')\n",
    "    sns.despine(ax=ax)\n",
    "    ax.minorticks_off()\n",
    "    ax.set(xlabel='', yticks=yticks[i], yticklabels=[f'{float(l)/1000:.0f}k' for l in yticks[i]], ylabel='output (#)')\n",
    "    \n",
    "    if i==2: ax.set(xlabel='copy number')\n",
    "\n",
    "    # histogram\n",
    "    ax = axes[i,1]\n",
    "    sns.kdeplot(data=d[d['model']!='base'], x='output', hue='model', palette=model_palette, ax=ax, legend=False, common_norm=False,\n",
    "                bw_adjust=3)\n",
    "    sns.kdeplot(data=d[d['model']=='base'], x='output', hue='model', palette=model_palette, ax=ax, legend=False, common_norm=False,\n",
    "                bw_adjust=3, ls='--')\n",
    "    sns.despine(ax=ax, left=True)\n",
    "    \n",
    "    ax.set(xlabel='', xlim=(hist_xticks[i][0], hist_xticks[i][-1]), xticks=hist_xticks[i], ylabel='', yticklabels=[],)\n",
    "    if i>0: ax.set(xticklabels=[f'{float(l.get_text())/1000:.0f}' for l in ax.get_xticklabels()])\n",
    "    else: ax.set(xticklabels=[f'{float(l.get_text())/1000:.1f}' for l in ax.get_xticklabels()])\n",
    "    xticklabels_k = ax.get_xticklabels()\n",
    "    xticklabels_k[-1] = xticklabels_k[-1].get_text()+'k'\n",
    "    ax.set(xticklabels=xticklabels_k)\n",
    "    ax.get_yaxis().set_visible(False)\n",
    "    if i==2: ax.set(xlabel='protein (#)')\n",
    "\n",
    "for ax in axes.flatten(): ax.minorticks_off()"
   ]
  },
  {
   "cell_type": "code",
   "execution_count": null,
   "metadata": {},
   "outputs": [],
   "source": [
    "subset = sim_data2[(sim_data2['moi']==10) & (sim_data2['copy_num']>13)].copy()\n",
    "_, subset_stats = base.calculate_bins_stats(subset, by=['model','condition','risc','moi'], num_bins=10,)\n",
    "display(subset_stats)"
   ]
  },
  {
   "cell_type": "code",
   "execution_count": null,
   "metadata": {},
   "outputs": [],
   "source": [
    "g = sns.displot(data=sim_data2[sim_data2['moi']==10], x='marker', y='output', hue='model',\n",
    "                common_norm=False,)\n",
    "sns.kdeplot(data=sim_data2[(sim_data2['moi']==10) & (sim_data2['copy_num']>12)], x='marker', hue='model', y='output',\n",
    "            common_norm=False, color=base.colors['gray'], ax=g.ax)"
   ]
  },
  {
   "cell_type": "code",
   "execution_count": null,
   "metadata": {},
   "outputs": [],
   "source": [
    "plot_df = sim_data2\n",
    "g = sns.displot(data=plot_df, x='marker', y='output', hue='model', col='moi',\n",
    "                common_norm=False, kind='kde', log_scale=True)\n",
    "for model in plot_df['model'].unique():\n",
    "    stat = subset_stats[(subset_stats['model']==model)]\n",
    "    xs = np.logspace(3.5, 4.2, 100)\n",
    "    ys = stat['slope'].values[0] * np.log10(xs) + stat['intercept_log'].values[0]\n",
    "    g.axes_dict[10].plot(xs, 10**ys, color='black',)"
   ]
  },
  {
   "cell_type": "code",
   "execution_count": null,
   "metadata": {},
   "outputs": [],
   "source": [
    "plot_df = sim_data2\n",
    "fig, ax = plt.subplots(1,1,)\n",
    "for model in plot_df['model'].unique():\n",
    "    sns.kdeplot(data=plot_df[plot_df['model']==model], x='marker', y='output', hue='moi',\n",
    "                common_norm=False, log_scale=True)\n",
    "# for model in plot_df['model'].unique():\n",
    "#     stat = subset_stats[(subset_stats['model']==model)]\n",
    "#     xs = np.logspace(3.5, 4.2, 100)\n",
    "#     ys = stat['slope'].values[0] * np.log10(xs) + stat['intercept_log'].values[0]\n",
    "#     g.axes_dict[10].plot(xs, 10**ys, color='black',)"
   ]
  },
  {
   "cell_type": "code",
   "execution_count": null,
   "metadata": {},
   "outputs": [],
   "source": [
    "plot_df = sim_data2\n",
    "g = sns.histplot(data=plot_df, x='marker', y='output', hue='model',\n",
    "            common_norm=False, )#log_scale=True)\n",
    "g.legend(loc='upper left')\n",
    "# for model in plot_df['model'].unique():\n",
    "#     stat = subset_stats[(subset_stats['model']==model)]\n",
    "#     xs = np.logspace(3.5, 4.2, 100)\n",
    "#     ys = stat['slope'].values[0] * np.log10(xs) + stat['intercept_log'].values[0]\n",
    "#     g.axes_dict[10].plot(xs, 10**ys, color='black',)"
   ]
  },
  {
   "cell_type": "code",
   "execution_count": null,
   "metadata": {},
   "outputs": [],
   "source": [
    "plot_df = sim_data2\n",
    "g = sns.scatterplot(data=plot_df, x='marker', y='output', hue='model', palette=model_palette,\n",
    "                    alpha=0.2, size=2, legend=False)"
   ]
  },
  {
   "cell_type": "code",
   "execution_count": null,
   "metadata": {},
   "outputs": [],
   "source": [
    "plot_df = sim_data[(sim_data['risc']==10000) & (sim_data['design']<2)]\n",
    "g = sns.scatterplot(data=plot_df, x='marker', y='output', hue='kind', palette=kind_palette,\n",
    "                    alpha=0.2, size=2, legend=False)"
   ]
  },
  {
   "cell_type": "code",
   "execution_count": null,
   "metadata": {},
   "outputs": [],
   "source": [
    "copy_num_stats = sim_data[(sim_data['risc']==10000) & (sim_data['design']<2)].groupby(['kind','copy_num'])[['marker','output']].agg([np.mean, np.std]).reset_index()\n",
    "copy_num_stats.columns = copy_num_stats.columns.map(lambda i: base.rename_multilevel_cols(i))\n",
    "\n",
    "copy_num_stats2 = sim_data2.groupby(['model','copy_num'])[['marker','output']].agg([np.mean, np.std]).reset_index()\n",
    "copy_num_stats2.columns = copy_num_stats2.columns.map(lambda i: base.rename_multilevel_cols(i))"
   ]
  },
  {
   "cell_type": "code",
   "execution_count": null,
   "metadata": {},
   "outputs": [],
   "source": [
    "plot_df = copy_num_stats2\n",
    "g = sns.scatterplot(data=plot_df, x='marker_mean', y='output_mean', hue='model', palette=model_palette)\n",
    "plt.errorbar(plot_df['marker_mean'], plot_df['output_mean'], xerr=plot_df['marker_std'], yerr=plot_df['output_std'],\n",
    "             color='black', fmt='none')\n",
    "g.legend(loc='upper left')"
   ]
  },
  {
   "cell_type": "code",
   "execution_count": null,
   "metadata": {},
   "outputs": [],
   "source": [
    "plot_df = copy_num_stats\n",
    "g = sns.scatterplot(data=plot_df, x='marker_mean', y='output_mean', hue='kind', palette=kind_palette)\n",
    "plt.errorbar(plot_df['marker_mean'], plot_df['output_mean'], xerr=plot_df['marker_std'], yerr=plot_df['output_std'],\n",
    "             color='black', fmt='none')\n",
    "g.legend(loc='upper left')"
   ]
  },
  {
   "cell_type": "code",
   "execution_count": null,
   "metadata": {},
   "outputs": [],
   "source": []
  }
 ],
 "metadata": {
  "kernelspec": {
   "display_name": "env",
   "language": "python",
   "name": "python3"
  },
  "language_info": {
   "codemirror_mode": {
    "name": "ipython",
    "version": 3
   },
   "file_extension": ".py",
   "mimetype": "text/x-python",
   "name": "python",
   "nbconvert_exporter": "python",
   "pygments_lexer": "ipython3"
  }
 },
 "nbformat": 4,
 "nbformat_minor": 2
}
