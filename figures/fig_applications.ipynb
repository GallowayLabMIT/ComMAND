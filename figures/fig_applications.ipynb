{
 "cells": [base.figure_width['full']base.figure_width['1.5-column']
  {
   "cell_type": "code",
   "execution_count": 1,
   "metadata": {},
   "outputs": [
    {
     "data": {
      "text/plain": [
       "<module 'base' from '/Users/kaseylove/Desktop/code/ComMAND/figures/base.py'>"
      ]
     },
     "execution_count": 1,
     "metadata": {},
     "output_type": "execute_result"
    }
   ],
   "source": [
    "import base\n",
    "import matplotlib\n",
    "import matplotlib.pyplot as plt\n",
    "import numpy as np\n",
    "import pandas as pd\n",
    "import rushd as rd\n",
    "import scipy as sp\n",
    "import seaborn as sns\n",
    "\n",
    "# enables concurrent editing of base.py\n",
    "from importlib import reload\n",
    "reload(base)"
   ]
  },
  {
   "cell_type": "markdown",
   "metadata": {},
   "source": [
    "### Load data"
   ]
  },
  {
   "cell_type": "markdown",
   "metadata": {},
   "source": [
    "Load lenti data for all cell types (`data`)"
   ]
  },
  {
   "cell_type": "code",
   "execution_count": 2,
   "metadata": {},
   "outputs": [
    {
     "name": "stderr",
     "output_type": "stream",
     "text": [
      "/Users/kaseylove/Desktop/code/ComMAND/figures/base.py:221: FutureWarning: The provided callable <function std at 0x108f063e0> is currently using SeriesGroupBy.std. In a future version of pandas, the provided callable will be used directly. To keep current behavior pass the string \"std\" instead.\n",
      "  stats = grouped[['marker','output']].agg(stat_list).reset_index().dropna()\n",
      "/Users/kaseylove/Desktop/code/ComMAND/figures/base.py:231: FutureWarning: The provided callable <function std at 0x108f063e0> is currently using SeriesGroupBy.std. In a future version of pandas, the provided callable will be used directly. To keep current behavior pass the string \"std\" instead.\n",
      "  stats_quantiles = grouped[['marker','output']].agg(stat_list).reset_index().dropna()\n",
      "/Users/kaseylove/Desktop/code/ComMAND/figures/base.py:221: FutureWarning: The provided callable <function std at 0x108f063e0> is currently using SeriesGroupBy.std. In a future version of pandas, the provided callable will be used directly. To keep current behavior pass the string \"std\" instead.\n",
      "  stats = grouped[['marker','output']].agg(stat_list).reset_index().dropna()\n",
      "/Users/kaseylove/Desktop/code/ComMAND/figures/base.py:231: FutureWarning: The provided callable <function std at 0x108f063e0> is currently using SeriesGroupBy.std. In a future version of pandas, the provided callable will be used directly. To keep current behavior pass the string \"std\" instead.\n",
      "  stats_quantiles = grouped[['marker','output']].agg(stat_list).reset_index().dropna()\n",
      "/Users/kaseylove/Desktop/code/ComMAND/env/lib/python3.12/site-packages/scipy/stats/_stats_mstats_common.py:182: RuntimeWarning: invalid value encountered in scalar divide\n",
      "  slope = ssxym / ssxm\n",
      "/Users/kaseylove/Desktop/code/ComMAND/env/lib/python3.12/site-packages/scipy/stats/_stats_mstats_common.py:196: RuntimeWarning: invalid value encountered in sqrt\n",
      "  t = r * np.sqrt(df / ((1.0 - r + TINY)*(1.0 + r + TINY)))\n",
      "/Users/kaseylove/Desktop/code/ComMAND/env/lib/python3.12/site-packages/scipy/stats/_stats_mstats_common.py:199: RuntimeWarning: invalid value encountered in scalar divide\n",
      "  slope_stderr = np.sqrt((1 - r**2) * ssym / ssxm / df)\n"
     ]
    }
   ],
   "source": [
    "base_path = rd.datadir/'instruments'/'data'/'attune'\n",
    "metadata_path = rd.datadir/'projects'/'miR-iFFL'/'plasmids'\n",
    "data, quantiles, stats, metadata = base.load_data(base_path, metadata_path, 'lenti')"
   ]
  },
  {
   "cell_type": "code",
   "execution_count": 3,
   "metadata": {},
   "outputs": [],
   "source": [
    "ts_label = {'na': 'base', 'NT': 'OL', 'T': 'CL', 'none': '–'}\n",
    "metadata['ts_label'] = metadata['ts_kind'].replace(ts_label)\n",
    "\n",
    "# Create dicts to specify colors/markers\n",
    "metadata_dict = metadata.set_index('construct').to_dict('dict')\n",
    "main_palette = metadata_dict['color']\n",
    "main_markers = metadata_dict['markers']\n",
    "\n",
    "# Create palettes for application transfections\n",
    "metadata2 = base.get_metadata(metadata_path/'construct-metadata.xlsx', 'applications')\n",
    "metadata_dict2 = metadata2.set_index('construct').to_dict('dict')\n",
    "app_palette = metadata_dict2['color']\n",
    "app_markers = metadata_dict2['markers']"
   ]
  },
  {
   "cell_type": "code",
   "execution_count": 4,
   "metadata": {},
   "outputs": [],
   "source": [
    "# Since there is no marker-only condition, save the output expression stats for untransduced cells\n",
    "baseline_df = data[(data['construct'].isin(['UI','UT'])) | (data['virus_dilution']==0)].groupby(['cell','exp','biorep'])['output'].apply(sp.stats.gmean).rename('output_gmean').reset_index()"
   ]
  },
  {
   "cell_type": "markdown",
   "metadata": {},
   "source": [
    "### Set up figure"
   ]
  },
  {
   "cell_type": "code",
   "execution_count": 5,
   "metadata": {},
   "outputs": [],
   "source": [
    "base_size = base.font_sizes['base_size']\n",
    "smaller_size = base.font_sizes['smaller_size']\n",
    "\n",
    "sns.set_style('ticks')\n",
    "sns.set_context('paper', font_scale=1.0, rc={'font.size': base_size, 'font.family': 'sans-serif', 'font.sans-serif':['Arial']})\n",
    "plt.rcParams.update({'axes.titlesize': base_size, 'axes.labelsize': base_size, 'xtick.labelsize': smaller_size, 'ytick.labelsize': smaller_size,\n",
    "                     'pdf.fonttype': 42, \n",
    "                     'ytick.major.size': 3, 'xtick.major.size': 3, 'ytick.minor.size': 2, 'ytick.major.pad': 2, 'xtick.major.pad': 2, \n",
    "                     'lines.linewidth': 1,\n",
    "                     'axes.spines.right': False, 'axes.spines.top': False, 'axes.labelpad': 2})"
   ]
  },
  {
   "cell_type": "code",
   "execution_count": 15,
   "metadata": {},
   "outputs": [
    {
     "data": {
      "text/plain": [
       "<Figure size 600x700 with 0 Axes>"
      ]
     },
     "metadata": {},
     "output_type": "display_data"
    }
   ],
   "source": [
    "# Create the overall figure, gridspec, and add subfigure labels\n",
    "fig = plt.figure(figsize=(6, 1+1.5*4)) #4.48819, 6.8504\n",
    "fig_gridspec = matplotlib.gridspec.GridSpec(5, 6, figure=fig,\n",
    "    wspace=0.4, hspace=0.4, height_ratios=[1]+[1.5]*4, width_ratios=[1]*6)\n",
    "subfigures = {\n",
    "    'A': fig.add_subfigure(fig_gridspec[0,:]),\n",
    "    'B': fig.add_subfigure(fig_gridspec[1,:3]),\n",
    "    'C': fig.add_subfigure(fig_gridspec[1,3:]),\n",
    "    'D': fig.add_subfigure(fig_gridspec[2,:3]),\n",
    "    'E': fig.add_subfigure(fig_gridspec[2,3:]),\n",
    "    'F': fig.add_subfigure(fig_gridspec[3,:3]),\n",
    "    'G': fig.add_subfigure(fig_gridspec[3,3:]),\n",
    "    'H': fig.add_subfigure(fig_gridspec[4,:2]),\n",
    "    'I': fig.add_subfigure(fig_gridspec[4,2:4]),\n",
    "    'I2': fig.add_subfigure(fig_gridspec[4,4:]),\n",
    "}\n",
    "for label, subfig in subfigures.items():\n",
    "    if '2' in label: continue\n",
    "    subfig.add_artist(matplotlib.text.Text(x=0, y=1, text=f'{label}', fontsize=base.font_sizes['subpanel_label'], \n",
    "                                           fontweight='bold', verticalalignment='top',transform=subfig.transSubfigure))\n",
    "scatter_kwargs = dict(s=4, jitter=0.1, linewidth=0.5, edgecolor='white')\n",
    "\n",
    "output_path = rd.rootdir/'output'/'fig_applications'/'fig_applications.pdf'\n",
    "fig.savefig(rd.outfile(output_path))"
   ]
  },
  {
   "cell_type": "code",
   "execution_count": 16,
   "metadata": {},
   "outputs": [],
   "source": [
    "subfig = subfigures['B']\n",
    "rd.plot.adjust_subplot_margins_inches(subfig, left=1.5, bottom=0.45, top=0.2, right=0.1)\n",
    "axes = subfig.subplots(1,2, gridspec_kw=dict(width_ratios=(1,0.4), wspace=0.3))\n",
    "\n",
    "plot_df = quantiles[(quantiles['dox']==1000) & (quantiles['moi']==5) & (quantiles['cell']=='neuron')].copy()\n",
    "plot_df.sort_values(['ts_num','ts_kind'], ascending=False, inplace=True)\n",
    "plot_order = reversed(plot_df['construct'].unique())\n",
    "\n",
    "# line plot\n",
    "ax = axes[0]\n",
    "sns.lineplot(data=plot_df, x='bin_marker_quantiles_median', y='output', hue='construct', palette=main_palette, \n",
    "             legend=False, dashes=False, style='construct', markers=main_markers, ax=ax, markersize=4, markeredgewidth=0.5,\n",
    "             estimator=sp.stats.gmean, errorbar=lambda x: (sp.stats.gmean(x) / sp.stats.gstd(x), sp.stats.gmean(x) * sp.stats.gstd(x)),\n",
    "             hue_order=plot_order)\n",
    "ax.set(xscale='log', yscale='log', xlabel='marker',)\n",
    "sns.despine(ax=ax)\n",
    "\n",
    "# histogram\n",
    "ax = axes[1]\n",
    "sns.kdeplot(data=plot_df, y='output', hue='construct', palette=main_palette, \n",
    "             legend=False, log_scale=True, common_norm=False, ax=ax)\n",
    "sns.despine(ax=ax, bottom=True)\n",
    "ax.set(xlabel='', ylim=axes[0].get_ylim(), ylabel='', yticklabels=[])\n",
    "ax.get_xaxis().set_visible(False)\n",
    "ax.minorticks_off()\n",
    "\n",
    "fig.savefig(rd.outfile(output_path))"
   ]
  },
  {
   "cell_type": "code",
   "execution_count": 17,
   "metadata": {},
   "outputs": [],
   "source": [
    "subfig = subfigures['E']\n",
    "rd.plot.adjust_subplot_margins_inches(subfig, left=1.5, bottom=0.45, top=0.2, right=0.1)\n",
    "axes = subfig.subplots(1,2, gridspec_kw=dict(width_ratios=(1,0.4), wspace=0.3))\n",
    "\n",
    "plot_df = quantiles[(quantiles['group'].isin(['controller','base'])) & (quantiles['dox']==1000) & \n",
    "                    (quantiles['moi']==1) & (quantiles['cell']=='MEF') & (quantiles['design']<=1) &\n",
    "                    (((quantiles['ts_kind']=='na') & (quantiles['biorep']==6)) | ((quantiles['biorep']==1)))\n",
    "                    ].copy()\n",
    "plot_df.sort_values(['ts_num','ts_kind'], ascending=False, inplace=True)\n",
    "plot_order = reversed(plot_df['construct'].unique())\n",
    "\n",
    "# line plot\n",
    "ax = axes[0]\n",
    "sns.lineplot(data=plot_df, x='bin_marker_quantiles_median', y='output', hue='construct', palette=main_palette, \n",
    "             legend=False, dashes=False, style='construct', markers=main_markers, ax=ax, markersize=4, markeredgewidth=0.5,\n",
    "             estimator=sp.stats.gmean, errorbar=lambda x: (sp.stats.gmean(x) / sp.stats.gstd(x), sp.stats.gmean(x) * sp.stats.gstd(x)),\n",
    "             hue_order=plot_order)\n",
    "ax.set(xscale='log', yscale='log', xlabel='marker', xlim=(1e3,2e5))\n",
    "sns.despine(ax=ax)\n",
    "baseline = baseline_df.loc[baseline_df['cell']=='MEF', 'output_gmean'].mean()\n",
    "ax.axhline(baseline, color='black', ls=':')\n",
    "ax.minorticks_off()\n",
    "\n",
    "# histogram\n",
    "ax = axes[1]\n",
    "sns.kdeplot(data=plot_df, y='output', hue='construct', palette=main_palette, \n",
    "             legend=False, log_scale=True, common_norm=False, ax=ax)\n",
    "sns.despine(ax=ax, bottom=True)\n",
    "ax.set(xlabel='', ylim=axes[0].get_ylim(), ylabel='', yticklabels=[])\n",
    "ax.get_xaxis().set_visible(False)\n",
    "ax.minorticks_off()\n",
    "\n",
    "fig.savefig(rd.outfile(output_path))"
   ]
  },
  {
   "cell_type": "code",
   "execution_count": 18,
   "metadata": {},
   "outputs": [],
   "source": [
    "subfig = subfigures['F']\n",
    "rd.plot.adjust_subplot_margins_inches(subfig, left=1.5, bottom=0.45, top=0.2, right=0.1)\n",
    "axes = subfig.subplots(1,2, gridspec_kw=dict(width_ratios=(1,0.4), wspace=0.3))\n",
    "\n",
    "plot_df = quantiles[(quantiles['group'].isin(['controller','base'])) & (quantiles['dox']==1000) & \n",
    "                    (quantiles['moi']==1) & (quantiles['cell']=='tcell') & (quantiles['biorep']==1)].copy()\n",
    "plot_df.sort_values(['ts_num','ts_kind'], ascending=False, inplace=True)\n",
    "plot_order = reversed(plot_df['construct'].unique())\n",
    "\n",
    "# line plot\n",
    "ax = axes[0]\n",
    "sns.lineplot(data=plot_df, x='bin_marker_quantiles_median', y='output', hue='construct', palette=main_palette, \n",
    "             legend=False, dashes=False, style='construct', markers=main_markers, ax=ax, markersize=4, markeredgewidth=0.5,\n",
    "             estimator=sp.stats.gmean, errorbar=lambda x: (sp.stats.gmean(x) / sp.stats.gstd(x), sp.stats.gmean(x) * sp.stats.gstd(x)),\n",
    "             hue_order=plot_order)\n",
    "ax.set(xscale='log', yscale='log', xlabel='marker',)\n",
    "sns.despine(ax=ax)\n",
    "ax.yaxis.set_tick_params(which='minor', left=False)\n",
    "baseline = baseline_df.loc[baseline_df['cell']=='tcell', 'output_gmean'].mean()\n",
    "ax.axhline(baseline, color='black', ls=':')\n",
    "\n",
    "# histogram\n",
    "ax = axes[1]\n",
    "sns.kdeplot(data=plot_df, y='output', hue='construct', palette=main_palette, \n",
    "             legend=False, log_scale=True, common_norm=False, ax=ax)\n",
    "sns.despine(ax=ax, bottom=True)\n",
    "ax.set(xlabel='', ylim=axes[0].get_ylim(), ylabel='', yticklabels=[])\n",
    "ax.get_xaxis().set_visible(False)\n",
    "ax.minorticks_off()\n",
    "\n",
    "fig.savefig(rd.outfile(output_path))"
   ]
  },
  {
   "cell_type": "code",
   "execution_count": 19,
   "metadata": {},
   "outputs": [],
   "source": [
    "subfig = subfigures['G']\n",
    "rd.plot.adjust_subplot_margins_inches(subfig, left=1.5, bottom=0.45, top=0.2, right=0.1)\n",
    "axes = subfig.subplots(1,2, gridspec_kw=dict(width_ratios=(1,0.4), wspace=0.3))\n",
    "\n",
    "plot_df = quantiles[(quantiles['group'].isin(['controller','base'])) & (quantiles['cell']=='iPS11') &\n",
    "                    (quantiles['biorep']==3) & (quantiles['dox']==1000)].copy()\n",
    "plot_df.sort_values(['ts_num','ts_kind'], ascending=False, inplace=True)\n",
    "plot_order = reversed(plot_df['construct'].unique())\n",
    "\n",
    "# line plot\n",
    "ax = axes[0]\n",
    "sns.lineplot(data=plot_df, x='bin_marker_quantiles_median', y='output', hue='construct', palette=main_palette, \n",
    "             legend=False, dashes=False, style='construct', markers=main_markers, ax=ax, markersize=4, markeredgewidth=0.5,\n",
    "             estimator=sp.stats.gmean, errorbar=lambda x: (sp.stats.gmean(x) / sp.stats.gstd(x), sp.stats.gmean(x) * sp.stats.gstd(x)),\n",
    "             hue_order=plot_order)\n",
    "ax.set(xscale='log', yscale='log', xlabel='marker',)\n",
    "sns.despine(ax=ax)\n",
    "ax.xaxis.set_minor_formatter('')\n",
    "ax.yaxis.set_tick_params(which='minor', left=False)\n",
    "\n",
    "# histogram\n",
    "ax = axes[1]\n",
    "sns.kdeplot(data=plot_df, y='output', hue='construct', palette=main_palette, \n",
    "             legend=False, log_scale=True, common_norm=False, ax=ax)\n",
    "sns.despine(ax=ax, bottom=True)\n",
    "ax.set(xlabel='', ylim=axes[0].get_ylim(), ylabel='', yticklabels=[])\n",
    "ax.get_xaxis().set_visible(False)\n",
    "ax.minorticks_off()\n",
    "\n",
    "fig.savefig(rd.outfile(output_path))"
   ]
  },
  {
   "cell_type": "code",
   "execution_count": 20,
   "metadata": {},
   "outputs": [],
   "source": [
    "subfig = subfigures['I']\n",
    "rd.plot.adjust_subplot_margins_inches(subfig, left=0.5, bottom=0.35, top=0.3, right=0.1)\n",
    "axes = subfig.subplots(1,2, gridspec_kw=dict(width_ratios=(1,0.4), wspace=0.3))\n",
    "\n",
    "plot_df = quantiles[(quantiles['cell']=='therapeutic') & (quantiles['dox']==1000) & \n",
    "                    (quantiles['name'].str.contains('FXN')) & (quantiles['biorep']==1)].copy()\n",
    "plot_df.sort_values(['ts_num','ts_kind'], ascending=False, inplace=True)\n",
    "plot_order = reversed(plot_df['construct'].unique())\n",
    "\n",
    "# line plot\n",
    "ax = axes[0]\n",
    "sns.lineplot(data=plot_df, x='bin_marker_quantiles_median', y='output', hue='construct', palette=app_palette, \n",
    "             legend=False, dashes=False, style='construct', markers=app_markers, ax=ax, markersize=4, markeredgewidth=0.5,\n",
    "             estimator=sp.stats.gmean, errorbar=lambda x: (sp.stats.gmean(x) / sp.stats.gstd(x), sp.stats.gmean(x) * sp.stats.gstd(x)),\n",
    "             hue_order=plot_order)\n",
    "ax.set(xscale='log', yscale='log', xlabel='marker', title='FXN')\n",
    "sns.despine(ax=ax)\n",
    "baseline = baseline_df.loc[baseline_df['cell']=='therapeutic', 'output_gmean'].mean()\n",
    "ax.axhline(baseline, color='black', ls=':')\n",
    "ax.yaxis.set_tick_params(which='minor', left=False)\n",
    "\n",
    "# histogram\n",
    "ax = axes[1]\n",
    "sns.kdeplot(data=plot_df, y='output', hue='construct', palette=app_palette, \n",
    "             legend=False, log_scale=True, common_norm=False, ax=ax)\n",
    "sns.despine(ax=ax, bottom=True)\n",
    "ax.set(xlabel='', ylim=axes[0].get_ylim(), ylabel='', yticklabels=[])\n",
    "ax.get_xaxis().set_visible(False)\n",
    "ax.minorticks_off()\n",
    "\n",
    "fig.savefig(rd.outfile(output_path))"
   ]
  },
  {
   "cell_type": "code",
   "execution_count": 21,
   "metadata": {},
   "outputs": [],
   "source": [
    "subfig = subfigures['I2']\n",
    "rd.plot.adjust_subplot_margins_inches(subfig, left=0.5, bottom=0.35, top=0.3, right=0.1)\n",
    "axes = subfig.subplots(1,2, gridspec_kw=dict(width_ratios=(1,0.4), wspace=0.3))\n",
    "\n",
    "plot_df = quantiles[(quantiles['cell']=='therapeutic') & (quantiles['dox']==1000) & \n",
    "                    (quantiles['name'].str.contains('FMRP')) & (quantiles['biorep']==1)].copy()\n",
    "plot_df.sort_values(['ts_num','ts_kind'], ascending=False, inplace=True)\n",
    "plot_order = reversed(plot_df['construct'].unique())\n",
    "\n",
    "# line plot\n",
    "ax = axes[0]\n",
    "sns.lineplot(data=plot_df, x='bin_marker_quantiles_median', y='output', hue='construct', palette=app_palette, \n",
    "             legend=False, dashes=False, style='construct', markers=app_markers, ax=ax, markersize=4, markeredgewidth=0.5,\n",
    "             estimator=sp.stats.gmean, errorbar=lambda x: (sp.stats.gmean(x) / sp.stats.gstd(x), sp.stats.gmean(x) * sp.stats.gstd(x)),\n",
    "             hue_order=plot_order)\n",
    "ax.set(xscale='log', yscale='log', xlabel='marker', title='FMRP1')\n",
    "sns.despine(ax=ax)\n",
    "baseline = baseline_df.loc[baseline_df['cell']=='therapeutic', 'output_gmean'].mean()\n",
    "ax.axhline(baseline, color='black', ls=':')\n",
    "ax.minorticks_off()\n",
    "\n",
    "# histogram\n",
    "ax = axes[1]\n",
    "sns.kdeplot(data=plot_df, y='output', hue='construct', palette=app_palette, \n",
    "             legend=False, log_scale=True, common_norm=False, ax=ax)\n",
    "sns.despine(ax=ax, bottom=True)\n",
    "ax.set(xlabel='', ylim=axes[0].get_ylim(), ylabel='', yticklabels=[])\n",
    "ax.get_xaxis().set_visible(False)\n",
    "ax.minorticks_off()\n",
    "\n",
    "fig.savefig(rd.outfile(output_path))"
   ]
  },
  {
   "cell_type": "code",
   "execution_count": 22,
   "metadata": {},
   "outputs": [
    {
     "name": "stderr",
     "output_type": "stream",
     "text": [
      "/var/folders/6l/y94zphkj6_10cr58x6c_bk540000gn/T/ipykernel_46315/987775809.py:12: UserWarning: set_ticklabels() should only be used with a fixed number of ticks, i.e. after set_ticks() or using a FixedLocator.\n",
      "  ax.set_xticklabels([ts_label[l.get_text()] for l in ax.get_xticklabels()], ha='right', rotation=45)\n",
      "/var/folders/6l/y94zphkj6_10cr58x6c_bk540000gn/T/ipykernel_46315/987775809.py:22: UserWarning: set_ticklabels() should only be used with a fixed number of ticks, i.e. after set_ticks() or using a FixedLocator.\n",
      "  ax.set_xticklabels([ts_label[l.get_text()] for l in ax.get_xticklabels()], ha='right', rotation=45)\n"
     ]
    }
   ],
   "source": [
    "subfig = subfigures['D']\n",
    "rd.plot.adjust_subplot_margins_inches(subfig, left=0.4, bottom=0.45, top=0.3, right=0.15)\n",
    "axes = subfig.subplots(1,3, gridspec_kw=dict(width_ratios=(1,1,1.75), wspace=0.5))\n",
    "\n",
    "# slope\n",
    "ax = axes[0]\n",
    "plot_df = stats[(stats['cell']=='neuron') & (stats['moi']==1)]\n",
    "for construct, group in plot_df.groupby('construct'):\n",
    "    sns.stripplot(data=group, x='ts_kind', y='slope', hue='construct', palette=app_palette,\n",
    "                  legend=False, ax=ax, marker=app_markers[construct], **scatter_kwargs)\n",
    "ax.set(title='Slope', xlabel='', ylabel='', ylim=(0,1.2))\n",
    "ax.set_xticklabels([ts_label[l.get_text()] for l in ax.get_xticklabels()], ha='right', rotation=45)\n",
    "sns.despine(ax=ax)\n",
    "\n",
    "# CV\n",
    "ax = axes[1]\n",
    "plot_df = stats[(stats['cell']=='neuron') & (stats['moi']==1)]\n",
    "for construct, group in plot_df.groupby('construct'):\n",
    "    sns.stripplot(data=group, x='ts_kind', y='output_variation', hue='construct', palette=app_palette,\n",
    "                  legend=False, ax=ax, marker=app_markers[construct], **scatter_kwargs)\n",
    "ax.set(title='CV', xlabel='', ylabel='', ylim=(0.3,1))\n",
    "ax.set_xticklabels([ts_label[l.get_text()] for l in ax.get_xticklabels()], ha='right', rotation=45)\n",
    "sns.despine(ax=ax)\n",
    "\n",
    "# CDF\n",
    "ax = axes[2]\n",
    "plot_df = quantiles[(quantiles['cell']=='neuron') & (quantiles['moi']==1)]\n",
    "\n",
    "sns.kdeplot(data=plot_df, x='output', hue='construct', palette=main_palette, ax=ax,\n",
    "            cumulative=True, common_norm=False, legend=False, log_scale=True)\n",
    "ax.set(xticks=np.logspace(2,6,5), ylabel='', xlim=(2e1,2e4), title='CDF')\n",
    "sns.despine(ax=ax)\n",
    "ax.minorticks_off()\n",
    "ax.grid(zorder=-1, color=base.get_light_color(base.get_light_color(base.colors['gray'])), which='both',alpha=0.7)\n",
    "\n",
    "fig.savefig(rd.outfile(output_path))"
   ]
  },
  {
   "cell_type": "code",
   "execution_count": 23,
   "metadata": {},
   "outputs": [],
   "source": [
    "# Save to OneDrive\n",
    "fig.savefig(rd.outfile(rd.datadir/'manuscripts'/'2024_miR-iFFL'/'figures'/'links'/'fig_applications.pdf'))"
   ]
  },
  {
   "cell_type": "code",
   "execution_count": null,
   "metadata": {},
   "outputs": [],
   "source": []
  }
 ],
 "metadata": {
  "kernelspec": {
   "display_name": "env",
   "language": "python",
   "name": "python3"
  },
  "language_info": {
   "codemirror_mode": {
    "name": "ipython",
    "version": 3
   },
   "file_extension": ".py",
   "mimetype": "text/x-python",
   "name": "python",
   "nbconvert_exporter": "python",
   "pygments_lexer": "ipython3"
  }
 },
 "nbformat": 4,
 "nbformat_minor": 2
}
