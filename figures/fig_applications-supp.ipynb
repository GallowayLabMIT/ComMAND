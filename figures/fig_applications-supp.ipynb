{
 "cells": [
  {
   "cell_type": "code",
   "execution_count": 1,
   "metadata": {},
   "outputs": [base.figure_width['full']
    {
     "data": {
      "text/plain": [
       "<module 'base' from '/Users/kaseylove/Desktop/code/ComMAND/figures/base.py'>"
      ]
     },
     "execution_count": 1,
     "metadata": {},
     "output_type": "execute_result"
    }
   ],
   "source": [
    "import base\n",
    "import matplotlib\n",
    "import matplotlib.pyplot as plt\n",
    "import numpy as np\n",
    "import pandas as pd\n",
    "import rushd as rd\n",
    "import scipy as sp\n",
    "import seaborn as sns\n",
    "\n",
    "# enables concurrent editing of base.py\n",
    "from importlib import reload\n",
    "reload(base)"
   ]
  },
  {
   "cell_type": "markdown",
   "metadata": {},
   "source": [
    "### Load data"
   ]
  },
  {
   "cell_type": "markdown",
   "metadata": {},
   "source": [
    "Load lenti data for all cell types (`data`)"
   ]
  },
  {
   "cell_type": "code",
   "execution_count": 2,
   "metadata": {},
   "outputs": [
    {
     "name": "stderr",
     "output_type": "stream",
     "text": [
      "/Users/kaseylove/Desktop/code/ComMAND/figures/base.py:221: FutureWarning: The provided callable <function std at 0x1075da480> is currently using SeriesGroupBy.std. In a future version of pandas, the provided callable will be used directly. To keep current behavior pass the string \"std\" instead.\n",
      "  stats = grouped[['marker','output']].agg(stat_list).reset_index().dropna()\n",
      "/Users/kaseylove/Desktop/code/ComMAND/figures/base.py:231: FutureWarning: The provided callable <function std at 0x1075da480> is currently using SeriesGroupBy.std. In a future version of pandas, the provided callable will be used directly. To keep current behavior pass the string \"std\" instead.\n",
      "  stats_quantiles = grouped[['marker','output']].agg(stat_list).reset_index().dropna()\n",
      "/Users/kaseylove/Desktop/code/ComMAND/figures/base.py:221: FutureWarning: The provided callable <function std at 0x1075da480> is currently using SeriesGroupBy.std. In a future version of pandas, the provided callable will be used directly. To keep current behavior pass the string \"std\" instead.\n",
      "  stats = grouped[['marker','output']].agg(stat_list).reset_index().dropna()\n",
      "/Users/kaseylove/Desktop/code/ComMAND/figures/base.py:231: FutureWarning: The provided callable <function std at 0x1075da480> is currently using SeriesGroupBy.std. In a future version of pandas, the provided callable will be used directly. To keep current behavior pass the string \"std\" instead.\n",
      "  stats_quantiles = grouped[['marker','output']].agg(stat_list).reset_index().dropna()\n",
      "/Users/kaseylove/Desktop/code/ComMAND/env/lib/python3.12/site-packages/scipy/stats/_stats_mstats_common.py:182: RuntimeWarning: invalid value encountered in scalar divide\n",
      "  slope = ssxym / ssxm\n",
      "/Users/kaseylove/Desktop/code/ComMAND/env/lib/python3.12/site-packages/scipy/stats/_stats_mstats_common.py:196: RuntimeWarning: invalid value encountered in sqrt\n",
      "  t = r * np.sqrt(df / ((1.0 - r + TINY)*(1.0 + r + TINY)))\n",
      "/Users/kaseylove/Desktop/code/ComMAND/env/lib/python3.12/site-packages/scipy/stats/_stats_mstats_common.py:199: RuntimeWarning: invalid value encountered in scalar divide\n",
      "  slope_stderr = np.sqrt((1 - r**2) * ssym / ssxm / df)\n"
     ]
    }
   ],
   "source": [
    "base_path = rd.datadir/'instruments'/'data'/'attune'\n",
    "metadata_path = rd.datadir/'projects'/'miR-iFFL'/'plasmids'\n",
    "data, quantiles, stats, metadata = base.load_data(base_path, metadata_path, 'lenti')"
   ]
  },
  {
   "cell_type": "markdown",
   "metadata": {},
   "source": [
    "Load application-relevant transfection data (`data2`)"
   ]
  },
  {
   "cell_type": "code",
   "execution_count": 3,
   "metadata": {},
   "outputs": [
    {
     "name": "stderr",
     "output_type": "stream",
     "text": [
      "/Users/kaseylove/Desktop/code/ComMAND/figures/base.py:215: SettingWithCopyWarning: \n",
      "A value is trying to be set on a copy of a slice from a DataFrame.\n",
      "Try using .loc[row_indexer,col_indexer] = value instead\n",
      "\n",
      "See the caveats in the documentation: https://pandas.pydata.org/pandas-docs/stable/user_guide/indexing.html#returning-a-view-versus-a-copy\n",
      "  df['bin_marker_quantiles'] = df.groupby(by)['marker'].transform(lambda x: pd.qcut(x, q=num_bins, duplicates='drop'))\n",
      "/Users/kaseylove/Desktop/code/ComMAND/figures/base.py:221: FutureWarning: The provided callable <function std at 0x1075da480> is currently using SeriesGroupBy.std. In a future version of pandas, the provided callable will be used directly. To keep current behavior pass the string \"std\" instead.\n",
      "  stats = grouped[['marker','output']].agg(stat_list).reset_index().dropna()\n",
      "/Users/kaseylove/Desktop/code/ComMAND/figures/base.py:231: FutureWarning: The provided callable <function std at 0x1075da480> is currently using SeriesGroupBy.std. In a future version of pandas, the provided callable will be used directly. To keep current behavior pass the string \"std\" instead.\n",
      "  stats_quantiles = grouped[['marker','output']].agg(stat_list).reset_index().dropna()\n"
     ]
    }
   ],
   "source": [
    "data2, quantiles2, stats2, metadata2 = base.load_data(base_path, metadata_path, 'application')"
   ]
  },
  {
   "cell_type": "code",
   "execution_count": 11,
   "metadata": {},
   "outputs": [],
   "source": [
    "ts_label = {'na': 'base', 'NT': 'OL', 'T': 'CL', 'none': '–'}\n",
    "metadata['ts_label'] = metadata['ts_kind'].replace(ts_label)\n",
    "\n",
    "# Create dicts to specify colors/markers\n",
    "metadata_dict = metadata.set_index('construct').to_dict('dict')\n",
    "main_palette = metadata_dict['color']\n",
    "main_markers = metadata_dict['markers']\n",
    "\n",
    "# Create dicts to specify colors/markers\n",
    "metadata2 = base.get_metadata(metadata_path/'construct-metadata.xlsx', 'applications')\n",
    "metadata_dict2 = metadata2.set_index('construct').to_dict('dict')\n",
    "app_palette = metadata_dict2['color']\n",
    "app_markers = metadata_dict2['markers']"
   ]
  },
  {
   "cell_type": "code",
   "execution_count": 5,
   "metadata": {},
   "outputs": [],
   "source": [
    "# Since there is no marker-only condition, save the output expression stats for untransduced cells\n",
    "baseline_df = data[(data['construct'].isin(['UI','UT'])) | (data['virus_dilution']==0)].groupby(['cell','dox','exp','biorep'])['output'].apply(sp.stats.gmean).rename('output_gmean').reset_index()"
   ]
  },
  {
   "cell_type": "markdown",
   "metadata": {},
   "source": [
    "### Set up figure"
   ]
  },
  {
   "cell_type": "code",
   "execution_count": null,
   "metadata": {},
   "outputs": [],
   "source": [
    "sns.set_style('ticks')\n",
    "sns.set_context('paper', font_scale=1.0, rc=base.rc_context)\n",
    "plt.rcParams.update(base.rc_params)"
   ]
  },
  {
   "cell_type": "code",
   "execution_count": 89,
   "metadata": {},
   "outputs": [
    {
     "data": {
      "text/plain": [
       "<Figure size 685.04x750 with 0 Axes>"
      ]
     },
     "metadata": {},
     "output_type": "display_data"
    }
   ],
   "source": [
    "# Create the overall figure, gridspec, and add subfigure labels\n",
    "fig = plt.figure(figsize=(6.8504, 1.5*5)) #4.48819, 6.8504\n",
    "fig_gridspec = matplotlib.gridspec.GridSpec(5, 6, figure=fig,\n",
    "    wspace=0.4, hspace=0.4, width_ratios=[1]*6,)\n",
    "subfigures = {\n",
    "    'A': fig.add_subfigure(fig_gridspec[0,:3]),\n",
    "    'B': fig.add_subfigure(fig_gridspec[0,3:]),\n",
    "    'C': fig.add_subfigure(fig_gridspec[1,:4]),\n",
    "    'D': fig.add_subfigure(fig_gridspec[2,:3]),\n",
    "    'E': fig.add_subfigure(fig_gridspec[2,3:]),\n",
    "    'F': fig.add_subfigure(fig_gridspec[3,:5]),\n",
    "    'G': fig.add_subfigure(fig_gridspec[3,5:]),\n",
    "    'H': fig.add_subfigure(fig_gridspec[4,:5]),\n",
    "    'I': fig.add_subfigure(fig_gridspec[4,5:]),\n",
    "}\n",
    "for label, subfig in subfigures.items():\n",
    "    if '2' in label: continue\n",
    "    subfig.add_artist(matplotlib.text.Text(x=0, y=1, text=f'{label}', fontsize=base.font_sizes['subpanel_label'], \n",
    "                                           fontweight='bold', verticalalignment='top',transform=subfig.transSubfigure))\n",
    "scatter_kwargs = dict(s=4, jitter=0.2, linewidth=0.5, edgecolor='white')\n",
    "\n",
    "output_path = rd.rootdir/'output'/'fig_applications-supp'/'fig_applications-supp.pdf'\n",
    "fig.savefig(rd.outfile(output_path))"
   ]
  },
  {
   "cell_type": "code",
   "execution_count": 90,
   "metadata": {},
   "outputs": [
    {
     "name": "stderr",
     "output_type": "stream",
     "text": [
      "/var/folders/6l/y94zphkj6_10cr58x6c_bk540000gn/T/ipykernel_46709/870502768.py:38: UserWarning: set_ticklabels() should only be used with a fixed number of ticks, i.e. after set_ticks() or using a FixedLocator.\n",
      "  ax.set_xticklabels([ts_label[l.get_text()] for l in ax.get_xticklabels()], ha='right', rotation=45)\n",
      "/var/folders/6l/y94zphkj6_10cr58x6c_bk540000gn/T/ipykernel_46709/870502768.py:38: UserWarning: set_ticklabels() should only be used with a fixed number of ticks, i.e. after set_ticks() or using a FixedLocator.\n",
      "  ax.set_xticklabels([ts_label[l.get_text()] for l in ax.get_xticklabels()], ha='right', rotation=45)\n",
      "/var/folders/6l/y94zphkj6_10cr58x6c_bk540000gn/T/ipykernel_46709/870502768.py:38: UserWarning: set_ticklabels() should only be used with a fixed number of ticks, i.e. after set_ticks() or using a FixedLocator.\n",
      "  ax.set_xticklabels([ts_label[l.get_text()] for l in ax.get_xticklabels()], ha='right', rotation=45)\n",
      "/var/folders/6l/y94zphkj6_10cr58x6c_bk540000gn/T/ipykernel_46709/870502768.py:38: UserWarning: set_ticklabels() should only be used with a fixed number of ticks, i.e. after set_ticks() or using a FixedLocator.\n",
      "  ax.set_xticklabels([ts_label[l.get_text()] for l in ax.get_xticklabels()], ha='right', rotation=45)\n"
     ]
    }
   ],
   "source": [
    "subfig = subfigures['A']\n",
    "rd.plot.adjust_subplot_margins_inches(subfig, left=0.4, bottom=0.35, top=0.6, right=0.15)\n",
    "axes = subfig.subplots(1,4, gridspec_kw=dict(wspace=0.5))\n",
    "\n",
    "plot_df = stats2[stats2['group'].isin(['controller','base']) & (stats2['design']<=1) & (stats2['promoter']=='EF1a') & \n",
    "                 (stats2['data_group']=='iPS11_transfection')]\n",
    "\n",
    "# mean\n",
    "ax = axes[0]\n",
    "for construct, group in plot_df.groupby('construct'):\n",
    "    sns.stripplot(data=group, x='ts_kind', y='output_gmean', hue='construct', palette=app_palette,\n",
    "                  legend=False, ax=ax, marker=app_markers[construct], **scatter_kwargs)\n",
    "ax.set(title='Mean', xlabel='', ylabel='', yscale='log', ylim=(1e3,1e5))\n",
    "\n",
    "# std\n",
    "ax = axes[1]\n",
    "for construct, group in plot_df.groupby('construct'):\n",
    "    sns.stripplot(data=group, x='ts_kind', y='output_std', hue='construct', palette=app_palette,\n",
    "                  legend=False, ax=ax, marker=app_markers[construct], **scatter_kwargs)\n",
    "ax.set(title='Std.', xlabel='', ylabel='', yscale='log', ylim=(6e3,6e5))\n",
    "\n",
    "# slope\n",
    "ax = axes[2]\n",
    "for construct, group in plot_df.groupby('construct'):\n",
    "    sns.stripplot(data=group, x='ts_kind', y='slope', hue='construct', palette=app_palette,\n",
    "                  legend=False, ax=ax, marker=app_markers[construct], **scatter_kwargs)\n",
    "ax.set(title='Slope', xlabel='', ylabel='',ylim=(0.5,1.2))\n",
    "\n",
    "# CV\n",
    "ax = axes[3]\n",
    "for construct, group in plot_df.groupby('construct'):\n",
    "    sns.stripplot(data=group, x='ts_kind', y='output_variation', hue='construct', palette=app_palette,\n",
    "                  legend=False, ax=ax, marker=app_markers[construct], **scatter_kwargs)\n",
    "ax.set(title='CV', xlabel='', ylabel='',)\n",
    "\n",
    "for ax in axes:\n",
    "    #sns.despine(ax=ax)\n",
    "    ax.set_xticklabels([ts_label[l.get_text()] for l in ax.get_xticklabels()], ha='right', rotation=45)\n",
    "\n",
    "fig.savefig(rd.outfile(output_path))"
   ]
  },
  {
   "cell_type": "code",
   "execution_count": 91,
   "metadata": {},
   "outputs": [
    {
     "name": "stderr",
     "output_type": "stream",
     "text": [
      "/var/folders/6l/y94zphkj6_10cr58x6c_bk540000gn/T/ipykernel_46709/1764908271.py:38: UserWarning: set_ticklabels() should only be used with a fixed number of ticks, i.e. after set_ticks() or using a FixedLocator.\n",
      "  ax.set_xticklabels([ts_label[l.get_text()] for l in ax.get_xticklabels()], ha='right', rotation=45)\n",
      "/var/folders/6l/y94zphkj6_10cr58x6c_bk540000gn/T/ipykernel_46709/1764908271.py:38: UserWarning: set_ticklabels() should only be used with a fixed number of ticks, i.e. after set_ticks() or using a FixedLocator.\n",
      "  ax.set_xticklabels([ts_label[l.get_text()] for l in ax.get_xticklabels()], ha='right', rotation=45)\n",
      "/var/folders/6l/y94zphkj6_10cr58x6c_bk540000gn/T/ipykernel_46709/1764908271.py:38: UserWarning: set_ticklabels() should only be used with a fixed number of ticks, i.e. after set_ticks() or using a FixedLocator.\n",
      "  ax.set_xticklabels([ts_label[l.get_text()] for l in ax.get_xticklabels()], ha='right', rotation=45)\n",
      "/var/folders/6l/y94zphkj6_10cr58x6c_bk540000gn/T/ipykernel_46709/1764908271.py:38: UserWarning: set_ticklabels() should only be used with a fixed number of ticks, i.e. after set_ticks() or using a FixedLocator.\n",
      "  ax.set_xticklabels([ts_label[l.get_text()] for l in ax.get_xticklabels()], ha='right', rotation=45)\n"
     ]
    }
   ],
   "source": [
    "subfig = subfigures['B']\n",
    "rd.plot.adjust_subplot_margins_inches(subfig, left=0.4, bottom=0.35, top=0.6, right=0.15)\n",
    "axes = subfig.subplots(1,4, gridspec_kw=dict(wspace=0.5))\n",
    "\n",
    "plot_df = stats2[stats2['group'].isin(['controller','base']) & (stats2['design']<=1) & (stats2['promoter']=='CAG') & \n",
    "                 (stats2['data_group']=='iPS11_transfection')]\n",
    "\n",
    "# mean\n",
    "ax = axes[0]\n",
    "for construct, group in plot_df.groupby('construct'):\n",
    "    sns.stripplot(data=group, x='ts_kind', y='output_gmean', hue='construct', palette=app_palette,\n",
    "                  legend=False, ax=ax, marker=app_markers[construct], **scatter_kwargs)\n",
    "ax.set(title='Mean', xlabel='', ylabel='', yscale='log', ylim=(1e3,1e5))\n",
    "\n",
    "# std\n",
    "ax = axes[1]\n",
    "for construct, group in plot_df.groupby('construct'):\n",
    "    sns.stripplot(data=group, x='ts_kind', y='output_std', hue='construct', palette=app_palette,\n",
    "                  legend=False, ax=ax, marker=app_markers[construct], **scatter_kwargs)\n",
    "ax.set(title='Std.', xlabel='', ylabel='', yscale='log', ylim=(6e3,6e5))\n",
    "\n",
    "# slope\n",
    "ax = axes[2]\n",
    "for construct, group in plot_df.groupby('construct'):\n",
    "    sns.stripplot(data=group, x='ts_kind', y='slope', hue='construct', palette=app_palette,\n",
    "                  legend=False, ax=ax, marker=app_markers[construct], **scatter_kwargs)\n",
    "ax.set(title='Slope', xlabel='', ylabel='',ylim=(0.5,1.2))\n",
    "\n",
    "# CV\n",
    "ax = axes[3]\n",
    "for construct, group in plot_df.groupby('construct'):\n",
    "    sns.stripplot(data=group, x='ts_kind', y='output_variation', hue='construct', palette=app_palette,\n",
    "                  legend=False, ax=ax, marker=app_markers[construct], **scatter_kwargs)\n",
    "ax.set(title='CV', xlabel='', ylabel='',)\n",
    "\n",
    "for ax in axes:\n",
    "    sns.despine(ax=ax)\n",
    "    ax.set_xticklabels([ts_label[l.get_text()] for l in ax.get_xticklabels()], ha='right', rotation=45)\n",
    "\n",
    "fig.savefig(rd.outfile(output_path))"
   ]
  },
  {
   "cell_type": "code",
   "execution_count": 92,
   "metadata": {},
   "outputs": [
    {
     "name": "stderr",
     "output_type": "stream",
     "text": [
      "/var/folders/6l/y94zphkj6_10cr58x6c_bk540000gn/T/ipykernel_46709/3515161137.py:16: FutureWarning: Downcasting behavior in `replace` is deprecated and will be removed in a future version. To retain the old behavior, explicitly call `result.infer_objects(copy=False)`. To opt-in to the future behavior, set `pd.set_option('future.no_silent_downcasting', True)`\n",
      "  plot_df['construct_loc'] = plot_df['construct'].replace(construct_loc)\n",
      "/var/folders/6l/y94zphkj6_10cr58x6c_bk540000gn/T/ipykernel_46709/3515161137.py:19: SettingWithCopyWarning: \n",
      "A value is trying to be set on a copy of a slice from a DataFrame.\n",
      "Try using .loc[row_indexer,col_indexer] = value instead\n",
      "\n",
      "See the caveats in the documentation: https://pandas.pydata.org/pandas-docs/stable/user_guide/indexing.html#returning-a-view-versus-a-copy\n",
      "  m['construct_loc'] = m['construct_loc'].astype(str)\n"
     ]
    }
   ],
   "source": [
    "subfig = subfigures['C']\n",
    "rd.plot.adjust_subplot_margins_inches(subfig, left=0.6, bottom=0.5, top=0.35, right=0)\n",
    "axes = subfig.subplots(1,3, gridspec_kw=dict(width_ratios=(1,1,1), wspace=0.3))\n",
    "\n",
    "# iPSC controls\n",
    "group_order = ['base','miR','ts3','ts5']\n",
    "plot_df = stats2[~stats2['group'].isin(['controller','marker']) & (stats2['promoter']=='EF1a') & (stats2['data_group']=='iPS11_transfection')].copy()\n",
    "plot_df['group'] = plot_df['group'].astype(pd.api.types.CategoricalDtype(categories=group_order, ordered=True))\n",
    "plot_df.sort_values(['group','ts'], inplace=True)\n",
    "\n",
    "# shift xticks to add more space between promoter groups\n",
    "buffer = 0.6\n",
    "num_groups = 3\n",
    "xtick_locs = [0, 1+buffer, 2+buffer] + [i+buffer*2 for i in range(3,7)]\n",
    "construct_loc = {k:v for k,v in zip(plot_df['construct'].unique(), xtick_locs)}\n",
    "plot_df['construct_loc'] = plot_df['construct'].replace(construct_loc)\n",
    "metadata['construct_loc'] = metadata['construct'].map(construct_loc)\n",
    "m = metadata.dropna()\n",
    "m['construct_loc'] = m['construct_loc'].astype(str)\n",
    "xlim = (-0.5, plot_df['construct_loc'].max()+0.5)\n",
    "\n",
    "# adjust markers\n",
    "m.loc[(m['miR_loc']=='CDS') | (m['ts_loc']=='3\\''), 'markers'] = 'D'\n",
    "m_dict = m.set_index('construct').to_dict('dict')\n",
    "comb_markers = m_dict['markers']\n",
    "\n",
    "# make xticklabels\n",
    "def get_label(df):\n",
    "    group = df['group'].unique()[0]\n",
    "    d = df.copy()\n",
    "    col_map = {'base': 'group', 'miR': 'miR', 'ts3': 'ts', 'ts5': 'ts'}\n",
    "    d['label'] = d[col_map[group]]\n",
    "    return d\n",
    "\n",
    "m = m.groupby('group')[m.columns].apply(get_label).reset_index(drop=True)\n",
    "\n",
    "# stat gmean\n",
    "ax = axes[0]\n",
    "for construct, group in plot_df.groupby('construct', sort=False):\n",
    "    sns.stripplot(data=group, x='construct_loc', y='output_gmean', hue='construct', palette=main_palette,\n",
    "                    legend=False, ax=ax, marker=comb_markers[construct], **scatter_kwargs, native_scale=True)\n",
    "ax.set(title='Mean', xlim=xlim, xlabel='', ylabel='', yscale='log', xticks=xtick_locs,)\n",
    "\n",
    "# stat std\n",
    "ax = axes[1]\n",
    "for construct, group in plot_df.groupby('construct', sort=False):\n",
    "    sns.stripplot(data=group, x='construct_loc', y='output_std', hue='construct', palette=main_palette,\n",
    "                    legend=False, ax=ax, marker=comb_markers[construct], **scatter_kwargs, native_scale=True)\n",
    "ax.set(title='Standard deviation', xlim=xlim, xlabel='', ylabel='', yscale='log', xticks=xtick_locs,)\n",
    "\n",
    "# slope\n",
    "ax = axes[2]\n",
    "for construct, group in plot_df.groupby('construct', sort=False):\n",
    "    sns.stripplot(data=group, x='construct_loc', y='slope', hue='construct', palette=main_palette,\n",
    "                    legend=False, ax=ax, marker=comb_markers[construct], **scatter_kwargs, native_scale=True)\n",
    "ax.set(title='Slope', xlim=xlim, xlabel='', ylim=(0.5,1.2), ylabel='', xticks=xtick_locs,)\n",
    "\n",
    "for ax in axes:\n",
    "    sns.despine(ax=ax)\n",
    "\n",
    "    # add shaded region for miR-only constructs\n",
    "    span1 = (xtick_locs[0]+(xtick_locs[1]-xtick_locs[0])/2, xtick_locs[2]+(xtick_locs[3]-xtick_locs[2])/2,)\n",
    "    ax.axvspan(*span1, color=base.get_light_color(base.colors['gray']), alpha=0.2,)\n",
    "    labels = dict(zip(m.drop_duplicates('construct_loc')['construct_loc'], m.drop_duplicates('construct_loc')['label']))\n",
    "    ax.set_xticklabels([labels[l.get_text()].replace('.','-') for l in ax.get_xticklabels()], ha='right', rotation=45)\n",
    "    ax.yaxis.set_minor_formatter(plt.NullFormatter())\n",
    "\n",
    "fig.savefig(rd.outfile(output_path))"
   ]
  },
  {
   "cell_type": "code",
   "execution_count": 93,
   "metadata": {},
   "outputs": [
    {
     "name": "stderr",
     "output_type": "stream",
     "text": [
      "/var/folders/6l/y94zphkj6_10cr58x6c_bk540000gn/T/ipykernel_46709/4094530437.py:37: UserWarning: set_ticklabels() should only be used with a fixed number of ticks, i.e. after set_ticks() or using a FixedLocator.\n",
      "  ax.set_xticklabels([ts_label[l.get_text()] for l in ax.get_xticklabels()], ha='right', rotation=45)\n",
      "/var/folders/6l/y94zphkj6_10cr58x6c_bk540000gn/T/ipykernel_46709/4094530437.py:37: UserWarning: set_ticklabels() should only be used with a fixed number of ticks, i.e. after set_ticks() or using a FixedLocator.\n",
      "  ax.set_xticklabels([ts_label[l.get_text()] for l in ax.get_xticklabels()], ha='right', rotation=45)\n",
      "/var/folders/6l/y94zphkj6_10cr58x6c_bk540000gn/T/ipykernel_46709/4094530437.py:37: UserWarning: set_ticklabels() should only be used with a fixed number of ticks, i.e. after set_ticks() or using a FixedLocator.\n",
      "  ax.set_xticklabels([ts_label[l.get_text()] for l in ax.get_xticklabels()], ha='right', rotation=45)\n",
      "/var/folders/6l/y94zphkj6_10cr58x6c_bk540000gn/T/ipykernel_46709/4094530437.py:37: UserWarning: set_ticklabels() should only be used with a fixed number of ticks, i.e. after set_ticks() or using a FixedLocator.\n",
      "  ax.set_xticklabels([ts_label[l.get_text()] for l in ax.get_xticklabels()], ha='right', rotation=45)\n"
     ]
    }
   ],
   "source": [
    "subfig = subfigures['D']\n",
    "rd.plot.adjust_subplot_margins_inches(subfig, left=0.4, bottom=0.35, top=0.6, right=0.15)\n",
    "axes = subfig.subplots(1,4, gridspec_kw=dict(wspace=0.5))\n",
    "\n",
    "plot_df = stats2[(stats2['name'].str.contains('FXN')) & (stats2['data_group']=='therapeutic_transfection')]\n",
    "\n",
    "# mean\n",
    "ax = axes[0]\n",
    "for construct, group in plot_df.groupby('construct'):\n",
    "    sns.stripplot(data=group, x='ts_kind', y='output_gmean', hue='construct', palette=app_palette,\n",
    "                  legend=False, ax=ax, marker=app_markers[construct], **scatter_kwargs)\n",
    "ax.set(title='Mean', xlabel='', ylabel='', yscale='log',)\n",
    "\n",
    "# std\n",
    "ax = axes[1]\n",
    "for construct, group in plot_df.groupby('construct'):\n",
    "    sns.stripplot(data=group, x='ts_kind', y='output_std', hue='construct', palette=app_palette,\n",
    "                  legend=False, ax=ax, marker=app_markers[construct], **scatter_kwargs)\n",
    "ax.set(title='Std.', xlabel='', ylabel='', yscale='log',)\n",
    "\n",
    "# slope\n",
    "ax = axes[2]\n",
    "for construct, group in plot_df.groupby('construct'):\n",
    "    sns.stripplot(data=group, x='ts_kind', y='slope', hue='construct', palette=app_palette,\n",
    "                  legend=False, ax=ax, marker=app_markers[construct], **scatter_kwargs)\n",
    "ax.set(title='Slope', xlabel='', ylabel='',)\n",
    "\n",
    "# CV\n",
    "ax = axes[3]\n",
    "for construct, group in plot_df.groupby('construct'):\n",
    "    sns.stripplot(data=group, x='ts_kind', y='output_variation', hue='construct', palette=app_palette,\n",
    "                  legend=False, ax=ax, marker=app_markers[construct], **scatter_kwargs)\n",
    "ax.set(title='CV', xlabel='', ylabel='',)\n",
    "\n",
    "for ax in axes:\n",
    "    sns.despine(ax=ax)\n",
    "    ax.set_xticklabels([ts_label[l.get_text()] for l in ax.get_xticklabels()], ha='right', rotation=45)\n",
    "    \n",
    "fig.savefig(rd.outfile(output_path))"
   ]
  },
  {
   "cell_type": "code",
   "execution_count": 94,
   "metadata": {},
   "outputs": [
    {
     "name": "stderr",
     "output_type": "stream",
     "text": [
      "/var/folders/6l/y94zphkj6_10cr58x6c_bk540000gn/T/ipykernel_46709/1634922160.py:37: UserWarning: set_ticklabels() should only be used with a fixed number of ticks, i.e. after set_ticks() or using a FixedLocator.\n",
      "  ax.set_xticklabels([ts_label[l.get_text()] for l in ax.get_xticklabels()], ha='right', rotation=45)\n",
      "/var/folders/6l/y94zphkj6_10cr58x6c_bk540000gn/T/ipykernel_46709/1634922160.py:37: UserWarning: set_ticklabels() should only be used with a fixed number of ticks, i.e. after set_ticks() or using a FixedLocator.\n",
      "  ax.set_xticklabels([ts_label[l.get_text()] for l in ax.get_xticklabels()], ha='right', rotation=45)\n",
      "/var/folders/6l/y94zphkj6_10cr58x6c_bk540000gn/T/ipykernel_46709/1634922160.py:37: UserWarning: set_ticklabels() should only be used with a fixed number of ticks, i.e. after set_ticks() or using a FixedLocator.\n",
      "  ax.set_xticklabels([ts_label[l.get_text()] for l in ax.get_xticklabels()], ha='right', rotation=45)\n",
      "/var/folders/6l/y94zphkj6_10cr58x6c_bk540000gn/T/ipykernel_46709/1634922160.py:37: UserWarning: set_ticklabels() should only be used with a fixed number of ticks, i.e. after set_ticks() or using a FixedLocator.\n",
      "  ax.set_xticklabels([ts_label[l.get_text()] for l in ax.get_xticklabels()], ha='right', rotation=45)\n"
     ]
    }
   ],
   "source": [
    "subfig = subfigures['E']\n",
    "rd.plot.adjust_subplot_margins_inches(subfig, left=0.4, bottom=0.35, top=0.6, right=0.15)\n",
    "axes = subfig.subplots(1,4, gridspec_kw=dict(wspace=0.5))\n",
    "\n",
    "plot_df = stats2[(stats2['name'].str.contains('FMRP')) & (stats2['data_group']=='therapeutic_transfection')]\n",
    "\n",
    "# mean\n",
    "ax = axes[0]\n",
    "for construct, group in plot_df.groupby('construct'):\n",
    "    sns.stripplot(data=group, x='ts_kind', y='output_gmean', hue='construct', palette=app_palette,\n",
    "                  legend=False, ax=ax, marker=app_markers[construct], **scatter_kwargs)\n",
    "ax.set(title='Mean', xlabel='', ylabel='', yscale='log',)\n",
    "\n",
    "# std\n",
    "ax = axes[1]\n",
    "for construct, group in plot_df.groupby('construct'):\n",
    "    sns.stripplot(data=group, x='ts_kind', y='output_std', hue='construct', palette=app_palette,\n",
    "                  legend=False, ax=ax, marker=app_markers[construct], **scatter_kwargs)\n",
    "ax.set(title='Std.', xlabel='', ylabel='', yscale='log',)\n",
    "\n",
    "# slope\n",
    "ax = axes[2]\n",
    "for construct, group in plot_df.groupby('construct'):\n",
    "    sns.stripplot(data=group, x='ts_kind', y='slope', hue='construct', palette=app_palette,\n",
    "                  legend=False, ax=ax, marker=app_markers[construct], **scatter_kwargs)\n",
    "ax.set(title='Slope', xlabel='', ylabel='',)\n",
    "\n",
    "# CV\n",
    "ax = axes[3]\n",
    "for construct, group in plot_df.groupby('construct'):\n",
    "    sns.stripplot(data=group, x='ts_kind', y='output_variation', hue='construct', palette=app_palette,\n",
    "                  legend=False, ax=ax, marker=app_markers[construct], **scatter_kwargs)\n",
    "ax.set(title='CV', xlabel='', ylabel='',)\n",
    "\n",
    "for ax in axes:\n",
    "    sns.despine(ax=ax)\n",
    "    ax.set_xticklabels([ts_label[l.get_text()] for l in ax.get_xticklabels()], ha='right', rotation=45)\n",
    "    \n",
    "fig.savefig(rd.outfile(output_path))"
   ]
  },
  {
   "cell_type": "code",
   "execution_count": 95,
   "metadata": {},
   "outputs": [
    {
     "name": "stderr",
     "output_type": "stream",
     "text": [
      "/var/folders/6l/y94zphkj6_10cr58x6c_bk540000gn/T/ipykernel_46709/3717532280.py:14: UserWarning: set_ticklabels() should only be used with a fixed number of ticks, i.e. after set_ticks() or using a FixedLocator.\n",
      "  ax.set_xticklabels([ts_label[l.get_text()] for l in ax.get_xticklabels()], ha='right', rotation=45)\n",
      "/var/folders/6l/y94zphkj6_10cr58x6c_bk540000gn/T/ipykernel_46709/3717532280.py:23: UserWarning: set_ticklabels() should only be used with a fixed number of ticks, i.e. after set_ticks() or using a FixedLocator.\n",
      "  ax.set_xticklabels([ts_label[l.get_text()] for l in ax.get_xticklabels()], ha='right', rotation=45)\n",
      "/var/folders/6l/y94zphkj6_10cr58x6c_bk540000gn/T/ipykernel_46709/3717532280.py:32: UserWarning: set_ticklabels() should only be used with a fixed number of ticks, i.e. after set_ticks() or using a FixedLocator.\n",
      "  ax.set_xticklabels([ts_label[l.get_text()] for l in ax.get_xticklabels()], ha='right', rotation=45)\n",
      "/var/folders/6l/y94zphkj6_10cr58x6c_bk540000gn/T/ipykernel_46709/3717532280.py:41: UserWarning: set_ticklabels() should only be used with a fixed number of ticks, i.e. after set_ticks() or using a FixedLocator.\n",
      "  ax.set_xticklabels([ts_label[l.get_text()] for l in ax.get_xticklabels()], ha='right', rotation=45)\n",
      "/var/folders/6l/y94zphkj6_10cr58x6c_bk540000gn/T/ipykernel_46709/3717532280.py:47: SettingWithCopyWarning: \n",
      "A value is trying to be set on a copy of a slice from a DataFrame\n",
      "\n",
      "See the caveats in the documentation: https://pandas.pydata.org/pandas-docs/stable/user_guide/indexing.html#returning-a-view-versus-a-copy\n",
      "  plot_df.sort_values(['ts_num','ts_kind'], ascending=False, inplace=True)\n"
     ]
    }
   ],
   "source": [
    "subfig = subfigures['F']\n",
    "rd.plot.adjust_subplot_margins_inches(subfig, left=0.6, bottom=0.4, top=0.35, right=0.1)\n",
    "axes = subfig.subplots(1,5, gridspec_kw=dict(width_ratios=(1,1,1,1,1.5), wspace=0.4))\n",
    "\n",
    "plot_df = stats[(stats['cell']=='therapeutic') & (stats['dox']==1000) & (stats['name'].str.contains('FXN'))]\n",
    "\n",
    "# mean\n",
    "ax = axes[0]\n",
    "for construct, group in plot_df.groupby('construct'):\n",
    "    sns.stripplot(data=group, x='ts_kind', y='output_gmean', hue='construct', palette=app_palette,\n",
    "                  legend=False, ax=ax, marker=app_markers[construct], **scatter_kwargs)\n",
    "ax.set(title='Mean', xlabel='', ylabel='', yscale='log', )#ylim=(1e4,5e5))\n",
    "sns.despine(ax=ax)\n",
    "ax.set_xticklabels([ts_label[l.get_text()] for l in ax.get_xticklabels()], ha='right', rotation=45)\n",
    "\n",
    "# std\n",
    "ax = axes[1]\n",
    "for construct, group in plot_df.groupby('construct'):\n",
    "    sns.stripplot(data=group, x='ts_kind', y='output_std', hue='construct', palette=app_palette,\n",
    "                  legend=False, ax=ax, marker=app_markers[construct], **scatter_kwargs)\n",
    "ax.set(title='Std.', xlabel='', ylabel='', yscale='log',)\n",
    "sns.despine(ax=ax)\n",
    "ax.set_xticklabels([ts_label[l.get_text()] for l in ax.get_xticklabels()], ha='right', rotation=45)\n",
    "\n",
    "# slope\n",
    "ax = axes[2]\n",
    "for construct, group in plot_df.groupby('construct'):\n",
    "    sns.stripplot(data=group, x='ts_kind', y='slope', hue='construct', palette=app_palette,\n",
    "                  legend=False, ax=ax, marker=app_markers[construct], **scatter_kwargs)\n",
    "ax.set(title='Slope', xlabel='', ylabel='', ylim=(0.2,1))\n",
    "sns.despine(ax=ax)\n",
    "ax.set_xticklabels([ts_label[l.get_text()] for l in ax.get_xticklabels()], ha='right', rotation=45)\n",
    "\n",
    "# CV\n",
    "ax = axes[3]\n",
    "for construct, group in plot_df.groupby('construct'):\n",
    "    sns.stripplot(data=group, x='ts_kind', y='output_variation', hue='construct', palette=app_palette,\n",
    "                  legend=False, ax=ax, marker=app_markers[construct], **scatter_kwargs)\n",
    "ax.set(title='CV', xlabel='', ylabel='',)\n",
    "sns.despine(ax=ax)\n",
    "ax.set_xticklabels([ts_label[l.get_text()] for l in ax.get_xticklabels()], ha='right', rotation=45)\n",
    "\n",
    "# CDF\n",
    "ax = axes[4]\n",
    "plot_df = quantiles[(quantiles['cell']=='therapeutic') & (quantiles['dox']==1000) & \n",
    "                    (quantiles['name'].str.contains('FXN')) & (quantiles['biorep']==1)]\n",
    "plot_df.sort_values(['ts_num','ts_kind'], ascending=False, inplace=True)\n",
    "plot_order = reversed(plot_df['construct'].unique())\n",
    "\n",
    "sns.kdeplot(data=plot_df, x='output', hue='construct', palette=app_palette, ax=ax,\n",
    "            cumulative=True, common_norm=False, legend=False, log_scale=True)\n",
    "ax.set(xticks=np.logspace(2,6,5), ylabel='', xlim=(1e1,2e4), title='CDF')\n",
    "sns.despine(ax=ax)\n",
    "ax.minorticks_off()\n",
    "ax.grid(zorder=-1, color=base.get_light_color(base.get_light_color(base.colors['gray'])), which='both',alpha=0.7)\n",
    "\n",
    "fig.savefig(rd.outfile(output_path))"
   ]
  },
  {
   "cell_type": "code",
   "execution_count": 96,
   "metadata": {},
   "outputs": [
    {
     "name": "stderr",
     "output_type": "stream",
     "text": [
      "/var/folders/6l/y94zphkj6_10cr58x6c_bk540000gn/T/ipykernel_46709/4166657929.py:15: UserWarning: set_ticklabels() should only be used with a fixed number of ticks, i.e. after set_ticks() or using a FixedLocator.\n",
      "  ax.set_xticklabels([ts_label[l.get_text()] for l in ax.get_xticklabels()], ha='right', rotation=45)\n"
     ]
    }
   ],
   "source": [
    "subfig = subfigures['G']\n",
    "rd.plot.adjust_subplot_margins_inches(subfig, left=0.5, bottom=0.4, top=0.35, right=0.05)\n",
    "axes = subfig.subplots(1,1,)\n",
    "\n",
    "plot_df = stats[(stats['cell']=='therapeutic') & (stats['dox']==0) & (stats['name'].str.contains('FXN'))]\n",
    "\n",
    "# stat gmean\n",
    "ax = axes \n",
    "for construct, group in plot_df.groupby('construct'):\n",
    "    sns.stripplot(data=group, x='ts_kind', y='output_gmean', hue='construct', palette=app_palette,\n",
    "                    legend=False, ax=ax, marker=app_markers[construct], **scatter_kwargs)\n",
    "ax.set(title='Mean', xlabel='', ylabel='', yscale='log', ylim=(1e1,2e2))\n",
    "baseline = baseline_df.loc[(baseline_df['cell']=='iPS11') & (baseline_df['dox']==0), 'output_gmean'].mean()\n",
    "ax.axhline(baseline, color='black', ls=':')\n",
    "ax.set_xticklabels([ts_label[l.get_text()] for l in ax.get_xticklabels()], ha='right', rotation=45)\n",
    "\n",
    "fig.savefig(rd.outfile(output_path))"
   ]
  },
  {
   "cell_type": "code",
   "execution_count": 97,
   "metadata": {},
   "outputs": [
    {
     "name": "stderr",
     "output_type": "stream",
     "text": [
      "/var/folders/6l/y94zphkj6_10cr58x6c_bk540000gn/T/ipykernel_46709/1253947544.py:14: UserWarning: set_ticklabels() should only be used with a fixed number of ticks, i.e. after set_ticks() or using a FixedLocator.\n",
      "  ax.set_xticklabels([ts_label[l.get_text()] for l in ax.get_xticklabels()], ha='right', rotation=45)\n",
      "/var/folders/6l/y94zphkj6_10cr58x6c_bk540000gn/T/ipykernel_46709/1253947544.py:23: UserWarning: set_ticklabels() should only be used with a fixed number of ticks, i.e. after set_ticks() or using a FixedLocator.\n",
      "  ax.set_xticklabels([ts_label[l.get_text()] for l in ax.get_xticklabels()], ha='right', rotation=45)\n",
      "/var/folders/6l/y94zphkj6_10cr58x6c_bk540000gn/T/ipykernel_46709/1253947544.py:32: UserWarning: set_ticklabels() should only be used with a fixed number of ticks, i.e. after set_ticks() or using a FixedLocator.\n",
      "  ax.set_xticklabels([ts_label[l.get_text()] for l in ax.get_xticklabels()], ha='right', rotation=45)\n",
      "/var/folders/6l/y94zphkj6_10cr58x6c_bk540000gn/T/ipykernel_46709/1253947544.py:41: UserWarning: set_ticklabels() should only be used with a fixed number of ticks, i.e. after set_ticks() or using a FixedLocator.\n",
      "  ax.set_xticklabels([ts_label[l.get_text()] for l in ax.get_xticklabels()], ha='right', rotation=45)\n",
      "/var/folders/6l/y94zphkj6_10cr58x6c_bk540000gn/T/ipykernel_46709/1253947544.py:47: SettingWithCopyWarning: \n",
      "A value is trying to be set on a copy of a slice from a DataFrame\n",
      "\n",
      "See the caveats in the documentation: https://pandas.pydata.org/pandas-docs/stable/user_guide/indexing.html#returning-a-view-versus-a-copy\n",
      "  plot_df.sort_values(['ts_num','ts_kind'], ascending=False, inplace=True)\n"
     ]
    }
   ],
   "source": [
    "subfig = subfigures['H']\n",
    "rd.plot.adjust_subplot_margins_inches(subfig, left=0.6, bottom=0.4, top=0.35, right=0.1)\n",
    "axes = subfig.subplots(1,5, gridspec_kw=dict(width_ratios=(1,1,1,1,1.5), wspace=0.4))\n",
    "\n",
    "plot_df = stats[(stats['cell']=='therapeutic') & (stats['dox']==1000) & (stats['name'].str.contains('FMRP'))]\n",
    "\n",
    "# mean\n",
    "ax = axes[0]\n",
    "for construct, group in plot_df.groupby('construct'):\n",
    "    sns.stripplot(data=group, x='ts_kind', y='output_gmean', hue='construct', palette=app_palette,\n",
    "                  legend=False, ax=ax, marker=app_markers[construct], **scatter_kwargs)\n",
    "ax.set(title='Mean', xlabel='', ylabel='', yscale='log', )#ylim=(1e4,5e5))\n",
    "sns.despine(ax=ax)\n",
    "ax.set_xticklabels([ts_label[l.get_text()] for l in ax.get_xticklabels()], ha='right', rotation=45)\n",
    "\n",
    "# std\n",
    "ax = axes[1]\n",
    "for construct, group in plot_df.groupby('construct'):\n",
    "    sns.stripplot(data=group, x='ts_kind', y='output_std', hue='construct', palette=app_palette,\n",
    "                  legend=False, ax=ax, marker=app_markers[construct], **scatter_kwargs)\n",
    "ax.set(title='Std.', xlabel='', ylabel='', yscale='log', )#ylim=(1e4,5e5))\n",
    "sns.despine(ax=ax)\n",
    "ax.set_xticklabels([ts_label[l.get_text()] for l in ax.get_xticklabels()], ha='right', rotation=45)\n",
    "\n",
    "# slope\n",
    "ax = axes[2]\n",
    "for construct, group in plot_df.groupby('construct'):\n",
    "    sns.stripplot(data=group, x='ts_kind', y='slope', hue='construct', palette=app_palette,\n",
    "                  legend=False, ax=ax, marker=app_markers[construct], **scatter_kwargs)\n",
    "ax.set(title='Slope', xlabel='', ylabel='', )#ylim=(0.5,1.4))\n",
    "sns.despine(ax=ax)\n",
    "ax.set_xticklabels([ts_label[l.get_text()] for l in ax.get_xticklabels()], ha='right', rotation=45)\n",
    "\n",
    "# CV\n",
    "ax = axes[3]\n",
    "for construct, group in plot_df.groupby('construct'):\n",
    "    sns.stripplot(data=group, x='ts_kind', y='output_variation', hue='construct', palette=app_palette,\n",
    "                  legend=False, ax=ax, marker=app_markers[construct], **scatter_kwargs)\n",
    "ax.set(title='CV', xlabel='', ylabel='', )#ylim=(0.5,1.4))\n",
    "sns.despine(ax=ax)\n",
    "ax.set_xticklabels([ts_label[l.get_text()] for l in ax.get_xticklabels()], ha='right', rotation=45)\n",
    "\n",
    "# CDF\n",
    "ax = axes[4]\n",
    "plot_df = quantiles[(quantiles['cell']=='therapeutic') & (quantiles['dox']==1000) & \n",
    "                    (quantiles['name'].str.contains('FMRP')) & (quantiles['biorep']==1)]\n",
    "plot_df.sort_values(['ts_num','ts_kind'], ascending=False, inplace=True)\n",
    "plot_order = reversed(plot_df['construct'].unique())\n",
    "\n",
    "sns.kdeplot(data=plot_df, x='output', hue='construct', palette=app_palette, ax=ax,\n",
    "            cumulative=True, common_norm=False, legend=False, log_scale=True)\n",
    "ax.set(xticks=np.logspace(2,6,5), ylabel='', xlim=(1e2,1e5), title='CDF')\n",
    "sns.despine(ax=ax)\n",
    "ax.minorticks_off()\n",
    "ax.grid(zorder=-1, color=base.get_light_color(base.get_light_color(base.colors['gray'])), which='both',alpha=0.7)\n",
    "\n",
    "fig.savefig(rd.outfile(output_path))"
   ]
  },
  {
   "cell_type": "code",
   "execution_count": 98,
   "metadata": {},
   "outputs": [
    {
     "name": "stderr",
     "output_type": "stream",
     "text": [
      "/var/folders/6l/y94zphkj6_10cr58x6c_bk540000gn/T/ipykernel_46709/1443785770.py:15: UserWarning: set_ticklabels() should only be used with a fixed number of ticks, i.e. after set_ticks() or using a FixedLocator.\n",
      "  ax.set_xticklabels([ts_label[l.get_text()] for l in ax.get_xticklabels()], ha='right', rotation=45)\n"
     ]
    }
   ],
   "source": [
    "subfig = subfigures['I']\n",
    "rd.plot.adjust_subplot_margins_inches(subfig, left=0.5, bottom=0.4, top=0.35, right=0.05)\n",
    "axes = subfig.subplots(1,1,)\n",
    "\n",
    "plot_df = stats[(stats['cell']=='therapeutic') & (stats['dox']==0) & (stats['name'].str.contains('FMRP'))]\n",
    "\n",
    "# stat gmean\n",
    "ax = axes #[0]\n",
    "for construct, group in plot_df.groupby('construct'):\n",
    "    sns.stripplot(data=group, x='ts_kind', y='output_gmean', hue='construct', palette=app_palette,\n",
    "                    legend=False, ax=ax, marker=app_markers[construct], **scatter_kwargs)\n",
    "ax.set(title='Mean', xlabel='', ylabel='', yscale='log', ylim=(1e1,2e2))\n",
    "baseline = baseline_df.loc[(baseline_df['cell']=='iPS11') & (baseline_df['dox']==0), 'output_gmean'].mean()\n",
    "ax.axhline(baseline, color='black', ls=':')\n",
    "ax.set_xticklabels([ts_label[l.get_text()] for l in ax.get_xticklabels()], ha='right', rotation=45)\n",
    "\n",
    "fig.savefig(rd.outfile(output_path))"
   ]
  },
  {
   "cell_type": "code",
   "execution_count": 99,
   "metadata": {},
   "outputs": [],
   "source": [
    "# Save to OneDrive\n",
    "fig.savefig(rd.outfile(rd.datadir/'manuscripts'/'2024_miR-iFFL'/'figures'/'links'/'fig_applications-supp.pdf'))"
   ]
  },
  {
   "cell_type": "code",
   "execution_count": null,
   "metadata": {},
   "outputs": [],
   "source": []
  }
 ],
 "metadata": {
  "kernelspec": {
   "display_name": "env",
   "language": "python",
   "name": "python3"
  },
  "language_info": {
   "codemirror_mode": {
    "name": "ipython",
    "version": 3
   },
   "file_extension": ".py",
   "mimetype": "text/x-python",
   "name": "python",
   "nbconvert_exporter": "python",
   "pygments_lexer": "ipython3",
   "version": "3.12.0"
  }
 },
 "nbformat": 4,
 "nbformat_minor": 2
}
