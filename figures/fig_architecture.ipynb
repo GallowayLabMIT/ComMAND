{
 "cells": [
  {
   "cell_type": "code",
   "execution_count": null,
   "metadata": {},
   "outputs": [],
   "source": [
    "import base\n",
    "import matplotlib\n",
    "import matplotlib.pyplot as plt\n",
    "import numpy as np\n",
    "import pandas as pd\n",
    "import rushd as rd\n",
    "import scipy as sp\n",
    "import seaborn as sns\n",
    "from statannotations.Annotator import Annotator\n",
    "\n",
    "# enables concurrent editing of base.py\n",
    "from importlib import reload\n",
    "reload(base)"
   ]
  },
  {
   "cell_type": "markdown",
   "metadata": {},
   "source": [
    "### Load data"
   ]
  },
  {
   "cell_type": "markdown",
   "metadata": {},
   "source": [
    "Two-gene data (`data`)"
   ]
  },
  {
   "cell_type": "code",
   "execution_count": null,
   "metadata": {},
   "outputs": [],
   "source": [
    "base_path = rd.datadir/'instruments'/'data'/'attune'\n",
    "metadata_path = rd.datadir/'projects'/'miR-iFFL'/'plasmids'\n",
    "data, quantiles, stats, metadata = base.load_data(base_path, metadata_path, 'two_gene')"
   ]
  },
  {
   "cell_type": "code",
   "execution_count": null,
   "metadata": {},
   "outputs": [],
   "source": [
    "# Extract palette dicts from dataframes\n",
    "metadata_dict = metadata.set_index('gene').to_dict('dict')\n",
    "gene_palette = metadata_dict['color']\n",
    "gene_markers = metadata_dict['markers']\n",
    "\n",
    "metadata_dict = metadata.set_index('kind').to_dict('dict')\n",
    "kind_palette = metadata_dict['color']\n",
    "kind_markers = metadata_dict['markers']\n",
    "\n",
    "# Create color palette by condition\n",
    "metadata.loc[(metadata['gene']=='2V') & (metadata['construct2_promoter']=='U6'), 'color'] = base.colors['blue']\n",
    "metadata.loc[(metadata['ts_kind']=='NT'), 'color'] = base.colors['gray']\n",
    "metadata.loc[metadata['group'].isin(['base','marker']), 'color'] = 'black'\n",
    "\n",
    "metadata_dict = metadata.set_index('condition').to_dict('dict')\n",
    "condition_palette = metadata_dict['color']\n",
    "condition_markers = metadata_dict['markers']\n",
    "\n",
    "architecture_order = ['1T', '2T', '2V']"
   ]
  },
  {
   "cell_type": "markdown",
   "metadata": {},
   "source": [
    "Load stochastic simulations (`sim_data`)"
   ]
  },
  {
   "cell_type": "code",
   "execution_count": null,
   "metadata": {},
   "outputs": [],
   "source": [
    "simulation_path = rd.datadir/'projects'/'miR-iFFL'\n",
    "sim_data, _ = base.load_modeling(simulation_path, 'stochastic_sims')"
   ]
  },
  {
   "cell_type": "code",
   "execution_count": null,
   "metadata": {},
   "outputs": [],
   "source": [
    "# Data for two-gene architectures with 3'UTR target sites\n",
    "stats_subset = stats[((stats['gene']=='1T') & (stats['design']==1) & (stats['group']=='controller')) |\n",
    "                ((stats['gene']=='2T') & (stats['group']=='dual') & (stats['ts_loc']=='3\\'')) |\n",
    "                ((stats['gene']=='2V') & (stats['group']=='ts3') & (stats['construct2_promoter']=='EF1a')) |\n",
    "                ((stats['group']=='base') & (stats['construct2_promoter']!='U6'))].copy()\n",
    "stats_subset.sort_values(['gene','construct2_promoter','group','ts_kind'], inplace=True)\n",
    "\n",
    "# Remove outliers (1T base biorep1, 2V EF1a base/NT biorep4 -- see `flow/outliers.ipynb`)\n",
    "stats_subset = stats_subset[~((stats_subset['gene']=='1T') & (stats_subset['group']=='base') & (stats_subset['biorep']==1))]\n",
    "stats_subset = stats_subset[~((stats_subset['gene']=='2V') & (stats_subset['construct2_promoter']=='EF1a') & (stats_subset['ts_kind'].isin(['na','NT'])) & (stats_subset['biorep']==4))]\n",
    "stats_subset = stats_subset[~((stats_subset['design']==2) & (stats_subset['ts_kind']=='T') & (stats_subset['biorep']==1))]"
   ]
  },
  {
   "cell_type": "markdown",
   "metadata": {},
   "source": [
    "### Set up figure"
   ]
  },
  {
   "cell_type": "code",
   "execution_count": null,
   "metadata": {},
   "outputs": [],
   "source": [
    "# Set plotting context\n",
    "sns.set_style('ticks')\n",
    "sns.set_context('paper', font_scale=1.0, rc=base.rc_context)\n",
    "plt.rcParams.update(base.rc_params)\n",
    "scatter_kwargs = base.scatter_kwargs\n",
    "scatter_kwargs['jitter'] = 0.1\n",
    "annotate_kwargs = base.annotate_kwargs\n",
    "\n",
    "# Create the overall figure, gridspec, and add subfigure labels\n",
    "fig = plt.figure(figsize=(base.figure_width['full'],5.375))\n",
    "fig_gridspec = matplotlib.gridspec.GridSpec(2, 4, figure=fig,\n",
    "    wspace=0.4, hspace=0.4, height_ratios=[2,3.25], width_ratios=[0.27,0.23,0.1,0.4])\n",
    "subfigures = {\n",
    "    'A': fig.add_subfigure(fig_gridspec[0,0]),\n",
    "    'B': fig.add_subfigure(fig_gridspec[0,3:]),\n",
    "    'C': fig.add_subfigure(fig_gridspec[1,:2]),\n",
    "    'D': fig.add_subfigure(fig_gridspec[1,2:]),\n",
    "}\n",
    "\n",
    "# Add subpanel labels\n",
    "for label, subfig in subfigures.items():\n",
    "    if '2' in label: continue\n",
    "    subfig.add_artist(matplotlib.text.Text(x=0, y=1, text=f'{label}', fontsize=base.font_sizes['subpanel_label'], \n",
    "                                           fontweight='bold', verticalalignment='top',transform=subfig.transSubfigure))\n",
    "\n",
    "# Save to output folder\n",
    "output_path = rd.rootdir/'output'/'fig_architecture'/'fig_architecture.pdf'\n",
    "fig.savefig(rd.outfile(output_path))"
   ]
  },
  {
   "cell_type": "code",
   "execution_count": null,
   "metadata": {},
   "outputs": [],
   "source": [
    "# Define values to shift xticks in plotting \n",
    "# to add more space between architecture groups\n",
    "buffer = 0.6\n",
    "gene_order = ['1T', '2T', '2V']\n",
    "xtick_locs = [0,1,2, 3+buffer,4+buffer, 5+buffer*2,6+buffer*2,7+buffer*2,]\n",
    "\n",
    "condition_loc = {k:v for k,v in zip(stats_subset['condition'].unique(), xtick_locs)}\n",
    "stats_subset['condition_loc'] = stats_subset['condition'].replace(condition_loc)\n",
    "\n",
    "metadata['condition_loc'] = metadata['condition'].map(condition_loc)\n",
    "m = metadata.dropna()\n",
    "m['condition_loc'] = m['condition_loc'].astype(str)\n",
    "\n",
    "xlim_adjusted = (-0.5, len(stats_subset['condition'].unique())-0.5+buffer*(len(gene_order)-1))\n",
    "scatter_kwargs2 = dict(s=4, jitter=0.1, linewidth=0.5, edgecolor='white', native_scale=True)"
   ]
  },
  {
   "cell_type": "code",
   "execution_count": null,
   "metadata": {},
   "outputs": [],
   "source": [
    "subfig = subfigures['B']\n",
    "rd.plot.adjust_subplot_margins_inches(subfig, left=0.35, bottom=0.45, top=0.35, right=0.1)\n",
    "axes = subfig.subplots(1,2, gridspec_kw=dict(width_ratios=(1,1), wspace=0.3))\n",
    "\n",
    "plot_df = stats_subset\n",
    "\n",
    "# stat gmean\n",
    "ax = axes[0]\n",
    "for construct, group in plot_df.groupby('condition', sort=False):\n",
    "    sns.stripplot(data=group, x='condition_loc', y='output_gmean', hue='condition', palette=condition_palette,\n",
    "                    legend=False, ax=ax, marker=condition_markers[construct], **scatter_kwargs2)\n",
    "ax.set(title='Output mean', xlim=xlim_adjusted, xlabel='', ylabel='', yscale='log', xticks=xtick_locs)\n",
    "marker_baseline = stats.loc[(stats['group']=='marker'), 'output_gmean'].mean()\n",
    "ax.axhline(marker_baseline, color='black', ls=':')\n",
    "\n",
    "# slope\n",
    "ax = axes[1]\n",
    "for construct, group in plot_df.groupby('condition', sort=False):\n",
    "    sns.stripplot(data=group, x='condition_loc', y='slope', hue='condition', palette=condition_palette,\n",
    "                    legend=False, ax=ax, marker=condition_markers[construct], **scatter_kwargs2)\n",
    "ax.set(title='Slope', xlim=xlim_adjusted, xlabel='', ylabel='', xticks=xtick_locs,)\n",
    "\n",
    "for i,ax in enumerate(axes):\n",
    "    yloc = -6\n",
    "    ax.axvspan(2.5+buffer/2, 4.5+buffer*1.5, color=base.get_light_color(base.colors['gray']), alpha=0.2,)\n",
    "    ax.annotate(architecture_order[0], (1,yloc), xycoords=('data','axes points'), ha='center', va='top', ma='center', fontsize=base.font_sizes['smaller_size'])\n",
    "    ax.annotate(architecture_order[1], (3.5+buffer,yloc), xycoords=('data','axes points'), ha='center', va='top', ma='center', fontsize=base.font_sizes['smaller_size'])\n",
    "    ax.annotate(architecture_order[2], (6+buffer*2,yloc), xycoords=('data','axes points'), ha='center', va='top', ma='center', fontsize=base.font_sizes['smaller_size'])\n",
    "    ax.set_xticklabels(['']*len(ax.get_xticklabels()))\n",
    "    ax.set_xlabel(ax.get_xlabel(), labelpad=10)\n",
    "    sns.despine(ax=ax)\n",
    "\n",
    "fig.savefig(rd.outfile(output_path))\n",
    "\n",
    "# perform statistical tests\n",
    "pairs = [('base','CL'), ('OL','CL')]\n",
    "f, axes = plt.subplots(1,len(gene_order), figsize=(5,2), gridspec_kw=dict(wspace=0.5))\n",
    "print('-------- OUTPUT MEAN --------\\n')\n",
    "for ax, gene in zip(axes, gene_order):\n",
    "    print('Circuit type: '+gene)\n",
    "    test_df = plot_df[(plot_df['gene']==gene)]\n",
    "    sns.stripplot(data=test_df, x='ts_label', y='output_gmean', ax=ax, hue='condition', palette=condition_palette, legend=False)\n",
    "    ax.set(ylabel='', xlabel='', title=gene, yscale='log')\n",
    "\n",
    "    if gene=='2T': ps = pairs[1:]\n",
    "    else: ps = pairs\n",
    "    annotator = Annotator(ax, ps, data=test_df, x='ts_label', y='output_gmean')\n",
    "    annotator.configure(**annotate_kwargs,).apply_and_annotate()\n",
    "    print('\\n')\n",
    "axes[0].set(ylabel='Output mean')\n",
    "\n",
    "f, axes = plt.subplots(1,len(gene_order), figsize=(5,2), gridspec_kw=dict(wspace=0.5))\n",
    "print('-------- SLOPE --------\\n')\n",
    "for ax, gene in zip(axes, gene_order):\n",
    "    print('Circuit type: '+gene)\n",
    "    test_df = plot_df[(plot_df['gene']==gene)]\n",
    "    sns.stripplot(data=test_df, x='ts_label', y='slope', ax=ax, hue='condition', palette=condition_palette, legend=False)\n",
    "    ax.set(ylabel='', xlabel='', title=gene)\n",
    "\n",
    "    if gene=='2T': ps = pairs[1:]\n",
    "    else: ps = pairs\n",
    "    annotator = Annotator(ax, ps, data=test_df, x='ts_label', y='slope')\n",
    "    annotator.configure(**annotate_kwargs,).apply_and_annotate()\n",
    "    print('\\n')\n",
    "axes[0].set(ylabel='Slope')"
   ]
  },
  {
   "cell_type": "code",
   "execution_count": null,
   "metadata": {},
   "outputs": [],
   "source": [
    "subfig = subfigures['D']\n",
    "rd.plot.adjust_subplot_margins_inches(subfig, left=1, bottom=0.3, top=0.3, right=0.1)\n",
    "axes = subfig.subplots(3,2, gridspec_kw=dict(width_ratios=(0.8,1), wspace=0.2, hspace=0.4))\n",
    "\n",
    "plot_df = sim_data[(sim_data['risc']==10000) & (sim_data['design']<=1)]\n",
    "yticks = [[0,1e3,2e3], [0,2e3,4e3,6e3], [0,2e3,4e3,6e3]]\n",
    "hist_xticks = [[0,300,600,900,1200,1500], [0,1e3,2e3,3e3], [0,1e3,2e3,3e3,4e3,5e3]]\n",
    "\n",
    "for i,moi in enumerate(plot_df['moi'].unique()):\n",
    "\n",
    "    # line plot\n",
    "    ax = axes[i,0]\n",
    "\n",
    "    # drop data with only one point at a given copy number (for this plot)\n",
    "    d = plot_df[(plot_df['moi']==moi)]\n",
    "    if moi==3: d = d[(d['copy_num']<=10) & (d['gene']=='2V') | (d['gene']!='2V')]\n",
    "    \n",
    "    sns.lineplot(data=d[d['gene']!='1T'], x='copy_num', y='output', hue='kind', palette=kind_palette, \n",
    "                 legend=False, dashes=False, style='kind', markers=kind_markers, ax=ax, markersize=4, markeredgewidth=0.5,\n",
    "                 estimator=sp.stats.gmean, errorbar=lambda x: (sp.stats.gmean(x) / sp.stats.gstd(x), sp.stats.gmean(x) * sp.stats.gstd(x)))\n",
    "    sns.lineplot(data=d[d['gene']=='1T'], x='copy_num', y='output', hue='kind', palette=kind_palette, \n",
    "                 legend=False, dashes=False, style='kind', markers=kind_markers, ax=ax, markersize=4, markeredgewidth=0.5,\n",
    "                 estimator=sp.stats.gmean, errorbar=lambda x: (sp.stats.gmean(x) / sp.stats.gstd(x), sp.stats.gmean(x) * sp.stats.gstd(x)), \n",
    "                 ls='--')\n",
    "    sns.despine(ax=ax)\n",
    "    ax.minorticks_off()\n",
    "    ax.set(xlabel='', yticks=yticks[i], yticklabels=[f'{float(l)/1000:.0f}k' for l in yticks[i]], ylabel='output (#)')\n",
    "    \n",
    "    if i==2: ax.set(xlabel='copy number')\n",
    "\n",
    "    # histogram\n",
    "    ax = axes[i,1]\n",
    "    sns.kdeplot(data=d[d['gene']!='1T'], x='output', hue='kind', palette=kind_palette, ax=ax, legend=False, common_norm=False,\n",
    "                bw_adjust=3)\n",
    "    sns.kdeplot(data=d[d['gene']=='1T'], x='output', hue='kind', palette=kind_palette, ax=ax, legend=False, common_norm=False,\n",
    "                bw_adjust=3, ls='--')\n",
    "    sns.despine(ax=ax, left=True)\n",
    "    \n",
    "    ax.set(xlabel='', xlim=(hist_xticks[i][0], hist_xticks[i][-1]), xticks=hist_xticks[i], ylabel='', yticklabels=[],)\n",
    "    if i>0: ax.set(xticklabels=[f'{float(l.get_text())/1000:.0f}' for l in ax.get_xticklabels()])\n",
    "    else: ax.set(xticklabels=[f'{float(l.get_text())/1000:.1f}' for l in ax.get_xticklabels()])\n",
    "    xticklabels_k = ax.get_xticklabels()\n",
    "    xticklabels_k[-1] = xticklabels_k[-1].get_text()+'k'\n",
    "    ax.set(xticklabels=xticklabels_k)\n",
    "    ax.get_yaxis().set_visible(False)\n",
    "    if i==2: ax.set(xlabel='protein (#)')\n",
    "\n",
    "for ax in axes.flatten(): ax.minorticks_off()\n",
    "    \n",
    "fig.savefig(rd.outfile(output_path))"
   ]
  },
  {
   "cell_type": "code",
   "execution_count": null,
   "metadata": {},
   "outputs": [],
   "source": [
    "# Save to OneDrive\n",
    "fig.savefig(rd.outfile(rd.datadir/'manuscripts'/'2024_miR-iFFL'/'figures'/'links'/'fig_architecture.pdf'))"
   ]
  }
 ],
 "metadata": {
  "kernelspec": {
   "display_name": "env",
   "language": "python",
   "name": "python3"
  },
  "language_info": {
   "codemirror_mode": {
    "name": "ipython",
    "version": 3
   },
   "file_extension": ".py",
   "mimetype": "text/x-python",
   "name": "python",
   "nbconvert_exporter": "python",
   "pygments_lexer": "ipython3"
  }
 },
 "nbformat": 4,
 "nbformat_minor": 2
}
