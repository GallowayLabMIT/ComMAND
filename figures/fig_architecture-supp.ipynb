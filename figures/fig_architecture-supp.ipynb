{
 "cells": [
  {
   "cell_type": "code",
   "execution_count": null,
   "metadata": {},
   "outputs": [],
   "source": [
    "import base\n",
    "import matplotlib\n",
    "import matplotlib.pyplot as plt\n",
    "import numpy as np\n",
    "import pandas as pd\n",
    "import re\n",
    "import rushd as rd\n",
    "import scipy as sp\n",
    "import seaborn as sns\n",
    "\n",
    "# enables concurrent editing of base.py\n",
    "from importlib import reload\n",
    "reload(base)"
   ]
  },
  {
   "cell_type": "markdown",
   "metadata": {},
   "source": [
    "### Load data"
   ]
  },
  {
   "cell_type": "markdown",
   "metadata": {},
   "source": [
    "Two-gene data (`data`)"
   ]
  },
  {
   "cell_type": "code",
   "execution_count": null,
   "metadata": {},
   "outputs": [],
   "source": [
    "base_path = rd.datadir/'instruments'/'data'/'attune'\n",
    "metadata_path = rd.datadir/'projects'/'miR-iFFL'/'plasmids'\n",
    "data, quantiles, stats, metadata = base.load_data(base_path, metadata_path, 'two_gene')"
   ]
  },
  {
   "cell_type": "code",
   "execution_count": null,
   "metadata": {},
   "outputs": [],
   "source": [
    "# Extract palette dicts from dataframes\n",
    "metadata_dict = metadata.set_index('gene').to_dict('dict')\n",
    "gene_palette = metadata_dict['color']\n",
    "gene_markers = metadata_dict['markers']\n",
    "\n",
    "metadata_dict = metadata.set_index('kind').to_dict('dict')\n",
    "kind_palette = metadata_dict['color']\n",
    "kind_markers = metadata_dict['markers']\n",
    "\n",
    "# Create color palette by condition\n",
    "metadata.loc[(metadata['gene']=='2V') & (metadata['construct2_promoter']=='U6'), 'color'] = base.colors['blue']\n",
    "metadata.loc[(metadata['ts_kind']=='NT'), 'color'] = base.colors['gray']\n",
    "metadata.loc[metadata['group'].isin(['base','marker']), 'color'] = 'black'\n",
    "\n",
    "metadata_dict = metadata.set_index('condition').to_dict('dict')\n",
    "condition_palette = metadata_dict['color']\n",
    "condition_markers = metadata_dict['markers']\n",
    "\n",
    "architecture_order = ['1T', '2T', '2V']"
   ]
  },
  {
   "cell_type": "code",
   "execution_count": null,
   "metadata": {},
   "outputs": [],
   "source": [
    "# Data for two-gene architectures with 3'UTR target sites\n",
    "stats_subset = stats[((stats['gene']=='1T') & (stats['design']==1) & (stats['group']=='controller')) |\n",
    "                ((stats['gene']=='2T') & (stats['group']=='dual') & (stats['ts_loc']=='3\\'')) |\n",
    "                ((stats['gene']=='2V') & (stats['group']=='ts3') & (stats['construct2_promoter']=='EF1a')) |\n",
    "                ((stats['group']=='base') & (stats['construct2_promoter']!='U6'))].copy()\n",
    "stats_subset.sort_values(['gene','construct2_promoter','group','ts_kind'], inplace=True)\n",
    "\n",
    "# Remove outliers (1T base biorep1, 2V EF1a base/NT biorep4 -- see `flow/outliers.ipynb`)\n",
    "stats_subset = stats_subset[~((stats_subset['gene']=='1T') & (stats_subset['group']=='base') & (stats_subset['biorep']==1))]\n",
    "stats_subset = stats_subset[~((stats_subset['gene']=='2V') & (stats_subset['construct2_promoter']=='EF1a') & (stats_subset['ts_kind'].isin(['na','NT'])) & (stats_subset['biorep']==4))]"
   ]
  },
  {
   "cell_type": "markdown",
   "metadata": {},
   "source": [
    "Load stochastic simulations (`sim_data`)"
   ]
  },
  {
   "cell_type": "code",
   "execution_count": null,
   "metadata": {},
   "outputs": [],
   "source": [
    "simulation_path = rd.datadir/'projects'/'miR-iFFL'\n",
    "sim_data, sim_stats = base.load_modeling(simulation_path, 'stochastic_sims')"
   ]
  },
  {
   "cell_type": "markdown",
   "metadata": {},
   "source": [
    "### Set up figure"
   ]
  },
  {
   "cell_type": "code",
   "execution_count": null,
   "metadata": {},
   "outputs": [],
   "source": [
    "base_size = base.font_sizes['base_size']\n",
    "smaller_size = base.font_sizes['smaller_size']\n",
    "\n",
    "sns.set_style('ticks')\n",
    "sns.set_context('paper', font_scale=1.0, rc={'font.size': base_size, 'font.family': 'sans-serif', 'font.sans-serif':['Arial']})\n",
    "plt.rcParams.update({'axes.titlesize': base_size, 'axes.labelsize': base_size, 'xtick.labelsize': smaller_size, 'ytick.labelsize': smaller_size,\n",
    "                     'pdf.fonttype': 42, \n",
    "                     'ytick.major.size': 3, 'xtick.major.size': 3, 'ytick.minor.size': 2, 'ytick.major.pad': 2, 'xtick.major.pad': 2, \n",
    "                     'lines.linewidth': 1,\n",
    "                     'axes.spines.right': False, 'axes.spines.top': False, 'axes.labelpad': 2})"
   ]
  },
  {
   "cell_type": "code",
   "execution_count": null,
   "metadata": {},
   "outputs": [],
   "source": [
    "# Create the overall figure, gridspec, and add subfigure labels\n",
    "fig = plt.figure(figsize=(6.8504,1.5+1.75))\n",
    "fig_gridspec = matplotlib.gridspec.GridSpec(2, 6, figure=fig,\n",
    "    wspace=0.4, hspace=0.4, height_ratios=[1.5,1.75], width_ratios=[1]*6)\n",
    "subfigures = {\n",
    "    'A': fig.add_subfigure(fig_gridspec[0,:2]),\n",
    "    'B': fig.add_subfigure(fig_gridspec[0,2:]),\n",
    "    'C': fig.add_subfigure(fig_gridspec[1,:2]),\n",
    "    'D': fig.add_subfigure(fig_gridspec[1,2:]),\n",
    "}\n",
    "for label, subfig in subfigures.items():\n",
    "    subfig.add_artist(matplotlib.text.Text(x=0, y=1, text=f'{label}', fontsize=base.font_sizes['subpanel_label'], fontweight='bold', verticalalignment='top',transform=subfig.transSubfigure))\n",
    "\n",
    "scatter_kwargs = dict(s=4, jitter=0.1, linewidth=0.5, edgecolor='white')\n",
    "\n",
    "output_path = rd.rootdir/'output'/'fig_architecture-supp'/'fig_architecture-supp.pdf'\n",
    "fig.savefig(rd.outfile(output_path))"
   ]
  },
  {
   "cell_type": "code",
   "execution_count": null,
   "metadata": {},
   "outputs": [],
   "source": [
    "# Define values to shift xticks in plotting \n",
    "# to add more space between architecture groups\n",
    "buffer = 0.6\n",
    "gene_order = ['1T', '2T', '2V']\n",
    "xtick_locs = [0,1,2, 3+buffer,4+buffer, 5+buffer*2,6+buffer*2,7+buffer*2,]\n",
    "\n",
    "condition_loc = {k:v for k,v in zip(stats_subset['condition'].unique(), xtick_locs)}\n",
    "stats_subset['condition_loc'] = stats_subset['condition'].replace(condition_loc)\n",
    "\n",
    "metadata['condition_loc'] = metadata['condition'].map(condition_loc)\n",
    "m = metadata.dropna()\n",
    "m['condition_loc'] = m['condition_loc'].astype(str)\n",
    "\n",
    "xlim_adjusted = (-0.5, len(stats_subset['condition'].unique())-0.5+buffer*(len(gene_order)-1))\n",
    "scatter_kwargs2 = dict(s=4, jitter=0.1, linewidth=0.5, edgecolor='white', native_scale=True)\n",
    "\n",
    "ts_label = {'na': 'base', 'NT': 'OL', 'T': 'CL'}"
   ]
  },
  {
   "cell_type": "code",
   "execution_count": null,
   "metadata": {},
   "outputs": [],
   "source": [
    "subfig = subfigures['A']\n",
    "rd.plot.adjust_subplot_margins_inches(subfig, left=0.4, bottom=0.4, top=0.35, right=0.1)\n",
    "axes = subfig.subplots(1,2, gridspec_kw=dict(wspace=0.4))\n",
    "\n",
    "plot_df = stats_subset\n",
    "\n",
    "# stat std\n",
    "ax = axes[0]\n",
    "for construct, group in plot_df.groupby('condition', sort=False):\n",
    "    sns.stripplot(data=group, x='condition_loc', y='output_std', hue='condition', palette=condition_palette,\n",
    "                    legend=False, ax=ax, marker=condition_markers[construct], **scatter_kwargs2)\n",
    "ax.set(title='Std.', xlim=xlim_adjusted, xlabel='', ylabel='', yscale='log', xticks=xtick_locs,)\n",
    "\n",
    "# stat CV\n",
    "ax = axes[1]\n",
    "for construct, group in plot_df.groupby('condition', sort=False):\n",
    "    sns.stripplot(data=group, x='condition_loc', y='output_variation', hue='condition', palette=condition_palette,\n",
    "                    legend=False, ax=ax, marker=condition_markers[construct], **scatter_kwargs2)\n",
    "ax.set(title='CV', xlim=xlim_adjusted, xlabel='', ylabel='', xticks=xtick_locs, ylim=(0.8,2))\n",
    "\n",
    "for ax in axes:\n",
    "       yloc = -6\n",
    "       ax.axvspan(2.5+buffer/2, 4.5+buffer*1.5, color=base.get_light_color(base.colors['gray']), alpha=0.2,)\n",
    "       ax.annotate(architecture_order[0], (1,yloc), xycoords=('data','axes points'), ha='center', va='top', ma='center', fontsize=smaller_size)\n",
    "       ax.annotate(architecture_order[1], (3.5+buffer,yloc), xycoords=('data','axes points'), ha='center', va='top', ma='center', fontsize=smaller_size)\n",
    "       ax.annotate(architecture_order[2], (6+buffer*2,yloc), xycoords=('data','axes points'), ha='center', va='top', ma='center', fontsize=smaller_size)\n",
    "       ax.set_xticklabels(['']*len(ax.get_xticklabels()))\n",
    "       ax.set_xlabel(ax.get_xlabel(), labelpad=10)\n",
    "       sns.despine(ax=ax)\n",
    "       ax.minorticks_off()\n",
    "\n",
    "fig.savefig(rd.outfile(output_path))"
   ]
  },
  {
   "cell_type": "code",
   "execution_count": null,
   "metadata": {},
   "outputs": [],
   "source": [
    "subfig = subfigures['B']\n",
    "rd.plot.adjust_subplot_margins_inches(subfig, left=1.5, bottom=0.4, top=0.35, right=0.1)\n",
    "axes = subfig.subplots(1,4, gridspec_kw=dict(wspace=0.4))\n",
    "\n",
    "plot_df = stats[(stats['construct2_promoter']=='U6') & (stats['ts_loc']!='5\\'') & (stats['ts_kind']!='none')].copy()\n",
    "plot_df['ts_kind'] = plot_df['ts_kind'].astype(pd.api.types.CategoricalDtype(categories=list(ts_label.keys()), ordered=True))\n",
    "\n",
    "# stat gmean\n",
    "ax = axes[0]\n",
    "for construct, group in plot_df.groupby('condition', sort=False):\n",
    "    sns.stripplot(data=group, x='ts_kind', y='output_gmean', hue='condition', palette=condition_palette,\n",
    "                    legend=False, ax=ax, marker=condition_markers[construct], **scatter_kwargs)\n",
    "ax.set(title='Mean', xlabel='', ylabel='', yscale='log',)\n",
    "marker_baseline = stats.loc[(stats['group']=='marker'), 'output_gmean'].mean()\n",
    "ax.axhline(marker_baseline, color='black', ls=':')\n",
    "\n",
    "# slope\n",
    "ax = axes[1]\n",
    "for construct, group in plot_df.groupby('condition', sort=False):\n",
    "    sns.stripplot(data=group, x='ts_kind', y='slope', hue='condition', palette=condition_palette,\n",
    "                    legend=False, ax=ax, marker=condition_markers[construct], **scatter_kwargs)\n",
    "ax.set(title='Slope', xlabel='', ylabel='', ylim=(ax.get_ylim()[0],1), \n",
    "       yticklabels=[f'{float(re.sub(u\"\\u2212\", \"-\", l.get_text())):.1f}' for l in ax.get_yticklabels()])\n",
    "\n",
    "# stat std\n",
    "ax = axes[2]\n",
    "for construct, group in plot_df.groupby('condition', sort=False):\n",
    "    sns.stripplot(data=group, x='ts_kind', y='output_std', hue='condition', palette=condition_palette,\n",
    "                    legend=False, ax=ax, marker=condition_markers[construct], **scatter_kwargs)\n",
    "ax.set(title='Std.', xlabel='', ylabel='', yscale='log',)\n",
    "\n",
    "# stat CV\n",
    "ax = axes[3]\n",
    "for construct, group in plot_df.groupby('condition', sort=False):\n",
    "    sns.stripplot(data=group, x='ts_kind', y='output_variation', hue='condition', palette=condition_palette,\n",
    "                    legend=False, ax=ax, marker=condition_markers[construct], **scatter_kwargs)\n",
    "ax.set(title='CV', xlabel='', ylabel='',)\n",
    "\n",
    "for i,ax in enumerate(axes):\n",
    "    ax.set_xticklabels([ts_label[l.get_text()] for l in ax.get_xticklabels()], ha='right', rotation=45)\n",
    "    sns.despine(ax=ax)\n",
    "\n",
    "fig.savefig(rd.outfile(output_path))"
   ]
  },
  {
   "cell_type": "code",
   "execution_count": null,
   "metadata": {},
   "outputs": [],
   "source": [
    "subfig = subfigures['C']\n",
    "rd.plot.adjust_subplot_margins_inches(subfig, left=0.2, bottom=0.3, top=0.6, right=0.1)\n",
    "axes = subfig.subplots(1,3, gridspec_kw=dict(wspace=0.2,))\n",
    "\n",
    "plot_df = sim_data[(sim_data['risc']==10000) & (sim_data['design']<=1)]\n",
    "xticks = [0,1,5,10,15,20]\n",
    "xticklabels = [str(x) for x in xticks]\n",
    "xticklabels[0] = ''\n",
    "\n",
    "for i,moi in enumerate(plot_df['moi'].unique()):\n",
    "\n",
    "    # Poisson distribution\n",
    "    ax = axes[i]\n",
    "    x_range = range(1,20)\n",
    "    ax.plot(x_range, base.truncated_poisson(x_range, moi), '-o', ms=2, color=base.colors['gray'], ls='-')\n",
    "    ax.set(yticks=[], yticklabels=[], xticks=xticks, xticklabels=xticklabels, title=str(moi))\n",
    "    if i==1: ax.set(xlabel='copy #, $c$')\n",
    "    elif i==0: ax.set(title='MOI = '+ax.get_title())\n",
    "    sns.despine(ax=ax, left=True)\n",
    "\n",
    "for ax in axes.flatten(): ax.minorticks_off()\n",
    "    \n",
    "fig.savefig(rd.outfile(output_path))"
   ]
  },
  {
   "cell_type": "code",
   "execution_count": null,
   "metadata": {},
   "outputs": [],
   "source": [
    "subfig = subfigures['D']\n",
    "rd.plot.adjust_subplot_margins_inches(subfig, left=0.4, bottom=0.3, top=0.55, right=0.1)\n",
    "axes = subfig.subplots(1,4, gridspec_kw=dict(wspace=0.4))\n",
    "\n",
    "plot_df = sim_stats[(sim_stats['design']<=1) & (sim_stats['risc']==10000)]\n",
    "plot_df.sort_values(['moi','gene'], inplace=True)\n",
    "\n",
    "buffer = 0.6\n",
    "moi_list = plot_df['moi'].unique()\n",
    "xtick_locs = np.concatenate([[x+i*(3+buffer) for x in range(3)] for i in range(len(moi_list))])\n",
    "xlim_adjusted = (-0.5, len(plot_df['condition'].unique())-0.5+buffer*(len(gene_order)-1))\n",
    "\n",
    "condition_loc = {k:v for k,v in zip(plot_df['condition'].unique(), xtick_locs)}\n",
    "plot_df['condition_loc'] = plot_df['condition'].replace(condition_loc)\n",
    "\n",
    "# stat gmean\n",
    "ax = axes[0]\n",
    "for (gene, moi), group in plot_df.groupby(['gene','moi'], sort=False):\n",
    "    sns.stripplot(data=group, x='condition_loc', y='marker_gmean', color=base.colors['gray'],\n",
    "                    legend=False, ax=ax, marker=gene_markers[gene], **scatter_kwargs2)\n",
    "    sns.stripplot(data=group, x='condition_loc', y='output_gmean', hue='gene', palette=gene_palette,\n",
    "                    legend=False, ax=ax, marker=gene_markers[gene], **scatter_kwargs2)\n",
    "ax.set(title='Mean', xlim=xlim_adjusted, xlabel='MOI', ylabel='', yscale='log', xticks=xtick_locs)\n",
    "\n",
    "# slope\n",
    "ax = axes[1]\n",
    "for (gene, moi), group in plot_df.groupby(['gene','moi'], sort=False):\n",
    "    sns.stripplot(data=group, x='condition_loc', y='slope', hue='gene', palette=gene_palette,\n",
    "                    legend=False, ax=ax, marker=gene_markers[gene], **scatter_kwargs2)\n",
    "ax.set(title='Slope', xlim=xlim_adjusted, xlabel='', ylabel='', xticks=xtick_locs, yticks=[0.6,0.7,0.8,0.9,1])\n",
    "\n",
    "# stat std\n",
    "ax = axes[2]\n",
    "for (gene, moi), group in plot_df.groupby(['gene','moi'], sort=False):\n",
    "    sns.stripplot(data=group, x='condition_loc', y='marker_std', color=base.colors['gray'],\n",
    "                    legend=False, ax=ax, marker=gene_markers[gene], **scatter_kwargs2)\n",
    "    sns.stripplot(data=group, x='condition_loc', y='output_std', hue='gene', palette=gene_palette,\n",
    "                    legend=False, ax=ax, marker=gene_markers[gene], **scatter_kwargs2)\n",
    "ax.set(title='Std.', xlim=xlim_adjusted, xlabel='', ylabel='', yscale='log', xticks=xtick_locs,)\n",
    "ax.yaxis.set_minor_formatter(plt.NullFormatter())\n",
    "\n",
    "# stat CV\n",
    "ax = axes[3]\n",
    "for (gene, moi), group in plot_df.groupby(['gene','moi'], sort=False):\n",
    "    sns.stripplot(data=group, x='condition_loc', y='marker_variation', color=base.colors['gray'],\n",
    "                    legend=False, ax=ax, marker=gene_markers[gene], **scatter_kwargs2)\n",
    "    sns.stripplot(data=group, x='condition_loc', y='output_variation', hue='gene', palette=gene_palette,\n",
    "                    legend=False, ax=ax, marker=gene_markers[gene], **scatter_kwargs2)\n",
    "ax.set(title='CV', xlim=xlim_adjusted, xlabel='', ylabel='', xticks=xtick_locs,)\n",
    "ax.yaxis.set_minor_formatter(plt.NullFormatter())\n",
    "\n",
    "\n",
    "for i,ax in enumerate(axes):\n",
    "    yloc = -6\n",
    "    ax.axvspan(2.5+buffer/2, 5.5+buffer*1.5, color=base.get_light_color(base.colors['gray']), alpha=0.2,)\n",
    "    ax.annotate(moi_list[0], (1,yloc), xycoords=('data','axes points'), ha='center', va='top', ma='center', fontsize=smaller_size)\n",
    "    ax.annotate(moi_list[1], (4+buffer,yloc), xycoords=('data','axes points'), ha='center', va='top', ma='center', fontsize=smaller_size)\n",
    "    ax.annotate(moi_list[2], (7+buffer*2,yloc), xycoords=('data','axes points'), ha='center', va='top', ma='center', fontsize=smaller_size)\n",
    "    ax.set_xticklabels(['']*len(ax.get_xticklabels()))\n",
    "    ax.set_xlabel(ax.get_xlabel(), labelpad=10)\n",
    "    sns.despine(ax=ax)\n",
    "\n",
    "fig.savefig(rd.outfile(output_path))"
   ]
  },
  {
   "cell_type": "code",
   "execution_count": null,
   "metadata": {},
   "outputs": [],
   "source": [
    "# Save to OneDrive\n",
    "fig.savefig(rd.outfile(rd.datadir/'manuscripts'/'2024_miR-iFFL'/'figures'/'links'/'fig_architecture-supp.pdf'))"
   ]
  },
  {
   "cell_type": "code",
   "execution_count": null,
   "metadata": {},
   "outputs": [],
   "source": []
  }
 ],
 "metadata": {
  "kernelspec": {
   "display_name": "env",
   "language": "python",
   "name": "python3"
  },
  "language_info": {
   "codemirror_mode": {
    "name": "ipython",
    "version": 3
   },
   "file_extension": ".py",
   "mimetype": "text/x-python",
   "name": "python",
   "nbconvert_exporter": "python",
   "pygments_lexer": "ipython3"
  }
 },
 "nbformat": 4,
 "nbformat_minor": 2
}
