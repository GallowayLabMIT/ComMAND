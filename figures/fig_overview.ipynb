{
 "cells": [
  {
   "cell_type": "code",
   "execution_count": null,
   "metadata": {},
   "outputs": [],
   "source": [
    "import base\n",
    "import matplotlib\n",
    "import matplotlib.pyplot as plt\n",
    "import numpy as np\n",
    "import pandas as pd\n",
    "import rushd as rd\n",
    "import scipy as sp\n",
    "import seaborn as sns\n",
    "\n",
    "# enables concurrent editing of base.py\n",
    "from importlib import reload\n",
    "reload(base)"
   ]
  },
  {
   "cell_type": "markdown",
   "metadata": {},
   "source": [
    "### Load data"
   ]
  },
  {
   "cell_type": "code",
   "execution_count": null,
   "metadata": {},
   "outputs": [],
   "source": [
    "base_path = rd.datadir/'instruments'/'data'/'attune'\n",
    "data, quantiles, stats, metadata = base.load_data(base_path, rd.datadir/'projects'/'miR-iFFL'/'plasmids', 'tuning', 'designs')"
   ]
  },
  {
   "cell_type": "code",
   "execution_count": null,
   "metadata": {},
   "outputs": [],
   "source": [
    "# Create dicts to specify colors/markers\n",
    "metadata_dict = metadata.set_index('construct').to_dict('dict')\n",
    "main_palette = metadata_dict['color']\n",
    "main_markers = metadata_dict['markers']\n",
    "\n",
    "ts_label = {'na': 'base', 'NT': 'OL', 'T': 'CL', 'none': '–'}"
   ]
  },
  {
   "cell_type": "markdown",
   "metadata": {},
   "source": [
    "### Set up figure"
   ]
  },
  {
   "cell_type": "code",
   "execution_count": null,
   "metadata": {},
   "outputs": [],
   "source": [
    "base_size = base.font_sizes['base_size']\n",
    "smaller_size = base.font_sizes['smaller_size']\n",
    "\n",
    "sns.set_style('ticks')\n",
    "sns.set_context('paper', font_scale=1.0, rc={'font.size': base_size, 'font.family': 'sans-serif', 'font.sans-serif':['Arial']})\n",
    "plt.rcParams.update({'axes.titlesize': base_size, 'axes.labelsize': base_size, 'xtick.labelsize': smaller_size, 'ytick.labelsize': smaller_size,\n",
    "                     'pdf.fonttype': 42, \n",
    "                     'ytick.major.size': 3, 'xtick.major.size': 3, 'ytick.minor.size': 2, 'ytick.major.pad': 2, 'xtick.major.pad': 2, \n",
    "                     'lines.linewidth': 1,\n",
    "                     'axes.spines.right': False, 'axes.spines.top': False, 'axes.labelpad': 2})"
   ]
  },
  {
   "cell_type": "code",
   "execution_count": null,
   "metadata": {},
   "outputs": [],
   "source": [
    "# Create the overall figure, gridspec, and add subfigure labels\n",
    "fig = plt.figure(figsize=(6.8504,4))\n",
    "fig_gridspec = matplotlib.gridspec.GridSpec(2, 3, figure=fig,\n",
    "    wspace=0.4, hspace=0.4, height_ratios=[2.125,(4-2.125)], width_ratios=[1,1,1])\n",
    "subfigures = {\n",
    "    'A': fig.add_subfigure(fig_gridspec[0,0]),\n",
    "    'B': fig.add_subfigure(fig_gridspec[0,1]),\n",
    "    'C': fig.add_subfigure(fig_gridspec[0,2]),\n",
    "    'D': fig.add_subfigure(fig_gridspec[1,0]),\n",
    "    'E': fig.add_subfigure(fig_gridspec[1,1]),\n",
    "    'F': fig.add_subfigure(fig_gridspec[1,2]),\n",
    "}\n",
    "for label, subfig in subfigures.items():\n",
    "    subfig.add_artist(matplotlib.text.Text(x=0, y=1, text=f'{label}', fontsize=base.font_sizes['subpanel_label'], \n",
    "                                           fontweight='bold', verticalalignment='top',transform=subfig.transSubfigure))\n",
    "\n",
    "output_path = rd.rootdir/'output'/'fig_overview'/'fig_overview.pdf'\n",
    "fig.savefig(rd.outfile(output_path))"
   ]
  },
  {
   "cell_type": "code",
   "execution_count": null,
   "metadata": {},
   "outputs": [],
   "source": [
    "subfig = subfigures['E']\n",
    "rd.plot.adjust_subplot_margins_inches(subfig, left=0.5, bottom=0.4, top=0.35, right=0.15)\n",
    "axes = subfig.subplots(1,2, gridspec_kw=dict(width_ratios=(1,0.3)))\n",
    "\n",
    "biorep = 2\n",
    "plot_df = quantiles[(((quantiles['miR']=='miR.FF5') & (quantiles['group']=='controller') & (quantiles['design']==1) & (quantiles['ts'].isin(['FF4x1','FF5x1','FF6x1']))) | (quantiles['group']=='base')) &\n",
    "                         (quantiles['promoter']=='EF1a') & (quantiles['biorep']==biorep) & (quantiles['exp']!='exp90.4')]\n",
    "\n",
    "# line plot\n",
    "ax = axes[0]\n",
    "sns.lineplot(data=plot_df, x='bin_marker_quantiles_median', y='output', hue='construct', palette=main_palette, \n",
    "             legend=False, dashes=False, style='construct', markers=main_markers, ax=ax, markersize=4, markeredgewidth=0.5,\n",
    "             estimator=sp.stats.gmean, errorbar=lambda x: (sp.stats.gmean(x) / sp.stats.gstd(x), sp.stats.gmean(x) * sp.stats.gstd(x)))\n",
    "ax.set(xscale='log', yscale='log', xlabel='marker', title='Initial circuit design', ylim=(2e1,1e5))\n",
    "sns.despine(ax=ax)\n",
    "marker_baseline = sp.stats.gmean(quantiles.loc[(quantiles['group']=='marker') & (quantiles['biorep']==biorep), 'output'])\n",
    "ax.axhline(marker_baseline, color='black', ls=':')\n",
    "ax.annotate('marker only', (ax.get_xlim()[1], marker_baseline), ha='right', va='bottom', fontsize=smaller_size)\n",
    "\n",
    "# histogram\n",
    "ax = axes[1]\n",
    "sns.kdeplot(data=plot_df, y='output', hue='construct', palette=main_palette, \n",
    "             legend=False, log_scale=True, common_norm=False, ax=ax)\n",
    "sns.despine(ax=ax, bottom=True)\n",
    "ax.set(xlabel='', ylim=axes[0].get_ylim(), ylabel='', yticklabels=[])\n",
    "ax.get_xaxis().set_visible(False)\n",
    "\n",
    "for ax in axes: ax.minorticks_off()\n",
    "\n",
    "fig.savefig(rd.outfile(output_path))"
   ]
  },
  {
   "cell_type": "code",
   "execution_count": null,
   "metadata": {},
   "outputs": [],
   "source": [
    "subfig = subfigures['F']\n",
    "rd.plot.adjust_subplot_margins_inches(subfig, left=0.35, bottom=0.4, top=0.35, right=0.05)\n",
    "axes = subfig.subplots(1,3, gridspec_kw=dict(width_ratios=(1,1,1), wspace=0.7))\n",
    "\n",
    "# stat gmean\n",
    "plot_df = stats[(((stats['miR']=='miR.FF5') & (stats['group']=='controller') & (stats['design']==1) & (stats['ts'].isin(['FF4x1','FF5x1','FF6x1']))) | (stats['group']=='base')) &\n",
    "                         (stats['promoter']=='EF1a')]\n",
    "xlim = (-0.5, len(plot_df['ts_kind'].unique())-0.5)\n",
    "scatter_kwargs = dict(s=4, jitter=0.2, linewidth=0.5, edgecolor='white')\n",
    "\n",
    "ax = axes[0]\n",
    "for construct, group in plot_df.groupby('construct'):\n",
    "    sns.stripplot(data=group, x='ts_kind', y='output_gmean', hue='construct', palette=main_palette,\n",
    "                  legend=False, ax=ax, marker=main_markers[construct], **scatter_kwargs)\n",
    "ax.set(title='Mean', xlim=xlim, xlabel='', ylabel='', yscale='log', ylim=(1e3,2e4),)\n",
    "\n",
    "# stat std\n",
    "ax = axes[1]\n",
    "for construct, group in plot_df.groupby('construct'):\n",
    "    sns.stripplot(data=group, x='ts_kind', y='output_std', hue='construct', palette=main_palette,\n",
    "                  legend=False, ax=ax, marker=main_markers[construct], **scatter_kwargs)\n",
    "ax.set(title='Std.', xlim=xlim, xlabel='', ylabel='', yscale='log', ylim=(1e3,2.5e4))\n",
    "\n",
    "# # stat std\n",
    "# ax = axes[0]\n",
    "# for construct, group in plot_df.groupby('construct'):\n",
    "#     sns.stripplot(data=group, x='ts_kind', y='output_std', hue='construct', palette=main_palette,\n",
    "#                   legend=False, ax=ax, marker=main_markers[construct], **scatter_kwargs)\n",
    "# ax.set(title='Std.', xlim=xlim, xlabel='', ylabel='', yscale='log', ylim=(1e3,2.5e4))\n",
    "\n",
    "# # stat CV\n",
    "# ax = axes[1]\n",
    "# for construct, group in plot_df.groupby('construct'):\n",
    "#     sns.stripplot(data=group, x='ts_kind', y='output_variation', hue='construct', palette=main_palette,\n",
    "#                   legend=False, ax=ax, marker=main_markers[construct], **scatter_kwargs)\n",
    "# ax.set(title='CV', xlim=xlim, xlabel='', ylabel='', ylim=(0.9,1.3))\n",
    "\n",
    "# slope\n",
    "ax = axes[2]\n",
    "for construct, group in plot_df.groupby('construct'):\n",
    "    sns.stripplot(data=group, x='ts_kind', y='slope', hue='construct', palette=main_palette,\n",
    "                  legend=False, ax=ax, marker=main_markers[construct], **scatter_kwargs)\n",
    "ax.set(title='Slope', xlim=xlim, xlabel='', ylabel='', ylim=(0.4,1.25))\n",
    "\n",
    "for ax in axes:\n",
    "    ax.set_xticklabels([ts_label[x.get_text()] for x in ax.get_xticklabels()], rotation=45, ha='right',)\n",
    "    sns.despine(ax=ax)\n",
    "\n",
    "fig.savefig(rd.outfile(output_path))"
   ]
  },
  {
   "cell_type": "code",
   "execution_count": null,
   "metadata": {},
   "outputs": [],
   "source": [
    "# Save to OneDrive\n",
    "fig.savefig(rd.outfile(rd.datadir/'manuscripts'/'2024_miR-iFFL'/'figures'/'links'/'fig_overview.pdf'))"
   ]
  },
  {
   "cell_type": "code",
   "execution_count": null,
   "metadata": {},
   "outputs": [],
   "source": []
  }
 ],
 "metadata": {
  "kernelspec": {
   "display_name": "env",
   "language": "python",
   "name": "python3"
  },
  "language_info": {
   "codemirror_mode": {
    "name": "ipython",
    "version": 3
   },
   "file_extension": ".py",
   "mimetype": "text/x-python",
   "name": "python",
   "nbconvert_exporter": "python",
   "pygments_lexer": "ipython3"
  }
 },
 "nbformat": 4,
 "nbformat_minor": 2
}
