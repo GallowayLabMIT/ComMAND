{
 "cells": [
  {
   "cell_type": "code",
   "execution_count": null,
   "metadata": {},
   "outputs": [],
   "source": [
    "import base\n",
    "import matplotlib\n",
    "import matplotlib.pyplot as plt\n",
    "import numpy as np\n",
    "import pandas as pd\n",
    "import rushd as rd\n",
    "import scipy as sp\n",
    "import seaborn as sns\n",
    "\n",
    "# enables concurrent editing of base.py\n",
    "from importlib import reload\n",
    "reload(base)"
   ]
  },
  {
   "cell_type": "markdown",
   "metadata": {},
   "source": [
    "### Load data"
   ]
  },
  {
   "cell_type": "code",
   "execution_count": null,
   "metadata": {},
   "outputs": [],
   "source": [
    "base_path = rd.datadir/'instruments'/'data'/'attune'/'kasey'\n",
    "\n",
    "exp90_path = base_path/'2024.03.31_exp90'/'export'\n",
    "exp90_2_path = base_path/'2024.04.02_exp90.2'/'export'\n",
    "exp90_3_path = base_path/'2024.04.02_exp90.3'/'export'\n",
    "exp90_4_path = base_path/'2024.04.05_exp90.4'/'export'\n",
    "exp91_path = base_path/'2024.04.08_exp91'/'export'\n",
    "exp92_path = base_path/'2024.04.12_exp92'/'export'\n",
    "\n",
    "plates = pd.DataFrame({\n",
    "    'data_path': [exp90_path/'plate1', exp90_path/'plate2', \n",
    "                  exp90_2_path, exp90_4_path,\n",
    "                  exp90_3_path/'plate1', exp90_3_path/'plate2', \n",
    "                  exp91_path/'plate1.1', exp91_path/'plate1.2', exp91_path/'plate1.3', \n",
    "                  exp91_path/'plate2.1', exp91_path/'plate2.2', exp91_path/'plate2.3',\n",
    "                  exp92_path/'plate1.1', exp92_path/'plate1.2', exp92_path/'plate1.3', \n",
    "                  exp92_path/'plate2.1', exp92_path/'plate2.2', exp92_path/'plate2.3',],\n",
    "    \n",
    "    'yaml_path': ([exp90_path/'exp90_plate1_wells.yaml', exp90_path/'exp90_plate2_wells.yaml', \n",
    "                   exp90_path/'exp90_plate2_wells.yaml', exp90_path/'exp90_plate1_wells.yaml',\n",
    "                   exp90_path/'exp90_plate1_wells.yaml', exp90_path/'exp90_plate2_wells.yaml', ] +\n",
    "                  [exp91_path/'exp91_plate1_wells.yaml']*3 + \n",
    "                  [exp91_path/'exp91_plate2.1_wells.yaml', exp91_path/'exp91_plate2.2_wells.yaml', exp91_path/'exp91_plate2.3_wells.yaml'] +\n",
    "                  [exp92_path/'exp92_plate1_wells.yaml', exp92_path/'exp92_plate1.2_wells.yaml', exp92_path/'exp92_plate1_wells.yaml',\n",
    "                   exp92_path/'exp92_plate2_wells.yaml', exp92_path/'exp92_plate2.2_wells.yaml', exp92_path/'exp92_plate2_wells.yaml',]\n",
    "                  ),\n",
    "    \n",
    "    'biorep': ([1, 1, \n",
    "                2, 2, \n",
    "                3, 3,] + \n",
    "                [1, 2, 3,]*4),\n",
    "    \n",
    "    'exp': (['exp90', 'exp90', \n",
    "             'exp90.2', 'exp90.4', \n",
    "             'exp90.3', 'exp90.3',] + \n",
    "            ['exp91']*6 + \n",
    "            ['exp92']*6)\n",
    "})\n",
    "\n",
    "output_path = rd.rootdir/'output'/'fig_overview'\n",
    "cache_path = rd.rootdir/'output'/'fig_overview'/'data.gzip'\n",
    "metadata_path = rd.datadir/'projects'/'miR-iFFL'/'plasmids'/'construct-metadata.xlsx'\n",
    "\n",
    "# Load data\n",
    "data = pd.DataFrame()\n",
    "if cache_path.is_file(): data = pd.read_parquet(cache_path)\n",
    "else: \n",
    "    channel_list = ['mCherry-A','mRuby2-A','FSC-A','SSC-A','tagBFP-A','mGL-A']\n",
    "    data = rd.flow.load_groups_with_metadata(plates, columns=channel_list)\n",
    "\n",
    "    # Remove negative channel values\n",
    "    for c in channel_list: data = data[data[c]>0]\n",
    "    \n",
    "    data.dropna(inplace=True)\n",
    "    data.to_parquet(rd.outfile(cache_path))\n",
    "\n",
    "# Add metadata for constructs\n",
    "metadata = base.get_metadata(metadata_path, style='designs')\n",
    "data = data.merge(metadata, how='left', on='construct')\n",
    "display(data)"
   ]
  },
  {
   "cell_type": "code",
   "execution_count": null,
   "metadata": {},
   "outputs": [],
   "source": [
    "# Create dicts to specify colors/markers\n",
    "metadata_dict = metadata.set_index('construct').to_dict('dict')\n",
    "main_palette = metadata_dict['color']\n",
    "main_markers = metadata_dict['markers']\n",
    "\n",
    "# Create a second color palette for promoters\n",
    "metadata_dict = base.get_metadata(metadata_path, style='promoters').set_index('construct').to_dict('dict')\n",
    "promoter_palette = metadata_dict['color']\n",
    "promoter_markers = metadata_dict['markers']"
   ]
  },
  {
   "cell_type": "code",
   "execution_count": null,
   "metadata": {},
   "outputs": [],
   "source": [
    "# Gate cells\n",
    "gates = pd.DataFrame()\n",
    "channel_list = ['mGL-A', 'mRuby2-A']\n",
    "for channel in channel_list:\n",
    "    gates[channel] = data[data['construct']=='UT'].groupby(['exp'])[channel].apply(lambda x: x.quantile(0.999))\n",
    "gates.reset_index(inplace=True)\n",
    "\n",
    "# Add missing gates\n",
    "gates.loc[len(gates.index)] = ['exp90.4',0,0,]  \n",
    "gates.loc[gates['exp']=='exp90.4', channel_list] = gates.loc[gates['exp']=='exp90.2', channel_list].values\n",
    "\n",
    "# Indicate which channels are relevant for each experiment\n",
    "gates.sort_values(['exp'], inplace=True)\n",
    "gates['marker'] = 'mGL-A'\n",
    "gates['output'] = 'mRuby2-A'\n",
    "\n",
    "# Gate data by transfection marker expression\n",
    "data = data.groupby('exp')[data.columns].apply(lambda x: base.gate_data(x,gates))\n",
    "data.reset_index(inplace=True, drop=True)\n",
    "df = data[(data['expressing']) & (data['construct']!='UT') & (data['exp']!='elp_exp61')]"
   ]
  },
  {
   "cell_type": "code",
   "execution_count": null,
   "metadata": {},
   "outputs": [],
   "source": [
    "# Bin data and calculate statistics\n",
    "quantiles, stats, _, fits = base.calculate_bins_stats(df, stat_list=[sp.stats.gmean, np.std, sp.stats.variation])\n",
    "stats = stats.merge(metadata, how='left', on='construct')\n",
    "fits = fits.merge(metadata, how='left', on='construct')"
   ]
  },
  {
   "cell_type": "code",
   "execution_count": null,
   "metadata": {},
   "outputs": [],
   "source": [
    "ts_label = {'na': 'base', 'NT': 'OL', 'T': 'CL', 'none': '–'}"
   ]
  },
  {
   "cell_type": "code",
   "execution_count": null,
   "metadata": {},
   "outputs": [],
   "source": [
    "conditions = ['exp','biorep','construct','construct2','dox','moi','cell']\n",
    "display(data.columns)"
   ]
  },
  {
   "cell_type": "code",
   "execution_count": null,
   "metadata": {},
   "outputs": [],
   "source": [
    "s = stats.merge(fits, how='left', on=['construct','exp','biorep'])\n",
    "display(s)"
   ]
  },
  {
   "cell_type": "code",
   "execution_count": null,
   "metadata": {},
   "outputs": [],
   "source": []
  },
  {
   "cell_type": "markdown",
   "metadata": {},
   "source": [
    "### Set up figure"
   ]
  },
  {
   "cell_type": "code",
   "execution_count": null,
   "metadata": {},
   "outputs": [],
   "source": [
    "base_path = rd.datadir/'instruments'/'data'/'attune'\n",
    "data, quantiles, stats, metadata = base.load_data(base_path, rd.datadir/'projects'/'miR-iFFL'/'plasmids', 'tuning', 'designs')"
   ]
  },
  {
   "cell_type": "code",
   "execution_count": null,
   "metadata": {},
   "outputs": [],
   "source": [
    "# Create dicts to specify colors/markers\n",
    "metadata_dict = metadata.set_index('construct').to_dict('dict')\n",
    "main_palette = metadata_dict['color']\n",
    "main_markers = metadata_dict['markers']\n",
    "\n",
    "ts_label = {'na': 'base', 'NT': 'OL', 'T': 'CL', 'none': '–'}"
   ]
  },
  {
   "cell_type": "code",
   "execution_count": null,
   "metadata": {},
   "outputs": [],
   "source": [
    "base_size = base.font_sizes['base_size']\n",
    "smaller_size = base.font_sizes['smaller_size']\n",
    "\n",
    "sns.set_style('ticks')\n",
    "sns.set_context('paper', font_scale=1.0, rc={'font.size': base_size, 'font.family': 'sans-serif', 'font.sans-serif':['Arial']})\n",
    "plt.rcParams.update({'axes.titlesize': base_size, 'axes.labelsize': base_size, 'xtick.labelsize': smaller_size, 'ytick.labelsize': smaller_size,\n",
    "                     'pdf.fonttype': 42, \n",
    "                     'ytick.major.size': 3, 'xtick.major.size': 3, 'ytick.minor.size': 2, 'ytick.major.pad': 2, 'xtick.major.pad': 2, \n",
    "                     'lines.linewidth': 1,\n",
    "                     'axes.spines.right': False, 'axes.spines.top': False, 'axes.labelpad': 2})"
   ]
  },
  {
   "cell_type": "code",
   "execution_count": null,
   "metadata": {},
   "outputs": [],
   "source": [
    "# Create the overall figure, gridspec, and add subfigure labels\n",
    "fig = plt.figure(figsize=(6.8504,4))\n",
    "fig_gridspec = matplotlib.gridspec.GridSpec(2, 3, figure=fig,\n",
    "    wspace=0.4, hspace=0.4, height_ratios=[2.125,(4-2.125)], width_ratios=[1,1,1])\n",
    "subfigures = {\n",
    "    'A': fig.add_subfigure(fig_gridspec[0,0]),\n",
    "    'B': fig.add_subfigure(fig_gridspec[0,1]),\n",
    "    'C': fig.add_subfigure(fig_gridspec[0,2]),\n",
    "    'D': fig.add_subfigure(fig_gridspec[1,0]),\n",
    "    'E': fig.add_subfigure(fig_gridspec[1,1]),\n",
    "    'F': fig.add_subfigure(fig_gridspec[1,2]),\n",
    "}\n",
    "for label, subfig in subfigures.items():\n",
    "    subfig.add_artist(matplotlib.text.Text(x=0, y=1, text=f'{label}', fontsize=base.font_sizes['subpanel_label'], \n",
    "                                           fontweight='bold', verticalalignment='top',transform=subfig.transSubfigure))\n",
    "\n",
    "fig_name = 'fig_overview.pdf'\n",
    "output_path = rd.rootdir/'output'/'fig_overview'\n",
    "fig.savefig(rd.outfile(output_path/fig_name))"
   ]
  },
  {
   "cell_type": "code",
   "execution_count": null,
   "metadata": {},
   "outputs": [],
   "source": [
    "subfig = subfigures['E']\n",
    "rd.plot.adjust_subplot_margins_inches(subfig, left=0.5, bottom=0.4, top=0.35, right=0.15)\n",
    "axes = subfig.subplots(1,2, gridspec_kw=dict(width_ratios=(1,0.3)))\n",
    "\n",
    "biorep = 2\n",
    "plot_df = quantiles[(((quantiles['miR']=='miR.FF5') & (quantiles['group']=='controller') & (quantiles['design']==1) & (quantiles['ts'].isin(['FF4x1','FF5x1','FF6x1']))) | (quantiles['group']=='base')) &\n",
    "                         (quantiles['promoter']=='EF1a') & (quantiles['biorep']==biorep) & (quantiles['exp']!='exp90.4')]\n",
    "\n",
    "# line plot\n",
    "ax = axes[0]\n",
    "sns.lineplot(data=plot_df, x='bin_marker_quantiles_median', y='output', hue='construct', palette=main_palette, \n",
    "             legend=False, dashes=False, style='construct', markers=main_markers, ax=ax, markersize=4, markeredgewidth=0.5,\n",
    "             estimator=sp.stats.gmean, errorbar=lambda x: (sp.stats.gmean(x) / sp.stats.gstd(x), sp.stats.gmean(x) * sp.stats.gstd(x)))\n",
    "ax.set(xscale='log', yscale='log', xlabel='marker', title='Initial circuit design', ylim=(2e1,1e5))\n",
    "sns.despine(ax=ax)\n",
    "marker_baseline = sp.stats.gmean(quantiles.loc[(quantiles['group']=='marker') & (quantiles['biorep']==biorep), 'output'])\n",
    "ax.axhline(marker_baseline, color='black', ls=':')\n",
    "ax.annotate('marker only', (ax.get_xlim()[1], marker_baseline), ha='right', va='bottom', fontsize=smaller_size)\n",
    "\n",
    "# histogram\n",
    "ax = axes[1]\n",
    "sns.kdeplot(data=plot_df, y='output', hue='construct', palette=main_palette, \n",
    "             legend=False, log_scale=True, common_norm=False, ax=ax)\n",
    "sns.despine(ax=ax, bottom=True)\n",
    "ax.set(xlabel='', ylim=axes[0].get_ylim(), ylabel='', yticklabels=[])\n",
    "ax.get_xaxis().set_visible(False)\n",
    "\n",
    "for ax in axes: ax.minorticks_off()\n",
    "\n",
    "fig.savefig(rd.outfile(output_path/fig_name))"
   ]
  },
  {
   "cell_type": "code",
   "execution_count": null,
   "metadata": {},
   "outputs": [],
   "source": [
    "subfig = subfigures['F']\n",
    "rd.plot.adjust_subplot_margins_inches(subfig, left=0.35, bottom=0.4, top=0.35, right=0.05)\n",
    "axes = subfig.subplots(1,3, gridspec_kw=dict(width_ratios=(1,1,1), wspace=0.7))\n",
    "\n",
    "# stat gmean\n",
    "plot_df = stats[(((stats['miR']=='miR.FF5') & (stats['group']=='controller') & (stats['design']==1) & (stats['ts'].isin(['FF4x1','FF5x1','FF6x1']))) | (stats['group']=='base')) &\n",
    "                         (stats['promoter']=='EF1a')]\n",
    "xlim = (-0.5, len(plot_df['ts_kind'].unique())-0.5)\n",
    "scatter_kwargs = dict(s=4, jitter=0.2, linewidth=0.5, edgecolor='white')\n",
    "\n",
    "ax = axes[0]\n",
    "for construct, group in plot_df.groupby('construct'):\n",
    "    sns.stripplot(data=group, x='ts_kind', y='output_gmean', hue='construct', palette=main_palette,\n",
    "                  legend=False, ax=ax, marker=main_markers[construct], **scatter_kwargs)\n",
    "ax.set(title='Mean', xlim=xlim, xlabel='', ylabel='', yscale='log', ylim=(1e3,2e4),)\n",
    "\n",
    "# stat std\n",
    "ax = axes[1]\n",
    "for construct, group in plot_df.groupby('construct'):\n",
    "    sns.stripplot(data=group, x='ts_kind', y='output_std', hue='construct', palette=main_palette,\n",
    "                  legend=False, ax=ax, marker=main_markers[construct], **scatter_kwargs)\n",
    "ax.set(title='Std.', xlim=xlim, xlabel='', ylabel='', yscale='log', ylim=(1e3,2.5e4))\n",
    "\n",
    "# # stat std\n",
    "# ax = axes[0]\n",
    "# for construct, group in plot_df.groupby('construct'):\n",
    "#     sns.stripplot(data=group, x='ts_kind', y='output_std', hue='construct', palette=main_palette,\n",
    "#                   legend=False, ax=ax, marker=main_markers[construct], **scatter_kwargs)\n",
    "# ax.set(title='Std.', xlim=xlim, xlabel='', ylabel='', yscale='log', ylim=(1e3,2.5e4))\n",
    "\n",
    "# # stat CV\n",
    "# ax = axes[1]\n",
    "# for construct, group in plot_df.groupby('construct'):\n",
    "#     sns.stripplot(data=group, x='ts_kind', y='output_variation', hue='construct', palette=main_palette,\n",
    "#                   legend=False, ax=ax, marker=main_markers[construct], **scatter_kwargs)\n",
    "# ax.set(title='CV', xlim=xlim, xlabel='', ylabel='', ylim=(0.9,1.3))\n",
    "\n",
    "# slope\n",
    "ax = axes[2]\n",
    "for construct, group in plot_df.groupby('construct'):\n",
    "    sns.stripplot(data=group, x='ts_kind', y='slope', hue='construct', palette=main_palette,\n",
    "                  legend=False, ax=ax, marker=main_markers[construct], **scatter_kwargs)\n",
    "ax.set(title='Slope', xlim=xlim, xlabel='', ylabel='', ylim=(0.4,1.25))\n",
    "\n",
    "for ax in axes:\n",
    "    ax.set_xticklabels([ts_label[x.get_text()] for x in ax.get_xticklabels()], rotation=45, ha='right',)\n",
    "    sns.despine(ax=ax)\n",
    "\n",
    "fig.savefig(rd.outfile(output_path/fig_name))"
   ]
  },
  {
   "cell_type": "code",
   "execution_count": null,
   "metadata": {},
   "outputs": [],
   "source": [
    "# Save to OneDrive\n",
    "fig.savefig(rd.outfile(rd.datadir/'manuscripts'/'2024_miR-iFFL'/'figures'/'links'/fig_name))"
   ]
  },
  {
   "cell_type": "code",
   "execution_count": null,
   "metadata": {},
   "outputs": [],
   "source": []
  }
 ],
 "metadata": {
  "kernelspec": {
   "display_name": "env",
   "language": "python",
   "name": "python3"
  },
  "language_info": {
   "codemirror_mode": {
    "name": "ipython",
    "version": 3
   },
   "file_extension": ".py",
   "mimetype": "text/x-python",
   "name": "python",
   "nbconvert_exporter": "python",
   "pygments_lexer": "ipython3"
  }
 },
 "nbformat": 4,
 "nbformat_minor": 2
}
