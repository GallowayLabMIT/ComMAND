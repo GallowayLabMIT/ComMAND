{
 "cells": [
  {
   "cell_type": "code",
   "execution_count": null,
   "metadata": {},
   "outputs": [],
   "source": [
    "import base\n",
    "import matplotlib\n",
    "import matplotlib.pyplot as plt\n",
    "import numpy as np\n",
    "import pandas as pd\n",
    "import rushd as rd\n",
    "import scipy as sp\n",
    "import seaborn as sns\n",
    "\n",
    "# enables concurrent editing of base.py\n",
    "from importlib import reload\n",
    "reload(base)"
   ]
  },
  {
   "cell_type": "markdown",
   "metadata": {},
   "source": [
    "### Load data"
   ]
  },
  {
   "cell_type": "markdown",
   "metadata": {},
   "source": [
    "Load data from 293T, MEF lenti infections (`data_lenti`)"
   ]
  },
  {
   "cell_type": "code",
   "execution_count": null,
   "metadata": {},
   "outputs": [],
   "source": [
    "base_path_1 = rd.datadir/'instruments'/'data'/'attune'/'kasey'/'2024.04.05_exp89'/'export'\n",
    "base_path_2 = rd.datadir/'instruments'/'data'/'attune'/'chris'/'2024.06.02-exp95-lenti-miR-iFFL'/'export'\n",
    "plate_list = ['_'.join(x) for x in zip(\n",
    "        ['plate'+str(i) for i in range(1,10)], \n",
    "        (['293T']*3 + ['MEF2A']*3 + ['MEF8A']*3),\n",
    "        ['P9','P14','P15']*3\n",
    "    )]\n",
    "\n",
    "plates = pd.DataFrame({\n",
    "    'data_path': [base_path_1/'293T_control', \n",
    "                  base_path_1/'293T_plate1', base_path_1/'293T_plate2', base_path_1/'293T_plate3',\n",
    "                  base_path_1/'MEF_3_plate1', \n",
    "                  base_path_1/'MEF_4-1_plate1', base_path_1/'MEF_4-1_plate2', base_path_1/'MEF_4-1_plate3'] +\n",
    "                 [base_path_2/p for p in plate_list],\n",
    "    'yaml_path': [base_path_1/'kasey_yaml2'/'plate_control.yaml', \n",
    "                  base_path_1/'kasey_yaml2'/'plate01.yaml', base_path_1/'kasey_yaml2'/'plate02.yaml', base_path_1/'kasey_yaml2'/'plate03.yaml',\n",
    "                  base_path_1/'kasey_yaml2'/'mef_3_plate01.yaml', \n",
    "                  base_path_1/'kasey_yaml2'/'mef_4-1_plate01.yaml', base_path_1/'kasey_yaml2'/'mef_4-1_plate02.yaml', base_path_1/'kasey_yaml2'/'mef_4-1_plate03.yaml'] +\n",
    "                 [base_path_2/(p+'_metadata.yaml') for p in plate_list],\n",
    "})\n",
    "\n",
    "cache_path = rd.rootdir/'output'/'fig_designs'/'data_lenti.gzip'\n",
    "output_path = rd.rootdir/'output'/'fig_applications'\n",
    "metadata_path = rd.datadir/'projects'/'miR-iFFL'/'plasmids'/'construct-metadata.xlsx'\n",
    "\n",
    "# Load data\n",
    "data_lenti = pd.DataFrame()\n",
    "if cache_path.is_file(): data_lenti = pd.read_parquet(cache_path)\n",
    "else: \n",
    "    channel_list = ['mCherry-A','mRuby2-A','FSC-A','SSC-A','tagBFP-A','mGL-A']\n",
    "    data_lenti = rd.flow.load_groups_with_metadata(plates, columns=channel_list)\n",
    "\n",
    "    # Remove negative channel values\n",
    "    for c in channel_list: data_lenti = data_lenti[data_lenti[c]>0]\n",
    "    \n",
    "    data_lenti.dropna(inplace=True)\n",
    "    data_lenti.to_parquet(rd.outfile(cache_path))\n",
    "\n",
    "# Add metadata for constructs\n",
    "metadata = base.get_metadata(metadata_path, style='designs')\n",
    "data_lenti = data_lenti.merge(metadata, how='left', on='construct')\n",
    "data_lenti['cell'] = data_lenti['cell_type'].apply(lambda x: x.split('-')[0])\n",
    "data_lenti['exp'] = data_lenti['cell_type'] + '_' + data_lenti['virus_batch']\n",
    "\n",
    "def map_biorep(df):\n",
    "    biorep_map = {val:i for i,val in enumerate(df['exp'].unique())}\n",
    "    d = df.copy()\n",
    "    d['biorep'] = d['exp'].map(biorep_map)\n",
    "    return d\n",
    "\n",
    "data_lenti = data_lenti.groupby('cell')[data_lenti.columns].apply(map_biorep).reset_index(drop=True)\n",
    "display(data_lenti)"
   ]
  },
  {
   "cell_type": "code",
   "execution_count": null,
   "metadata": {},
   "outputs": [],
   "source": [
    "# Gate cells\n",
    "gates_lenti = pd.DataFrame()\n",
    "channel_list = ['mGL-A', 'mCherry-A', 'mRuby2-A']\n",
    "for channel in channel_list:\n",
    "    gates_lenti[channel] = data_lenti[(data_lenti['virus_dilution']==0)].groupby(['exp'])[channel].apply(lambda x: x.quantile(0.999)) # adjust gate to better isolate marker+ pop\n",
    "gates_lenti.reset_index(inplace=True)\n",
    "display(gates_lenti)\n",
    "\n",
    "# Add missing gates\n",
    "gates_lenti.loc[len(gates_lenti.index)] = ['293T_P10'] + list(gates_lenti.loc[gates_lenti['exp']=='293T_na', channel_list].mean().values)\n",
    "gates_lenti.loc[len(gates_lenti.index)] = ['293T_P14_'] + list(gates_lenti.loc[gates_lenti['exp']=='293T_na', channel_list].mean().values)\n",
    "gates_lenti.loc[len(gates_lenti.index)] = ['293T_P16'] + list(gates_lenti.loc[gates_lenti['exp']=='293T_na', channel_list].mean().values) \n",
    "gates_lenti.loc[len(gates_lenti.index)] = ['MEF-3_P10'] + list(gates_lenti.loc[gates_lenti['exp'].str.contains('MEF'), channel_list].mean().values)\n",
    "gates_lenti.loc[len(gates_lenti.index)] = ['MEF-4-1_P10'] + list(gates_lenti.loc[gates_lenti['exp'].str.contains('MEF'), channel_list].mean().values)\n",
    "gates_lenti.loc[len(gates_lenti.index)] = ['MEF-4-1_P14'] + list(gates_lenti.loc[gates_lenti['exp'].str.contains('MEF'), channel_list].mean().values)\n",
    "gates_lenti.loc[len(gates_lenti.index)] = ['MEF-4-1_P16'] + list(gates_lenti.loc[gates_lenti['exp'].str.contains('MEF'), channel_list].mean().values)\n",
    "\n",
    "# Indicate which channels are relevant for each experiment\n",
    "gates_lenti.sort_values(['exp'], inplace=True)\n",
    "gates_lenti['marker'] = 'mGL-A'\n",
    "gates_lenti['output'] = 'mRuby2-A'\n",
    "\n",
    "# Gate data by marker expression\n",
    "data_lenti = data_lenti.groupby(['cell_type','virus_batch'])[data_lenti.columns].apply(lambda x: base.gate_data(x,gates_lenti))\n",
    "data_lenti.reset_index(inplace=True, drop=True)\n",
    "df_lenti = data_lenti[(data_lenti['expressing']) & (data_lenti['virus_dilution']!=0)]\n",
    "\n",
    "# Since there is no marker-only condition, save the output expression stats for untransduced cells\n",
    "baseline_df = data_lenti[(data_lenti['virus_dilution']==0)].groupby(['exp','cell'])['output'].apply(sp.stats.gmean).reset_index()"
   ]
  },
  {
   "cell_type": "code",
   "execution_count": null,
   "metadata": {},
   "outputs": [],
   "source": [
    "# Bin data and calculate statistics\n",
    "df_lenti['output'] = df_lenti['output'].astype(float)\n",
    "df_lenti['marker'] = df_lenti['marker'].astype(float)\n",
    "df_quantiles_lenti, stats_lenti, stats_quantiles_lenti, fits_lenti = base.calculate_bins_stats(df_lenti, by=['exp','cell','biorep','construct','dox','virus_dilution'], num_bins=20)\n",
    "stats_lenti = stats_lenti.merge(metadata, how='left', on='construct')\n",
    "fits_lenti = fits_lenti.merge(metadata, how='left', on='construct')"
   ]
  },
  {
   "cell_type": "code",
   "execution_count": null,
   "metadata": {},
   "outputs": [],
   "source": [
    "# output range of 5-95 percentile\n",
    "by = ['exp','cell','biorep','construct','dox','virus_dilution']\n",
    "p_5 = df_lenti.groupby(by)[['output']].apply(lambda x: np.percentile(x, 5)).rename('output_5th').reset_index()\n",
    "p_95 = df_lenti.groupby(by)[['output']].apply(lambda x: np.percentile(x, 95)).rename('output_95th').reset_index()\n",
    "stats_lenti = stats_lenti.merge(p_5, how='left')\n",
    "stats_lenti = stats_lenti.merge(p_95, how='left')\n",
    "stats_lenti['output_range'] = stats_lenti['output_95th'] - stats_lenti['output_5th']\n",
    "stats_lenti['output_range_log'] = stats_lenti['output_95th'].apply(np.log10) - stats_lenti['output_5th'].apply(np.log10)\n",
    "\n",
    "# fraction within 1 order of magnitude (10x) around median\n",
    "def get_high_low(df):\n",
    "    median = df['output'].median()\n",
    "    counts = df.loc[(df['output']>(median / (10**(0.5)))) & (df['output']<(median * (10**(0.5)))), 'output'].count() \n",
    "    return counts / (df['output'].count())\n",
    "\n",
    "fraction = df_lenti.groupby(by)[df_lenti.columns].apply(get_high_low).rename('fraction_within_10x').reset_index()\n",
    "stats_lenti = stats_lenti.merge(fraction, how='left')\n",
    "display(fraction)"
   ]
  },
  {
   "cell_type": "code",
   "execution_count": null,
   "metadata": {},
   "outputs": [],
   "source": [
    "# Create dicts to specify colors/markers\n",
    "metadata_dict = metadata.set_index('construct').to_dict('dict')\n",
    "main_palette = metadata_dict['color']\n",
    "main_markers = metadata_dict['markers']\n",
    "\n",
    "ts_label = {'na': 'base', 'NT': 'OL', 'T': 'CL', 'none': '–'}\n",
    "metadata['ts_label'] = metadata['ts_kind'].replace(ts_label)"
   ]
  },
  {
   "cell_type": "code",
   "execution_count": null,
   "metadata": {},
   "outputs": [],
   "source": [
    "g = sns.FacetGrid(data=df_quantiles_lenti, x='')"
   ]
  }
 ],
 "metadata": {
  "kernelspec": {
   "display_name": "env",
   "language": "python",
   "name": "python3"
  },
  "language_info": {
   "codemirror_mode": {
    "name": "ipython",
    "version": 3
   },
   "file_extension": ".py",
   "mimetype": "text/x-python",
   "name": "python",
   "nbconvert_exporter": "python",
   "pygments_lexer": "ipython3"
  }
 },
 "nbformat": 4,
 "nbformat_minor": 2
}
