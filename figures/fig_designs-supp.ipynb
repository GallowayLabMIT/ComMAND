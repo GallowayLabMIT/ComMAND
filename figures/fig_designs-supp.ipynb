{
 "cells": [
  {
   "cell_type": "code",
   "execution_count": null,
   "metadata": {},
   "outputs": [],
   "source": [
    "import base\n",
    "import matplotlib\n",
    "import matplotlib.pyplot as plt\n",
    "import numpy as np\n",
    "import pandas as pd\n",
    "import rushd as rd\n",
    "import scipy as sp\n",
    "import seaborn as sns\n",
    "\n",
    "# enables concurrent editing of base.py\n",
    "from importlib import reload\n",
    "reload(base)"
   ]
  },
  {
   "cell_type": "markdown",
   "metadata": {},
   "source": [
    "### Load data"
   ]
  },
  {
   "cell_type": "markdown",
   "metadata": {},
   "source": [
    "Circuit tuning data (`data`)"
   ]
  },
  {
   "cell_type": "code",
   "execution_count": null,
   "metadata": {},
   "outputs": [],
   "source": [
    "base_path = rd.datadir/'instruments'/'data'/'attune'\n",
    "metadata_path = rd.datadir/'projects'/'miR-iFFL'/'plasmids'\n",
    "data, quantiles, stats, metadata = base.load_data(base_path, metadata_path, 'tuning', 'designs')"
   ]
  },
  {
   "cell_type": "code",
   "execution_count": null,
   "metadata": {},
   "outputs": [],
   "source": [
    "# Create dicts to specify colors/markers\n",
    "metadata_dict = metadata.set_index('construct').to_dict('dict')\n",
    "designs_palette = metadata_dict['color']\n",
    "designs_markers = metadata_dict['markers']\n",
    "\n",
    "ts_label = {'na': 'base', 'NT': 'OL', 'T': 'CL', 'none': '–'}\n",
    "metadata['ts_label'] = metadata['ts_kind'].replace(ts_label)"
   ]
  },
  {
   "cell_type": "markdown",
   "metadata": {},
   "source": [
    "Two-gene data (`data2`)"
   ]
  },
  {
   "cell_type": "code",
   "execution_count": null,
   "metadata": {},
   "outputs": [],
   "source": [
    "data2, quantiles2, stats2, metadata2 = base.load_data(base_path, metadata_path, 'two_gene')"
   ]
  },
  {
   "cell_type": "code",
   "execution_count": null,
   "metadata": {},
   "outputs": [],
   "source": [
    "# Create palette for two-gene data\n",
    "metadata2.loc[(metadata2['gene']=='2V') & (metadata2['construct2_promoter']=='U6'), 'color'] = base.colors['blue']\n",
    "metadata2.loc[(metadata2['ts_kind']=='NT'), 'color'] = base.colors['gray']\n",
    "metadata2.loc[metadata2['group'].isin(['base','marker']), 'color'] = 'black'\n",
    "\n",
    "metadata_dict2 = metadata2.set_index('condition').to_dict('dict')\n",
    "condition_palette = metadata_dict2['color']\n",
    "condition_markers = metadata_dict2['markers']\n",
    "\n",
    "architecture_order = ['1T', '2T', '2V']"
   ]
  },
  {
   "cell_type": "code",
   "execution_count": null,
   "metadata": {},
   "outputs": [],
   "source": [
    "# Create a second palette for regular tuning\n",
    "metadata3 = base.get_metadata(metadata_path/'construct-metadata.xlsx', 'tuning')\n",
    "metadata_dict3 = metadata3.set_index('construct').to_dict('dict')\n",
    "main_palette = metadata_dict3['color']\n",
    "main_markers = metadata_dict3['markers']"
   ]
  },
  {
   "cell_type": "markdown",
   "metadata": {},
   "source": [
    "### Set up figure"
   ]
  },
  {
   "cell_type": "code",
   "execution_count": null,
   "metadata": {},
   "outputs": [],
   "source": [
    "base_size = base.font_sizes['base_size']\n",
    "smaller_size = base.font_sizes['smaller_size']\n",
    "\n",
    "sns.set_style('ticks')\n",
    "sns.set_context('paper', font_scale=1.0, rc={'font.size': base_size, 'font.family': 'sans-serif', 'font.sans-serif':['Arial']})\n",
    "plt.rcParams.update({'axes.titlesize': base_size, 'axes.labelsize': base_size, 'xtick.labelsize': smaller_size, 'ytick.labelsize': smaller_size,\n",
    "                     'pdf.fonttype': 42, \n",
    "                     'ytick.major.size': 3, 'xtick.major.size': 3, 'ytick.minor.size': 2, 'ytick.major.pad': 2, 'xtick.major.pad': 2, \n",
    "                     'lines.linewidth': 1,\n",
    "                     'axes.spines.right': False, 'axes.spines.top': False, 'axes.labelpad': 2})"
   ]
  },
  {
   "cell_type": "code",
   "execution_count": null,
   "metadata": {},
   "outputs": [],
   "source": [
    "# Create the overall figure, gridspec, and add subfigure labels\n",
    "fig = plt.figure(figsize=(6.8504,8))\n",
    "fig_gridspec = matplotlib.gridspec.GridSpec(5, 6, figure=fig,\n",
    "    wspace=0.4, hspace=0.4, height_ratios=(1.75,1.75,1.75,1,1.75),)\n",
    "subfigures = {\n",
    "    'A': fig.add_subfigure(fig_gridspec[0,:3]),\n",
    "    'B': fig.add_subfigure(fig_gridspec[0,3:]),\n",
    "    'C': fig.add_subfigure(fig_gridspec[1,:3]),\n",
    "    'D': fig.add_subfigure(fig_gridspec[1,3:]),\n",
    "    'E': fig.add_subfigure(fig_gridspec[2,:3]),\n",
    "    'F': fig.add_subfigure(fig_gridspec[2,3:]),\n",
    "    'G': fig.add_subfigure(fig_gridspec[3,:]),\n",
    "    'H': fig.add_subfigure(fig_gridspec[4,:]),\n",
    "    'I': fig.add_subfigure(fig_gridspec[4,:]),\n",
    "}\n",
    "for label, subfig in subfigures.items():\n",
    "    subfig.add_artist(matplotlib.text.Text(x=0, y=1, text=f'{label}', fontsize=base.font_sizes['subpanel_label'], \n",
    "                                           fontweight='bold', verticalalignment='top',transform=subfig.transSubfigure))\n",
    "scatter_kwargs = dict(s=4, jitter=0.2, linewidth=0.5, edgecolor='white')\n",
    "xlim = (2e2,6e4)\n",
    "ylim = (2e1,1e5)\n",
    "\n",
    "output_path = rd.rootdir/'output'/'fig_designs-supp'/'fig_designs-supp.pdf'\n",
    "fig.savefig(rd.outfile(output_path))"
   ]
  },
  {
   "cell_type": "code",
   "execution_count": null,
   "metadata": {},
   "outputs": [],
   "source": [
    "subfig = subfigures['A']\n",
    "rd.plot.adjust_subplot_margins_inches(subfig, left=0.4, bottom=0.5, top=0.35, right=0.5)\n",
    "axes = subfig.subplots(1,2, gridspec_kw=dict(wspace=0.45))\n",
    "\n",
    "plot_df = stats[(((stats['miR']=='miRE.FF4') & (stats['group']=='controller') & (stats['ts_num']==1)) | (stats['group']=='base')) &\n",
    "                       (stats['promoter']=='EF1a')]\n",
    "\n",
    "# stat std\n",
    "ax = axes[0]\n",
    "for construct, group in plot_df.groupby('construct'):\n",
    "    sns.stripplot(data=group, x='design', y='output_std', hue='construct', palette=designs_palette,\n",
    "                    legend=False, ax=ax, marker=designs_markers[construct], **scatter_kwargs)\n",
    "ax.set(title='Std.', xlim=(-0.5, len(plot_df['design'].unique())-0.5), xlabel='design', ylabel='', yscale='log',)\n",
    "\n",
    "# stat CV\n",
    "ax = axes[1]\n",
    "for construct, group in plot_df.groupby('construct'):\n",
    "    sns.stripplot(data=group, x='design', y='output_variation', hue='construct', palette=designs_palette,\n",
    "                    legend=False, ax=ax, marker=designs_markers[construct], **scatter_kwargs)\n",
    "ax.set(title='CV', xlim=(-0.5, len(plot_df['design'].unique())-0.5), xlabel='', ylabel='',)\n",
    "\n",
    "for ax in axes: \n",
    "    sns.despine(ax=ax)\n",
    "    ax.set(xticklabels=[l.get_text() if l.get_text()!='0' else 'base' for l in ax.get_xticklabels()])\n",
    "\n",
    "fig.savefig(rd.outfile(output_path))"
   ]
  },
  {
   "cell_type": "code",
   "execution_count": null,
   "metadata": {},
   "outputs": [],
   "source": [
    "subfig = subfigures['B']\n",
    "rd.plot.adjust_subplot_margins_inches(subfig, left=0.4, bottom=0.5, top=0.65, right=0.15)\n",
    "axes = subfig.subplots(1,3, gridspec_kw=dict(width_ratios=(1,1,1), wspace=0.35))\n",
    "\n",
    "# EF1a miR controls\n",
    "miR_order = ['none', 'miR.FF5', 'miR.FF4', 'miRE.FF5', 'miRE.FF4',]\n",
    "plot_df = stats[((((stats['group']=='miR')) & (stats['miR_loc']=='UTR')) | (stats['group']=='base')) &\n",
    "                (stats['promoter']=='EF1a')].copy()\n",
    "plot_df['miR'] = plot_df['miR'].astype(pd.api.types.CategoricalDtype(categories=miR_order, ordered=True))\n",
    "xlim = (-0.5, len(plot_df['construct'].unique())-0.5)\n",
    "ylim = (2e1,8e4)\n",
    "\n",
    "# stat gmean\n",
    "ax = axes[0]\n",
    "for construct, group in plot_df.groupby('construct'):\n",
    "    sns.stripplot(data=group, x='miR', y='output_gmean', hue='construct', palette=main_palette,\n",
    "                    legend=False, ax=ax, marker=main_markers[construct], **scatter_kwargs)\n",
    "ax.set(title='Mean', xlim=xlim, xlabel='', ylabel='', yscale='log', ylim=ylim)\n",
    "marker_baseline = stats.loc[(stats['group']=='marker'), 'output_gmean'].mean()\n",
    "ax.axhline(marker_baseline, color='black', ls=':')\n",
    "\n",
    "# stat std\n",
    "ax = axes[1]\n",
    "for construct, group in plot_df.groupby('construct'):\n",
    "    sns.stripplot(data=group, x='miR', y='output_std', hue='construct', palette=main_palette,\n",
    "                    legend=False, ax=ax, marker=main_markers[construct], **scatter_kwargs)\n",
    "ax.set(title='Std.', xlim=xlim, xlabel='', ylabel='', yscale='log', ylim=ylim)\n",
    "\n",
    "# slope\n",
    "ax = axes[2]\n",
    "for construct, group in plot_df.groupby('construct'):\n",
    "    sns.stripplot(data=group, x='miR', y='slope', hue='construct', palette=main_palette,\n",
    "                    legend=False, ax=ax, marker=main_markers[construct], s=4, jitter=0.1, linewidth=0.5, edgecolor='white')\n",
    "ax.set(title='Slope', xlim=xlim, xlabel='', ylim=(0,1.3), ylabel='',\n",
    "       yticks=[0,0.25,0.5,0.75,1], yticklabels=['0.0','','0.5','','1.0'])\n",
    "ax.axhline(marker_baseline, color='black', ls=':')\n",
    "\n",
    "for ax in axes:\n",
    "    ax.set_xticklabels([l.get_text().replace('.','-') for l in ax.get_xticklabels()], rotation=45, ha='right')\n",
    "    sns.despine(ax=ax)\n",
    "    ax.minorticks_off()\n",
    "\n",
    "fig.savefig(rd.outfile(output_path))"
   ]
  },
  {
   "cell_type": "code",
   "execution_count": null,
   "metadata": {},
   "outputs": [],
   "source": [
    "subfig = subfigures['C']\n",
    "rd.plot.adjust_subplot_margins_inches(subfig, left=0.4, bottom=0.5, top=0.65, right=0.15)\n",
    "axes = subfig.subplots(1,3, gridspec_kw=dict(width_ratios=(1,1,1), wspace=0.35))\n",
    "\n",
    "# EF1a miR controls\n",
    "ts_order = ['none','FF3x1','FF4x1','FF5x1','FF6x1']\n",
    "plot_df = stats[((((stats['group']=='ts5')) & (stats['ts_num']==1)) | (stats['group']=='base')) &\n",
    "                (stats['promoter']=='EF1a')].copy()\n",
    "plot_df['ts'] = plot_df['ts'].astype(pd.api.types.CategoricalDtype(categories=ts_order, ordered=True))\n",
    "xlim = (-0.5, len(plot_df['ts'].unique())-0.5)\n",
    "\n",
    "# stat gmean\n",
    "ax = axes[0]\n",
    "for construct, group in plot_df.groupby('construct'):\n",
    "    sns.stripplot(data=group, x='ts', y='output_gmean', hue='construct', palette=main_palette,\n",
    "                    legend=False, ax=ax, marker=main_markers[construct], **scatter_kwargs)\n",
    "ax.set(title='Mean', xlim=xlim, xlabel='', ylabel='', yscale='log', ylim=ylim)\n",
    "ax.set_xticklabels(ax.get_xticklabels(), rotation=45, ha='right')\n",
    "marker_baseline = stats.loc[(stats['group']=='marker'), 'output_gmean'].mean()\n",
    "ax.axhline(marker_baseline, color='black', ls=':')\n",
    "\n",
    "# stat std\n",
    "ax = axes[1]\n",
    "for construct, group in plot_df.groupby('construct'):\n",
    "    sns.stripplot(data=group, x='ts', y='output_std', hue='construct', palette=main_palette,\n",
    "                    legend=False, ax=ax, marker=main_markers[construct], **scatter_kwargs)\n",
    "ax.set(title='Std.', xlim=xlim, xlabel='', ylabel='', yscale='log', ylim=ylim)\n",
    "\n",
    "# slope\n",
    "ax = axes[2]\n",
    "for construct, group in plot_df.groupby('construct'):\n",
    "    sns.stripplot(data=group, x='ts', y='slope', hue='construct', palette=main_palette,\n",
    "                    legend=False, ax=ax, marker=main_markers[construct], **scatter_kwargs)\n",
    "ax.set(title='Slope', xlim=xlim, xlabel='', ylim=(0,1.3), ylabel='',\n",
    "       yticks=[0,0.25,0.5,0.75,1], yticklabels=['0.0','','0.5','','1.0'])\n",
    "ax.axhline(marker_baseline, color='black', ls=':')\n",
    "\n",
    "for ax in axes:\n",
    "    ax.set_xticklabels(ax.get_xticklabels(), rotation=45, ha='right')\n",
    "    sns.despine(ax=ax)\n",
    "    ax.minorticks_off()\n",
    "\n",
    "fig.savefig(rd.outfile(output_path))"
   ]
  },
  {
   "cell_type": "code",
   "execution_count": null,
   "metadata": {},
   "outputs": [],
   "source": [
    "def designs_stats_plots(axes, plot_df):\n",
    "\n",
    "    xlim = (-0.5, len(plot_df['design'].unique())-0.5)\n",
    "\n",
    "    # stat gmean\n",
    "    ax = axes[0]\n",
    "    for construct, group in plot_df.groupby('construct'):\n",
    "        sns.stripplot(data=group, x='design', y='output_gmean', hue='construct', palette=designs_palette,\n",
    "                        legend=False, ax=ax, marker=designs_markers[construct], **scatter_kwargs)\n",
    "    ax.set(title='Mean', xlim=xlim, xlabel='', ylabel='', yscale='log',)\n",
    "    marker_baseline = stats.loc[(stats['group']=='marker'), 'output_gmean'].mean()\n",
    "    ax.axhline(marker_baseline, color='black', ls=':')\n",
    "    ax.minorticks_off()\n",
    "\n",
    "    # stat std\n",
    "    ax = axes[1]\n",
    "    for construct, group in plot_df.groupby('construct'):\n",
    "        sns.stripplot(data=group, x='design', y='output_std', hue='construct', palette=designs_palette,\n",
    "                        legend=False, ax=ax, marker=designs_markers[construct], **scatter_kwargs)\n",
    "    ax.set(title='Std.', xlim=xlim, xlabel='design', ylabel='', yscale='log',)\n",
    "\n",
    "    # slope\n",
    "    ax = axes[2]\n",
    "    for construct, group in plot_df.groupby('construct'):\n",
    "        sns.stripplot(data=group, x='design', y='slope', hue='construct', palette=designs_palette,\n",
    "                        legend=False, ax=ax, marker=designs_markers[construct], **scatter_kwargs)\n",
    "    ax.set(title='Slope', xlim=xlim, xlabel='', ylabel='', ylim=(0,1.3),\n",
    "        yticks=[0,0.25,0.5,0.75,1], yticklabels=['0.0','','0.5','','1.0'])\n",
    "    ax.axhline(marker_baseline, color='black', ls=':')\n",
    "\n",
    "    for ax in axes: sns.despine(ax=ax)"
   ]
  },
  {
   "cell_type": "code",
   "execution_count": null,
   "metadata": {},
   "outputs": [],
   "source": [
    "subfig = subfigures['D']\n",
    "rd.plot.adjust_subplot_margins_inches(subfig, left=0.4, bottom=0.5, top=0.6, right=0.15)\n",
    "axes = subfig.subplots(1,3, gridspec_kw=dict(width_ratios=(1,1,1), wspace=0.45))\n",
    "\n",
    "plot_df = stats[(stats['miR']=='miR.FF4') & (stats['group']=='controller') & (stats['ts_num']==1) &\n",
    "                (stats['promoter']=='EF1a')]\n",
    "\n",
    "designs_stats_plots(axes, plot_df)\n",
    "\n",
    "fig.savefig(rd.outfile(output_path))"
   ]
  },
  {
   "cell_type": "code",
   "execution_count": null,
   "metadata": {},
   "outputs": [],
   "source": [
    "subfig = subfigures['E']\n",
    "rd.plot.adjust_subplot_margins_inches(subfig, left=0.4, bottom=0.5, top=0.6, right=0.15)\n",
    "axes = subfig.subplots(1,3, gridspec_kw=dict(width_ratios=(1,1,1), wspace=0.45))\n",
    "\n",
    "plot_df = stats[(stats['miR']=='miR.FF5') & (stats['group']=='controller') & (stats['ts_num']==1) & \n",
    "                (stats['ts'].isin(['FF4x1','FF5x1','FF6x1'])) & (stats['promoter']=='EF1a')]\n",
    "\n",
    "designs_stats_plots(axes, plot_df)\n",
    "\n",
    "fig.savefig(rd.outfile(output_path))"
   ]
  },
  {
   "cell_type": "code",
   "execution_count": null,
   "metadata": {},
   "outputs": [],
   "source": [
    "subfig = subfigures['F']\n",
    "rd.plot.adjust_subplot_margins_inches(subfig, left=0.4, bottom=0.5, top=0.6, right=0.15)\n",
    "axes = subfig.subplots(1,3, gridspec_kw=dict(width_ratios=(1,1,1), wspace=0.45))\n",
    "\n",
    "plot_df = stats[(stats['miR']=='miRE.FF5') & (stats['group']=='controller') & (stats['ts_num']==1) &\n",
    "                (stats['promoter']=='EF1a')]\n",
    "\n",
    "designs_stats_plots(axes, plot_df)\n",
    "\n",
    "fig.savefig(rd.outfile(output_path))"
   ]
  },
  {
   "cell_type": "code",
   "execution_count": null,
   "metadata": {},
   "outputs": [],
   "source": [
    "# Data for two-gene architectures with 3'UTR target sites\n",
    "stats_subset = stats2[((stats2['gene']=='1T') & (stats2['design']==1) & (stats2['group']=='controller')) |\n",
    "                ((stats2['gene']=='2T') & (stats2['group']=='dual') & (stats2['ts_loc']=='3\\'')) |\n",
    "                ((stats2['gene']=='2V') & (stats2['group']=='ts3') & (stats2['construct2_promoter']=='EF1a')) |\n",
    "                ((stats2['group']=='base') & (stats2['construct2_promoter']!='U6'))].copy()\n",
    "stats_subset.sort_values(['gene','construct2_promoter','group','ts_kind'], inplace=True)\n",
    "\n",
    "# Remove outliers (1T base biorep1, 2V EF1a base/NT biorep4, design 2 T biorep1 -- see `flow/outliers.ipynb`)\n",
    "stats_subset = stats_subset[~((stats_subset['gene']=='1T') & (stats_subset['group']=='base') & (stats_subset['biorep']==1))]\n",
    "stats_subset = stats_subset[~((stats_subset['gene']=='2V') & (stats_subset['construct2_promoter']=='EF1a') & (stats_subset['ts_kind'].isin(['na','NT'])) & (stats_subset['biorep']==4))]\n",
    "stats_subset = stats_subset[~((stats_subset['design']==2) & (stats_subset['ts_kind']=='T') & (stats_subset['biorep']==1))]"
   ]
  },
  {
   "cell_type": "code",
   "execution_count": null,
   "metadata": {},
   "outputs": [],
   "source": [
    "# two-gene architectures with 5'UTR target sites\n",
    "stats_subset = stats2[((stats2['gene']=='1T') & (stats2['design']>1) & (stats2['group']=='controller')) |\n",
    "                ((stats2['gene']=='2T') & (stats2['group']=='dual') & (stats2['ts_loc']=='5\\'')) |\n",
    "                ((stats2['gene']=='2V') & (stats2['group']=='ts5')) |\n",
    "                (stats2['group']=='base')].copy()\n",
    "stats_subset.sort_values(['gene','construct2_promoter','group','ts_kind'], inplace=True)\n",
    "\n",
    "# Remove outliers (1T base biorep1, 2V EF1a base/NT biorep4 -- see `flow/outliers.ipynb`)\n",
    "stats_subset = stats_subset[~((stats_subset['gene']=='1T') & (stats_subset['group']=='base') & (stats_subset['biorep']==1))]\n",
    "stats_subset = stats_subset[~((stats_subset['gene']=='2V') & (stats_subset['construct2_promoter']=='EF1a') & (stats_subset['ts_kind'].isin(['na','NT'])) & (stats_subset['biorep']==4))]\n",
    "stats_subset = stats_subset[~((stats_subset['design']==2) & (stats_subset['ts_kind']=='T') & (stats_subset['biorep']==1))]"
   ]
  },
  {
   "cell_type": "code",
   "execution_count": null,
   "metadata": {},
   "outputs": [],
   "source": [
    "# Define values to shift xticks in plotting \n",
    "# to add more space between architecture groups\n",
    "buffer = 0.6\n",
    "gene_order = ['1T', '2T', '2V']\n",
    "xtick_locs = [0,1,2,3,4, 5+buffer,6+buffer, 7+buffer*2,8+buffer*2,9+buffer*2, 10+buffer*3,11+buffer*3,12+buffer*3,]\n",
    "\n",
    "condition_loc = {k:v for k,v in zip(stats_subset['condition'].unique(), xtick_locs)}\n",
    "stats_subset['condition_loc'] = stats_subset['condition'].replace(condition_loc)\n",
    "\n",
    "metadata2['condition_loc'] = metadata2['condition'].map(condition_loc)\n",
    "m = metadata2.dropna()\n",
    "m['condition_loc'] = m['condition_loc'].astype(str)\n",
    "\n",
    "xlim_adjusted = (-0.5, len(stats_subset['condition'].unique())-0.5+buffer*(len(gene_order)))\n",
    "scatter_kwargs2 = dict(s=4, jitter=0.1, linewidth=0.5, edgecolor='white', native_scale=True)"
   ]
  },
  {
   "cell_type": "code",
   "execution_count": null,
   "metadata": {},
   "outputs": [],
   "source": [
    "subfig = subfigures['H']\n",
    "rd.plot.adjust_subplot_margins_inches(subfig, left=0.4, bottom=0.55, top=0.35, right=0.15)\n",
    "axes = subfig.subplots(1,4, gridspec_kw=dict(wspace=0.25))\n",
    "\n",
    "plot_df = stats_subset\n",
    "\n",
    "# stat gmean\n",
    "ax = axes[0]\n",
    "for construct, group in plot_df.groupby('condition', sort=False):\n",
    "    sns.stripplot(data=group, x='condition_loc', y='output_gmean', hue='condition', palette=condition_palette,\n",
    "                    legend=False, ax=ax, marker=condition_markers[construct], **scatter_kwargs2)\n",
    "ax.set(title='Mean', xlim=xlim_adjusted, xlabel='', ylabel='', yscale='log', xticks=xtick_locs)\n",
    "marker_baseline = stats2.loc[(stats2['group']=='marker'), 'output_gmean'].mean()\n",
    "ax.axhline(marker_baseline, color='black', ls=':')\n",
    "\n",
    "# stat std\n",
    "ax = axes[1]\n",
    "for construct, group in plot_df.groupby('condition', sort=False):\n",
    "    sns.stripplot(data=group, x='condition_loc', y='output_std', hue='condition', palette=condition_palette,\n",
    "                    legend=False, ax=ax, marker=condition_markers[construct], **scatter_kwargs2)\n",
    "ax.set(title='Standard deviation', xlim=xlim_adjusted, xlabel='', ylabel='', yscale='log', xticks=xtick_locs)\n",
    "\n",
    "# slope\n",
    "ax = axes[2]\n",
    "for construct, group in plot_df.groupby('condition', sort=False):\n",
    "    sns.stripplot(data=group, x='condition_loc', y='slope', hue='condition', palette=condition_palette,\n",
    "                    legend=False, ax=ax, marker=condition_markers[construct], **scatter_kwargs2)\n",
    "ax.set(title='Slope', xlim=xlim_adjusted, xlabel='', ylabel='', xticks=xtick_locs,)\n",
    "\n",
    "# CV\n",
    "ax = axes[3]\n",
    "for construct, group in plot_df.groupby('condition', sort=False):\n",
    "    sns.stripplot(data=group, x='condition_loc', y='output_variation', hue='condition', palette=condition_palette,\n",
    "                    legend=False, ax=ax, marker=condition_markers[construct], **scatter_kwargs2)\n",
    "ax.set(title='CV', xlim=xlim_adjusted, xlabel='', ylabel='', xticks=xtick_locs, ylim=(0,4))\n",
    "\n",
    "for i,ax in enumerate(axes):\n",
    "    yloc = -6\n",
    "    ax.axvspan(4.5+buffer/2, 6.5+buffer*1.5, color=base.get_light_color(base.colors['gray']), alpha=0.2,)\n",
    "    ax.axvspan(9.5+buffer*2.5, 12.5+buffer*3.5, color=base.get_light_color(base.colors['gray']), alpha=0.2,)\n",
    "    ax.annotate(architecture_order[0], (2,yloc), xycoords=('data','axes points'), ha='center', va='top', ma='center', fontsize=smaller_size)\n",
    "    ax.annotate(architecture_order[1], (5.5+buffer,yloc), xycoords=('data','axes points'), ha='center', va='top', ma='center', fontsize=smaller_size)\n",
    "    ax.annotate('2V\\nEF1a', (8+buffer*2,yloc), xycoords=('data','axes points'), ha='center', va='top', ma='center', fontsize=smaller_size)\n",
    "    ax.annotate('2V\\nU6', (11+buffer*3,yloc), xycoords=('data','axes points'), ha='center', va='top', ma='center', fontsize=smaller_size)\n",
    "    ax.set_xticklabels(['']*len(ax.get_xticklabels()))\n",
    "    sns.despine(ax=ax)\n",
    "\n",
    "fig.savefig(rd.outfile(output_path))"
   ]
  },
  {
   "cell_type": "code",
   "execution_count": null,
   "metadata": {},
   "outputs": [],
   "source": [
    "# Save to OneDrive\n",
    "fig.savefig(rd.outfile(rd.datadir/'manuscripts'/'2024_miR-iFFL'/'figures'/'links'/'fig_designs-supp.pdf'))"
   ]
  }
 ],
 "metadata": {
  "kernelspec": {
   "display_name": "env",
   "language": "python",
   "name": "python3"
  },
  "language_info": {
   "codemirror_mode": {
    "name": "ipython",
    "version": 3
   },
   "file_extension": ".py",
   "mimetype": "text/x-python",
   "name": "python",
   "nbconvert_exporter": "python",
   "pygments_lexer": "ipython3"
  }
 },
 "nbformat": 4,
 "nbformat_minor": 2
}
