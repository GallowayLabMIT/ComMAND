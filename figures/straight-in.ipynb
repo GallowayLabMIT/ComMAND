{
 "cells": [
  {
   "cell_type": "code",
   "execution_count": null,
   "metadata": {},
   "outputs": [],
   "source": [
    "import base\n",
    "import matplotlib\n",
    "import matplotlib.pyplot as plt\n",
    "import numpy as np\n",
    "import pandas as pd\n",
    "import rushd as rd\n",
    "import scipy as sp\n",
    "import seaborn as sns\n",
    "from statannotations.Annotator import Annotator\n",
    "\n",
    "# enables concurrent editing of base.py\n",
    "from importlib import reload\n",
    "reload(base)"
   ]
  },
  {
   "cell_type": "code",
   "execution_count": null,
   "metadata": {},
   "outputs": [],
   "source": [
    "# Set plotting context\n",
    "sns.set_style('ticks')\n",
    "sns.set_context('paper', font_scale=1.0, rc=base.rc_context)\n",
    "plt.rcParams.update(base.rc_params)"
   ]
  },
  {
   "cell_type": "code",
   "execution_count": null,
   "metadata": {},
   "outputs": [],
   "source": [
    "# Setup data loading\n",
    "base_path = rd.datadir/'instruments'/'data'/'attune'/'Albert'\n",
    "\n",
    "plates = pd.DataFrame({\n",
    "    'data_path': [base_path/'Exp14'/'export', base_path/'Exp15'/'export', base_path/'Exp16'/'export',],\n",
    "    'yaml_path': [base_path/'Exp14'/'export'/'wells.yaml']*3,\n",
    "    'exp': ['Exp14', 'Exp15', 'Exp16'],\n",
    "    'biorep': [1,2,3]\n",
    "})\n",
    "output_path = rd.rootdir/'output'/'straight-in'\n",
    "cache_path = output_path/'data.gzip'\n",
    "\n",
    "for p in plates['yaml_path'].unique():\n",
    "    rd.plot.plot_well_metadata(p)"
   ]
  },
  {
   "cell_type": "code",
   "execution_count": null,
   "metadata": {},
   "outputs": [],
   "source": [
    "# Load data\n",
    "data = pd.DataFrame()\n",
    "channel_list = ['mScarlet-A','mScarlet2-A','mGreenLantern-A']\n",
    "\n",
    "if cache_path.exists(): data = pd.read_parquet(cache_path)\n",
    "else: \n",
    "    data = rd.flow.load_groups_with_metadata(plates, columns=channel_list)\n",
    "    for c in channel_list: data = data[data[c]>0]\n",
    "    data.to_parquet(rd.outfile(cache_path))\n",
    "display(data)"
   ]
  },
  {
   "cell_type": "code",
   "execution_count": null,
   "metadata": {},
   "outputs": [],
   "source": [
    "plot_df = data.groupby(['exp','construct']).sample(1000)\n",
    "g = sns.displot(data=plot_df, x='mGreenLantern-A', y='mScarlet-A', hue='exp', \n",
    "                kind='kde', col='construct', col_wrap=5,\n",
    "                common_norm=False, levels=5, log_scale=True)\n",
    "\n",
    "for _, ax in g.axes_dict.items():\n",
    "    ax.axvline(1e4, c='black', ls=':', zorder=0)\n",
    "    ax.axhline(2e3, c='black', ls=':', zorder=0)"
   ]
  },
  {
   "cell_type": "code",
   "execution_count": null,
   "metadata": {},
   "outputs": [],
   "source": [
    "plot_df = data\n",
    "g = sns.displot(data=plot_df, x='mGreenLantern-A', y='mScarlet2-A', hue='construct', \n",
    "                kind='kde', col='construct', row='biorep',\n",
    "                common_norm=False, levels=8, log_scale=True, ylim=(1e2,1e6))\n",
    "\n",
    "for _, ax in g.axes_dict.items():\n",
    "    ax.axvline(3e4, c='black', ls=':', zorder=0)\n",
    "    ax.axhline(2e3, c='black', ls=':', zorder=0)"
   ]
  },
  {
   "cell_type": "code",
   "execution_count": null,
   "metadata": {},
   "outputs": [],
   "source": [
    "plot_df = data.groupby(['exp','construct']).sample(1000)\n",
    "g = sns.displot(data=plot_df, x='mGreenLantern-A', y='mScarlet2-A', hue='exp', \n",
    "                kind='kde', col='construct', col_wrap=5,\n",
    "                common_norm=False, levels=5, log_scale=True)\n",
    "\n",
    "for _, ax in g.axes_dict.items():\n",
    "    ax.axvline(1e4, c='black', ls=':', zorder=0)\n",
    "    ax.axhline(3e3, c='black', ls=':', zorder=0)"
   ]
  },
  {
   "cell_type": "code",
   "execution_count": null,
   "metadata": {},
   "outputs": [],
   "source": [
    "# Manually draw gates\n",
    "gates = pd.DataFrame({\n",
    "    'mScarlet2-A': [3e3]*3,\n",
    "    'mGreenLantern-A': [3e4]*3,\n",
    "    'exp': ['Exp14', 'Exp15', 'Exp16']\n",
    "})\n",
    "\n",
    "# Indicate which channels are relevant for each experiment\n",
    "gates['marker'] = 'mGreenLantern-A'\n",
    "gates['output'] = 'mScarlet2-A'"
   ]
  },
  {
   "cell_type": "code",
   "execution_count": null,
   "metadata": {},
   "outputs": [],
   "source": [
    "# Gate data by marker expression\n",
    "data = data.groupby('exp')[data.columns].apply(lambda x: base.gate_data(x,gates))\n",
    "data.reset_index(inplace=True, drop=True)\n",
    "data['gated'] = data['expressing']"
   ]
  },
  {
   "cell_type": "code",
   "execution_count": null,
   "metadata": {},
   "outputs": [],
   "source": [
    "# Bin data and calculate statistics\n",
    "df_quantiles, df_stats = base.calculate_bins_stats(data[data['gated']])\n",
    "\n",
    "# Add metadata \n",
    "metadata = base.get_metadata(rd.datadir/'projects'/'miR-iFFL'/'plasmids'/'construct-metadata.xlsx')\n",
    "data = data.merge(metadata, how='left', on='construct')\n",
    "df_quantiles = df_quantiles.merge(metadata, how='left', on='construct')\n",
    "df_stats = df_stats.merge(metadata, how='left', on='construct')"
   ]
  },
  {
   "cell_type": "code",
   "execution_count": null,
   "metadata": {},
   "outputs": [],
   "source": [
    "g = sns.stripplot(data=df_stats, x='ts_label', y='output_gmean' )"
   ]
  },
  {
   "cell_type": "code",
   "execution_count": null,
   "metadata": {},
   "outputs": [],
   "source": [
    "g = sns.stripplot(data=df_stats, x='ts_label', y='slope' )"
   ]
  },
  {
   "cell_type": "code",
   "execution_count": null,
   "metadata": {},
   "outputs": [],
   "source": [
    "fig, axes = plt.subplots(1,2, gridspec_kw=dict(width_ratios=(1,0.3)))\n",
    "\n",
    "biorep = 1\n",
    "plot_df = df_quantiles[df_quantiles['biorep']==biorep]\n",
    "\n",
    "# line plot\n",
    "ax = axes[0]\n",
    "sns.lineplot(data=plot_df, x='bin_marker_quantiles_median', y='output', hue='construct', ax=ax)\n",
    "ax.set(xscale='log', yscale='log', xlabel='marker', )#title='Initial circuit design', ylim=(2e1,1e5))\n",
    "\n",
    "# histogram\n",
    "ax = axes[1]\n",
    "sns.kdeplot(data=plot_df, y='output', hue='construct',\n",
    "             legend=False, log_scale=True, common_norm=False, ax=ax)\n",
    "sns.despine(ax=ax, bottom=True)\n",
    "ax.set(xlabel='', ylim=axes[0].get_ylim(), ylabel='', yticklabels=[])\n",
    "ax.get_xaxis().set_visible(False)"
   ]
  },
  {
   "cell_type": "code",
   "execution_count": null,
   "metadata": {},
   "outputs": [],
   "source": [
    "fig, axes = plt.subplots(1,2, gridspec_kw=dict(width_ratios=(1,0.3)))\n",
    "\n",
    "biorep = 2\n",
    "plot_df = df_quantiles[df_quantiles['biorep']==biorep]\n",
    "\n",
    "# line plot\n",
    "ax = axes[0]\n",
    "sns.lineplot(data=plot_df, x='bin_marker_quantiles_median', y='output', hue='construct', ax=ax)\n",
    "ax.set(xscale='log', yscale='log', xlabel='marker', )#title='Initial circuit design', ylim=(2e1,1e5))\n",
    "\n",
    "# histogram\n",
    "ax = axes[1]\n",
    "sns.kdeplot(data=plot_df, y='output', hue='construct',\n",
    "             legend=False, log_scale=True, common_norm=False, ax=ax)\n",
    "sns.despine(ax=ax, bottom=True)\n",
    "ax.set(xlabel='', ylim=axes[0].get_ylim(), ylabel='', yticklabels=[])\n",
    "ax.get_xaxis().set_visible(False)"
   ]
  },
  {
   "cell_type": "code",
   "execution_count": null,
   "metadata": {},
   "outputs": [],
   "source": [
    "fig, axes = plt.subplots(1,2, gridspec_kw=dict(width_ratios=(1,0.3)))\n",
    "\n",
    "biorep = 3\n",
    "plot_df = df_quantiles[df_quantiles['biorep']==biorep]\n",
    "\n",
    "# line plot\n",
    "ax = axes[0]\n",
    "sns.lineplot(data=plot_df, x='bin_marker_quantiles_median', y='output', hue='construct', ax=ax)\n",
    "ax.set(xscale='log', yscale='log', xlabel='marker', )#title='Initial circuit design', ylim=(2e1,1e5))\n",
    "\n",
    "# histogram\n",
    "ax = axes[1]\n",
    "sns.kdeplot(data=plot_df, y='output', hue='construct',\n",
    "             legend=False, log_scale=True, common_norm=False, ax=ax)\n",
    "sns.despine(ax=ax, bottom=True)\n",
    "ax.set(xlabel='', ylim=axes[0].get_ylim(), ylabel='', yticklabels=[])\n",
    "ax.get_xaxis().set_visible(False)"
   ]
  },
  {
   "cell_type": "code",
   "execution_count": null,
   "metadata": {},
   "outputs": [],
   "source": [
    "def get_base_slope(df):\n",
    "    base_slope = df.loc[df['ts_label']=='base', 'slope']\n",
    "    if base_slope.empty: result = pd.NA\n",
    "    else: result = base_slope.values[0]\n",
    "    df['base_slope'] = result\n",
    "    return df\n",
    "\n",
    "df_stats = df_stats.groupby('exp')[df_stats.columns].apply(get_base_slope).reset_index(drop=True)\n",
    "df_stats['norm_slope'] = df_stats['slope'] / df_stats['base_slope']"
   ]
  },
  {
   "cell_type": "code",
   "execution_count": null,
   "metadata": {},
   "outputs": [],
   "source": [
    "g = sns.stripplot(data=df_stats, x='ts_label', y='norm_slope', hue='biorep')"
   ]
  },
  {
   "cell_type": "code",
   "execution_count": null,
   "metadata": {},
   "outputs": [],
   "source": [
    "# perform statistical tests\n",
    "annotate_kwargs = base.annotate_kwargs\n",
    "f, axes = plt.subplots(1,4, figsize=(5,2))\n",
    "pairs = [('base','CL'), ('OL','CL')]\n",
    "stat_list = ['output_gmean', 'output_std', 'slope', 'output_variation']\n",
    "plot_df = df_stats\n",
    "\n",
    "for ax, stat in zip(axes, stat_list):\n",
    "    sns.stripplot(data=plot_df, x='ts_label', y=stat, ax=ax, hue='construct',  legend=False,)\n",
    "    if stat != 'slope': ax.set(yscale='log',)\n",
    "    annotator = Annotator(ax, pairs, data=plot_df, x='ts_label', y=stat,)\n",
    "    annotator.configure(**annotate_kwargs, line_offset=2).apply_and_annotate()"
   ]
  },
  {
   "cell_type": "code",
   "execution_count": null,
   "metadata": {},
   "outputs": [],
   "source": [
    "# Create dicts to specify colors/markers\n",
    "metadata_dict = metadata.set_index('construct').to_dict('dict')\n",
    "main_palette = metadata_dict['color']\n",
    "main_markers = metadata_dict['markers']"
   ]
  },
  {
   "cell_type": "code",
   "execution_count": null,
   "metadata": {},
   "outputs": [],
   "source": [
    "plot_df = data\n",
    "g = sns.displot(data=plot_df, x='marker', y='output', hue='construct', palette=main_palette,\n",
    "                kind='kde', col='construct', row='biorep', facet_kws=dict(margin_titles=True,), legend=False,\n",
    "                common_norm=False, levels=8, log_scale=True, height=2)\n",
    "\n",
    "for _, ax in g.axes_dict.items():\n",
    "    ax.set(ylim=(1e2,1e6), xlim=(1e1,2e6))\n",
    "    ax.axvline(3e4, c='black', ls=':', zorder=0)\n",
    "    ax.minorticks_off()\n",
    "    #ax.axhline(2e3, c='black', ls=':', zorder=0)\n",
    "g.figure.savefig(rd.outfile(output_path/'joints.png'))"
   ]
  },
  {
   "cell_type": "markdown",
   "metadata": {},
   "source": [
    "### Load ddPCR integration validation"
   ]
  },
  {
   "cell_type": "code",
   "execution_count": null,
   "metadata": {},
   "outputs": [],
   "source": [
    "ddpcr_path = rd.datadir/'projects'/'miR-iFFL'/'STRAIGHT-IN lines'\n",
    "ddpcr = pd.read_excel(ddpcr_path/'ddPCR.xlsx', header=1,)\n",
    "display(ddpcr)"
   ]
  },
  {
   "cell_type": "code",
   "execution_count": null,
   "metadata": {},
   "outputs": [],
   "source": []
  }
 ],
 "metadata": {
  "kernelspec": {
   "display_name": "env",
   "language": "python",
   "name": "python3"
  },
  "language_info": {
   "codemirror_mode": {
    "name": "ipython",
    "version": 3
   },
   "file_extension": ".py",
   "mimetype": "text/x-python",
   "name": "python",
   "nbconvert_exporter": "python",
   "pygments_lexer": "ipython3"
  }
 },
 "nbformat": 4,
 "nbformat_minor": 2
}
