{
 "cells": [
  {
   "cell_type": "code",
   "execution_count": null,
   "metadata": {},
   "outputs": [],
   "source": [
    "import pandas as pd\n",
    "import seaborn as sns\n",
    "import matplotlib.pyplot as plt\n",
    "import rushd as rd\n",
    "import yaml\n",
    "import scipy as sp\n",
    "import numpy as np\n",
    "\n",
    "from pathlib import Path\n",
    "from typing import Any, Dict, List, Set, Tuple, Union, Optional\n",
    "\n",
    "datadir = Path(Path('../datadir.txt').read_text())\n",
    "\n",
    "basepath = rd.datadir/'instruments'/'data'/'qPCR'/'emma'/'command'/'2024.10.15_command_primer_validation'\n",
    "output_path = rd.rootdir/'output'/'qPCR'/'primer_validation'"
   ]
  },
  {
   "cell_type": "code",
   "execution_count": null,
   "metadata": {},
   "outputs": [],
   "source": [
    "rd.plot.plot_well_metadata(basepath/'metadata.yaml')"
   ]
  },
  {
   "cell_type": "code",
   "execution_count": null,
   "metadata": {},
   "outputs": [],
   "source": [
    "with (basepath/'metadata.yaml').open() as f:\n",
    "    metadata_dict = yaml.safe_load(f)['metadata']\n",
    "    metadata = pd.DataFrame({\n",
    "        k: rd.well_mapper.well_mapping(v) for k,v in metadata_dict.items()\n",
    "    })"
   ]
  },
  {
   "cell_type": "code",
   "execution_count": null,
   "metadata": {},
   "outputs": [],
   "source": [
    "qpcr_cp = pd.read_csv(basepath/'2024.10.16_ELP_qPCR_command_Cp.txt', sep='\\t', header=1)\n",
    "df = qpcr_cp.join(metadata, on='Pos')\n",
    "df = df.loc[df['Cp']<35]"
   ]
  },
  {
   "cell_type": "code",
   "execution_count": null,
   "metadata": {},
   "outputs": [],
   "source": [
    "g = sns.scatterplot(data=df, x='condition', y='Cp', hue='primer_set')\n",
    "g.set_xscale('log')\n",
    "plt.savefig(str(output_path)+'/qPCR_Ct.svg',bbox_inches='tight')"
   ]
  },
  {
   "cell_type": "code",
   "execution_count": null,
   "metadata": {},
   "outputs": [],
   "source": [
    "df['log2_template'] = df['condition'].apply(np.log2)\n",
    "df['log10_template'] = df['condition'].apply(np.log10)\n",
    "display(df)"
   ]
  },
  {
   "cell_type": "code",
   "execution_count": null,
   "metadata": {},
   "outputs": [],
   "source": [
    "primers = ['mRuby2-1', 'mRuby2-2', 'FXN', 'EGFP-1', 'EGFP-2', 'FMRP-1', 'FMRP-2']\n",
    "efficiencies = ['83.04%', '99.50%', '90.39%', '70.98%', '73.86%', '59.21%', '59.74%']\n",
    "\n",
    "for i in range(7):\n",
    "    plt.clf()\n",
    "    plot_df = df.loc[(df['primer_set']==primers[i])&(df['condition']>0)]\n",
    "    g = sns.regplot(data=plot_df, x='log10_template', y='Cp')\n",
    "    g.set_xlabel('log(DNA template, pg)')\n",
    "    g.set_ylabel('Cp')\n",
    "    g.set_title(primers[i])\n",
    "    g.set_ylim(3,33)\n",
    "    slope, intercept, r, p, sterr = sp.stats.linregress(x=g.get_lines()[0].get_xdata(), y=g.get_lines()[0].get_ydata())\n",
    "    plt.text(2, 31, 'y = ' + str(round(intercept,3)) + ' + ' + str(round(slope,3)) + 'x')\n",
    "    plt.text(2, 29, 'efficiency = ' + efficiencies[i])\n",
    "    plt.savefig(str(output_path)+'/'+primers[i]+'_regression.svg',bbox_inches='tight')\n",
    "    plt.show()"
   ]
  }
 ],
 "metadata": {
  "kernelspec": {
   "display_name": "env",
   "language": "python",
   "name": "python3"
  },
  "language_info": {
   "codemirror_mode": {
    "name": "ipython",
    "version": 3
   },
   "file_extension": ".py",
   "mimetype": "text/x-python",
   "name": "python",
   "nbconvert_exporter": "python",
   "pygments_lexer": "ipython3"
  }
 },
 "nbformat": 4,
 "nbformat_minor": 2
}
