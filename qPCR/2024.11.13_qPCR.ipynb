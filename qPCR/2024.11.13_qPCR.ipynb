{
 "cells": [
  {
   "cell_type": "code",
   "execution_count": null,
   "metadata": {},
   "outputs": [],
   "source": [
    "import pandas as pd\n",
    "import seaborn as sns\n",
    "import matplotlib.pyplot as plt\n",
    "import rushd as rd\n",
    "import yaml\n",
    "import scipy as sp\n",
    "import numpy as np\n",
    "\n",
    "from pathlib import Path\n",
    "from typing import Any, Dict, List, Set, Tuple, Union, Optional\n",
    "\n",
    "datadir = Path(Path('../datadir.txt').read_text())\n",
    "\n",
    "basepath = rd.datadir/'instruments'/'data'/'qPCR'/'emma'/'command'/'2024.11.13_command'\n",
    "output_path = rd.rootdir/'output'/'qPCR'/'Biorep_1'"
   ]
  },
  {
   "cell_type": "code",
   "execution_count": null,
   "metadata": {},
   "outputs": [],
   "source": [
    "rd.plot.plot_well_metadata(basepath/'metadata.yaml')"
   ]
  },
  {
   "cell_type": "code",
   "execution_count": null,
   "metadata": {},
   "outputs": [],
   "source": [
    "with (basepath/'metadata.yaml').open() as f:\n",
    "    metadata_dict = yaml.safe_load(f)['metadata']\n",
    "    metadata = pd.DataFrame({\n",
    "        k: rd.well_mapper.well_mapping(v) for k,v in metadata_dict.items()\n",
    "    })"
   ]
  },
  {
   "cell_type": "code",
   "execution_count": null,
   "metadata": {},
   "outputs": [],
   "source": [
    "qpcr_cp = pd.read_csv(basepath/'2024.11.13_ELP_command_qPCR_Cp.txt', sep='\\t', header=1)\n",
    "df = qpcr_cp.join(metadata, on='Pos')"
   ]
  },
  {
   "cell_type": "code",
   "execution_count": null,
   "metadata": {},
   "outputs": [],
   "source": [
    "GAPDH_means = df.groupby(['primer_set','gene','circuit','dox'])['Cp'].mean().xs('GAPDH', level='primer_set')\n",
    "normed_df = pd.merge(df, GAPDH_means.rename('GAPDH_Cp'), how='inner', on=['gene','circuit','dox'])\n",
    "normed_df['dCt'] = normed_df['Cp'] - normed_df['GAPDH_Cp']\n",
    "normed_df['expression'] = 2.0**(-normed_df['dCt'])\n",
    "display(normed_df)"
   ]
  },
  {
   "cell_type": "code",
   "execution_count": null,
   "metadata": {},
   "outputs": [],
   "source": [
    "plot_df = df.loc[(df.circuit=='control')|(df.circuit=='no-RT')]\n",
    "\n",
    "sns.scatterplot(data=plot_df, x='primer_set', y='Cp', hue='gene')\n",
    "plt.xticks(rotation=60) \n",
    "plt.savefig(str(output_path)+'/controls_with_no_RT.svg',bbox_inches='tight')"
   ]
  }
 ],
 "metadata": {
  "kernelspec": {
   "display_name": "env",
   "language": "python",
   "name": "python3"
  },
  "language_info": {
   "codemirror_mode": {
    "name": "ipython",
    "version": 3
   },
   "file_extension": ".py",
   "mimetype": "text/x-python",
   "name": "python",
   "nbconvert_exporter": "python",
   "pygments_lexer": "ipython3"
  }
 },
 "nbformat": 4,
 "nbformat_minor": 2
}
